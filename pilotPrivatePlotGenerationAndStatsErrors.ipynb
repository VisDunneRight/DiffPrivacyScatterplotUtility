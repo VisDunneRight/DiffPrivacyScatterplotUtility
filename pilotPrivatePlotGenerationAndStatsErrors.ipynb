{
 "cells": [
  {
   "cell_type": "markdown",
   "metadata": {},
   "source": [
    "This file can be run in Google Collab to generate the plots used for the pilot. We choose to run the file in google collaboratory in order to minimize the issues associated with different operating systems and computer set ups. The files that need to be changed by the user are marked with comments."
   ]
  },
  {
   "cell_type": "code",
   "execution_count": 20,
   "metadata": {
    "colab": {
     "base_uri": "https://localhost:8080/"
    },
    "executionInfo": {
     "elapsed": 107634,
     "status": "ok",
     "timestamp": 1656500931959,
     "user": {
      "displayName": "Liudas Panavas",
      "userId": "15728615931896683680"
     },
     "user_tz": 240
    },
    "id": "i2uMPDs5mmTh",
    "outputId": "f268ee7b-7c9f-4cc2-a7fb-b3bce5e40487"
   },
   "outputs": [
    {
     "name": "stdout",
     "output_type": "stream",
     "text": [
      "Mounted at /content/gdrive\n"
     ]
    }
   ],
   "source": [
    "from google.colab import drive\n",
    "drive.mount('/content/gdrive')"
   ]
  },
  {
   "cell_type": "code",
   "execution_count": 1,
   "metadata": {
    "executionInfo": {
     "elapsed": 998,
     "status": "ok",
     "timestamp": 1656500705118,
     "user": {
      "displayName": "Liudas Panavas",
      "userId": "15728615931896683680"
     },
     "user_tz": 240
    },
    "id": "QzmLc2oQeE9S"
   },
   "outputs": [],
   "source": [
    "%%capture\n",
    "!git clone https://github.com/dpcomp-org/dpcomp_core.git"
   ]
  },
  {
   "cell_type": "code",
   "execution_count": 2,
   "metadata": {
    "executionInfo": {
     "elapsed": 40048,
     "status": "ok",
     "timestamp": 1656500745164,
     "user": {
      "displayName": "Liudas Panavas",
      "userId": "15728615931896683680"
     },
     "user_tz": 240
    },
    "id": "s0JdPf2ZeOF2"
   },
   "outputs": [],
   "source": [
    "%%capture\n",
    "!pip install diffprivlib"
   ]
  },
  {
   "cell_type": "code",
   "execution_count": 3,
   "metadata": {
    "executionInfo": {
     "elapsed": 153,
     "status": "ok",
     "timestamp": 1656500745286,
     "user": {
      "displayName": "Liudas Panavas",
      "userId": "15728615931896683680"
     },
     "user_tz": 240
    },
    "id": "OxDFsWZOeRfg"
   },
   "outputs": [],
   "source": [
    "# Remove default module\n",
    "%%capture\n",
    "%cd dpcomp_core\n",
    "!rm -r dpcomp_core"
   ]
  },
  {
   "cell_type": "code",
   "execution_count": 4,
   "metadata": {
    "executionInfo": {
     "elapsed": 1240,
     "status": "ok",
     "timestamp": 1656500746522,
     "user": {
      "displayName": "Liudas Panavas",
      "userId": "15728615931896683680"
     },
     "user_tz": 240
    },
    "id": "wymdRqVTeTVr"
   },
   "outputs": [],
   "source": [
    "%%capture\n",
    "# Upload the zip file and change link to file location in Google Drive\n",
    "!wget './dpcomp_core.zip'"
   ]
  },
  {
   "cell_type": "code",
   "execution_count": 5,
   "metadata": {
    "executionInfo": {
     "elapsed": 157,
     "status": "ok",
     "timestamp": 1656500746674,
     "user": {
      "displayName": "Liudas Panavas",
      "userId": "15728615931896683680"
     },
     "user_tz": 240
    },
    "id": "NUSj2U5IeUml"
   },
   "outputs": [],
   "source": [
    "%%capture\n",
    "!unzip dpcomp_core.zip"
   ]
  },
  {
   "cell_type": "code",
   "execution_count": 6,
   "metadata": {
    "executionInfo": {
     "elapsed": 225,
     "status": "ok",
     "timestamp": 1656500747023,
     "user": {
      "displayName": "Liudas Panavas",
      "userId": "15728615931896683680"
     },
     "user_tz": 240
    },
    "id": "jtayFlIeeWT4"
   },
   "outputs": [],
   "source": [
    "# Add requirements so pip does the version matching right\n",
    "!echo diffprivlib >> resources/requirements.txt\n",
    "!echo pandas >> resources/requirements.txt"
   ]
  },
  {
   "cell_type": "code",
   "execution_count": 7,
   "metadata": {
    "executionInfo": {
     "elapsed": 53991,
     "status": "ok",
     "timestamp": 1656500801013,
     "user": {
      "displayName": "Liudas Panavas",
      "userId": "15728615931896683680"
     },
     "user_tz": 240
    },
    "id": "9V1BetaLeXio"
   },
   "outputs": [],
   "source": [
    "# Install pip requirements\n",
    "%%capture\n",
    "!pip install -r resources/requirements.txt"
   ]
  },
  {
   "cell_type": "code",
   "execution_count": 8,
   "metadata": {
    "executionInfo": {
     "elapsed": 11202,
     "status": "ok",
     "timestamp": 1656500812172,
     "user": {
      "displayName": "Liudas Panavas",
      "userId": "15728615931896683680"
     },
     "user_tz": 240
    },
    "id": "i7pVuR9AeZDt"
   },
   "outputs": [],
   "source": [
    "# Install swig\n",
    "%%capture\n",
    "!apt-get install swig"
   ]
  },
  {
   "cell_type": "code",
   "execution_count": 9,
   "metadata": {
    "executionInfo": {
     "elapsed": 4197,
     "status": "ok",
     "timestamp": 1656500816347,
     "user": {
      "displayName": "Liudas Panavas",
      "userId": "15728615931896683680"
     },
     "user_tz": 240
    },
    "id": "4fxUFIDBeaNE"
   },
   "outputs": [],
   "source": [
    "# Run C++ setup for DAWA\n",
    "%%capture\n",
    "%cd dpcomp_core/algorithm/dawa/\n",
    "!bash setup.sh\n",
    "%cd ../../../"
   ]
  },
  {
   "cell_type": "code",
   "execution_count": 10,
   "metadata": {
    "colab": {
     "base_uri": "https://localhost:8080/",
     "height": 35
    },
    "executionInfo": {
     "elapsed": 13,
     "status": "ok",
     "timestamp": 1656500816347,
     "user": {
      "displayName": "Liudas Panavas",
      "userId": "15728615931896683680"
     },
     "user_tz": 240
    },
    "id": "u8YrGas2ebg_",
    "outputId": "a76f1ee7-7697-4fcd-fa3f-33bbb7d31961"
   },
   "outputs": [
    {
     "data": {
      "application/vnd.google.colaboratory.intrinsic+json": {
       "type": "string"
      },
      "text/plain": [
       "'/content/dpcomp_core'"
      ]
     },
     "execution_count": 10,
     "metadata": {},
     "output_type": "execute_result"
    }
   ],
   "source": [
    "import os\n",
    "os.getcwd()"
   ]
  },
  {
   "cell_type": "code",
   "execution_count": 11,
   "metadata": {
    "colab": {
     "base_uri": "https://localhost:8080/"
    },
    "executionInfo": {
     "elapsed": 6060,
     "status": "ok",
     "timestamp": 1656500822397,
     "user": {
      "displayName": "Liudas Panavas",
      "userId": "15728615931896683680"
     },
     "user_tz": 240
    },
    "id": "T7ug1qMHg4S-",
    "outputId": "75596a2e-a486-4d8f-8b40-bd1a2eb651ff"
   },
   "outputs": [
    {
     "name": "stdout",
     "output_type": "stream",
     "text": [
      "/content/dpcomp_core/dpcomp_core/algorithm/ahp\n",
      "rm: cannot remove 'ahp_fast.c': No such file or directory\n",
      "rm: cannot remove '*.so': No such file or directory\n",
      "Compiling lib/ahp_fast.pyx because it changed.\n",
      "[1/1] Cythonizing lib/ahp_fast.pyx\n",
      "/usr/local/lib/python3.7/dist-packages/Cython/Compiler/Main.py:367: FutureWarning: Cython directive 'language_level' not set, using 2 for now (Py2). This will change in a later release! File: /content/dpcomp_core/dpcomp_core/algorithm/ahp/lib/ahp_fast.pyx\n",
      "  tree = Parsing.p_module(s, pxd, full_module_name)\n",
      "running build_ext\n",
      "building 'ahp_fast' extension\n",
      "creating build\n",
      "creating build/temp.linux-x86_64-3.7\n",
      "creating build/temp.linux-x86_64-3.7/lib\n",
      "x86_64-linux-gnu-gcc -pthread -Wno-unused-result -Wsign-compare -DNDEBUG -g -fwrapv -O2 -Wall -g -fstack-protector-strong -Wformat -Werror=format-security -g -fwrapv -O2 -g -fstack-protector-strong -Wformat -Werror=format-security -Wdate-time -D_FORTIFY_SOURCE=2 -fPIC -I/usr/include/python3.7m -c lib/ahp_fast.c -o build/temp.linux-x86_64-3.7/lib/ahp_fast.o\n",
      "x86_64-linux-gnu-gcc -pthread -shared -Wl,-O1 -Wl,-Bsymbolic-functions -Wl,-Bsymbolic-functions -g -fwrapv -O2 -Wl,-Bsymbolic-functions -g -fwrapv -O2 -g -fstack-protector-strong -Wformat -Werror=format-security -Wdate-time -D_FORTIFY_SOURCE=2 build/temp.linux-x86_64-3.7/lib/ahp_fast.o -o /content/dpcomp_core/dpcomp_core/algorithm/ahp/ahp_fast.cpython-37m-x86_64-linux-gnu.so\n",
      "/content/dpcomp_core\n"
     ]
    }
   ],
   "source": [
    "%cd dpcomp_core/algorithm/ahp/\n",
    "!bash setup.sh\n",
    "%cd ../../../"
   ]
  },
  {
   "cell_type": "code",
   "execution_count": 12,
   "metadata": {
    "executionInfo": {
     "elapsed": 324,
     "status": "ok",
     "timestamp": 1656500822683,
     "user": {
      "displayName": "Liudas Panavas",
      "userId": "15728615931896683680"
     },
     "user_tz": 240
    },
    "id": "LY3IVtKae6ST"
   },
   "outputs": [],
   "source": [
    "from __future__ import division\n",
    "from __future__ import print_function\n",
    "from past.utils import old_div\n",
    "from dpcomp_core.algorithm import dawa\n",
    "from dpcomp_core.algorithm import AG\n",
    "from dpcomp_core.algorithm import ahp\n",
    "from dpcomp_core import dataset\n",
    "from dpcomp_core import workload\n",
    "import numpy as np"
   ]
  },
  {
   "cell_type": "code",
   "execution_count": 13,
   "metadata": {
    "executionInfo": {
     "elapsed": 10,
     "status": "ok",
     "timestamp": 1656500822685,
     "user": {
      "displayName": "Liudas Panavas",
      "userId": "15728615931896683680"
     },
     "user_tz": 240
    },
    "id": "JWwfRdu9g6uc"
   },
   "outputs": [],
   "source": [
    "def runDAWA(data, bin, epsilon):\n",
    "  domain = (bin,bin)\n",
    "  epsilon = epsilon\n",
    "\n",
    "\n",
    "  seed = 1\n",
    "  shape_list = [(5,5),(10,10)]\n",
    "  size = 5000\n",
    "\n",
    "  w = workload.RandomRange(shape_list=shape_list, \n",
    "                         domain_shape=domain, \n",
    "                         size=size, \n",
    "                         seed=seed)\n",
    "\n",
    "  a = dawa.dawa2D_engine()\n",
    "  H, xedges, yedges = np.histogram2d(data['x'], data['y'], bins = bin)\n",
    "  H = H.T\n",
    "  x_hat = a.Run(w, H, epsilon, seed)\n",
    "  return x_hat"
   ]
  },
  {
   "cell_type": "code",
   "execution_count": 14,
   "metadata": {
    "executionInfo": {
     "elapsed": 139,
     "status": "ok",
     "timestamp": 1656500822816,
     "user": {
      "displayName": "Liudas Panavas",
      "userId": "15728615931896683680"
     },
     "user_tz": 240
    },
    "id": "vvO2uH2gqbVK"
   },
   "outputs": [],
   "source": [
    "def runAHP(data, bin, epsilon):\n",
    "  domain = (bin,bin)\n",
    "\n",
    "  seed = 1\n",
    "  shape_list = [(5,5),(10,10)]\n",
    "  size = 5000\n",
    "\n",
    "  w = workload.RandomRange(shape_list=shape_list, \n",
    "                        domain_shape=domain, \n",
    "                        size=size, \n",
    "                        seed=seed)\n",
    "\n",
    "  a = ahp.ahpND_engine(ratio = 0.85, eta = 0.35)\n",
    "  H, xedges, yedges = np.histogram2d(data['x'], data['y'], bins = bin)\n",
    "  H = H.T\n",
    "  x_hat = a.Run(w, H, epsilon, seed)\n",
    "  return x_hat"
   ]
  },
  {
   "cell_type": "code",
   "execution_count": 15,
   "metadata": {
    "executionInfo": {
     "elapsed": 7,
     "status": "ok",
     "timestamp": 1656500822818,
     "user": {
      "displayName": "Liudas Panavas",
      "userId": "15728615931896683680"
     },
     "user_tz": 240
    },
    "id": "uuj4DkrXrCBo"
   },
   "outputs": [],
   "source": [
    "def runAGrid(data, bin, epsilon):\n",
    "  domain = (bin,bin)\n",
    "  seed = 1\n",
    "  shape_list = [(5,5),(10,10)]\n",
    "  size = 5000\n",
    "\n",
    "  w = workload.RandomRange(shape_list=shape_list, \n",
    "                        domain_shape=domain, \n",
    "                        size=size, \n",
    "                        seed=seed)\n",
    "\n",
    "  a = AG.AG_engine(c = 10, c2 = 5, alpha = 0.5)\n",
    "  H, xedges, yedges = np.histogram2d(data['x'], data['y'], bins = bin)\n",
    "  H = H.T\n",
    "  x_hat = a.Run(w, H, epsilon, seed)\n",
    "  return x_hat"
   ]
  },
  {
   "cell_type": "code",
   "execution_count": 16,
   "metadata": {
    "executionInfo": {
     "elapsed": 1372,
     "status": "ok",
     "timestamp": 1656500824184,
     "user": {
      "displayName": "Liudas Panavas",
      "userId": "15728615931896683680"
     },
     "user_tz": 240
    },
    "id": "FAjFlmrdr5hH"
   },
   "outputs": [],
   "source": [
    "from diffprivlib.tools import histogram2d\n",
    "def runGeoTruncated(data, bin, epsilon):\n",
    "  newList = histogram2d(data['x'],data['y'],epsilon,bin, density = False)\n",
    "  x_hat = newList[0].T\n",
    "  return x_hat\n",
    "\n"
   ]
  },
  {
   "cell_type": "code",
   "execution_count": 17,
   "metadata": {
    "executionInfo": {
     "elapsed": 212,
     "status": "ok",
     "timestamp": 1656500824371,
     "user": {
      "displayName": "Liudas Panavas",
      "userId": "15728615931896683680"
     },
     "user_tz": 240
    },
    "id": "kWwcOapqz2EX"
   },
   "outputs": [],
   "source": [
    "from diffprivlib.mechanisms.laplace import Laplace\n",
    "\n",
    "from sys import maxsize\n",
    "def histogramdd(sample, epsilon, bins, range=None, weights=None, density=None, accountant=None, **unused_args):\n",
    "\n",
    "    hist, bin_edges = np.histogramdd(sample, bins=bins, range=range, normed=None, weights=weights, density=None)\n",
    "\n",
    "    dp_mech = Laplace().set_epsilon(epsilon).set_sensitivity(1)\n",
    "    dp_hist = np.zeros_like(hist)\n",
    "    iterator = np.nditer(hist, flags=['multi_index'])\n",
    "\n",
    "    while not iterator.finished:\n",
    "        dp_hist[iterator.multi_index] = dp_mech.randomise(int(iterator[0]))\n",
    "        iterator.iternext()\n",
    "\n",
    "    dp_hist = dp_hist.astype(float, casting='safe')\n",
    "\n",
    "    if density:\n",
    "        # calculate the probability density function\n",
    "        dims = len(dp_hist.shape)\n",
    "        dp_hist_sum = dp_hist.sum()\n",
    "        for i in np.arange(dims):\n",
    "            shape = np.ones(dims, int)\n",
    "            shape[i] = dp_hist.shape[i]\n",
    "            # noinspection PyUnresolvedReferences\n",
    "            dp_hist = dp_hist / np.diff(bin_edges[i]).reshape(shape)\n",
    "\n",
    "        if dp_hist_sum > 0:\n",
    "            dp_hist /= dp_hist_sum\n",
    "\n",
    "  \n",
    "\n",
    "    return dp_hist, bin_edges\n"
   ]
  },
  {
   "cell_type": "code",
   "execution_count": 18,
   "metadata": {
    "executionInfo": {
     "elapsed": 52,
     "status": "ok",
     "timestamp": 1656500824374,
     "user": {
      "displayName": "Liudas Panavas",
      "userId": "15728615931896683680"
     },
     "user_tz": 240
    },
    "id": "_Oczq5JC0LWe"
   },
   "outputs": [],
   "source": [
    "def laplaceHistogram(array_x, array_y, epsilon, bins, range=None, weights=None, density=None, accountant=None,\n",
    "                **unused_args):\n",
    "\n",
    "    try:\n",
    "        num_bins = len(bins)\n",
    "    except TypeError:\n",
    "        num_bins = 1\n",
    "\n",
    "    if num_bins not in (1, 2):\n",
    "        xedges = yedges = np.asarray(bins)\n",
    "        bins = [xedges, yedges]\n",
    "\n",
    "    hist, edges = histogramdd([array_x, array_y], epsilon=epsilon, bins=bins, range=range, weights=weights,\n",
    "                              density=density, accountant=accountant)\n",
    "    \n",
    "    return hist, edges[0], edges[1]\n"
   ]
  },
  {
   "cell_type": "code",
   "execution_count": 19,
   "metadata": {
    "executionInfo": {
     "elapsed": 53,
     "status": "ok",
     "timestamp": 1656500824377,
     "user": {
      "displayName": "Liudas Panavas",
      "userId": "15728615931896683680"
     },
     "user_tz": 240
    },
    "id": "5yzVZqX9yJpR"
   },
   "outputs": [],
   "source": [
    "def runLaplace(data, bin, epsilon):\n",
    "  newList = laplaceHistogram(data['x'],data['y'],epsilon,bin, density = False)\n",
    "  x_hat = newList[0].T\n",
    "  return x_hat\n"
   ]
  },
  {
   "cell_type": "code",
   "execution_count": 21,
   "metadata": {
    "executionInfo": {
     "elapsed": 274,
     "status": "ok",
     "timestamp": 1656500932228,
     "user": {
      "displayName": "Liudas Panavas",
      "userId": "15728615931896683680"
     },
     "user_tz": 240
    },
    "id": "_T4N5fPGplEF"
   },
   "outputs": [],
   "source": [
    "import pandas as pd"
   ]
  },
  {
   "cell_type": "code",
   "execution_count": 22,
   "metadata": {
    "executionInfo": {
     "elapsed": 4,
     "status": "ok",
     "timestamp": 1656500932228,
     "user": {
      "displayName": "Liudas Panavas",
      "userId": "15728615931896683680"
     },
     "user_tz": 240
    },
    "id": "uGqjM0nbdGd6"
   },
   "outputs": [],
   "source": [
    "tasks = ['distribution', 'clusters', 'correlation']\n",
    "epsilons = [.5, .1, .05, .01]\n",
    "algorithms = ['DAWA', 'AHP', \"AGrid\", 'Geometric', 'Laplace']\n",
    "bins = [32,64]\n"
   ]
  },
  {
   "cell_type": "code",
   "execution_count": 23,
   "metadata": {
    "executionInfo": {
     "elapsed": 3,
     "status": "ok",
     "timestamp": 1656500932228,
     "user": {
      "displayName": "Liudas Panavas",
      "userId": "15728615931896683680"
     },
     "user_tz": 240
    },
    "id": "Wx45469yc6rk"
   },
   "outputs": [],
   "source": [
    "chartDictionary = {'0': ['distribution', 'correlation'], '2': ['distribution'], '3': ['distribution', 'clusters'], '9': ['distribution']}"
   ]
  },
  {
   "cell_type": "code",
   "execution_count": 24,
   "metadata": {
    "executionInfo": {
     "elapsed": 4,
     "status": "ok",
     "timestamp": 1656500932229,
     "user": {
      "displayName": "Liudas Panavas",
      "userId": "15728615931896683680"
     },
     "user_tz": 240
    },
    "id": "AgAUu5f1deuc"
   },
   "outputs": [],
   "source": [
    "import matplotlib.pyplot as plt\n"
   ]
  },
  {
   "cell_type": "markdown",
   "metadata": {},
   "source": [
    "# Pilot Plot Generation\n"
   ]
  },
  {
   "cell_type": "code",
   "execution_count": null,
   "metadata": {},
   "outputs": [],
   "source": [
    "\n",
    "from subprocess import run\n",
    "# upload pilotData folder to google drive and change directory location to it\n",
    "directory = './pilotData'\n",
    "\n",
    "for filename in os.scandir(directory):\n",
    "    if filename.is_file():\n",
    "        \n",
    "        # df = pd.read_csv(filename.path)\n",
    "        for key, value in chartDictionary.items():\n",
    "          if ('/'+key+'.csv') in (filename.path):\n",
    "\n",
    "            df = pd.read_csv(filename.path)\n",
    "            \n",
    "            H, xedges, yedges = np.histogram2d(df['x'], df['y'], bins = 32)\n",
    "            H = H.T\n",
    "            plt.imshow(H, interpolation='nearest', origin='lower', cmap = 'gray_r', aspect = 'auto',\n",
    "              extent=[xedges[0], xedges[-1], yedges[0], yedges[-1]])\n",
    "            ax = plt.gca()\n",
    "            ax.axes.xaxis.set_ticklabels([])\n",
    "            ax.axes.yaxis.set_ticklabels([])\n",
    "#             Create images folder in google drive and set this as the folder location for saving images of plots\n",
    "            plt.savefig('./images/'+key +'/' + ''+key+ '_' + \"Binned_None_None_32.png\")\n",
    "            plt.clf()   \n",
    "\n",
    "            H, xedges, yedges = np.histogram2d(df['x'], df['y'], bins = 64)\n",
    "            H = H.T\n",
    "            plt.imshow(H, interpolation='nearest', origin='lower', cmap = 'gray_r', aspect = 'auto',\n",
    "              extent=[xedges[0], xedges[-1], yedges[0], yedges[-1]])\n",
    "            ax = plt.gca()\n",
    "            ax.axes.xaxis.set_ticklabels([])\n",
    "            ax.axes.yaxis.set_ticklabels([])\n",
    "            plt.savefig('./images/'+key +'/' + ''+key+ '_' + \"Binned_None_None_64.png\")\n",
    "            plt.clf()\n",
    "\n",
    "            for v in value:\n",
    "              for e in epsilons:\n",
    "                for b in bins:\n",
    "                  H, xedges, yedges = np.histogram2d(df['x'], df['y'], bins = b)\n",
    "                  for a in algorithms:\n",
    "                    if a == 'DAWA':\n",
    "                      dawaPrivate = runDAWA(df, b,e)\n",
    "                 \n",
    "                      plt.imshow(dawaPrivate, interpolation='nearest', origin='lower', cmap = 'gray_r', aspect = 'auto',\n",
    "                        extent=[xedges[0], xedges[-1], yedges[0], yedges[-1]])\n",
    "                      ax = plt.gca()\n",
    "                      ax.axes.xaxis.set_ticklabels([])\n",
    "                      ax.axes.yaxis.set_ticklabels([])\n",
    "                      plt.savefig('./images/'+key +'/' + key + '_' + v + '_' + a + '_' + str(e) + '_' + str(b) + '.png')\n",
    "                      plt.clf()\n",
    "\n",
    "\n",
    "                    if a == 'AHP':\n",
    "                      ahpPrivate = runAHP(df,b,e)\n",
    "                   \n",
    "                      plt.imshow(ahpPrivate, interpolation='nearest', origin='lower', cmap = 'gray_r', aspect = 'auto',\n",
    "                        extent=[xedges[0], xedges[-1], yedges[0], yedges[-1]])\n",
    "                      ax = plt.gca()\n",
    "                      ax.axes.xaxis.set_ticklabels([])\n",
    "                      ax.axes.yaxis.set_ticklabels([])\n",
    "                      plt.savefig('./images/'+key +'/' + key + '_' + v + '_' + a + '_' + str(e) + '_' + str(b) + '.png')\n",
    "                      plt.clf()\n",
    "\n",
    "\n",
    "                    if a == \"AGrid\":\n",
    "                      aGridPrivate = runAGrid(df,b,e)\n",
    "                  \n",
    "                      plt.imshow(aGridPrivate, interpolation='nearest', origin='lower', cmap = 'gray_r', aspect = 'auto',\n",
    "                        extent=[xedges[0], xedges[-1], yedges[0], yedges[-1]])\n",
    "                      ax = plt.gca()\n",
    "                      ax.axes.xaxis.set_ticklabels([])\n",
    "                      ax.axes.yaxis.set_ticklabels([])\n",
    "                      plt.savefig('./images/'+key +'/' + key + '_' + v + '_' + a + '_' + str(e) + '_' + str(b) + '.png')\n",
    "                      plt.clf()\n",
    "\n",
    "                    if a == \"Geometric\":\n",
    "                      geoPrivate = runGeoTruncated(df,b,e)\n",
    "                   \n",
    "                      plt.imshow(geoPrivate, interpolation='nearest', origin='lower', cmap = 'gray_r', aspect = 'auto',\n",
    "                        extent=[xedges[0], xedges[-1], yedges[0], yedges[-1]])\n",
    "                      ax = plt.gca()\n",
    "                      ax.axes.xaxis.set_ticklabels([])\n",
    "                      ax.axes.yaxis.set_ticklabels([])\n",
    "                      plt.savefig('./images/'+key +'/' + key + '_' + v + '_' + a + '_' + str(e) + '_' + str(b) + '.png')\n",
    "                      plt.clf()\n",
    "\n",
    "                    if a == 'Laplace':\n",
    "                      laplacePrivate = runLaplace(df,b,e)\n",
    "                    \n",
    "                      plt.imshow(laplacePrivate, interpolation='nearest', origin='lower', cmap = 'gray_r', aspect = 'auto',\n",
    "                        extent=[xedges[0], xedges[-1], yedges[0], yedges[-1]])\n",
    "                      ax = plt.gca()\n",
    "                      ax.axes.xaxis.set_ticklabels([])\n",
    "                      ax.axes.yaxis.set_ticklabels([])\n",
    "                      plt.savefig('./images/'+key +'/' + key + '_' + v + '_' + a + '_' + str(e) + '_' + str(b) + '.png')\n",
    "                      plt.clf()\n"
   ]
  },
  {
   "cell_type": "markdown",
   "metadata": {},
   "source": [
    "# Statistical Utility Metrics"
   ]
  },
  {
   "cell_type": "code",
   "execution_count": 26,
   "metadata": {
    "colab": {
     "base_uri": "https://localhost:8080/"
    },
    "executionInfo": {
     "elapsed": 9687,
     "status": "ok",
     "timestamp": 1656500942181,
     "user": {
      "displayName": "Liudas Panavas",
      "userId": "15728615931896683680"
     },
     "user_tz": 240
    },
    "id": "708d1gEgC-ub",
    "outputId": "587e46a8-5035-44d8-cde4-df27687777ea"
   },
   "outputs": [
    {
     "name": "stdout",
     "output_type": "stream",
     "text": [
      "Looking in indexes: https://pypi.org/simple, https://us-python.pkg.dev/colab-wheels/public/simple/\n",
      "Collecting pytorch-msssim\n",
      "  Downloading pytorch_msssim-0.2.1-py3-none-any.whl (7.2 kB)\n",
      "Requirement already satisfied: torch in /usr/local/lib/python3.7/dist-packages (from pytorch-msssim) (1.11.0+cu113)\n",
      "Requirement already satisfied: typing-extensions in /usr/local/lib/python3.7/dist-packages (from torch->pytorch-msssim) (4.1.1)\n",
      "Installing collected packages: pytorch-msssim\n",
      "Successfully installed pytorch-msssim-0.2.1\n"
     ]
    }
   ],
   "source": [
    "!pip install pytorch-msssim\n",
    "from PIL import Image\n",
    "import numpy as np\n",
    "import tensorflow as tf\n",
    "import torch\n",
    "from pytorch_msssim import ssim, ms_ssim, SSIM, MS_SSIM\n",
    "import matplotlib.pyplot as plt\n",
    "import pandas as pd\n",
    "import matplotlib.colors as colors"
   ]
  },
  {
   "cell_type": "code",
   "execution_count": 28,
   "metadata": {
    "colab": {
     "base_uri": "https://localhost:8080/",
     "height": 1000
    },
    "executionInfo": {
     "elapsed": 32860,
     "status": "ok",
     "timestamp": 1656500975023,
     "user": {
      "displayName": "Liudas Panavas",
      "userId": "15728615931896683680"
     },
     "user_tz": 240
    },
    "id": "xeLAjimlPaOu",
    "outputId": "0a77bec1-ef2d-4584-9b7b-3e60182a5306"
   },
   "outputs": [
    {
     "name": "stdout",
     "output_type": "stream",
     "text": [
      "Looking in indexes: https://pypi.org/simple, https://us-python.pkg.dev/colab-wheels/public/simple/\n",
      "Collecting sdmetrics\n",
      "  Downloading sdmetrics-0.5.0-py2.py3-none-any.whl (98 kB)\n",
      "\u001b[K     |████████████████████████████████| 98 kB 3.9 MB/s \n",
      "\u001b[?25hRequirement already satisfied: scikit-learn<2,>=0.24 in /usr/local/lib/python3.7/dist-packages (from sdmetrics) (1.0.2)\n",
      "Requirement already satisfied: pandas<2,>=1.1.3 in /usr/local/lib/python3.7/dist-packages (from sdmetrics) (1.1.5)\n",
      "Collecting scipy<2,>=1.5.4\n",
      "  Using cached scipy-1.7.3-cp37-cp37m-manylinux_2_12_x86_64.manylinux2010_x86_64.whl (38.1 MB)\n",
      "Collecting pyts<0.13.0,>=0.12.0\n",
      "  Downloading pyts-0.12.0-py3-none-any.whl (2.5 MB)\n",
      "\u001b[K     |████████████████████████████████| 2.5 MB 40.6 MB/s \n",
      "\u001b[?25hRequirement already satisfied: torch<2,>=1.8.0 in /usr/local/lib/python3.7/dist-packages (from sdmetrics) (1.11.0+cu113)\n",
      "Collecting rdt<0.7,>=0.6.1\n",
      "  Downloading rdt-0.6.4-py2.py3-none-any.whl (45 kB)\n",
      "\u001b[K     |████████████████████████████████| 45 kB 2.0 MB/s \n",
      "\u001b[?25hCollecting numpy<2,>=1.20.0\n",
      "  Downloading numpy-1.21.6-cp37-cp37m-manylinux_2_12_x86_64.manylinux2010_x86_64.whl (15.7 MB)\n",
      "\u001b[K     |████████████████████████████████| 15.7 MB 33.5 MB/s \n",
      "\u001b[?25hCollecting copulas<0.8,>=0.7.0\n",
      "  Downloading copulas-0.7.0-py2.py3-none-any.whl (53 kB)\n",
      "\u001b[K     |████████████████████████████████| 53 kB 969 kB/s \n",
      "\u001b[?25hCollecting matplotlib<4,>=3.4.0\n",
      "  Downloading matplotlib-3.5.2-cp37-cp37m-manylinux_2_5_x86_64.manylinux1_x86_64.whl (11.2 MB)\n",
      "\u001b[K     |████████████████████████████████| 11.2 MB 29.2 MB/s \n",
      "\u001b[?25hRequirement already satisfied: python-dateutil>=2.7 in /usr/local/lib/python3.7/dist-packages (from matplotlib<4,>=3.4.0->copulas<0.8,>=0.7.0->sdmetrics) (2.8.2)\n",
      "Requirement already satisfied: pillow>=6.2.0 in /usr/local/lib/python3.7/dist-packages (from matplotlib<4,>=3.4.0->copulas<0.8,>=0.7.0->sdmetrics) (7.1.2)\n",
      "Requirement already satisfied: pyparsing>=2.2.1 in /usr/local/lib/python3.7/dist-packages (from matplotlib<4,>=3.4.0->copulas<0.8,>=0.7.0->sdmetrics) (3.0.9)\n",
      "Requirement already satisfied: kiwisolver>=1.0.1 in /usr/local/lib/python3.7/dist-packages (from matplotlib<4,>=3.4.0->copulas<0.8,>=0.7.0->sdmetrics) (1.4.3)\n",
      "Collecting fonttools>=4.22.0\n",
      "  Downloading fonttools-4.33.3-py3-none-any.whl (930 kB)\n",
      "\u001b[K     |████████████████████████████████| 930 kB 48.9 MB/s \n",
      "\u001b[?25hRequirement already satisfied: cycler>=0.10 in /usr/local/lib/python3.7/dist-packages (from matplotlib<4,>=3.4.0->copulas<0.8,>=0.7.0->sdmetrics) (0.11.0)\n",
      "Requirement already satisfied: packaging>=20.0 in /usr/local/lib/python3.7/dist-packages (from matplotlib<4,>=3.4.0->copulas<0.8,>=0.7.0->sdmetrics) (21.3)\n",
      "Requirement already satisfied: typing-extensions in /usr/local/lib/python3.7/dist-packages (from kiwisolver>=1.0.1->matplotlib<4,>=3.4.0->copulas<0.8,>=0.7.0->sdmetrics) (4.1.1)\n",
      "Requirement already satisfied: pytz>=2017.2 in /usr/local/lib/python3.7/dist-packages (from pandas<2,>=1.1.3->sdmetrics) (2022.1)\n",
      "Requirement already satisfied: six>=1.5 in /usr/local/lib/python3.7/dist-packages (from python-dateutil>=2.7->matplotlib<4,>=3.4.0->copulas<0.8,>=0.7.0->sdmetrics) (1.15.0)\n",
      "Requirement already satisfied: numba>=0.48.0 in /usr/local/lib/python3.7/dist-packages (from pyts<0.13.0,>=0.12.0->sdmetrics) (0.51.2)\n",
      "Requirement already satisfied: joblib>=0.12 in /usr/local/lib/python3.7/dist-packages (from pyts<0.13.0,>=0.12.0->sdmetrics) (1.1.0)\n",
      "Requirement already satisfied: setuptools in /usr/local/lib/python3.7/dist-packages (from numba>=0.48.0->pyts<0.13.0,>=0.12.0->sdmetrics) (57.4.0)\n",
      "Requirement already satisfied: llvmlite<0.35,>=0.34.0.dev0 in /usr/local/lib/python3.7/dist-packages (from numba>=0.48.0->pyts<0.13.0,>=0.12.0->sdmetrics) (0.34.0)\n",
      "Collecting pyyaml<6,>=5.4.1\n",
      "  Downloading PyYAML-5.4.1-cp37-cp37m-manylinux1_x86_64.whl (636 kB)\n",
      "\u001b[K     |████████████████████████████████| 636 kB 51.7 MB/s \n",
      "\u001b[?25hCollecting psutil<6,>=5.7\n",
      "  Downloading psutil-5.9.1-cp37-cp37m-manylinux_2_12_x86_64.manylinux2010_x86_64.manylinux_2_17_x86_64.manylinux2014_x86_64.whl (281 kB)\n",
      "\u001b[K     |████████████████████████████████| 281 kB 47.8 MB/s \n",
      "\u001b[?25hRequirement already satisfied: threadpoolctl>=2.0.0 in /usr/local/lib/python3.7/dist-packages (from scikit-learn<2,>=0.24->sdmetrics) (3.1.0)\n",
      "Installing collected packages: numpy, scipy, fonttools, pyyaml, psutil, matplotlib, rdt, pyts, copulas, sdmetrics\n",
      "  Attempting uninstall: numpy\n",
      "    Found existing installation: numpy 1.16.2\n",
      "    Uninstalling numpy-1.16.2:\n",
      "      Successfully uninstalled numpy-1.16.2\n",
      "  Attempting uninstall: scipy\n",
      "    Found existing installation: scipy 1.2.1\n",
      "    Uninstalling scipy-1.2.1:\n",
      "      Successfully uninstalled scipy-1.2.1\n",
      "  Attempting uninstall: pyyaml\n",
      "    Found existing installation: PyYAML 3.13\n",
      "    Uninstalling PyYAML-3.13:\n",
      "      Successfully uninstalled PyYAML-3.13\n",
      "  Attempting uninstall: psutil\n",
      "    Found existing installation: psutil 5.4.8\n",
      "    Uninstalling psutil-5.4.8:\n",
      "      Successfully uninstalled psutil-5.4.8\n",
      "  Attempting uninstall: matplotlib\n",
      "    Found existing installation: matplotlib 3.2.2\n",
      "    Uninstalling matplotlib-3.2.2:\n",
      "      Successfully uninstalled matplotlib-3.2.2\n",
      "\u001b[31mERROR: pip's dependency resolver does not currently take into account all the packages that are installed. This behaviour is the source of the following dependency conflicts.\n",
      "datascience 0.10.6 requires folium==0.2.1, but you have folium 0.8.3 which is incompatible.\n",
      "albumentations 0.1.12 requires imgaug<0.2.7,>=0.2.5, but you have imgaug 0.2.9 which is incompatible.\u001b[0m\n",
      "Successfully installed copulas-0.7.0 fonttools-4.33.3 matplotlib-3.5.2 numpy-1.21.6 psutil-5.9.1 pyts-0.12.0 pyyaml-5.4.1 rdt-0.6.4 scipy-1.7.3 sdmetrics-0.5.0\n"
     ]
    },
    {
     "data": {
      "application/vnd.colab-display-data+json": {
       "pip_warning": {
        "packages": [
         "matplotlib",
         "mpl_toolkits",
         "numpy",
         "psutil",
         "scipy"
        ]
       }
      }
     },
     "metadata": {},
     "output_type": "display_data"
    }
   ],
   "source": [
    "!pip install sdmetrics"
   ]
  },
  {
   "cell_type": "code",
   "execution_count": 29,
   "metadata": {
    "colab": {
     "base_uri": "https://localhost:8080/",
     "height": 399
    },
    "executionInfo": {
     "elapsed": 777064,
     "status": "ok",
     "timestamp": 1656501752080,
     "user": {
      "displayName": "Liudas Panavas",
      "userId": "15728615931896683680"
     },
     "user_tz": 240
    },
    "id": "CdyY1HmwV7sO",
    "outputId": "e5323234-f8fd-4e80-e83c-e5cc81c38479"
   },
   "outputs": [
    {
     "name": "stdout",
     "output_type": "stream",
     "text": [
      "Found existing installation: pandas 1.1.5\n",
      "Uninstalling pandas-1.1.5:\n",
      "  Would remove:\n",
      "    /usr/local/lib/python3.7/dist-packages/pandas-1.1.5.dist-info/*\n",
      "    /usr/local/lib/python3.7/dist-packages/pandas/*\n",
      "Proceed (y/n)? y\n",
      "  Successfully uninstalled pandas-1.1.5\n",
      "Looking in indexes: https://pypi.org/simple, https://us-python.pkg.dev/colab-wheels/public/simple/\n",
      "Collecting pandas\n",
      "  Downloading pandas-1.3.5-cp37-cp37m-manylinux_2_17_x86_64.manylinux2014_x86_64.whl (11.3 MB)\n",
      "\u001b[K     |████████████████████████████████| 11.3 MB 5.5 MB/s \n",
      "\u001b[?25hRequirement already satisfied: pytz>=2017.3 in /usr/local/lib/python3.7/dist-packages (from pandas) (2022.1)\n",
      "Requirement already satisfied: python-dateutil>=2.7.3 in /usr/local/lib/python3.7/dist-packages (from pandas) (2.8.2)\n",
      "Requirement already satisfied: numpy>=1.17.3 in /usr/local/lib/python3.7/dist-packages (from pandas) (1.21.6)\n",
      "Requirement already satisfied: six>=1.5 in /usr/local/lib/python3.7/dist-packages (from python-dateutil>=2.7.3->pandas) (1.15.0)\n",
      "Installing collected packages: pandas\n",
      "Successfully installed pandas-1.3.5\n"
     ]
    },
    {
     "data": {
      "application/vnd.colab-display-data+json": {
       "pip_warning": {
        "packages": [
         "pandas"
        ]
       }
      }
     },
     "metadata": {},
     "output_type": "display_data"
    }
   ],
   "source": [
    "!pip uninstall pandas\n",
    "!pip install pandas"
   ]
  },
  {
   "cell_type": "code",
   "execution_count": 30,
   "metadata": {
    "colab": {
     "base_uri": "https://localhost:8080/"
    },
    "executionInfo": {
     "elapsed": 10917,
     "status": "ok",
     "timestamp": 1656501762992,
     "user": {
      "displayName": "Liudas Panavas",
      "userId": "15728615931896683680"
     },
     "user_tz": 240
    },
    "id": "Bb_9ia1XYS0x",
    "outputId": "feb662a6-2cc8-4648-bc56-6494287cbc4b"
   },
   "outputs": [
    {
     "name": "stdout",
     "output_type": "stream",
     "text": [
      "Looking in indexes: https://pypi.org/simple, https://us-python.pkg.dev/colab-wheels/public/simple/\n",
      "Collecting sdv\n",
      "  Downloading sdv-0.15.0-py2.py3-none-any.whl (102 kB)\n",
      "\u001b[K     |████████████████████████████████| 102 kB 4.0 MB/s \n",
      "\u001b[?25hCollecting Faker<10,>=3.0.0\n",
      "  Downloading Faker-9.9.1-py3-none-any.whl (1.2 MB)\n",
      "\u001b[K     |████████████████████████████████| 1.2 MB 44.3 MB/s \n",
      "\u001b[?25hCollecting deepecho<0.4,>=0.3.0.post1\n",
      "  Downloading deepecho-0.3.0.post1-py2.py3-none-any.whl (26 kB)\n",
      "Requirement already satisfied: tqdm<5,>=4.15 in /usr/local/lib/python3.7/dist-packages (from sdv) (4.64.0)\n",
      "Requirement already satisfied: sdmetrics<0.6,>=0.5.0 in /usr/local/lib/python3.7/dist-packages (from sdv) (0.5.0)\n",
      "Requirement already satisfied: copulas<0.8,>=0.7.0 in /usr/local/lib/python3.7/dist-packages (from sdv) (0.7.0)\n",
      "Collecting graphviz<1,>=0.13.2\n",
      "  Downloading graphviz-0.20-py3-none-any.whl (46 kB)\n",
      "\u001b[K     |████████████████████████████████| 46 kB 3.6 MB/s \n",
      "\u001b[?25hRequirement already satisfied: numpy<2,>=1.20.0 in /usr/local/lib/python3.7/dist-packages (from sdv) (1.21.6)\n",
      "Requirement already satisfied: rdt<0.7,>=0.6.2 in /usr/local/lib/python3.7/dist-packages (from sdv) (0.6.4)\n",
      "Requirement already satisfied: pandas<2,>=1.1.3 in /usr/local/lib/python3.7/dist-packages (from sdv) (1.3.5)\n",
      "Collecting ctgan<0.6,>=0.5.1\n",
      "  Downloading ctgan-0.5.1-py2.py3-none-any.whl (24 kB)\n",
      "Requirement already satisfied: matplotlib<4,>=3.4.0 in /usr/local/lib/python3.7/dist-packages (from copulas<0.8,>=0.7.0->sdv) (3.5.2)\n",
      "Requirement already satisfied: scipy<2,>=1.5.4 in /usr/local/lib/python3.7/dist-packages (from copulas<0.8,>=0.7.0->sdv) (1.7.3)\n",
      "Requirement already satisfied: packaging<22,>=20 in /usr/local/lib/python3.7/dist-packages (from ctgan<0.6,>=0.5.1->sdv) (21.3)\n",
      "Requirement already satisfied: torch<2,>=1.8.0 in /usr/local/lib/python3.7/dist-packages (from ctgan<0.6,>=0.5.1->sdv) (1.11.0+cu113)\n",
      "Requirement already satisfied: torchvision<1,>=0.9.0 in /usr/local/lib/python3.7/dist-packages (from ctgan<0.6,>=0.5.1->sdv) (0.12.0+cu113)\n",
      "Requirement already satisfied: scikit-learn<2,>=0.24 in /usr/local/lib/python3.7/dist-packages (from ctgan<0.6,>=0.5.1->sdv) (1.0.2)\n",
      "Requirement already satisfied: typing-extensions>=3.10.0.2 in /usr/local/lib/python3.7/dist-packages (from Faker<10,>=3.0.0->sdv) (4.1.1)\n",
      "Requirement already satisfied: text-unidecode==1.3 in /usr/local/lib/python3.7/dist-packages (from Faker<10,>=3.0.0->sdv) (1.3)\n",
      "Requirement already satisfied: python-dateutil>=2.4 in /usr/local/lib/python3.7/dist-packages (from Faker<10,>=3.0.0->sdv) (2.8.2)\n",
      "Requirement already satisfied: cycler>=0.10 in /usr/local/lib/python3.7/dist-packages (from matplotlib<4,>=3.4.0->copulas<0.8,>=0.7.0->sdv) (0.11.0)\n",
      "Requirement already satisfied: pyparsing>=2.2.1 in /usr/local/lib/python3.7/dist-packages (from matplotlib<4,>=3.4.0->copulas<0.8,>=0.7.0->sdv) (3.0.9)\n",
      "Requirement already satisfied: pillow>=6.2.0 in /usr/local/lib/python3.7/dist-packages (from matplotlib<4,>=3.4.0->copulas<0.8,>=0.7.0->sdv) (7.1.2)\n",
      "Requirement already satisfied: fonttools>=4.22.0 in /usr/local/lib/python3.7/dist-packages (from matplotlib<4,>=3.4.0->copulas<0.8,>=0.7.0->sdv) (4.33.3)\n",
      "Requirement already satisfied: kiwisolver>=1.0.1 in /usr/local/lib/python3.7/dist-packages (from matplotlib<4,>=3.4.0->copulas<0.8,>=0.7.0->sdv) (1.4.3)\n",
      "Requirement already satisfied: pytz>=2017.3 in /usr/local/lib/python3.7/dist-packages (from pandas<2,>=1.1.3->sdv) (2022.1)\n",
      "Requirement already satisfied: six>=1.5 in /usr/local/lib/python3.7/dist-packages (from python-dateutil>=2.4->Faker<10,>=3.0.0->sdv) (1.15.0)\n",
      "Requirement already satisfied: psutil<6,>=5.7 in /usr/local/lib/python3.7/dist-packages (from rdt<0.7,>=0.6.2->sdv) (5.9.1)\n",
      "Requirement already satisfied: pyyaml<6,>=5.4.1 in /usr/local/lib/python3.7/dist-packages (from rdt<0.7,>=0.6.2->sdv) (5.4.1)\n",
      "Requirement already satisfied: threadpoolctl>=2.0.0 in /usr/local/lib/python3.7/dist-packages (from scikit-learn<2,>=0.24->ctgan<0.6,>=0.5.1->sdv) (3.1.0)\n",
      "Requirement already satisfied: joblib>=0.11 in /usr/local/lib/python3.7/dist-packages (from scikit-learn<2,>=0.24->ctgan<0.6,>=0.5.1->sdv) (1.1.0)\n",
      "Requirement already satisfied: pyts<0.13.0,>=0.12.0 in /usr/local/lib/python3.7/dist-packages (from sdmetrics<0.6,>=0.5.0->sdv) (0.12.0)\n",
      "Requirement already satisfied: numba>=0.48.0 in /usr/local/lib/python3.7/dist-packages (from pyts<0.13.0,>=0.12.0->sdmetrics<0.6,>=0.5.0->sdv) (0.51.2)\n",
      "Requirement already satisfied: llvmlite<0.35,>=0.34.0.dev0 in /usr/local/lib/python3.7/dist-packages (from numba>=0.48.0->pyts<0.13.0,>=0.12.0->sdmetrics<0.6,>=0.5.0->sdv) (0.34.0)\n",
      "Requirement already satisfied: setuptools in /usr/local/lib/python3.7/dist-packages (from numba>=0.48.0->pyts<0.13.0,>=0.12.0->sdmetrics<0.6,>=0.5.0->sdv) (57.4.0)\n",
      "Requirement already satisfied: requests in /usr/local/lib/python3.7/dist-packages (from torchvision<1,>=0.9.0->ctgan<0.6,>=0.5.1->sdv) (2.23.0)\n",
      "Requirement already satisfied: urllib3!=1.25.0,!=1.25.1,<1.26,>=1.21.1 in /usr/local/lib/python3.7/dist-packages (from requests->torchvision<1,>=0.9.0->ctgan<0.6,>=0.5.1->sdv) (1.24.3)\n",
      "Requirement already satisfied: idna<3,>=2.5 in /usr/local/lib/python3.7/dist-packages (from requests->torchvision<1,>=0.9.0->ctgan<0.6,>=0.5.1->sdv) (2.10)\n",
      "Requirement already satisfied: certifi>=2017.4.17 in /usr/local/lib/python3.7/dist-packages (from requests->torchvision<1,>=0.9.0->ctgan<0.6,>=0.5.1->sdv) (2022.6.15)\n",
      "Requirement already satisfied: chardet<4,>=3.0.2 in /usr/local/lib/python3.7/dist-packages (from requests->torchvision<1,>=0.9.0->ctgan<0.6,>=0.5.1->sdv) (3.0.4)\n",
      "Installing collected packages: graphviz, Faker, deepecho, ctgan, sdv\n",
      "  Attempting uninstall: graphviz\n",
      "    Found existing installation: graphviz 0.10.1\n",
      "    Uninstalling graphviz-0.10.1:\n",
      "      Successfully uninstalled graphviz-0.10.1\n",
      "Successfully installed Faker-9.9.1 ctgan-0.5.1 deepecho-0.3.0.post1 graphviz-0.20 sdv-0.15.0\n"
     ]
    }
   ],
   "source": [
    "!pip install sdv"
   ]
  },
  {
   "cell_type": "code",
   "execution_count": 31,
   "metadata": {
    "colab": {
     "base_uri": "https://localhost:8080/"
    },
    "executionInfo": {
     "elapsed": 274410,
     "status": "ok",
     "timestamp": 1656502037371,
     "user": {
      "displayName": "Liudas Panavas",
      "userId": "15728615931896683680"
     },
     "user_tz": 240
    },
    "id": "eXbu6fO6beN5",
    "outputId": "2e893b3c-b1a6-4c4f-f155-8fede1417eb3"
   },
   "outputs": [
    {
     "name": "stdout",
     "output_type": "stream",
     "text": [
      "Looking in indexes: https://pypi.org/simple, https://us-python.pkg.dev/colab-wheels/public/simple/\n",
      "Collecting pomegranate\n",
      "  Downloading pomegranate-0.14.8.tar.gz (4.3 MB)\n",
      "\u001b[K     |████████████████████████████████| 4.3 MB 6.1 MB/s \n",
      "\u001b[?25h  Installing build dependencies ... \u001b[?25l\u001b[?25hdone\n",
      "  Getting requirements to build wheel ... \u001b[?25l\u001b[?25hdone\n",
      "    Preparing wheel metadata ... \u001b[?25l\u001b[?25hdone\n",
      "Requirement already satisfied: networkx>=2.4 in /usr/local/lib/python3.7/dist-packages (from pomegranate) (2.6.3)\n",
      "Requirement already satisfied: numpy>=1.20.0 in /usr/local/lib/python3.7/dist-packages (from pomegranate) (1.21.6)\n",
      "Requirement already satisfied: joblib>=0.9.0b4 in /usr/local/lib/python3.7/dist-packages (from pomegranate) (1.1.0)\n",
      "Requirement already satisfied: pyyaml in /usr/local/lib/python3.7/dist-packages (from pomegranate) (5.4.1)\n",
      "Requirement already satisfied: scipy>=0.17.0 in /usr/local/lib/python3.7/dist-packages (from pomegranate) (1.7.3)\n",
      "Building wheels for collected packages: pomegranate\n",
      "  Building wheel for pomegranate (PEP 517) ... \u001b[?25l\u001b[?25hdone\n",
      "  Created wheel for pomegranate: filename=pomegranate-0.14.8-cp37-cp37m-linux_x86_64.whl size=15409847 sha256=4b3065582846975242fac03f8dc773b4a0756629e1cb5c8a41d7092dad574c4e\n",
      "  Stored in directory: /root/.cache/pip/wheels/24/68/69/0eaab474ef1d65abedcd47de8a38ab21d221d329954d7edd24\n",
      "Successfully built pomegranate\n",
      "Installing collected packages: pomegranate\n",
      "Successfully installed pomegranate-0.14.8\n"
     ]
    }
   ],
   "source": [
    "!pip install pomegranate"
   ]
  },
  {
   "cell_type": "code",
   "execution_count": 39,
   "metadata": {
    "colab": {
     "base_uri": "https://localhost:8080/",
     "height": 625
    },
    "executionInfo": {
     "elapsed": 12481,
     "status": "ok",
     "timestamp": 1656502458989,
     "user": {
      "displayName": "Liudas Panavas",
      "userId": "15728615931896683680"
     },
     "user_tz": 240
    },
    "id": "2F1kRaOQPMYg",
    "outputId": "ad3e7ef6-4884-4b90-9572-5035580fbfe5"
   },
   "outputs": [
    {
     "name": "stdout",
     "output_type": "stream",
     "text": [
      "Found existing installation: matplotlib 3.5.2\n",
      "Uninstalling matplotlib-3.5.2:\n",
      "  Would remove:\n",
      "    /usr/local/lib/python3.7/dist-packages/matplotlib-3.5.2-py3.7-nspkg.pth\n",
      "    /usr/local/lib/python3.7/dist-packages/matplotlib-3.5.2.dist-info/*\n",
      "    /usr/local/lib/python3.7/dist-packages/matplotlib/*\n",
      "    /usr/local/lib/python3.7/dist-packages/mpl_toolkits/axes_grid/*\n",
      "    /usr/local/lib/python3.7/dist-packages/mpl_toolkits/axes_grid1/*\n",
      "    /usr/local/lib/python3.7/dist-packages/mpl_toolkits/axisartist/*\n",
      "    /usr/local/lib/python3.7/dist-packages/mpl_toolkits/mplot3d/*\n",
      "    /usr/local/lib/python3.7/dist-packages/mpl_toolkits/tests/*\n",
      "    /usr/local/lib/python3.7/dist-packages/pylab.py\n",
      "Proceed (y/n)? y\n",
      "  Successfully uninstalled matplotlib-3.5.2\n",
      "Looking in indexes: https://pypi.org/simple, https://us-python.pkg.dev/colab-wheels/public/simple/\n",
      "Collecting matplotlib==3.1.3\n",
      "  Downloading matplotlib-3.1.3-cp37-cp37m-manylinux1_x86_64.whl (13.1 MB)\n",
      "\u001b[K     |████████████████████████████████| 13.1 MB 5.3 MB/s \n",
      "\u001b[?25hRequirement already satisfied: pyparsing!=2.0.4,!=2.1.2,!=2.1.6,>=2.0.1 in /usr/local/lib/python3.7/dist-packages (from matplotlib==3.1.3) (3.0.9)\n",
      "Requirement already satisfied: python-dateutil>=2.1 in /usr/local/lib/python3.7/dist-packages (from matplotlib==3.1.3) (2.8.2)\n",
      "Requirement already satisfied: cycler>=0.10 in /usr/local/lib/python3.7/dist-packages (from matplotlib==3.1.3) (0.11.0)\n",
      "Requirement already satisfied: kiwisolver>=1.0.1 in /usr/local/lib/python3.7/dist-packages (from matplotlib==3.1.3) (1.4.3)\n",
      "Requirement already satisfied: numpy>=1.11 in /usr/local/lib/python3.7/dist-packages (from matplotlib==3.1.3) (1.21.6)\n",
      "Requirement already satisfied: typing-extensions in /usr/local/lib/python3.7/dist-packages (from kiwisolver>=1.0.1->matplotlib==3.1.3) (4.1.1)\n",
      "Requirement already satisfied: six>=1.5 in /usr/local/lib/python3.7/dist-packages (from python-dateutil>=2.1->matplotlib==3.1.3) (1.15.0)\n",
      "Installing collected packages: matplotlib\n",
      "\u001b[31mERROR: pip's dependency resolver does not currently take into account all the packages that are installed. This behaviour is the source of the following dependency conflicts.\n",
      "copulas 0.7.0 requires matplotlib<4,>=3.4.0; python_version >= \"3.7\", but you have matplotlib 3.1.3 which is incompatible.\n",
      "albumentations 0.1.12 requires imgaug<0.2.7,>=0.2.5, but you have imgaug 0.2.9 which is incompatible.\u001b[0m\n",
      "Successfully installed matplotlib-3.1.3\n"
     ]
    },
    {
     "data": {
      "application/vnd.colab-display-data+json": {
       "pip_warning": {
        "packages": [
         "matplotlib",
         "mpl_toolkits"
        ]
       }
      }
     },
     "metadata": {},
     "output_type": "display_data"
    }
   ],
   "source": [
    "!pip uninstall matplotlib\n",
    "!pip install matplotlib==3.1.3"
   ]
  },
  {
   "cell_type": "code",
   "execution_count": 25,
   "metadata": {
    "executionInfo": {
     "elapsed": 270,
     "status": "ok",
     "timestamp": 1656500932496,
     "user": {
      "displayName": "Liudas Panavas",
      "userId": "15728615931896683680"
     },
     "user_tz": 240
    },
    "id": "UcHri7n12tuv"
   },
   "outputs": [],
   "source": [
    "def getL2(H, x_hat, bins):\n",
    "  seed = 1\n",
    "  domain = (bins,bins)\n",
    "  shape_list = [(5,5),(10,10)]\n",
    "  size = 5000\n",
    "\n",
    "  w = workload.RandomRange(shape_list=shape_list, \n",
    "                         domain_shape=domain, \n",
    "                         size=size, \n",
    "                         seed=seed)\n",
    "\n",
    "\n",
    "  diff = w.evaluate(H) - w.evaluate(x_hat)\n",
    "  return(old_div(np.linalg.norm(diff,1), float(diff.size)))"
   ]
  },
  {
   "cell_type": "code",
   "execution_count": null,
   "metadata": {},
   "outputs": [],
   "source": [
    "def getMSSIM(H, x_hat):\n",
    "  plt.imshow(H, interpolation='nearest', origin='lower', cmap = 'gray_r', aspect = 'auto',\n",
    "        extent=[xedges[0], xedges[-1], yedges[0], yedges[-1]])\n",
    "  ax = plt.gca()\n",
    "\n",
    "  ax.axes.xaxis.set_ticklabels([])\n",
    "  ax.axes.yaxis.set_ticklabels([])\n",
    "#   Change file location saving point to appropriate location in Google Drive\n",
    "  plt.savefig('./H.png')\n",
    "  \n",
    "\n",
    "  plt.imshow(x_hat, interpolation='nearest', origin='lower', cmap = 'gray_r', aspect = 'auto',\n",
    "        extent=[xedges[0], xedges[-1], yedges[0], yedges[-1]])\n",
    "  ax = plt.gca()\n",
    "\n",
    "  ax.axes.xaxis.set_ticklabels([])\n",
    "  ax.axes.yaxis.set_ticklabels([])\n",
    "#   Change file location saving point to appropriate location in Google Drive\n",
    "  plt.savefig('./x_hat.png')\n",
    "    \n",
    "#   Change file location saving point to appropriate location in Google Drive\n",
    "  img = Image.open('./H.png')\n",
    "  X = np.array(img).astype(np.float32)\n",
    "\n",
    "#   Change file location saving point to appropriate location in Google Drive\n",
    "  img = Image.open('./x_hat.png')\n",
    "  Y = np.array(img).astype(np.float32)\n",
    "  img_torch = torch.from_numpy(X).unsqueeze(0).permute(0, 3, 1, 2)  # 1, C, H, W\n",
    "  img_noise_torch = torch.from_numpy(Y).unsqueeze(0).permute(0, 3, 1, 2)\n",
    "  msssim_torch = ms_ssim(img_noise_torch, img_torch, win_size=11, data_range=255)\n",
    "\n",
    "  val = msssim_torch.item()\n",
    "  os.remove('./H.png')\n",
    "  os.remove('./x_hat.png')\n",
    "\n",
    "  return val"
   ]
  },
  {
   "cell_type": "code",
   "execution_count": 40,
   "metadata": {
    "colab": {
     "base_uri": "https://localhost:8080/",
     "height": 1000
    },
    "executionInfo": {
     "elapsed": 759479,
     "status": "ok",
     "timestamp": 1656503221179,
     "user": {
      "displayName": "Liudas Panavas",
      "userId": "15728615931896683680"
     },
     "user_tz": 240
    },
    "id": "lg_vemnH4H-H",
    "outputId": "b6be9d3a-5306-4c22-c9b4-4f0ac128f849"
   },
   "outputs": [
    {
     "name": "stderr",
     "output_type": "stream",
     "text": [
      "/content/dpcomp_core/dpcomp_core/query_nd_union.py:95: FutureWarning: Using a non-tuple sequence for multidimensional indexing is deprecated; use `arr[tuple(seq)]` instead of `arr[seq]`. In the future this will be interpreted as an array index, `arr[np.array(seq)]`, which will result either in an error or a different result.\n",
      "  array[ndRangeUnion.slice(r)] += r.wgt\n",
      "/usr/local/lib/python3.7/dist-packages/diffprivlib/tools/histograms.py:229: PrivacyLeakWarning: Range parameter has not been specified (or has missing elements). Falling back to taking range from the data.\n",
      " To ensure differential privacy, and no additional privacy leakage, the range must be specified for each dimension independently of the data (i.e., using domain knowledge).\n",
      "  PrivacyLeakWarning)\n",
      "/usr/local/lib/python3.7/dist-packages/diffprivlib/tools/histograms.py:229: PrivacyLeakWarning: Range parameter has not been specified (or has missing elements). Falling back to taking range from the data.\n",
      " To ensure differential privacy, and no additional privacy leakage, the range must be specified for each dimension independently of the data (i.e., using domain knowledge).\n",
      "  PrivacyLeakWarning)\n",
      "/usr/local/lib/python3.7/dist-packages/diffprivlib/tools/histograms.py:229: PrivacyLeakWarning: Range parameter has not been specified (or has missing elements). Falling back to taking range from the data.\n",
      " To ensure differential privacy, and no additional privacy leakage, the range must be specified for each dimension independently of the data (i.e., using domain knowledge).\n",
      "  PrivacyLeakWarning)\n",
      "/usr/local/lib/python3.7/dist-packages/diffprivlib/tools/histograms.py:229: PrivacyLeakWarning: Range parameter has not been specified (or has missing elements). Falling back to taking range from the data.\n",
      " To ensure differential privacy, and no additional privacy leakage, the range must be specified for each dimension independently of the data (i.e., using domain knowledge).\n",
      "  PrivacyLeakWarning)\n",
      "/usr/local/lib/python3.7/dist-packages/diffprivlib/tools/histograms.py:229: PrivacyLeakWarning: Range parameter has not been specified (or has missing elements). Falling back to taking range from the data.\n",
      " To ensure differential privacy, and no additional privacy leakage, the range must be specified for each dimension independently of the data (i.e., using domain knowledge).\n",
      "  PrivacyLeakWarning)\n",
      "/usr/local/lib/python3.7/dist-packages/diffprivlib/tools/histograms.py:229: PrivacyLeakWarning: Range parameter has not been specified (or has missing elements). Falling back to taking range from the data.\n",
      " To ensure differential privacy, and no additional privacy leakage, the range must be specified for each dimension independently of the data (i.e., using domain knowledge).\n",
      "  PrivacyLeakWarning)\n",
      "/usr/local/lib/python3.7/dist-packages/diffprivlib/tools/histograms.py:229: PrivacyLeakWarning: Range parameter has not been specified (or has missing elements). Falling back to taking range from the data.\n",
      " To ensure differential privacy, and no additional privacy leakage, the range must be specified for each dimension independently of the data (i.e., using domain knowledge).\n",
      "  PrivacyLeakWarning)\n",
      "/usr/local/lib/python3.7/dist-packages/diffprivlib/tools/histograms.py:229: PrivacyLeakWarning: Range parameter has not been specified (or has missing elements). Falling back to taking range from the data.\n",
      " To ensure differential privacy, and no additional privacy leakage, the range must be specified for each dimension independently of the data (i.e., using domain knowledge).\n",
      "  PrivacyLeakWarning)\n",
      "/usr/local/lib/python3.7/dist-packages/diffprivlib/tools/histograms.py:229: PrivacyLeakWarning: Range parameter has not been specified (or has missing elements). Falling back to taking range from the data.\n",
      " To ensure differential privacy, and no additional privacy leakage, the range must be specified for each dimension independently of the data (i.e., using domain knowledge).\n",
      "  PrivacyLeakWarning)\n",
      "/usr/local/lib/python3.7/dist-packages/diffprivlib/tools/histograms.py:229: PrivacyLeakWarning: Range parameter has not been specified (or has missing elements). Falling back to taking range from the data.\n",
      " To ensure differential privacy, and no additional privacy leakage, the range must be specified for each dimension independently of the data (i.e., using domain knowledge).\n",
      "  PrivacyLeakWarning)\n",
      "/usr/local/lib/python3.7/dist-packages/diffprivlib/tools/histograms.py:229: PrivacyLeakWarning: Range parameter has not been specified (or has missing elements). Falling back to taking range from the data.\n",
      " To ensure differential privacy, and no additional privacy leakage, the range must be specified for each dimension independently of the data (i.e., using domain knowledge).\n",
      "  PrivacyLeakWarning)\n",
      "/usr/local/lib/python3.7/dist-packages/diffprivlib/tools/histograms.py:229: PrivacyLeakWarning: Range parameter has not been specified (or has missing elements). Falling back to taking range from the data.\n",
      " To ensure differential privacy, and no additional privacy leakage, the range must be specified for each dimension independently of the data (i.e., using domain knowledge).\n",
      "  PrivacyLeakWarning)\n",
      "/usr/local/lib/python3.7/dist-packages/diffprivlib/tools/histograms.py:229: PrivacyLeakWarning: Range parameter has not been specified (or has missing elements). Falling back to taking range from the data.\n",
      " To ensure differential privacy, and no additional privacy leakage, the range must be specified for each dimension independently of the data (i.e., using domain knowledge).\n",
      "  PrivacyLeakWarning)\n",
      "/usr/local/lib/python3.7/dist-packages/diffprivlib/tools/histograms.py:229: PrivacyLeakWarning: Range parameter has not been specified (or has missing elements). Falling back to taking range from the data.\n",
      " To ensure differential privacy, and no additional privacy leakage, the range must be specified for each dimension independently of the data (i.e., using domain knowledge).\n",
      "  PrivacyLeakWarning)\n",
      "/usr/local/lib/python3.7/dist-packages/diffprivlib/tools/histograms.py:229: PrivacyLeakWarning: Range parameter has not been specified (or has missing elements). Falling back to taking range from the data.\n",
      " To ensure differential privacy, and no additional privacy leakage, the range must be specified for each dimension independently of the data (i.e., using domain knowledge).\n",
      "  PrivacyLeakWarning)\n",
      "/usr/local/lib/python3.7/dist-packages/diffprivlib/tools/histograms.py:229: PrivacyLeakWarning: Range parameter has not been specified (or has missing elements). Falling back to taking range from the data.\n",
      " To ensure differential privacy, and no additional privacy leakage, the range must be specified for each dimension independently of the data (i.e., using domain knowledge).\n",
      "  PrivacyLeakWarning)\n",
      "/usr/local/lib/python3.7/dist-packages/diffprivlib/tools/histograms.py:229: PrivacyLeakWarning: Range parameter has not been specified (or has missing elements). Falling back to taking range from the data.\n",
      " To ensure differential privacy, and no additional privacy leakage, the range must be specified for each dimension independently of the data (i.e., using domain knowledge).\n",
      "  PrivacyLeakWarning)\n",
      "/usr/local/lib/python3.7/dist-packages/diffprivlib/tools/histograms.py:229: PrivacyLeakWarning: Range parameter has not been specified (or has missing elements). Falling back to taking range from the data.\n",
      " To ensure differential privacy, and no additional privacy leakage, the range must be specified for each dimension independently of the data (i.e., using domain knowledge).\n",
      "  PrivacyLeakWarning)\n",
      "/usr/local/lib/python3.7/dist-packages/diffprivlib/tools/histograms.py:229: PrivacyLeakWarning: Range parameter has not been specified (or has missing elements). Falling back to taking range from the data.\n",
      " To ensure differential privacy, and no additional privacy leakage, the range must be specified for each dimension independently of the data (i.e., using domain knowledge).\n",
      "  PrivacyLeakWarning)\n",
      "/usr/local/lib/python3.7/dist-packages/diffprivlib/tools/histograms.py:229: PrivacyLeakWarning: Range parameter has not been specified (or has missing elements). Falling back to taking range from the data.\n",
      " To ensure differential privacy, and no additional privacy leakage, the range must be specified for each dimension independently of the data (i.e., using domain knowledge).\n",
      "  PrivacyLeakWarning)\n",
      "/usr/local/lib/python3.7/dist-packages/diffprivlib/tools/histograms.py:229: PrivacyLeakWarning: Range parameter has not been specified (or has missing elements). Falling back to taking range from the data.\n",
      " To ensure differential privacy, and no additional privacy leakage, the range must be specified for each dimension independently of the data (i.e., using domain knowledge).\n",
      "  PrivacyLeakWarning)\n",
      "/usr/local/lib/python3.7/dist-packages/diffprivlib/tools/histograms.py:229: PrivacyLeakWarning: Range parameter has not been specified (or has missing elements). Falling back to taking range from the data.\n",
      " To ensure differential privacy, and no additional privacy leakage, the range must be specified for each dimension independently of the data (i.e., using domain knowledge).\n",
      "  PrivacyLeakWarning)\n",
      "/usr/local/lib/python3.7/dist-packages/diffprivlib/tools/histograms.py:229: PrivacyLeakWarning: Range parameter has not been specified (or has missing elements). Falling back to taking range from the data.\n",
      " To ensure differential privacy, and no additional privacy leakage, the range must be specified for each dimension independently of the data (i.e., using domain knowledge).\n",
      "  PrivacyLeakWarning)\n",
      "/usr/local/lib/python3.7/dist-packages/diffprivlib/tools/histograms.py:229: PrivacyLeakWarning: Range parameter has not been specified (or has missing elements). Falling back to taking range from the data.\n",
      " To ensure differential privacy, and no additional privacy leakage, the range must be specified for each dimension independently of the data (i.e., using domain knowledge).\n",
      "  PrivacyLeakWarning)\n",
      "/usr/local/lib/python3.7/dist-packages/diffprivlib/tools/histograms.py:229: PrivacyLeakWarning: Range parameter has not been specified (or has missing elements). Falling back to taking range from the data.\n",
      " To ensure differential privacy, and no additional privacy leakage, the range must be specified for each dimension independently of the data (i.e., using domain knowledge).\n",
      "  PrivacyLeakWarning)\n",
      "/usr/local/lib/python3.7/dist-packages/diffprivlib/tools/histograms.py:229: PrivacyLeakWarning: Range parameter has not been specified (or has missing elements). Falling back to taking range from the data.\n",
      " To ensure differential privacy, and no additional privacy leakage, the range must be specified for each dimension independently of the data (i.e., using domain knowledge).\n",
      "  PrivacyLeakWarning)\n",
      "/usr/local/lib/python3.7/dist-packages/diffprivlib/tools/histograms.py:229: PrivacyLeakWarning: Range parameter has not been specified (or has missing elements). Falling back to taking range from the data.\n",
      " To ensure differential privacy, and no additional privacy leakage, the range must be specified for each dimension independently of the data (i.e., using domain knowledge).\n",
      "  PrivacyLeakWarning)\n",
      "/usr/local/lib/python3.7/dist-packages/diffprivlib/tools/histograms.py:229: PrivacyLeakWarning: Range parameter has not been specified (or has missing elements). Falling back to taking range from the data.\n",
      " To ensure differential privacy, and no additional privacy leakage, the range must be specified for each dimension independently of the data (i.e., using domain knowledge).\n",
      "  PrivacyLeakWarning)\n",
      "/usr/local/lib/python3.7/dist-packages/diffprivlib/tools/histograms.py:229: PrivacyLeakWarning: Range parameter has not been specified (or has missing elements). Falling back to taking range from the data.\n",
      " To ensure differential privacy, and no additional privacy leakage, the range must be specified for each dimension independently of the data (i.e., using domain knowledge).\n",
      "  PrivacyLeakWarning)\n",
      "/usr/local/lib/python3.7/dist-packages/diffprivlib/tools/histograms.py:229: PrivacyLeakWarning: Range parameter has not been specified (or has missing elements). Falling back to taking range from the data.\n",
      " To ensure differential privacy, and no additional privacy leakage, the range must be specified for each dimension independently of the data (i.e., using domain knowledge).\n",
      "  PrivacyLeakWarning)\n",
      "/usr/local/lib/python3.7/dist-packages/diffprivlib/tools/histograms.py:229: PrivacyLeakWarning: Range parameter has not been specified (or has missing elements). Falling back to taking range from the data.\n",
      " To ensure differential privacy, and no additional privacy leakage, the range must be specified for each dimension independently of the data (i.e., using domain knowledge).\n",
      "  PrivacyLeakWarning)\n",
      "/usr/local/lib/python3.7/dist-packages/diffprivlib/tools/histograms.py:229: PrivacyLeakWarning: Range parameter has not been specified (or has missing elements). Falling back to taking range from the data.\n",
      " To ensure differential privacy, and no additional privacy leakage, the range must be specified for each dimension independently of the data (i.e., using domain knowledge).\n",
      "  PrivacyLeakWarning)\n",
      "/usr/local/lib/python3.7/dist-packages/diffprivlib/tools/histograms.py:229: PrivacyLeakWarning: Range parameter has not been specified (or has missing elements). Falling back to taking range from the data.\n",
      " To ensure differential privacy, and no additional privacy leakage, the range must be specified for each dimension independently of the data (i.e., using domain knowledge).\n",
      "  PrivacyLeakWarning)\n",
      "/usr/local/lib/python3.7/dist-packages/diffprivlib/tools/histograms.py:229: PrivacyLeakWarning: Range parameter has not been specified (or has missing elements). Falling back to taking range from the data.\n",
      " To ensure differential privacy, and no additional privacy leakage, the range must be specified for each dimension independently of the data (i.e., using domain knowledge).\n",
      "  PrivacyLeakWarning)\n",
      "/usr/local/lib/python3.7/dist-packages/diffprivlib/tools/histograms.py:229: PrivacyLeakWarning: Range parameter has not been specified (or has missing elements). Falling back to taking range from the data.\n",
      " To ensure differential privacy, and no additional privacy leakage, the range must be specified for each dimension independently of the data (i.e., using domain knowledge).\n",
      "  PrivacyLeakWarning)\n",
      "/usr/local/lib/python3.7/dist-packages/diffprivlib/tools/histograms.py:229: PrivacyLeakWarning: Range parameter has not been specified (or has missing elements). Falling back to taking range from the data.\n",
      " To ensure differential privacy, and no additional privacy leakage, the range must be specified for each dimension independently of the data (i.e., using domain knowledge).\n",
      "  PrivacyLeakWarning)\n",
      "/usr/local/lib/python3.7/dist-packages/diffprivlib/tools/histograms.py:229: PrivacyLeakWarning: Range parameter has not been specified (or has missing elements). Falling back to taking range from the data.\n",
      " To ensure differential privacy, and no additional privacy leakage, the range must be specified for each dimension independently of the data (i.e., using domain knowledge).\n",
      "  PrivacyLeakWarning)\n",
      "/usr/local/lib/python3.7/dist-packages/diffprivlib/tools/histograms.py:229: PrivacyLeakWarning: Range parameter has not been specified (or has missing elements). Falling back to taking range from the data.\n",
      " To ensure differential privacy, and no additional privacy leakage, the range must be specified for each dimension independently of the data (i.e., using domain knowledge).\n",
      "  PrivacyLeakWarning)\n",
      "/usr/local/lib/python3.7/dist-packages/diffprivlib/tools/histograms.py:229: PrivacyLeakWarning: Range parameter has not been specified (or has missing elements). Falling back to taking range from the data.\n",
      " To ensure differential privacy, and no additional privacy leakage, the range must be specified for each dimension independently of the data (i.e., using domain knowledge).\n",
      "  PrivacyLeakWarning)\n",
      "/usr/local/lib/python3.7/dist-packages/diffprivlib/tools/histograms.py:229: PrivacyLeakWarning: Range parameter has not been specified (or has missing elements). Falling back to taking range from the data.\n",
      " To ensure differential privacy, and no additional privacy leakage, the range must be specified for each dimension independently of the data (i.e., using domain knowledge).\n",
      "  PrivacyLeakWarning)\n",
      "/usr/local/lib/python3.7/dist-packages/diffprivlib/tools/histograms.py:229: PrivacyLeakWarning: Range parameter has not been specified (or has missing elements). Falling back to taking range from the data.\n",
      " To ensure differential privacy, and no additional privacy leakage, the range must be specified for each dimension independently of the data (i.e., using domain knowledge).\n",
      "  PrivacyLeakWarning)\n",
      "/usr/local/lib/python3.7/dist-packages/diffprivlib/tools/histograms.py:229: PrivacyLeakWarning: Range parameter has not been specified (or has missing elements). Falling back to taking range from the data.\n",
      " To ensure differential privacy, and no additional privacy leakage, the range must be specified for each dimension independently of the data (i.e., using domain knowledge).\n",
      "  PrivacyLeakWarning)\n",
      "/usr/local/lib/python3.7/dist-packages/diffprivlib/tools/histograms.py:229: PrivacyLeakWarning: Range parameter has not been specified (or has missing elements). Falling back to taking range from the data.\n",
      " To ensure differential privacy, and no additional privacy leakage, the range must be specified for each dimension independently of the data (i.e., using domain knowledge).\n",
      "  PrivacyLeakWarning)\n",
      "/usr/local/lib/python3.7/dist-packages/diffprivlib/tools/histograms.py:229: PrivacyLeakWarning: Range parameter has not been specified (or has missing elements). Falling back to taking range from the data.\n",
      " To ensure differential privacy, and no additional privacy leakage, the range must be specified for each dimension independently of the data (i.e., using domain knowledge).\n",
      "  PrivacyLeakWarning)\n",
      "/usr/local/lib/python3.7/dist-packages/diffprivlib/tools/histograms.py:229: PrivacyLeakWarning: Range parameter has not been specified (or has missing elements). Falling back to taking range from the data.\n",
      " To ensure differential privacy, and no additional privacy leakage, the range must be specified for each dimension independently of the data (i.e., using domain knowledge).\n",
      "  PrivacyLeakWarning)\n",
      "/usr/local/lib/python3.7/dist-packages/diffprivlib/tools/histograms.py:229: PrivacyLeakWarning: Range parameter has not been specified (or has missing elements). Falling back to taking range from the data.\n",
      " To ensure differential privacy, and no additional privacy leakage, the range must be specified for each dimension independently of the data (i.e., using domain knowledge).\n",
      "  PrivacyLeakWarning)\n",
      "/usr/local/lib/python3.7/dist-packages/diffprivlib/tools/histograms.py:229: PrivacyLeakWarning: Range parameter has not been specified (or has missing elements). Falling back to taking range from the data.\n",
      " To ensure differential privacy, and no additional privacy leakage, the range must be specified for each dimension independently of the data (i.e., using domain knowledge).\n",
      "  PrivacyLeakWarning)\n",
      "/usr/local/lib/python3.7/dist-packages/diffprivlib/tools/histograms.py:229: PrivacyLeakWarning: Range parameter has not been specified (or has missing elements). Falling back to taking range from the data.\n",
      " To ensure differential privacy, and no additional privacy leakage, the range must be specified for each dimension independently of the data (i.e., using domain knowledge).\n",
      "  PrivacyLeakWarning)\n"
     ]
    },
    {
     "data": {
      "image/png": "[encoded data removed]",
      "text/plain": [
       "<Figure size 432x288 with 1 Axes>"
      ]
     },
     "metadata": {
      "needs_background": "light"
     },
     "output_type": "display_data"
    }
   ],
   "source": [
    "l2Df = pd.DataFrame(columns = ['Random Query'])\n",
    "MSSIM =  pd.DataFrame(columns = ['MSSIM'])\n",
    "# EarthMovers = pd.DataFrame(colums = ['EarthMovers'])\n",
    "\n",
    "from subprocess import run\n",
    "\n",
    "#   upload pilotData folder and change to appropriate location in Google Drive\n",
    "directory = './pilotData'\n",
    "\n",
    "for filename in os.scandir(directory):\n",
    "    if filename.is_file():\n",
    "        \n",
    "        # df = pd.read_csv(filename.path)\n",
    "        for key, value in chartDictionary.items():\n",
    "          if ('/'+key+'.csv') in (filename.path):\n",
    "\n",
    "            df = pd.read_csv(filename.path)\n",
    "      \n",
    "\n",
    "            for v in value:\n",
    "\n",
    "              for e in epsilons:\n",
    "                for b in bins:\n",
    "                  H, xedges, yedges = np.histogram2d(df['x'], df['y'], bins = b)\n",
    "                  for a in algorithms:\n",
    "                    if a == 'DAWA':\n",
    "                      dawaPrivate = runDAWA(df, b,e)\n",
    "              \n",
    "                      name = key +'_' + a + '_' + v + '_' + str(e) + '_' + str(b)\n",
    "                      l2Df.loc[name] = [getL2(H, dawaPrivate, b)]\n",
    "                      MSSIM.loc[name] = [getMSSIM(H, dawaPrivate)]\n",
    "                     \n",
    "\n",
    "\n",
    "                    if a == 'AHP':\n",
    "                      ahpPrivate = runAHP(df,b,e)\n",
    "\n",
    "                      name = key +'_' + a + '_' + v + '_' + str(e) + '_' + str(b)\n",
    "                      l2Df.loc[name] = [getL2(H, ahpPrivate, b)]\n",
    "                      MSSIM.loc[name] = [getMSSIM(H, ahpPrivate)]\n",
    "                     \n",
    "\n",
    "                    if a == \"AGrid\":\n",
    "                      aGridPrivate = runAGrid(df,b,e)\n",
    "          \n",
    "                      name = key +'_' + a + '_' + v + '_' + str(e) + '_' + str(b)\n",
    "                      l2Df.loc[name] = [getL2(H, aGridPrivate, b)]\n",
    "                      MSSIM.loc[name] = [getMSSIM(H, aGridPrivate)]\n",
    "\n",
    "                    if a == \"Geometric\":\n",
    "                      geoPrivate = runGeoTruncated(df,b,e)\n",
    "                   \n",
    "                      name = key +'_' + a + '_' + v + '_' + str(e) + '_' + str(b)\n",
    "                      l2Df.loc[name] = [getL2(H, geoPrivate, b)]\n",
    "                      MSSIM.loc[name] = [getMSSIM(H, geoPrivate)]\n",
    "                     \n",
    "                    if a == 'Laplace':\n",
    "                      laplacePrivate = runLaplace(df,b,e)\n",
    "                    \n",
    "                      name = key +'_' + a + '_' + v + '_' + str(e) + '_' + str(b)\n",
    "                      l2Df.loc[name] = [getL2(H, laplacePrivate, b)]\n",
    "                      MSSIM.loc[name] = [getMSSIM(H, laplacePrivate)]\n",
    "              \n"
   ]
  },
  {
   "cell_type": "code",
   "execution_count": 41,
   "metadata": {
    "executionInfo": {
     "elapsed": 121,
     "status": "ok",
     "timestamp": 1656503260013,
     "user": {
      "displayName": "Liudas Panavas",
      "userId": "15728615931896683680"
     },
     "user_tz": 240
    },
    "id": "8p4NThQ67dos"
   },
   "outputs": [],
   "source": [
    "l2Series = l2Df.squeeze()\n",
    "MSSIMSeries = MSSIM.squeeze()\n"
   ]
  },
  {
   "cell_type": "code",
   "execution_count": 43,
   "metadata": {
    "colab": {
     "base_uri": "https://localhost:8080/",
     "height": 624
    },
    "executionInfo": {
     "elapsed": 1032,
     "status": "ok",
     "timestamp": 1656503273026,
     "user": {
      "displayName": "Liudas Panavas",
      "userId": "15728615931896683680"
     },
     "user_tz": 240
    },
    "id": "cKZZfWU347op",
    "outputId": "71bd2dc2-bae9-4e7f-b381-1f26cf18fac2"
   },
   "outputs": [
    {
     "ename": "AttributeError",
     "evalue": "ignored",
     "output_type": "error",
     "traceback": [
      "\u001b[0;31m---------------------------------------------------------------------------\u001b[0m",
      "\u001b[0;31mAttributeError\u001b[0m                            Traceback (most recent call last)",
      "\u001b[0;32m/usr/local/lib/python3.7/dist-packages/IPython/core/formatters.py\u001b[0m in \u001b[0;36m__call__\u001b[0;34m(self, obj)\u001b[0m\n\u001b[1;32m    332\u001b[0m                 \u001b[0;32mpass\u001b[0m\u001b[0;34m\u001b[0m\u001b[0;34m\u001b[0m\u001b[0m\n\u001b[1;32m    333\u001b[0m             \u001b[0;32melse\u001b[0m\u001b[0;34m:\u001b[0m\u001b[0;34m\u001b[0m\u001b[0;34m\u001b[0m\u001b[0m\n\u001b[0;32m--> 334\u001b[0;31m                 \u001b[0;32mreturn\u001b[0m \u001b[0mprinter\u001b[0m\u001b[0;34m(\u001b[0m\u001b[0mobj\u001b[0m\u001b[0;34m)\u001b[0m\u001b[0;34m\u001b[0m\u001b[0;34m\u001b[0m\u001b[0m\n\u001b[0m\u001b[1;32m    335\u001b[0m             \u001b[0;31m# Finally look for special method names\u001b[0m\u001b[0;34m\u001b[0m\u001b[0;34m\u001b[0m\u001b[0;34m\u001b[0m\u001b[0m\n\u001b[1;32m    336\u001b[0m             \u001b[0mmethod\u001b[0m \u001b[0;34m=\u001b[0m \u001b[0mget_real_method\u001b[0m\u001b[0;34m(\u001b[0m\u001b[0mobj\u001b[0m\u001b[0;34m,\u001b[0m \u001b[0mself\u001b[0m\u001b[0;34m.\u001b[0m\u001b[0mprint_method\u001b[0m\u001b[0;34m)\u001b[0m\u001b[0;34m\u001b[0m\u001b[0;34m\u001b[0m\u001b[0m\n",
      "\u001b[0;32m/usr/local/lib/python3.7/dist-packages/google/colab/_interactive_table_hint_button.py\u001b[0m in \u001b[0;36m_df_formatter_with_interactive_hint\u001b[0;34m(dataframe)\u001b[0m\n\u001b[1;32m    102\u001b[0m     _output_callbacks[convert_func] = _output.register_callback(\n\u001b[1;32m    103\u001b[0m         convert_func, _convert_to_interactive)\n\u001b[0;32m--> 104\u001b[0;31m   \u001b[0;32mreturn\u001b[0m \u001b[0m_get_html\u001b[0m\u001b[0;34m(\u001b[0m\u001b[0mdataframe\u001b[0m\u001b[0;34m,\u001b[0m \u001b[0mkey\u001b[0m\u001b[0;34m)\u001b[0m\u001b[0;34m\u001b[0m\u001b[0;34m\u001b[0m\u001b[0m\n\u001b[0m\u001b[1;32m    105\u001b[0m \u001b[0;34m\u001b[0m\u001b[0m\n\u001b[1;32m    106\u001b[0m \u001b[0;34m\u001b[0m\u001b[0m\n",
      "\u001b[0;32m/usr/local/lib/python3.7/dist-packages/google/colab/_interactive_table_hint_button.py\u001b[0m in \u001b[0;36m_get_html\u001b[0;34m(dataframe, key)\u001b[0m\n\u001b[1;32m    146\u001b[0m       \u001b[0mcss\u001b[0m\u001b[0;34m=\u001b[0m\u001b[0m_HINT_BUTTON_CSS\u001b[0m\u001b[0;34m,\u001b[0m\u001b[0;34m\u001b[0m\u001b[0;34m\u001b[0m\u001b[0m\n\u001b[1;32m    147\u001b[0m       \u001b[0mdata_table_url\u001b[0m\u001b[0;34m=\u001b[0m\u001b[0m_data_table\u001b[0m\u001b[0;34m.\u001b[0m\u001b[0m_DATA_TABLE_HELP_URL\u001b[0m\u001b[0;34m,\u001b[0m\u001b[0;34m\u001b[0m\u001b[0;34m\u001b[0m\u001b[0m\n\u001b[0;32m--> 148\u001b[0;31m       \u001b[0mdf_html\u001b[0m\u001b[0;34m=\u001b[0m\u001b[0mdataframe\u001b[0m\u001b[0;34m.\u001b[0m\u001b[0m_repr_html_\u001b[0m\u001b[0;34m(\u001b[0m\u001b[0;34m)\u001b[0m\u001b[0;34m,\u001b[0m\u001b[0;34m\u001b[0m\u001b[0;34m\u001b[0m\u001b[0m\n\u001b[0m\u001b[1;32m    149\u001b[0m       \u001b[0micon\u001b[0m\u001b[0;34m=\u001b[0m\u001b[0m_ICON_SVG\u001b[0m\u001b[0;34m,\u001b[0m\u001b[0;34m\u001b[0m\u001b[0;34m\u001b[0m\u001b[0m\n\u001b[1;32m    150\u001b[0m       \u001b[0mkey\u001b[0m\u001b[0;34m=\u001b[0m\u001b[0mkey\u001b[0m\u001b[0;34m,\u001b[0m\u001b[0;34m\u001b[0m\u001b[0;34m\u001b[0m\u001b[0m\n",
      "\u001b[0;32m/usr/local/lib/python3.7/dist-packages/pandas/core/frame.py\u001b[0m in \u001b[0;36m_repr_html_\u001b[0;34m(self)\u001b[0m\n\u001b[1;32m    796\u001b[0m \u001b[0;34m\u001b[0m\u001b[0m\n\u001b[1;32m    797\u001b[0m     \u001b[0;34m@\u001b[0m\u001b[0mproperty\u001b[0m\u001b[0;34m\u001b[0m\u001b[0;34m\u001b[0m\u001b[0m\n\u001b[0;32m--> 798\u001b[0;31m     \u001b[0;32mdef\u001b[0m \u001b[0mshape\u001b[0m\u001b[0;34m(\u001b[0m\u001b[0mself\u001b[0m\u001b[0;34m)\u001b[0m \u001b[0;34m->\u001b[0m \u001b[0mtuple\u001b[0m\u001b[0;34m[\u001b[0m\u001b[0mint\u001b[0m\u001b[0;34m,\u001b[0m \u001b[0mint\u001b[0m\u001b[0;34m]\u001b[0m\u001b[0;34m:\u001b[0m\u001b[0;34m\u001b[0m\u001b[0;34m\u001b[0m\u001b[0m\n\u001b[0m\u001b[1;32m    799\u001b[0m         \"\"\"\n\u001b[1;32m    800\u001b[0m         \u001b[0mReturn\u001b[0m \u001b[0ma\u001b[0m \u001b[0mtuple\u001b[0m \u001b[0mrepresenting\u001b[0m \u001b[0mthe\u001b[0m \u001b[0mdimensionality\u001b[0m \u001b[0mof\u001b[0m \u001b[0mthe\u001b[0m \u001b[0mDataFrame\u001b[0m\u001b[0;34m.\u001b[0m\u001b[0;34m\u001b[0m\u001b[0;34m\u001b[0m\u001b[0m\n",
      "\u001b[0;32m/usr/local/lib/python3.7/dist-packages/pandas/io/formats/format.py\u001b[0m in \u001b[0;36mto_html\u001b[0;34m(self, buf, encoding, classes, notebook, border)\u001b[0m\n\u001b[1;32m    986\u001b[0m         \u001b[0mencoding\u001b[0m\u001b[0;34m:\u001b[0m \u001b[0mstr\u001b[0m \u001b[0;34m|\u001b[0m \u001b[0;32mNone\u001b[0m \u001b[0;34m=\u001b[0m \u001b[0;32mNone\u001b[0m\u001b[0;34m,\u001b[0m\u001b[0;34m\u001b[0m\u001b[0;34m\u001b[0m\u001b[0m\n\u001b[1;32m    987\u001b[0m         \u001b[0mclasses\u001b[0m\u001b[0;34m:\u001b[0m \u001b[0mstr\u001b[0m \u001b[0;34m|\u001b[0m \u001b[0mlist\u001b[0m \u001b[0;34m|\u001b[0m \u001b[0mtuple\u001b[0m \u001b[0;34m|\u001b[0m \u001b[0;32mNone\u001b[0m \u001b[0;34m=\u001b[0m \u001b[0;32mNone\u001b[0m\u001b[0;34m,\u001b[0m\u001b[0;34m\u001b[0m\u001b[0;34m\u001b[0m\u001b[0m\n\u001b[0;32m--> 988\u001b[0;31m         \u001b[0mnotebook\u001b[0m\u001b[0;34m:\u001b[0m \u001b[0mbool\u001b[0m \u001b[0;34m=\u001b[0m \u001b[0;32mFalse\u001b[0m\u001b[0;34m,\u001b[0m\u001b[0;34m\u001b[0m\u001b[0;34m\u001b[0m\u001b[0m\n\u001b[0m\u001b[1;32m    989\u001b[0m         \u001b[0mborder\u001b[0m\u001b[0;34m:\u001b[0m \u001b[0mint\u001b[0m \u001b[0;34m|\u001b[0m \u001b[0;32mNone\u001b[0m \u001b[0;34m=\u001b[0m \u001b[0;32mNone\u001b[0m\u001b[0;34m,\u001b[0m\u001b[0;34m\u001b[0m\u001b[0;34m\u001b[0m\u001b[0m\n\u001b[1;32m    990\u001b[0m         \u001b[0mtable_id\u001b[0m\u001b[0;34m:\u001b[0m \u001b[0mstr\u001b[0m \u001b[0;34m|\u001b[0m \u001b[0;32mNone\u001b[0m \u001b[0;34m=\u001b[0m \u001b[0;32mNone\u001b[0m\u001b[0;34m,\u001b[0m\u001b[0;34m\u001b[0m\u001b[0;34m\u001b[0m\u001b[0m\n",
      "\u001b[0;31mAttributeError\u001b[0m: 'NotebookFormatter' object has no attribute 'get_result'"
     ]
    },
    {
     "data": {
      "text/plain": [
       "                                 0  1  2\n",
       "0_Geometric_distribution_0.1_64  2  0  1\n",
       "0_Geometric_correlation_0.5_32   3  3  3\n",
       "3_AGrid_distribution_0.01_64     0  0  0\n",
       "3_Laplace_clusters_0.1_32        1  1  2\n",
       "2_Geometric_distribution_0.5_32  3  3  2\n",
       "...                             .. .. ..\n",
       "0_AHP_distribution_0.5_32        3  1  3\n",
       "3_AHP_distribution_0.1_64        0  0  0\n",
       "0_Laplace_distribution_0.05_32   1  0  2\n",
       "0_DAWA_correlation_0.01_64       0  1  1\n",
       "9_AHP_distribution_0.5_64        2  2  2\n",
       "\n",
       "[240 rows x 3 columns]"
      ]
     },
     "execution_count": 43,
     "metadata": {},
     "output_type": "execute_result"
    }
   ],
   "source": [
    "import pandas as pd\n",
    "import os\n",
    "import json\n",
    "# assign directory\n",
    "directory = './pilotResults'\n",
    " \n",
    "# iterate over files in\n",
    "# that directory\n",
    "answerDict = {}\n",
    "for filename in os.listdir(directory):\n",
    "    f = os.path.join(directory, filename)\n",
    "    # checking if it is a file\n",
    "    if os.path.isfile(f):\n",
    "      # print(f)\n",
    "        file=open(f)\n",
    "        data=json.load(file)\n",
    "        for d in data['answers']:\n",
    "          if d[0] in answerDict:\n",
    "            answerDict[d[0]].append(d[1])\n",
    "          else:\n",
    "            answerDict[d[0]] = [d[1]]\n",
    "\n",
    "answerDataFrame = pd.DataFrame.from_dict(answerDict)\n",
    "answerDataFrame = answerDataFrame.T\n",
    "answerDataFrame"
   ]
  },
  {
   "cell_type": "code",
   "execution_count": 44,
   "metadata": {
    "executionInfo": {
     "elapsed": 107,
     "status": "ok",
     "timestamp": 1656503279147,
     "user": {
      "displayName": "Liudas Panavas",
      "userId": "15728615931896683680"
     },
     "user_tz": 240
    },
    "id": "9b_4gkcE4-_f"
   },
   "outputs": [],
   "source": [
    "import statistics\n",
    "medianArray = []\n",
    "for index, row in answerDataFrame.iterrows():\n",
    "    medianArray.append( statistics.median([row[0], row[1], row[2]]))\n",
    "\n",
    "answerDataFrame['totalRating'] = medianArray"
   ]
  },
  {
   "cell_type": "code",
   "execution_count": 45,
   "metadata": {
    "colab": {
     "base_uri": "https://localhost:8080/",
     "height": 624
    },
    "executionInfo": {
     "elapsed": 160,
     "status": "ok",
     "timestamp": 1656503281358,
     "user": {
      "displayName": "Liudas Panavas",
      "userId": "15728615931896683680"
     },
     "user_tz": 240
    },
    "id": "7apBgAkU58dn",
    "outputId": "9b3a2b4a-5d80-4862-d447-f3cbfcfbd068"
   },
   "outputs": [
    {
     "ename": "AttributeError",
     "evalue": "ignored",
     "output_type": "error",
     "traceback": [
      "\u001b[0;31m---------------------------------------------------------------------------\u001b[0m",
      "\u001b[0;31mAttributeError\u001b[0m                            Traceback (most recent call last)",
      "\u001b[0;32m/usr/local/lib/python3.7/dist-packages/IPython/core/formatters.py\u001b[0m in \u001b[0;36m__call__\u001b[0;34m(self, obj)\u001b[0m\n\u001b[1;32m    332\u001b[0m                 \u001b[0;32mpass\u001b[0m\u001b[0;34m\u001b[0m\u001b[0;34m\u001b[0m\u001b[0m\n\u001b[1;32m    333\u001b[0m             \u001b[0;32melse\u001b[0m\u001b[0;34m:\u001b[0m\u001b[0;34m\u001b[0m\u001b[0;34m\u001b[0m\u001b[0m\n\u001b[0;32m--> 334\u001b[0;31m                 \u001b[0;32mreturn\u001b[0m \u001b[0mprinter\u001b[0m\u001b[0;34m(\u001b[0m\u001b[0mobj\u001b[0m\u001b[0;34m)\u001b[0m\u001b[0;34m\u001b[0m\u001b[0;34m\u001b[0m\u001b[0m\n\u001b[0m\u001b[1;32m    335\u001b[0m             \u001b[0;31m# Finally look for special method names\u001b[0m\u001b[0;34m\u001b[0m\u001b[0;34m\u001b[0m\u001b[0;34m\u001b[0m\u001b[0m\n\u001b[1;32m    336\u001b[0m             \u001b[0mmethod\u001b[0m \u001b[0;34m=\u001b[0m \u001b[0mget_real_method\u001b[0m\u001b[0;34m(\u001b[0m\u001b[0mobj\u001b[0m\u001b[0;34m,\u001b[0m \u001b[0mself\u001b[0m\u001b[0;34m.\u001b[0m\u001b[0mprint_method\u001b[0m\u001b[0;34m)\u001b[0m\u001b[0;34m\u001b[0m\u001b[0;34m\u001b[0m\u001b[0m\n",
      "\u001b[0;32m/usr/local/lib/python3.7/dist-packages/google/colab/_interactive_table_hint_button.py\u001b[0m in \u001b[0;36m_df_formatter_with_interactive_hint\u001b[0;34m(dataframe)\u001b[0m\n\u001b[1;32m    102\u001b[0m     _output_callbacks[convert_func] = _output.register_callback(\n\u001b[1;32m    103\u001b[0m         convert_func, _convert_to_interactive)\n\u001b[0;32m--> 104\u001b[0;31m   \u001b[0;32mreturn\u001b[0m \u001b[0m_get_html\u001b[0m\u001b[0;34m(\u001b[0m\u001b[0mdataframe\u001b[0m\u001b[0;34m,\u001b[0m \u001b[0mkey\u001b[0m\u001b[0;34m)\u001b[0m\u001b[0;34m\u001b[0m\u001b[0;34m\u001b[0m\u001b[0m\n\u001b[0m\u001b[1;32m    105\u001b[0m \u001b[0;34m\u001b[0m\u001b[0m\n\u001b[1;32m    106\u001b[0m \u001b[0;34m\u001b[0m\u001b[0m\n",
      "\u001b[0;32m/usr/local/lib/python3.7/dist-packages/google/colab/_interactive_table_hint_button.py\u001b[0m in \u001b[0;36m_get_html\u001b[0;34m(dataframe, key)\u001b[0m\n\u001b[1;32m    146\u001b[0m       \u001b[0mcss\u001b[0m\u001b[0;34m=\u001b[0m\u001b[0m_HINT_BUTTON_CSS\u001b[0m\u001b[0;34m,\u001b[0m\u001b[0;34m\u001b[0m\u001b[0;34m\u001b[0m\u001b[0m\n\u001b[1;32m    147\u001b[0m       \u001b[0mdata_table_url\u001b[0m\u001b[0;34m=\u001b[0m\u001b[0m_data_table\u001b[0m\u001b[0;34m.\u001b[0m\u001b[0m_DATA_TABLE_HELP_URL\u001b[0m\u001b[0;34m,\u001b[0m\u001b[0;34m\u001b[0m\u001b[0;34m\u001b[0m\u001b[0m\n\u001b[0;32m--> 148\u001b[0;31m       \u001b[0mdf_html\u001b[0m\u001b[0;34m=\u001b[0m\u001b[0mdataframe\u001b[0m\u001b[0;34m.\u001b[0m\u001b[0m_repr_html_\u001b[0m\u001b[0;34m(\u001b[0m\u001b[0;34m)\u001b[0m\u001b[0;34m,\u001b[0m\u001b[0;34m\u001b[0m\u001b[0;34m\u001b[0m\u001b[0m\n\u001b[0m\u001b[1;32m    149\u001b[0m       \u001b[0micon\u001b[0m\u001b[0;34m=\u001b[0m\u001b[0m_ICON_SVG\u001b[0m\u001b[0;34m,\u001b[0m\u001b[0;34m\u001b[0m\u001b[0;34m\u001b[0m\u001b[0m\n\u001b[1;32m    150\u001b[0m       \u001b[0mkey\u001b[0m\u001b[0;34m=\u001b[0m\u001b[0mkey\u001b[0m\u001b[0;34m,\u001b[0m\u001b[0;34m\u001b[0m\u001b[0;34m\u001b[0m\u001b[0m\n",
      "\u001b[0;32m/usr/local/lib/python3.7/dist-packages/pandas/core/frame.py\u001b[0m in \u001b[0;36m_repr_html_\u001b[0;34m(self)\u001b[0m\n\u001b[1;32m    796\u001b[0m \u001b[0;34m\u001b[0m\u001b[0m\n\u001b[1;32m    797\u001b[0m     \u001b[0;34m@\u001b[0m\u001b[0mproperty\u001b[0m\u001b[0;34m\u001b[0m\u001b[0;34m\u001b[0m\u001b[0m\n\u001b[0;32m--> 798\u001b[0;31m     \u001b[0;32mdef\u001b[0m \u001b[0mshape\u001b[0m\u001b[0;34m(\u001b[0m\u001b[0mself\u001b[0m\u001b[0;34m)\u001b[0m \u001b[0;34m->\u001b[0m \u001b[0mtuple\u001b[0m\u001b[0;34m[\u001b[0m\u001b[0mint\u001b[0m\u001b[0;34m,\u001b[0m \u001b[0mint\u001b[0m\u001b[0;34m]\u001b[0m\u001b[0;34m:\u001b[0m\u001b[0;34m\u001b[0m\u001b[0;34m\u001b[0m\u001b[0m\n\u001b[0m\u001b[1;32m    799\u001b[0m         \"\"\"\n\u001b[1;32m    800\u001b[0m         \u001b[0mReturn\u001b[0m \u001b[0ma\u001b[0m \u001b[0mtuple\u001b[0m \u001b[0mrepresenting\u001b[0m \u001b[0mthe\u001b[0m \u001b[0mdimensionality\u001b[0m \u001b[0mof\u001b[0m \u001b[0mthe\u001b[0m \u001b[0mDataFrame\u001b[0m\u001b[0;34m.\u001b[0m\u001b[0;34m\u001b[0m\u001b[0;34m\u001b[0m\u001b[0m\n",
      "\u001b[0;32m/usr/local/lib/python3.7/dist-packages/pandas/io/formats/format.py\u001b[0m in \u001b[0;36mto_html\u001b[0;34m(self, buf, encoding, classes, notebook, border)\u001b[0m\n\u001b[1;32m    986\u001b[0m         \u001b[0mencoding\u001b[0m\u001b[0;34m:\u001b[0m \u001b[0mstr\u001b[0m \u001b[0;34m|\u001b[0m \u001b[0;32mNone\u001b[0m \u001b[0;34m=\u001b[0m \u001b[0;32mNone\u001b[0m\u001b[0;34m,\u001b[0m\u001b[0;34m\u001b[0m\u001b[0;34m\u001b[0m\u001b[0m\n\u001b[1;32m    987\u001b[0m         \u001b[0mclasses\u001b[0m\u001b[0;34m:\u001b[0m \u001b[0mstr\u001b[0m \u001b[0;34m|\u001b[0m \u001b[0mlist\u001b[0m \u001b[0;34m|\u001b[0m \u001b[0mtuple\u001b[0m \u001b[0;34m|\u001b[0m \u001b[0;32mNone\u001b[0m \u001b[0;34m=\u001b[0m \u001b[0;32mNone\u001b[0m\u001b[0;34m,\u001b[0m\u001b[0;34m\u001b[0m\u001b[0;34m\u001b[0m\u001b[0m\n\u001b[0;32m--> 988\u001b[0;31m         \u001b[0mnotebook\u001b[0m\u001b[0;34m:\u001b[0m \u001b[0mbool\u001b[0m \u001b[0;34m=\u001b[0m \u001b[0;32mFalse\u001b[0m\u001b[0;34m,\u001b[0m\u001b[0;34m\u001b[0m\u001b[0;34m\u001b[0m\u001b[0m\n\u001b[0m\u001b[1;32m    989\u001b[0m         \u001b[0mborder\u001b[0m\u001b[0;34m:\u001b[0m \u001b[0mint\u001b[0m \u001b[0;34m|\u001b[0m \u001b[0;32mNone\u001b[0m \u001b[0;34m=\u001b[0m \u001b[0;32mNone\u001b[0m\u001b[0;34m,\u001b[0m\u001b[0;34m\u001b[0m\u001b[0;34m\u001b[0m\u001b[0m\n\u001b[1;32m    990\u001b[0m         \u001b[0mtable_id\u001b[0m\u001b[0;34m:\u001b[0m \u001b[0mstr\u001b[0m \u001b[0;34m|\u001b[0m \u001b[0;32mNone\u001b[0m \u001b[0;34m=\u001b[0m \u001b[0;32mNone\u001b[0m\u001b[0;34m,\u001b[0m\u001b[0;34m\u001b[0m\u001b[0;34m\u001b[0m\u001b[0m\n",
      "\u001b[0;31mAttributeError\u001b[0m: 'NotebookFormatter' object has no attribute 'get_result'"
     ]
    },
    {
     "data": {
      "text/plain": [
       "                                 0  1  2  totalRating  Random Query     MSSIM\n",
       "0_Geometric_distribution_0.1_64  2  0  1            1    305.385400  0.674062\n",
       "0_Geometric_correlation_0.5_32   3  3  3            3    266.981000  0.850031\n",
       "3_AGrid_distribution_0.01_64     0  0  0            0    180.846126  0.494964\n",
       "3_Laplace_clusters_0.1_32        1  1  2            1    418.352861  0.447358\n",
       "2_Geometric_distribution_0.5_32  3  3  2            3    212.589200  0.817367\n",
       "...                             .. .. ..          ...           ...       ...\n",
       "0_AHP_distribution_0.5_32        3  1  3            3    251.821624  0.859004\n",
       "3_AHP_distribution_0.1_64        0  0  0            0     94.780379  0.734568\n",
       "0_Laplace_distribution_0.05_32   1  0  2            1    340.603016  0.552972\n",
       "0_DAWA_correlation_0.01_64       0  1  1            1     60.911200  0.741463\n",
       "9_AHP_distribution_0.5_64        2  2  2            2    102.430952  0.816176\n",
       "\n",
       "[240 rows x 6 columns]"
      ]
     },
     "execution_count": 45,
     "metadata": {},
     "output_type": "execute_result"
    }
   ],
   "source": [
    " answerDataFrame = pd.concat([answerDataFrame, l2Series], axis=1)\n",
    " answerDataFrame = pd.concat([answerDataFrame, MSSIMSeries], axis=1)\n",
    " answerDataFrame"
   ]
  },
  {
   "cell_type": "code",
   "execution_count": null,
   "metadata": {},
   "outputs": [],
   "source": [
    "answerDataFrame.to_csv('./statisticalUtilityMetrics.csv')"
   ]
  }
 ],
 "metadata": {
  "colab": {
   "authorship_tag": "ABX9TyMMy+I90vRj5GiR+BkD4Xv0",
   "collapsed_sections": [],
   "name": "pilotPrivatePlotGenerationAndStatsErrors.ipynb",
   "provenance": []
  },
  "kernelspec": {
   "display_name": "Python 3 (ipykernel)",
   "language": "python",
   "name": "python3"
  },
  "language_info": {
   "codemirror_mode": {
    "name": "ipython",
    "version": 3
   },
   "file_extension": ".py",
   "mimetype": "text/x-python",
   "name": "python",
   "nbconvert_exporter": "python",
   "pygments_lexer": "ipython3",
   "version": "3.9.7"
  }
 },
 "nbformat": 4,
 "nbformat_minor": 1
}
