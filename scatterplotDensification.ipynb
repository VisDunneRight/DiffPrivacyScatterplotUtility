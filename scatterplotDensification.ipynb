{
 "cells": [
  {
   "cell_type": "code",
   "execution_count": 1,
   "metadata": {
    "colab": {
     "base_uri": "https://localhost:8080/",
     "height": 912
    },
    "id": "lIirvfZNOQfb",
    "outputId": "ca31753b-1a38-4b41-b552-9e330669ca11",
    "scrolled": true
   },
   "outputs": [
    {
     "name": "stdout",
     "output_type": "stream",
     "text": [
      "Requirement already satisfied: copulas in c:\\users\\lpana\\anaconda3\\lib\\site-packages (0.7.0)\n",
      "Requirement already satisfied: scipy<2,>=1.5.4 in c:\\users\\lpana\\anaconda3\\lib\\site-packages (from copulas) (1.7.1)\n",
      "Requirement already satisfied: matplotlib<4,>=3.4.0 in c:\\users\\lpana\\anaconda3\\lib\\site-packages (from copulas) (3.4.3)\n",
      "Requirement already satisfied: numpy<2,>=1.20.0 in c:\\users\\lpana\\anaconda3\\lib\\site-packages (from copulas) (1.23.0)\n",
      "Requirement already satisfied: pandas<2,>=1.1.3 in c:\\users\\lpana\\anaconda3\\lib\\site-packages (from copulas) (1.3.4)\n",
      "Requirement already satisfied: pyparsing>=2.2.1 in c:\\users\\lpana\\anaconda3\\lib\\site-packages (from matplotlib<4,>=3.4.0->copulas) (3.0.4)\n",
      "Requirement already satisfied: python-dateutil>=2.7 in c:\\users\\lpana\\anaconda3\\lib\\site-packages (from matplotlib<4,>=3.4.0->copulas) (2.8.2)\n",
      "Requirement already satisfied: pillow>=6.2.0 in c:\\users\\lpana\\anaconda3\\lib\\site-packages (from matplotlib<4,>=3.4.0->copulas) (9.2.0)\n",
      "Requirement already satisfied: cycler>=0.10 in c:\\users\\lpana\\anaconda3\\lib\\site-packages (from matplotlib<4,>=3.4.0->copulas) (0.10.0)\n",
      "Requirement already satisfied: kiwisolver>=1.0.1 in c:\\users\\lpana\\anaconda3\\lib\\site-packages (from matplotlib<4,>=3.4.0->copulas) (1.3.1)\n",
      "Requirement already satisfied: six in c:\\users\\lpana\\anaconda3\\lib\\site-packages (from cycler>=0.10->matplotlib<4,>=3.4.0->copulas) (1.16.0)\n",
      "Requirement already satisfied: pytz>=2017.3 in c:\\users\\lpana\\anaconda3\\lib\\site-packages (from pandas<2,>=1.1.3->copulas) (2021.3)\n",
      "Collecting numpy<2,>=1.20.0\n",
      "  Using cached numpy-1.22.4-cp39-cp39-win_amd64.whl (14.7 MB)\n",
      "Installing collected packages: numpy\n",
      "  Attempting uninstall: numpy\n",
      "    Found existing installation: numpy 1.23.0\n",
      "    Uninstalling numpy-1.23.0:"
     ]
    },
    {
     "name": "stderr",
     "output_type": "stream",
     "text": [
      "WARNING: Ignoring invalid distribution -illow (c:\\users\\lpana\\anaconda3\\lib\\site-packages)\n",
      "WARNING: Ignoring invalid distribution -illow (c:\\users\\lpana\\anaconda3\\lib\\site-packages)\n",
      "WARNING: Ignoring invalid distribution -illow (c:\\users\\lpana\\anaconda3\\lib\\site-packages)\n",
      "    WARNING: Ignoring invalid distribution -illow (c:\\users\\lpana\\anaconda3\\lib\\site-packages)\n",
      "WARNING: Ignoring invalid distribution -illow (c:\\users\\lpana\\anaconda3\\lib\\site-packages)\n",
      "ERROR: pip's dependency resolver does not currently take into account all the packages that are installed. This behaviour is the source of the following dependency conflicts.\n",
      "daal4py 2021.3.0 requires daal==2021.2.3, which is not installed.\n",
      "numba 0.54.1 requires numpy<1.21,>=1.17, but you have numpy 1.22.4 which is incompatible.\n",
      "WARNING: Ignoring invalid distribution -illow (c:\\users\\lpana\\anaconda3\\lib\\site-packages)\n",
      "WARNING: Ignoring invalid distribution -illow (c:\\users\\lpana\\anaconda3\\lib\\site-packages)\n",
      "WARNING: Ignoring invalid distribution -illow (c:\\users\\lpana\\anaconda3\\lib\\site-packages)\n"
     ]
    },
    {
     "name": "stdout",
     "output_type": "stream",
     "text": [
      "\n",
      "      Successfully uninstalled numpy-1.23.0\n",
      "Successfully installed numpy-1.22.4\n",
      "Requirement already satisfied: matplotlib in c:\\users\\lpana\\anaconda3\\lib\\site-packages (3.4.3)\n",
      "Requirement already satisfied: pillow>=6.2.0 in c:\\users\\lpana\\anaconda3\\lib\\site-packages (from matplotlib) (9.2.0)\n",
      "Requirement already satisfied: pyparsing>=2.2.1 in c:\\users\\lpana\\anaconda3\\lib\\site-packages (from matplotlib) (3.0.4)\n",
      "Requirement already satisfied: kiwisolver>=1.0.1 in c:\\users\\lpana\\anaconda3\\lib\\site-packages (from matplotlib) (1.3.1)\n",
      "Requirement already satisfied: cycler>=0.10 in c:\\users\\lpana\\anaconda3\\lib\\site-packages (from matplotlib) (0.10.0)\n",
      "Requirement already satisfied: numpy>=1.16 in c:\\users\\lpana\\anaconda3\\lib\\site-packages (from matplotlib) (1.22.4)\n",
      "Requirement already satisfied: python-dateutil>=2.7 in c:\\users\\lpana\\anaconda3\\lib\\site-packages (from matplotlib) (2.8.2)\n",
      "Requirement already satisfied: six in c:\\users\\lpana\\anaconda3\\lib\\site-packages (from cycler>=0.10->matplotlib) (1.16.0)\n"
     ]
    },
    {
     "name": "stderr",
     "output_type": "stream",
     "text": [
      "WARNING: Ignoring invalid distribution -illow (c:\\users\\lpana\\anaconda3\\lib\\site-packages)\n",
      "WARNING: Ignoring invalid distribution -illow (c:\\users\\lpana\\anaconda3\\lib\\site-packages)\n",
      "WARNING: Ignoring invalid distribution -illow (c:\\users\\lpana\\anaconda3\\lib\\site-packages)\n",
      "WARNING: Ignoring invalid distribution -illow (c:\\users\\lpana\\anaconda3\\lib\\site-packages)\n",
      "WARNING: Ignoring invalid distribution -illow (c:\\users\\lpana\\anaconda3\\lib\\site-packages)\n",
      "WARNING: Ignoring invalid distribution -illow (c:\\users\\lpana\\anaconda3\\lib\\site-packages)\n"
     ]
    }
   ],
   "source": [
    "\n",
    "!pip install copulas\n",
    "!pip install matplotlib"
   ]
  },
  {
   "cell_type": "code",
   "execution_count": 2,
   "metadata": {
    "colab": {
     "base_uri": "https://localhost:8080/"
    },
    "id": "04esXAo0Sngj",
    "outputId": "c17bc94f-8254-4a1e-8941-cb697347e971",
    "scrolled": true
   },
   "outputs": [
    {
     "name": "stdout",
     "output_type": "stream",
     "text": [
      "Requirement already satisfied: jupyter_dash in c:\\users\\lpana\\anaconda3\\lib\\site-packages (0.4.2)\n",
      "Requirement already satisfied: ipykernel in c:\\users\\lpana\\anaconda3\\lib\\site-packages (from jupyter_dash) (6.4.1)\n",
      "Requirement already satisfied: dash in c:\\users\\lpana\\anaconda3\\lib\\site-packages (from jupyter_dash) (2.3.1)\n",
      "Requirement already satisfied: retrying in c:\\users\\lpana\\anaconda3\\lib\\site-packages (from jupyter_dash) (1.3.3)\n",
      "Requirement already satisfied: nest-asyncio in c:\\users\\lpana\\anaconda3\\lib\\site-packages (from jupyter_dash) (1.5.1)\n",
      "Requirement already satisfied: ansi2html in c:\\users\\lpana\\anaconda3\\lib\\site-packages (from jupyter_dash) (1.7.0)\n",
      "Requirement already satisfied: flask in c:\\users\\lpana\\anaconda3\\lib\\site-packages (from jupyter_dash) (1.1.2)\n",
      "Requirement already satisfied: ipython in c:\\users\\lpana\\anaconda3\\lib\\site-packages (from jupyter_dash) (7.29.0)\n",
      "Requirement already satisfied: requests in c:\\users\\lpana\\anaconda3\\lib\\site-packages (from jupyter_dash) (2.26.0)\n",
      "Requirement already satisfied: plotly>=5.0.0 in c:\\users\\lpana\\anaconda3\\lib\\site-packages (from dash->jupyter_dash) (5.7.0)\n",
      "Requirement already satisfied: dash-core-components==2.0.0 in c:\\users\\lpana\\anaconda3\\lib\\site-packages (from dash->jupyter_dash) (2.0.0)\n",
      "Requirement already satisfied: flask-compress in c:\\users\\lpana\\anaconda3\\lib\\site-packages (from dash->jupyter_dash) (1.12)\n",
      "Requirement already satisfied: dash-table==5.0.0 in c:\\users\\lpana\\anaconda3\\lib\\site-packages (from dash->jupyter_dash) (5.0.0)\n",
      "Requirement already satisfied: dash-html-components==2.0.0 in c:\\users\\lpana\\anaconda3\\lib\\site-packages (from dash->jupyter_dash) (2.0.0)\n",
      "Requirement already satisfied: Jinja2>=2.10.1 in c:\\users\\lpana\\anaconda3\\lib\\site-packages (from flask->jupyter_dash) (2.11.3)\n",
      "Requirement already satisfied: itsdangerous>=0.24 in c:\\users\\lpana\\anaconda3\\lib\\site-packages (from flask->jupyter_dash) (2.0.1)\n",
      "Requirement already satisfied: Werkzeug>=0.15 in c:\\users\\lpana\\anaconda3\\lib\\site-packages (from flask->jupyter_dash) (2.0.2)\n",
      "Requirement already satisfied: click>=5.1 in c:\\users\\lpana\\anaconda3\\lib\\site-packages (from flask->jupyter_dash) (8.0.3)\n",
      "Requirement already satisfied: colorama in c:\\users\\lpana\\anaconda3\\lib\\site-packages (from click>=5.1->flask->jupyter_dash) (0.4.4)\n",
      "Requirement already satisfied: MarkupSafe>=0.23 in c:\\users\\lpana\\anaconda3\\lib\\site-packages (from Jinja2>=2.10.1->flask->jupyter_dash) (1.1.1)\n",
      "Requirement already satisfied: six in c:\\users\\lpana\\anaconda3\\lib\\site-packages (from plotly>=5.0.0->dash->jupyter_dash) (1.16.0)\n",
      "Requirement already satisfied: tenacity>=6.2.0 in c:\\users\\lpana\\anaconda3\\lib\\site-packages (from plotly>=5.0.0->dash->jupyter_dash) (8.0.1)\n",
      "Requirement already satisfied: brotli in c:\\users\\lpana\\anaconda3\\lib\\site-packages (from flask-compress->dash->jupyter_dash) (1.0.9)\n",
      "Requirement already satisfied: matplotlib-inline<0.2.0,>=0.1.0 in c:\\users\\lpana\\anaconda3\\lib\\site-packages (from ipykernel->jupyter_dash) (0.1.2)\n",
      "Requirement already satisfied: jupyter-client<8.0 in c:\\users\\lpana\\anaconda3\\lib\\site-packages (from ipykernel->jupyter_dash) (6.1.12)\n",
      "Requirement already satisfied: traitlets<6.0,>=4.1.0 in c:\\users\\lpana\\anaconda3\\lib\\site-packages (from ipykernel->jupyter_dash) (5.1.0)\n",
      "Requirement already satisfied: debugpy<2.0,>=1.0.0 in c:\\users\\lpana\\anaconda3\\lib\\site-packages (from ipykernel->jupyter_dash) (1.4.1)\n",
      "Requirement already satisfied: ipython-genutils in c:\\users\\lpana\\anaconda3\\lib\\site-packages (from ipykernel->jupyter_dash) (0.2.0)\n",
      "Requirement already satisfied: tornado<7.0,>=4.2 in c:\\users\\lpana\\anaconda3\\lib\\site-packages (from ipykernel->jupyter_dash) (6.1)\n",
      "Requirement already satisfied: backcall in c:\\users\\lpana\\anaconda3\\lib\\site-packages (from ipython->jupyter_dash) (0.2.0)\n",
      "Requirement already satisfied: pickleshare in c:\\users\\lpana\\anaconda3\\lib\\site-packages (from ipython->jupyter_dash) (0.7.5)\n",
      "Requirement already satisfied: setuptools>=18.5 in c:\\users\\lpana\\anaconda3\\lib\\site-packages (from ipython->jupyter_dash) (58.0.4)\n",
      "Requirement already satisfied: jedi>=0.16 in c:\\users\\lpana\\anaconda3\\lib\\site-packages (from ipython->jupyter_dash) (0.18.0)\n",
      "Requirement already satisfied: decorator in c:\\users\\lpana\\anaconda3\\lib\\site-packages (from ipython->jupyter_dash) (5.1.0)\n",
      "Requirement already satisfied: pygments in c:\\users\\lpana\\anaconda3\\lib\\site-packages (from ipython->jupyter_dash) (2.10.0)\n",
      "Requirement already satisfied: prompt-toolkit!=3.0.0,!=3.0.1,<3.1.0,>=2.0.0 in c:\\users\\lpana\\anaconda3\\lib\\site-packages (from ipython->jupyter_dash) (3.0.20)\n",
      "Requirement already satisfied: parso<0.9.0,>=0.8.0 in c:\\users\\lpana\\anaconda3\\lib\\site-packages (from jedi>=0.16->ipython->jupyter_dash) (0.8.2)\n",
      "Requirement already satisfied: jupyter-core>=4.6.0 in c:\\users\\lpana\\anaconda3\\lib\\site-packages (from jupyter-client<8.0->ipykernel->jupyter_dash) (4.8.1)\n",
      "Requirement already satisfied: pyzmq>=13 in c:\\users\\lpana\\anaconda3\\lib\\site-packages (from jupyter-client<8.0->ipykernel->jupyter_dash) (22.2.1)\n",
      "Requirement already satisfied: python-dateutil>=2.1 in c:\\users\\lpana\\anaconda3\\lib\\site-packages (from jupyter-client<8.0->ipykernel->jupyter_dash) (2.8.2)\n",
      "Requirement already satisfied: pywin32>=1.0 in c:\\users\\lpana\\anaconda3\\lib\\site-packages (from jupyter-core>=4.6.0->jupyter-client<8.0->ipykernel->jupyter_dash) (228)\n",
      "Requirement already satisfied: wcwidth in c:\\users\\lpana\\anaconda3\\lib\\site-packages (from prompt-toolkit!=3.0.0,!=3.0.1,<3.1.0,>=2.0.0->ipython->jupyter_dash) (0.2.5)\n",
      "Requirement already satisfied: idna<4,>=2.5 in c:\\users\\lpana\\anaconda3\\lib\\site-packages (from requests->jupyter_dash) (3.2)\n",
      "Requirement already satisfied: certifi>=2017.4.17 in c:\\users\\lpana\\anaconda3\\lib\\site-packages (from requests->jupyter_dash) (2021.10.8)\n",
      "Requirement already satisfied: urllib3<1.27,>=1.21.1 in c:\\users\\lpana\\anaconda3\\lib\\site-packages (from requests->jupyter_dash) (1.25.11)\n",
      "Requirement already satisfied: charset-normalizer~=2.0.0 in c:\\users\\lpana\\anaconda3\\lib\\site-packages (from requests->jupyter_dash) (2.0.4)\n"
     ]
    },
    {
     "name": "stderr",
     "output_type": "stream",
     "text": [
      "WARNING: Ignoring invalid distribution -illow (c:\\users\\lpana\\anaconda3\\lib\\site-packages)\n",
      "WARNING: Ignoring invalid distribution -illow (c:\\users\\lpana\\anaconda3\\lib\\site-packages)\n",
      "WARNING: Ignoring invalid distribution -illow (c:\\users\\lpana\\anaconda3\\lib\\site-packages)\n",
      "WARNING: Ignoring invalid distribution -illow (c:\\users\\lpana\\anaconda3\\lib\\site-packages)\n",
      "WARNING: Ignoring invalid distribution -illow (c:\\users\\lpana\\anaconda3\\lib\\site-packages)\n",
      "WARNING: Ignoring invalid distribution -illow (c:\\users\\lpana\\anaconda3\\lib\\site-packages)\n"
     ]
    }
   ],
   "source": [
    "!pip install jupyter_dash"
   ]
  },
  {
   "cell_type": "code",
   "execution_count": 3,
   "metadata": {
    "scrolled": false
   },
   "outputs": [
    {
     "name": "stdout",
     "output_type": "stream",
     "text": [
      "Collecting numpy\n",
      "  Using cached numpy-1.23.0-cp39-cp39-win_amd64.whl (14.7 MB)\n",
      "Installing collected packages: numpy\n",
      "Successfully installed numpy-1.23.0\n",
      "Note: you may need to restart the kernel to use updated packages.\n"
     ]
    },
    {
     "name": "stderr",
     "output_type": "stream",
     "text": [
      "WARNING: Ignoring invalid distribution -illow (c:\\users\\lpana\\anaconda3\\lib\\site-packages)\n",
      "WARNING: Ignoring invalid distribution -illow (c:\\users\\lpana\\anaconda3\\lib\\site-packages)\n",
      "WARNING: Ignoring invalid distribution -illow (c:\\users\\lpana\\anaconda3\\lib\\site-packages)\n",
      "ERROR: pip's dependency resolver does not currently take into account all the packages that are installed. This behaviour is the source of the following dependency conflicts.\n",
      "daal4py 2021.3.0 requires daal==2021.2.3, which is not installed.\n",
      "scipy 1.7.1 requires numpy<1.23.0,>=1.16.5, but you have numpy 1.23.0 which is incompatible.\n",
      "numba 0.54.1 requires numpy<1.21,>=1.17, but you have numpy 1.23.0 which is incompatible.\n",
      "WARNING: Ignoring invalid distribution -illow (c:\\users\\lpana\\anaconda3\\lib\\site-packages)\n",
      "WARNING: Ignoring invalid distribution -illow (c:\\users\\lpana\\anaconda3\\lib\\site-packages)\n",
      "WARNING: Ignoring invalid distribution -illow (c:\\users\\lpana\\anaconda3\\lib\\site-packages)\n"
     ]
    }
   ],
   "source": [
    "pip install numpy --upgrade --ignore-installed\n"
   ]
  },
  {
   "cell_type": "code",
   "execution_count": 4,
   "metadata": {
    "scrolled": true
   },
   "outputs": [
    {
     "name": "stdout",
     "output_type": "stream",
     "text": [
      "1.23.0\n"
     ]
    },
    {
     "name": "stderr",
     "output_type": "stream",
     "text": [
      "C:\\Users\\lpana\\anaconda3\\lib\\site-packages\\numpy\\_distributor_init.py:30: UserWarning: loaded more than 1 DLL from .libs:\n",
      "C:\\Users\\lpana\\anaconda3\\lib\\site-packages\\numpy\\.libs\\libopenblas.EL2C6PLE4ZYW3ECEVIV3OXXGRN2NRFM2.gfortran-win_amd64.dll\n",
      "C:\\Users\\lpana\\anaconda3\\lib\\site-packages\\numpy\\.libs\\libopenblas.FB5AE2TYXYH2IJRDKGDGQ3XBKLKTF43H.gfortran-win_amd64.dll\n",
      "  warnings.warn(\"loaded more than 1 DLL from .libs:\"\n"
     ]
    }
   ],
   "source": [
    "import numpy\n",
    "print(numpy.__version__)"
   ]
  },
  {
   "cell_type": "code",
   "execution_count": 5,
   "metadata": {
    "colab": {
     "base_uri": "https://localhost:8080/",
     "height": 163
    },
    "id": "7-Zek_E-POCT",
    "outputId": "11d83970-003d-4e20-a205-653b154c64f0"
   },
   "outputs": [
    {
     "name": "stderr",
     "output_type": "stream",
     "text": [
      "C:\\Users\\lpana\\anaconda3\\lib\\site-packages\\scipy\\__init__.py:146: UserWarning: A NumPy version >=1.16.5 and <1.23.0 is required for this version of SciPy (detected version 1.23.0\n",
      "  warnings.warn(f\"A NumPy version >={np_minversion} and <{np_maxversion}\"\n",
      "C:\\Users\\lpana\\AppData\\Local\\Temp/ipykernel_11040/427058258.py:12: UserWarning: \n",
      "The dash_core_components package is deprecated. Please replace\n",
      "`import dash_core_components as dcc` with `from dash import dcc`\n",
      "  import dash_core_components as dcc\n",
      "C:\\Users\\lpana\\AppData\\Local\\Temp/ipykernel_11040/427058258.py:13: UserWarning: \n",
      "The dash_html_components package is deprecated. Please replace\n",
      "`import dash_html_components as html` with `from dash import html`\n",
      "  import dash_html_components as html\n"
     ]
    }
   ],
   "source": [
    "import matplotlib.pyplot as plt\n",
    "import os\n",
    "import pandas as pd\n",
    "import numpy as np\n",
    "from copulas.multivariate import GaussianMultivariate\n",
    "from plotly.subplots import make_subplots\n",
    "from copulas.univariate import Univariate\n",
    "\n",
    "import plotly.graph_objects as go\n",
    "import plotly.express as px\n",
    "from jupyter_dash import JupyterDash\n",
    "import dash_core_components as dcc\n",
    "import dash_html_components as html\n",
    "from dash.dependencies import Input, Output"
   ]
  },
  {
   "cell_type": "code",
   "execution_count": null,
   "metadata": {
    "id": "QkCJP7-zPRsX"
   },
   "outputs": [],
   "source": []
  },
  {
   "cell_type": "code",
   "execution_count": 6,
   "metadata": {},
   "outputs": [],
   "source": [
    "def addPulp(name):\n",
    "    data = pd.read_csv(name, header = None, index_col=False)\n",
    "    data.dropna(axis = 0)\n",
    "    data.drop(index=data.index[0], \n",
    "        axis=0, \n",
    "        inplace=True)\n",
    "    \n",
    "    data.columns = ('x', 'y')\n",
    "    data['x']= pd.to_numeric(data['x'], errors = 'coerce')\n",
    "    data['y'] = pd.to_numeric(data['y'], errors = 'coerce')\n",
    "    newData = {}\n",
    "    firstBin = data[data[\"x\"] <= 6]\n",
    "    firstBin = firstBin[firstBin[\"x\"] >=0]\n",
    "    firstBin = firstBin[firstBin[\"y\"] <= 8]\n",
    "    firstBin = firstBin[firstBin[\"y\"] >= 0]\n",
    "    \n",
    "    secondBin = data[data[\"x\"] <= 41]\n",
    "    secondBin = secondBin[secondBin[\"x\"] >=6]\n",
    "    secondBin = secondBin[secondBin[\"y\"] <= 6]\n",
    "    secondBin = secondBin[secondBin[\"y\"] >= 0]\n",
    "    \n",
    "    thirdBin = data[data[\"x\"] <= 65]\n",
    "    thirdBin = thirdBin[thirdBin[\"x\"] >=40]\n",
    "    thirdBin = thirdBin[thirdBin[\"y\"] <= 12]\n",
    "    thirdBin = thirdBin[thirdBin[\"y\"] >= 5]\n",
    "    \n",
    "    bins = [firstBin, secondBin, thirdBin]\n",
    "    dense = pd.DataFrame()\n",
    "    for bin in bins:\n",
    "        copula = GaussianMultivariate()\n",
    "        copula.fit(bin)\n",
    "        synthetic_data = copula.sample(int(len(bin)/len(data)*5000))\n",
    "        synthetic_data = synthetic_data[synthetic_data[\"x\"] < max(data['x'])+4]\n",
    "        synthetic_data = synthetic_data[synthetic_data[\"x\"] > min(data['x'])-1]\n",
    "        synthetic_data = synthetic_data[synthetic_data[\"y\"] < max(data['y'])+2]\n",
    "        synthetic_data = synthetic_data[synthetic_data[\"y\"] > min(data['y'])-1]\n",
    "        dense = dense.append(synthetic_data, ignore_index=True)\n",
    "\n",
    "    return {'Old': data, \"Dense\": dense}\n"
   ]
  },
  {
   "cell_type": "code",
   "execution_count": 7,
   "metadata": {},
   "outputs": [],
   "source": [
    "def addCategorical(name):\n",
    "    data = pd.read_csv(name, header = None, index_col=False)\n",
    "    data.dropna(axis = 0)\n",
    "    data.drop(index=data.index[0], \n",
    "        axis=0, \n",
    "        inplace=True)\n",
    "    \n",
    "    data.columns = ('x', 'y')\n",
    "    data['x']= pd.to_numeric(data['x'], errors = 'coerce')\n",
    "    data['y'] = pd.to_numeric(data['y'], errors = 'coerce')\n",
    "    uniquex = data['x'].unique()\n",
    "    DataFrameDict = {elem : pd.DataFrame() for elem in uniquex}\n",
    "\n",
    "    for key in DataFrameDict.keys():\n",
    "        DataFrameDict[key] = data[:][data['x'] == key]\n",
    "    syntheticArray = []\n",
    "    totalLength = (len(data.index))\n",
    "    totalX = []\n",
    "    totalY = []\n",
    "    for key, value in DataFrameDict.items():\n",
    "        univariate = Univariate()\n",
    "\n",
    "        univariate.fit(value['y'])\n",
    "        appendArray = []\n",
    "        synthetic_data = univariate.sample(int(len(value.index)/totalLength*5000))\n",
    "        dataX = [key]*len(synthetic_data)\n",
    "\n",
    "        totalX = totalX + dataX\n",
    "        totalY = totalY + synthetic_data.tolist()\n",
    "    df = pd.DataFrame({'x': totalX,'y': totalY} ) \n",
    "    df = df[df[\"x\"] <= max(data['x'])]\n",
    "    df = df[df[\"x\"] >= min(data['x'])]\n",
    "    df = df[df[\"y\"] <= max(data['y'])]\n",
    "    df = df[df[\"y\"] >= min(data['y'])]\n",
    "    return {'Old': data, \"Dense\": df}\n"
   ]
  },
  {
   "cell_type": "code",
   "execution_count": 8,
   "metadata": {
    "id": "X7a0CqChPgn6"
   },
   "outputs": [],
   "source": [
    "import random\n",
    "def densify(df, x, y, exponent):\n",
    "   \n",
    "    xMore = []\n",
    "    yMore = []\n",
    "    \n",
    "    x_norm = np.linalg.norm(df[x])\n",
    "    y_norm = np.linalg.norm(df[y])\n",
    "\n",
    "    df['x_norm']=[x_val/x_norm for x_val in df[x]]\n",
    "    df['y_norm']=[y_val/y_norm for y_val in df[y]]\n",
    "    \n",
    "    for i in range(5000):\n",
    "        \n",
    "        j = random.randint(2, df.shape[0]-1)\n",
    "        \n",
    "        if j !=0 or j != 1:\n",
    "          xMore.append(df['x_norm'][j] + np.random.laplace(0, (10**(-exponent))))\n",
    "          yMore.append(df['y_norm'][j] + np.random.laplace(0, (10**(-exponent))))\n",
    "    \n",
    "    dense = pd.DataFrame()\n",
    "    dense[x] = xMore\n",
    "    dense[y] = yMore\n",
    "\n",
    "    return dense\n",
    "  \n",
    "def jitterData(name, exponent):\n",
    "  \n",
    "\n",
    "  data = pd.read_csv(name, header = None, index_col=False)\n",
    "\n",
    "  data.drop(index=data.index[0], \n",
    "        axis=0, \n",
    "        inplace=True)\n",
    "  data.columns = ('x', 'y')\n",
    "  data['x']= pd.to_numeric(data['x'], errors = 'coerce')\n",
    "  data['y'] = pd.to_numeric(data['y'], errors = 'coerce')\n",
    "\n",
    "  dense = densify(data, 'x', 'y', exponent)\n",
    "  return {'Old': data, \"Dense\": dense}"
   ]
  },
  {
   "cell_type": "code",
   "execution_count": 9,
   "metadata": {},
   "outputs": [],
   "source": [
    "def addMultipleCopulas2(name):\n",
    "    data = pd.read_csv(name, header = None, index_col=False)\n",
    "    data.dropna(axis = 0)\n",
    "    data.drop(index=data.index[0], \n",
    "        axis=0, \n",
    "        inplace=True)\n",
    "    \n",
    "    data.columns = ('x', 'y')\n",
    "    data['x']= pd.to_numeric(data['x'], errors = 'coerce')\n",
    "    data['y'] = pd.to_numeric(data['y'], errors = 'coerce')\n",
    "    newData = {}\n",
    "    firstBin = data[data[\"x\"] <= 18]\n",
    "    firstBin = firstBin[firstBin[\"x\"] >=0]\n",
    "    \n",
    "    secondBin = data[data[\"x\"] <= 19]\n",
    "    secondBin = secondBin[secondBin[\"x\"] >=18]\n",
    "\n",
    "    thirdBin =  data[data[\"x\"] >=19]\n",
    "    thirdBin = thirdBin.reset_index(drop=True)\n",
    "    bins = [firstBin, secondBin, thirdBin]\n",
    "    dense = pd.DataFrame()\n",
    "    for bin in bins:\n",
    "        \n",
    "        if bin.equals(thirdBin):\n",
    "            xMore = []\n",
    "            yMore = []\n",
    "            additionalPoints = int(len(bin)/len(data)*5000)\n",
    "            for a in range(additionalPoints):\n",
    "                j = random.randint(2, thirdBin.shape[0]-1)\n",
    "                \n",
    "                if j !=0 or j != 1:\n",
    "                    xMore.append(thirdBin['x'][j] + np.random.laplace(0, (10**(-3))))\n",
    "                    yMore.append(thirdBin['y'][j] + np.random.laplace(0, (10**(-3))))\n",
    "            more = pd.DataFrame()\n",
    "            more['x'] = xMore\n",
    "            more['y'] = yMore\n",
    "\n",
    "            dense = dense.append(more, ignore_index=True)\n",
    "            \n",
    "        else:\n",
    "            copula = GaussianMultivariate()\n",
    "            copula.fit(bin)\n",
    "            synthetic_data = copula.sample(int(len(bin)/len(data)*5000))\n",
    "       \n",
    "        dense = dense.append(synthetic_data, ignore_index=True)\n",
    "\n",
    "    return {'Old': data, \"Dense\": dense}\n",
    "\n",
    "   \n",
    "    "
   ]
  },
  {
   "cell_type": "code",
   "execution_count": 10,
   "metadata": {},
   "outputs": [],
   "source": [
    "def sparsify(name):\n",
    "    data = pd.read_csv(name, header = None, index_col=False)\n",
    "    data.dropna(axis = 0)\n",
    "    data.drop(index=data.index[0], \n",
    "        axis=0, \n",
    "        inplace=True)\n",
    "    \n",
    "    data.columns = ('x', 'y')\n",
    "    data['x']= pd.to_numeric(data['x'], errors = 'coerce')\n",
    "    data['y'] = pd.to_numeric(data['y'], errors = 'coerce')\n",
    "    xMore = []\n",
    "    yMore = []\n",
    "    for a in range(5000):\n",
    "        j = random.randint(2, data.shape[0]-1)\n",
    "\n",
    "        if j !=0 or j != 1:\n",
    "            xMore.append(data['x'][j])\n",
    "            yMore.append(data['y'][j])\n",
    "    dense = pd.DataFrame()\n",
    "    dense['x'] = xMore\n",
    "    dense['y'] = yMore\n",
    "    return {'Old': data, \"Dense\": dense}\n"
   ]
  },
  {
   "cell_type": "code",
   "execution_count": 11,
   "metadata": {},
   "outputs": [],
   "source": [
    "def addExact(name):\n",
    "    data = pd.read_csv(name, header = None, index_col=False)\n",
    "    data.dropna(axis = 0)\n",
    "    \n",
    "    data.drop(index=data.index[0], \n",
    "        axis=0, \n",
    "        inplace=True)\n",
    "    \n",
    "    data.columns = ('x', 'y')\n",
    "    data['x']= pd.to_numeric(data['x'], errors = 'coerce')\n",
    "    data['y'] = pd.to_numeric(data['y'], errors = 'coerce')\n",
    "    xMore = []\n",
    "    yMore = []\n",
    "    for a in range(5000):\n",
    "        j = random.randint(2, data.shape[0]-1)\n",
    "\n",
    "        if j !=0 or j != 1:\n",
    "            xMore.append(data['x'][j])\n",
    "            yMore.append(data['y'][j])\n",
    "    dense = pd.DataFrame()\n",
    "    dense['x'] = xMore\n",
    "    dense['y'] = yMore\n",
    "    return {'Old': data, \"Dense\": dense}"
   ]
  },
  {
   "cell_type": "code",
   "execution_count": 12,
   "metadata": {},
   "outputs": [],
   "source": [
    "def addCategoricalY(name):\n",
    "    data = pd.read_csv(name, header = None, index_col=False)\n",
    "    data.dropna(axis = 0)\n",
    "    data.drop(index=data.index[0], \n",
    "        axis=0, \n",
    "        inplace=True)\n",
    "    \n",
    "    data.columns = ('x', 'y')\n",
    "    data['x']= pd.to_numeric(data['x'], errors = 'coerce')\n",
    "    data['y'] = pd.to_numeric(data['y'], errors = 'coerce')\n",
    "    uniquey = data['y'].unique()\n",
    "    DataFrameDict = {elem : pd.DataFrame() for elem in uniquey}\n",
    "\n",
    "    for key in DataFrameDict.keys():\n",
    "        DataFrameDict[key] = data[:][data['y'] == key]\n",
    "\n",
    "    syntheticArray = []\n",
    "    totalLength = (len(data.index))\n",
    "    totalX = []\n",
    "    totalY = []\n",
    "    for key, value in DataFrameDict.items():\n",
    "        univariate = Univariate()\n",
    "\n",
    "        univariate.fit(value['x'])\n",
    "        appendArray = []\n",
    "        synthetic_data = univariate.sample(int(len(value.index)/totalLength*5000))\n",
    "\n",
    "        dataY = [key]*len(synthetic_data)\n",
    "\n",
    "        totalX = totalX + synthetic_data.tolist()\n",
    "        totalY = totalY + dataY\n",
    "    df = pd.DataFrame({'x': totalX,'y': totalY} ) \n",
    "    df = df[df[\"x\"] <= max(data['x'])]\n",
    "    df = df[df[\"x\"] >= min(data['x'])]\n",
    "    df = df[df[\"y\"] <= max(data['y'])]\n",
    "    df = df[df[\"y\"] >= min(data['y'])]\n",
    "    return {'Old': data, \"Dense\": df}"
   ]
  },
  {
   "cell_type": "code",
   "execution_count": 13,
   "metadata": {
    "colab": {
     "base_uri": "https://localhost:8080/"
    },
    "id": "BZQfLrVkSa_9",
    "outputId": "b18fdd6b-49e1-4f82-f64d-a3cd016cacb0"
   },
   "outputs": [],
   "source": [
    "def useCopula(name):\n",
    "    \n",
    "    data = pd.read_csv(name, header = None, index_col=False)\n",
    "    data = data.dropna(axis = 0)\n",
    "    data = data.reset_index(drop=True)\n",
    "    data.drop(index=data.index[0], \n",
    "        axis=0, \n",
    "        inplace=True)\n",
    "    \n",
    "    data.columns = ('x', 'y')\n",
    "    data['x']= pd.to_numeric(data['x'], errors = 'coerce')\n",
    "    data['y'] = pd.to_numeric(data['y'], errors = 'coerce')\n",
    "    copula = GaussianMultivariate()\n",
    "    copula.fit(data)\n",
    "    synthetic_data = copula.sample(5000)\n",
    "    synthetic_data = synthetic_data[synthetic_data[\"x\"] < max(data['x'])]\n",
    "    synthetic_data = synthetic_data[synthetic_data[\"x\"] > min(data['x'])]\n",
    "    synthetic_data = synthetic_data[synthetic_data[\"y\"] < max(data['y'])]\n",
    "    synthetic_data = synthetic_data[synthetic_data[\"y\"] > min(data['y'])]\n",
    "    return {'Old': data, \"Dense\": synthetic_data}\n",
    "    "
   ]
  },
  {
   "cell_type": "code",
   "execution_count": 14,
   "metadata": {},
   "outputs": [],
   "source": [
    "def addMultipleCopulas18(name):\n",
    "    data = pd.read_csv(name, header = None, index_col=False)\n",
    "    data.dropna(axis = 0)\n",
    "    data.drop(index=data.index[0], \n",
    "        axis=0, \n",
    "        inplace=True)\n",
    "    \n",
    "    data.columns = ('x', 'y')\n",
    "    data['x']= pd.to_numeric(data['x'], errors = 'coerce')\n",
    "    data['y'] = pd.to_numeric(data['y'], errors = 'coerce')\n",
    "    newData = {}\n",
    "    firstBin = data[data[\"y\"] <= 2]\n",
    "\n",
    "    \n",
    "    secondBin = data[data[\"y\"] >= 2]\n",
    "\n",
    "\n",
    "    bins = [firstBin, secondBin]\n",
    "    dense = pd.DataFrame()\n",
    "    for bin in bins:\n",
    "        xMore = []\n",
    "        yMore = []\n",
    "        additionalPoints = int(len(bin)/len(data)*5000)\n",
    "        copula = GaussianMultivariate()\n",
    "        copula.fit(bin)\n",
    "        synthetic_data = copula.sample(int(len(bin)/len(data)*5000))\n",
    "       \n",
    "        dense = dense.append(synthetic_data, ignore_index=True)\n",
    "\n",
    "    return {'Old': data, \"Dense\": dense}\n",
    "\n",
    "   "
   ]
  },
  {
   "cell_type": "code",
   "execution_count": 15,
   "metadata": {
    "id": "8zu3tjHNPf6c"
   },
   "outputs": [],
   "source": [
    "chartDictionary = {'0':['./finalData/0/gilgais.csv', 2.5], '1':['./finalData/1/MCAS.csv', 3], \n",
    "                   '2':['./finalData/2/Hedonic.csv'], '3': ['./finalData/3/HC.csv'],\n",
    "                  '4':['./finalData/4/MedExp.csv'], '5':['./finalData/5/Cars93.csv'],\n",
    "                  '6':['./finalData/6/Cars93.csv', 3.5], '7':['./finalData/7/toxicity.csv'],\n",
    "                  '8':['./finalData/8/VietNamH.csv'], '9':['./finalData/9/Garch.csv', 4],\n",
    "                  '10':['./finalData/10/Fishing.csv'], '11':['./finalData/11/Forbes2000.csv'],\n",
    "                  '12':['./finalData/12/incomeinequality.csv'],'13':['./finalData/13/volcano.csv',3],\n",
    "                  '14':['./finalData/14/cache.csv'], '15':['./finalData/15/Fatality.csv'],\n",
    "                  '16':['./finalData/16/DoctorContacts.csv'],  '17':['./finalData/17/Sitka.csv'],\n",
    "                  '18':['./finalData/18/iris.csv'], '19':['./finalData/19/radarImage.csv']}"
   ]
  },
  {
   "cell_type": "code",
   "execution_count": 16,
   "metadata": {
    "colab": {
     "base_uri": "https://localhost:8080/"
    },
    "id": "OTFtm96dQoyr",
    "outputId": "5fd518e2-942c-47b4-c837-18340f31cdb1",
    "scrolled": true
   },
   "outputs": [
    {
     "name": "stderr",
     "output_type": "stream",
     "text": [
      "C:\\Users\\lpana\\anaconda3\\lib\\site-packages\\scipy\\stats\\_continuous_distns.py:5320: RuntimeWarning: divide by zero encountered in divide\n",
      "  return c**2 / (c**2 - n**2)\n",
      "C:\\Users\\lpana\\anaconda3\\lib\\site-packages\\scipy\\stats\\_distn_infrastructure.py:2606: RuntimeWarning: invalid value encountered in multiply\n",
      "  Lhat = muhat - Shat*mu\n",
      "C:\\Users\\lpana\\anaconda3\\lib\\site-packages\\scipy\\stats\\_continuous_distns.py:639: RuntimeWarning: invalid value encountered in sqrt\n",
      "  sk = 2*(b-a)*np.sqrt(a + b + 1) / (a + b + 2) / np.sqrt(a*b)\n",
      "C:\\Users\\lpana\\anaconda3\\lib\\site-packages\\scipy\\optimize\\minpack.py:175: RuntimeWarning: The iteration is not making good progress, as measured by the \n",
      "  improvement from the last ten iterations.\n",
      "  warnings.warn(msg, RuntimeWarning)\n",
      "C:\\Users\\lpana\\anaconda3\\lib\\site-packages\\scipy\\stats\\_continuous_distns.py:5311: RuntimeWarning: divide by zero encountered in power\n",
      "  return cd2*x**(c-1)\n",
      "C:\\Users\\lpana\\anaconda3\\lib\\site-packages\\scipy\\optimize\\optimize.py:282: RuntimeWarning: Values in x were outside bounds during a minimize step, clipping to bounds\n",
      "  warnings.warn(\"Values in x were outside bounds during a \"\n",
      "C:\\Users\\lpana\\anaconda3\\lib\\site-packages\\copulas\\univariate\\truncated_gaussian.py:45: RuntimeWarning: divide by zero encountered in double_scalars\n",
      "  a = (self.min - loc) / scale\n",
      "C:\\Users\\lpana\\anaconda3\\lib\\site-packages\\copulas\\univariate\\truncated_gaussian.py:46: RuntimeWarning: divide by zero encountered in double_scalars\n",
      "  b = (self.max - loc) / scale\n",
      "C:\\Users\\lpana\\anaconda3\\lib\\site-packages\\copulas\\univariate\\truncated_gaussian.py:46: RuntimeWarning: invalid value encountered in double_scalars\n",
      "  b = (self.max - loc) / scale\n"
     ]
    }
   ],
   "source": [
    "denseCharts = {}\n",
    "for key,value in chartDictionary.items():\n",
    "    if key == '0':\n",
    "        dictionary = jitterData(value[0], value[1])\n",
    "    if key == '1':\n",
    "        dictionary = jitterData(value[0], value[1])\n",
    "    if key == '2':\n",
    "        dictionary = addMultipleCopulas2(value[0])\n",
    "    if key == '3':\n",
    "        dictionary = useCopula(value[0])\n",
    "    if key == '4':\n",
    "        dictionary = sparsify(value[0])\n",
    "    if key == '5':\n",
    "        dictionary = useCopula(value[0])\n",
    "    if key == '6':\n",
    "        dictionary = jitterData(value[0], value[1])\n",
    "    if key == '7':\n",
    "        dictionary = useCopula(value[0])\n",
    "    if key == '8':\n",
    "        dictionary = sparsify(value[0])\n",
    "    if key == '9':\n",
    "        dictionary = jitterData(value[0], value[1])\n",
    "    if key == '10':\n",
    "        dictionary = addExact(value[0])\n",
    "    if key == '11':\n",
    "        dictionary = useCopula(value[0])\n",
    "    if key == '12':\n",
    "        dictionary = useCopula(value[0])\n",
    "    if key == '13':\n",
    "        dictionary = jitterData(value[0], value[1])\n",
    "    if key == '14':\n",
    "        dictionary = addCategorical(value[0])\n",
    "    if key == '15':\n",
    "        dictionary = addExact(value[0])\n",
    "    if key == '16':\n",
    "        dictionary = sparsify(value[0])\n",
    "    if key == '17':\n",
    "        dictionary = addCategoricalY(value[0])\n",
    "    if key == '18':\n",
    "        dictionary = addMultipleCopulas18(value[0])\n",
    "    if key == '19':\n",
    "        dictionary = addExact(value[0])\n",
    "\n",
    "  \n",
    "    denseCharts[key] = dictionary"
   ]
  },
  {
   "cell_type": "code",
   "execution_count": 17,
   "metadata": {
    "id": "aMW-c58JU-MT"
   },
   "outputs": [],
   "source": [
    "def getDataFrame(name):\n",
    "  return denseCharts[name]"
   ]
  },
  {
   "cell_type": "code",
   "execution_count": 18,
   "metadata": {},
   "outputs": [],
   "source": [
    "def makeFig(name):\n",
    "    dictionary = getDataFrame(name)\n",
    "    fig = make_subplots(rows=2, cols=2)\n",
    "    oldScatter = go.Scatter(\n",
    "        x = dictionary['Old']['x'], y=  dictionary['Old']['y'], mode=\"markers\", marker_size = 2, name=\"Original\"\n",
    "    )\n",
    "    denseScatter = go.Scatter(\n",
    "        x = dictionary['Dense']['x'], y=  dictionary['Dense']['y'], mode=\"markers\", marker_size = 2, name = \"Points Added\"\n",
    "    )\n",
    "    fig.update_traces(marker_size=.1)\n",
    "    HOld, xedges, yedges = np.histogram2d(dictionary['Old']['x'], dictionary['Old']['y'], bins = 64)\n",
    "    HOld = HOld.T\n",
    "    \n",
    "    HDense, xedges, yedges = np.histogram2d(dictionary['Dense']['x'], dictionary['Dense']['y'], bins = 64)\n",
    "    HDense = HDense.T\n",
    "    oldHeat = go.Heatmap(x = xedges, y = yedges, z=HOld, colorscale='gray', showscale=False, reversescale= True)\n",
    "    denseHeat = go.Heatmap(x = xedges, y = yedges, z = HDense, colorscale='gray', showscale=False, reversescale= True)\n",
    "    \n",
    "    fig.add_trace(oldScatter, row=1, col=1)\n",
    "    fig.add_trace(denseScatter, row=1, col=2)\n",
    "    fig.add_trace(oldHeat, row =2, col =1)\n",
    "    fig.add_trace(denseHeat, row =2, col =2)\n",
    "    fig.update_xaxes(visible=False)\n",
    "    fig.update_yaxes(visible=False)\n",
    "    fig.update_layout(height=800, width=800, title_text=name)\n",
    "    return fig"
   ]
  },
  {
   "cell_type": "code",
   "execution_count": 19,
   "metadata": {
    "colab": {
     "base_uri": "https://localhost:8080/",
     "height": 53
    },
    "id": "FxdxY5pAUAKH",
    "outputId": "5539a2cc-ae27-4d83-d673-645130bbeb1c",
    "scrolled": true
   },
   "outputs": [
    {
     "name": "stdout",
     "output_type": "stream",
     "text": [
      "Dash app running on http://127.0.0.1:8050/\n"
     ]
    }
   ],
   "source": [
    "dataFrameDictionary = getDataFrame('0')\n",
    "\n",
    "app = JupyterDash(__name__)\n",
    "app.layout = html.Div([\n",
    "#     html.H1(\"Environmental Data\"),\n",
    "    dcc.Graph(id='graph'),\n",
    "    html.Div([\n",
    "        \"charts\",\n",
    "        dcc.Dropdown(\n",
    "            id='chart-dropdown', clearable=False,\n",
    "            value='0', options=[\n",
    "                {'label': c, 'value': c}\n",
    "                for c in chartDictionary.keys()\n",
    "            ]),\n",
    "    ]),\n",
    "])\n",
    "\n",
    "\n",
    "\n",
    "@app.callback(\n",
    "    Output('graph', 'figure'),\n",
    "    Input('chart-dropdown', 'value'))\n",
    "def update_figure_old(selected_chart):\n",
    "    return makeFig(selected_chart)\n",
    "\n",
    "# if __name__ == '__main__':\n",
    "#     app.run_server(use_reloader=False, debug=False, host='localhost', port=1050)\n",
    "if __name__ == '__main__':\n",
    "    app.run_server(debug=True)"
   ]
  },
  {
   "cell_type": "code",
   "execution_count": 20,
   "metadata": {},
   "outputs": [
    {
     "name": "stdout",
     "output_type": "stream",
     "text": [
      "Requirement already satisfied: fpdf in c:\\users\\lpana\\anaconda3\\lib\\site-packages (1.7.2)\n"
     ]
    },
    {
     "name": "stderr",
     "output_type": "stream",
     "text": [
      "WARNING: Ignoring invalid distribution -illow (c:\\users\\lpana\\anaconda3\\lib\\site-packages)\n",
      "WARNING: Ignoring invalid distribution -illow (c:\\users\\lpana\\anaconda3\\lib\\site-packages)\n",
      "WARNING: Ignoring invalid distribution -illow (c:\\users\\lpana\\anaconda3\\lib\\site-packages)\n",
      "WARNING: Ignoring invalid distribution -illow (c:\\users\\lpana\\anaconda3\\lib\\site-packages)\n",
      "WARNING: Ignoring invalid distribution -illow (c:\\users\\lpana\\anaconda3\\lib\\site-packages)\n",
      "WARNING: Ignoring invalid distribution -illow (c:\\users\\lpana\\anaconda3\\lib\\site-packages)\n"
     ]
    }
   ],
   "source": [
    "!pip install fpdf"
   ]
  },
  {
   "cell_type": "code",
   "execution_count": 21,
   "metadata": {},
   "outputs": [
    {
     "name": "stdout",
     "output_type": "stream",
     "text": [
      "Requirement already satisfied: kaleido in c:\\users\\lpana\\anaconda3\\lib\\site-packages (0.2.1)\n"
     ]
    },
    {
     "name": "stderr",
     "output_type": "stream",
     "text": [
      "WARNING: Ignoring invalid distribution -illow (c:\\users\\lpana\\anaconda3\\lib\\site-packages)\n",
      "WARNING: Ignoring invalid distribution -illow (c:\\users\\lpana\\anaconda3\\lib\\site-packages)\n",
      "WARNING: Ignoring invalid distribution -illow (c:\\users\\lpana\\anaconda3\\lib\\site-packages)\n",
      "WARNING: Ignoring invalid distribution -illow (c:\\users\\lpana\\anaconda3\\lib\\site-packages)\n",
      "WARNING: Ignoring invalid distribution -illow (c:\\users\\lpana\\anaconda3\\lib\\site-packages)\n",
      "WARNING: Ignoring invalid distribution -illow (c:\\users\\lpana\\anaconda3\\lib\\site-packages)\n"
     ]
    }
   ],
   "source": [
    "!pip install -U kaleido"
   ]
  },
  {
   "cell_type": "code",
   "execution_count": 27,
   "metadata": {},
   "outputs": [
    {
     "data": {
      "text/plain": [
       "''"
      ]
     },
     "execution_count": 27,
     "metadata": {},
     "output_type": "execute_result"
    }
   ],
   "source": [
    "from fpdf import FPDF\n",
    "pdf = FPDF()\n",
    "\n",
    "for key,value in denseCharts.items():\n",
    "    pdf.add_page()\n",
    "    fig = makeFig(key)\n",
    "    fig.write_image(\"./images/\"+key+\".png\")\n",
    "    pdf.image(\"./images/\"+key+\".png\",10,10,175,175)\n",
    "pdf.output(\"./yourfile.pdf\", \"F\")"
   ]
  },
  {
   "cell_type": "code",
   "execution_count": null,
   "metadata": {},
   "outputs": [],
   "source": []
  }
 ],
 "metadata": {
  "colab": {
   "collapsed_sections": [],
   "name": "pilotScatterplotsClean.ipynb",
   "provenance": []
  },
  "kernelspec": {
   "display_name": "Python 3 (ipykernel)",
   "language": "python",
   "name": "python3"
  },
  "language_info": {
   "codemirror_mode": {
    "name": "ipython",
    "version": 3
   },
   "file_extension": ".py",
   "mimetype": "text/x-python",
   "name": "python",
   "nbconvert_exporter": "python",
   "pygments_lexer": "ipython3",
   "version": "3.9.7"
  }
 },
 "nbformat": 4,
 "nbformat_minor": 1
}
