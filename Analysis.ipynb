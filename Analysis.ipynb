{
 "cells": [
  {
   "cell_type": "markdown",
   "metadata": {
    "id": "SJj2vLdPMndg"
   },
   "source": [
    "# Final Analysis"
   ]
  },
  {
   "cell_type": "markdown",
   "metadata": {
    "id": "k9MpoJBjMqeQ"
   },
   "source": [
    "## Study Information\n",
    "\n"
   ]
  },
  {
   "cell_type": "markdown",
   "metadata": {
    "id": "o8GIVRdTMwDP"
   },
   "source": [
    "### Title\n",
    "\n",
    "Benchmarking the Visual Utility of Private Scatterplots"
   ]
  },
  {
   "cell_type": "markdown",
   "metadata": {
    "id": "5PAR72bOM3HH"
   },
   "source": [
    "### Authors\n",
    "Liudas Panavas, Tarik Crnovrsanin, Jane Lydia Adams, Jonathan Ullman, Ali Sargavad, Melanie Tory, and Cody Dunne"
   ]
  },
  {
   "cell_type": "markdown",
   "metadata": {
    "id": "1_N3sngWMxv-"
   },
   "source": [
    "### Hypotheses\n",
    "\n",
    "\n",
    "1.   Different algorithms' visual utility will vary depending on the shape of the data. This will be determined by the median utility rating being different for at least two of the algorithms as determined by the Friedman test. \n",
    "2.   Different algorithms' visual utility will vary depending on the task associated with the data.  This will be determined by the median utility rating being different for at least two of the algorithms as determined by the Friedman test. \n",
    "3.   Different algorithms' visual utility will vary depending on the privacy level chosen.  This will be determined by the median utility rating being different for at least two of the algorithms as determined by the Friedman test. \n",
    "4.   Different algorithms' visual utility will vary depending on the bin size chosen. This will be determined by the median utility rating being different for at least two of the algorithms as determined by the Friedman test. \n",
    "5.   At least two common metrics of utility will have different strengths of association with the visual utility scores generated. \n",
    "\n"
   ]
  },
  {
   "cell_type": "markdown",
   "metadata": {
    "id": "AWVH0m_NjVVp"
   },
   "source": [
    "### Contributions\n",
    "\n",
    "\n",
    "\n",
    "1.   A comparison of differential privacy algorithms' visual utility across a range of tasks, bin sizes, privacy levels, and scatterplot shapes.\n",
    "2.   Guidance on how to display 2D histrograms privately using differential privacy. Discussion on how to improve the visual quality of the output of the data.\n",
    "3.   An examination of how utility metrics correspond to human-percieved utilty.\n",
    "\n",
    "\n"
   ]
  },
  {
   "cell_type": "markdown",
   "metadata": {
    "id": "634G2JoSNB8Y"
   },
   "source": [
    "## Design Plan"
   ]
  },
  {
   "cell_type": "markdown",
   "metadata": {
    "id": "MzsOWfgbNEP3"
   },
   "source": [
    "### Study type \n",
    "\n",
    "Observational Study/Data study"
   ]
  },
  {
   "cell_type": "markdown",
   "metadata": {
    "id": "okIvQsdKNIoI"
   },
   "source": [
    "### Blinding \n",
    "\n",
    "Experts will not be able to see either the privacy parameter nor the algorithm used. They will only see the two plots side by side."
   ]
  },
  {
   "cell_type": "markdown",
   "metadata": {
    "id": "V4vRPISdNL3e"
   },
   "source": [
    "### Study Design\n",
    "The questions are blocked by task. The experts will therefore first go through all questions related to their ability to identify the same correlation in the private plot as the original plot. Then they will proceed through clusters and distribution questions. Inside of these blocks the questions are randomly ordered. Because this is a data study we are not concerned with ordering effects.\n",
    "\n",
    "3 raters will see all the stimuli and give a rating for each one.\n",
    "\n",
    "Five factors:\n",
    "\n",
    "* Algorithm (DAWA, AHP, AGrid, Laplace, Geometric Truncated)\n",
    "* Epsilon, $\\epsilon$ (.5, .1, .05, .01)\n",
    "* Task (Clusters, Distributions, Correlation)\n",
    "* Scatterplot shape (20 different shapes)\n",
    "* Bin Size (32x32, 64x64)\n",
    "\n",
    "Utility Metrics tested:\n",
    "\n",
    "* Average per Query Error - [Paper](https://doi.org/10.48550/arXiv.1512.04817), [Implementation](https://github.com/dpcomp-org/dpcomp_core)\n",
    "* MS-SSIM - [Paper](https://doi.org/10.1109/ACSSC.2003.1292216), [Implementation](https://github.com/VainF/pytorch-msssim)\n",
    "* Scagnostics - [Paper](https://research.tableau.com/sites/default/files/Wilkinson_Infovis-05.pdf), [Implementation](https://pypi.org/project/pyscagnostics/)\n",
    "* Earth Movers Distance - [Paper](https://doi.org/10.1109/TVCG.2017.2745139), [Implementation](https://docs.scipy.org/doc/scipy/reference/generated/scipy.stats.wasserstein_distance.html)\n",
    "* 1\\Epsilon - [Paper](https://doi.org/10.48550/arXiv.2201.05964)\n",
    "* SDMetrics - [Paper](https://doi.org/10.48550/arXiv.2112.09238), [Implementation](https://github.com/sdv-dev/SDMetrics)\n",
    "\n",
    "    * KSTest\n",
    "    * BNLikelihood"
   ]
  },
  {
   "cell_type": "markdown",
   "metadata": {
    "id": "BmB02J38NSjO"
   },
   "source": [
    "## Sampling Plan"
   ]
  },
  {
   "cell_type": "markdown",
   "metadata": {
    "id": "l03A5uC9NXIX"
   },
   "source": [
    "### Existing data\n",
    "\n",
    "Registration prior to creation of data: As of the date of submission of this research plan for preregistration, the data have not yet been collected, created, or realized. "
   ]
  },
  {
   "cell_type": "markdown",
   "metadata": {
    "id": "KyG9N4O4NX-R"
   },
   "source": [
    "### Data collection procedures\n",
    "\n",
    "Population: Visualization Experts\n",
    "\n",
    "Recruitment efforts: Project collaborators\n",
    "\n",
    "Payment: None\n",
    "\n",
    "Eligibility: Data Visualization Professor\n",
    "\n",
    "Timeline: Data collected in July\n",
    "\n",
    "Data is collected through a study website. There each expert will be able to rate the utility of each plot they see. The data for each expert is exported in a json format indicating the underlying parameters that generated the private plot and the expert rating. "
   ]
  },
  {
   "cell_type": "markdown",
   "metadata": {
    "id": "AgkoJvWGNcXe"
   },
   "source": [
    "### Sample size \n",
    "\n",
    "\n",
    "1,200 judgements from three expert reviewers"
   ]
  },
  {
   "cell_type": "markdown",
   "metadata": {
    "id": "p7J0VnxSNda-"
   },
   "source": [
    "### Sample size rationale\n",
    "\n",
    "Our study is a qualitative data study. We are interested in the way the manipulated variables affected the utility of the data and the not differences of people's perception of utility. Our goal is to test as many parameters as possible and this can be done with a smaller amount of dedicated coders. Previous work done by [Seldmair et al.](https://doi.org/10.1109/TVCG.2013.153) uses two coders when they propose the concept of a qualitative data study. We use three coders since the definition of utility can be hard to pinpoint and having another perspective ensures that our consensus on the private plots utility stems from a broad background. The three coders make 1,200 judgements (5 algorithms x 2 bins sizes x 4 privacy levels x 30 scaterplot/tasks). Not every shape is conducive to all three tasks so each plot was labeled with the tasks an analyst would likely use it for. \n",
    "\n",
    "We did not do the typical user study with many participants and a power analysis for several reasons. Asking participants to answer over a thousand questions requires an unreasonable amount of time and resources. Additionally, participants recruited from a general pool have likely not done extensive data analysis. All three of our experts are experienced in analyzing scatterplot data for the specified tasks. Therefore, they were able to discuss what utility means for a data analyst and come to an agreed upon ranking of utility related to their experience that would have been impossible if a random population sample had been chosen as the study participants. Finally, the majority variation in the ratings stems from the data and not from the reviewers perception of the data.\n",
    "\n",
    "Since we are not comparing across individuals but instead comparing across data variables, we first ran a pilot study to ensure the trained coders agreed upon the evaluation of the data. We use an inter-rater reliability (IRR) metric to ensure the coders consistently agree upon their evaluation of utility. A high IRR ensures that the variation in the utility of the private plots arises from the differences in the plot parameters and not from the differences in coder perception. IRR scores range from a score of 0 to 1. As an example, a score of .8 would mean that 80\\% of the variance is due to the true variance of the underlying data and 20\\% of the variance is due to the differences in coder ratings. A common practice is to set an a-priori value of inter-rater reliability to ensure there is an appropriate amount of agreement amongst the coders before they are presented with the real data. Our a-priori was set at .6 which is classified as substantial aggreement by [Kevin Hallgren](https://doi.org/10.20982%2Ftqmp.08.1.p023). This allows us to attribute the differences in the scores to the data and not to the users. \n",
    "\n",
    "For our pilot study we found an IRR of .7311 with a 95% confidence interval of [0.68, 0.78]. This was an acceptable score based of Kevin Hallgren's recommendations. The statistical analysis can be found in the inter-coder reliability [section](#IRR).\n",
    "\n"
   ]
  },
  {
   "cell_type": "markdown",
   "metadata": {
    "id": "gfc8J8B4NgPl"
   },
   "source": [
    "## Variables"
   ]
  },
  {
   "cell_type": "markdown",
   "metadata": {
    "id": "rCTsgrw9Ni4W"
   },
   "source": [
    "### Manipulated variables\n",
    "\n",
    "We manipulated 5 variables: task type, scatterplot type, privacy level, bin number, algorithm used. \n",
    "\n",
    "There are 3 tasks that we wanted to ensure the user of the private scatterplot could still complete. They are listed below with the wording of the question from the study. \n",
    "\n",
    "\n",
    "*   <b>Distribution: </b>\n",
    "            The distribution of points in space for the graph on the right\n",
    "            is comparable to the graph on the left, including the visibility of \n",
    "            manifolds and the relative density of each region.\n",
    "*   <b>Correlation: </b>\n",
    "            The graph on the right preserves the level of\n",
    "            dependence between the two attributes—including non-linear\n",
    "            dependence.\n",
    "*   <b>Clusters: </b>\n",
    "            The clusters visible in the graph on the left—and\n",
    "            no other clusters—are visible on the graph on the right and occur in\n",
    "            the same places.\n",
    "\n",
    "\n",
    "For our scatterplot types we chose scatterplots from each of the 20 categories generated by [Pandey et al.](https://doi.org/10.1145/2858036.2858155). The scatterplots had points added until all scatterplots had 5000 points. The 20 scatterplots can all be seen in [scatterplotStimuli.pdf](scatterplotStimuli.pdf) and the code to generate them can be found at [scatterplotDensification.ipynb](scatterplotDensification.ipynb). The website that the study was conducted with can be found under [pilotPrivatePlotsStudyWebsite.zip](pilotPrivatePlotsStudyWebsite.zip) with the pilot data added.\n",
    "\n",
    "The privacy level was adjusted by epsilon. The four different levels of epsilon chosen were .5, .1, .05, .01. The two different bin numbers used to generate the binned scatterplots were 32 and 64 evenly-sized bins. The five algorithms selected were [DAWA](https://doi.org/10.48550/arXiv.1410.0265), [AHP](https://doi.org/10.1137/1.9781611973440.68), [AGrid](https://doi.org/10.1109/ICDE.2013.6544872), [Laplace](https://doi.org/10.1007/978-3-540-32732-5_32), and [Geometric Truncated](https://doi.org/10.48550/arXiv.0811.2841). The implementation for DAWA, AHP, and AGrid can be found [here](https://github.com/dpcomp-org/dpcomp_core) and the implementation for Laplace and Geometric Truncated can be found [here](https://diffprivlib.readthedocs.io/en/latest/index.html). The full code to generate the plots can be found at [pilotPrivatePlotGenerationAndStatsErrors.ipynb](pilotPrivatePlotGenerationAndStatsErrors.ipynb).\n"
   ]
  },
  {
   "cell_type": "markdown",
   "metadata": {
    "id": "FQWUuDc9NlUv"
   },
   "source": [
    "### Measured variables\n",
    "\n",
    "\n",
    "The ability of the private plot to retain the task utility is evaluated on a 4 point Likert scale. The categories were limited to four for two reasons. The nuances between different ratings of a more fine grained scale would between difficult to discern and our goal was to keep inter rater reliability high to validate our approach of many datasets tested with a small group of people. Our abbreviated scale can be described as: the user [doesn't, suggests, somewhat, does] retain the ability to complete the task using the private scatterplot when compared to the original binned plot.\n",
    "\n",
    "*   0: Doesn’t preserve the feature\n",
    "*   1: Suggests the feature could exist\n",
    "*   2: Somewhat preserves the feature\n",
    "*   3: Preserves the feature very well\n",
    "\n",
    "To better explain each ratings the reviewers agreed upon the following definitions for each rating:\n",
    "\n",
    "* Doesn’t preserve the feature: I have no confidence that the feature exists.\n",
    "* Suggests the feature could exist: It looks like the feature might exist but I have low confidence and/or the feature is shown with little clarity.\n",
    "* Somewhat preserves the feature: I’m confident this feature exists but its fidelity is meaningfully lower than the original plot.\n",
    "* Preserves the feature very well: I’m confident the feature exists and it is shown with high fidelity relative to the original plot."
   ]
  },
  {
   "cell_type": "markdown",
   "metadata": {
    "id": "9JKrJ23wNorN"
   },
   "source": [
    "### Indices \n",
    "\n",
    "\n",
    "* <b>Median Utility Rating</b>: To create one rating for each stimulus to use for our analysis from the three ratings that are provided by the coders we use the median of the ratings. Since the data is ordinal and does not have an equal defined spacing between the four ratings we do not use the mean. The median provides us with one homogenous rating from the three raters. \n",
    "\n",
    "* <b>Kendall's $\\tau_b$</b>: For each automated utility metric we will calculate Kendall's $\\tau_b$ for the metric against the median utility rating. This indice will be used to test hypothesis 5."
   ]
  },
  {
   "cell_type": "markdown",
   "metadata": {
    "id": "5siVoXudNrFH"
   },
   "source": [
    "## Analysis Plan\n",
    "\n",
    "The current analysis code is run with pilot data. Once the study data is collected the exact same code will be run on the full data."
   ]
  },
  {
   "cell_type": "markdown",
   "metadata": {
    "id": "7HGm_NE7Nt32"
   },
   "source": [
    "### Inter-Coder Reliability\n",
    "\n",
    "<a id='#IRR'></a>\n",
    "\n",
    "To ensure that our task questions and structure were clear across all raters, we ran pilot tests to ensure inter-rater reliability was acceptable. To test the interrater reliability we follow the guidelines for choosing intraclass correlation coefficient (ICC) selection as set out by [Koo and Li](https://doi.org/10.1016%2Fj.jcm.2016.02.012). ICC's are a common way of testing interrater reliatiblity. \n",
    "\n",
    "There are 10 different forms of ICC that rely on different assumptions. To start we are testing for interrater reliability which should not be mistaken for test-retest reliability or intrarater reliability. Interrater reliability measures the variance of across raters on a set of stimuli (stimuli in our case are the private data plots). The selection of the correct ICC comes by defining the model, type, and definition of relationship. Our model is a two-way random effects model. We choose this model because we have the same set of raters evaluate all the data and we generalize our results to any raters who have the same characteristics as our raters. Type asks how the rating will be used in the application. Multiple raters means the average of the ratings will be used while single rater means we will treat the rating as if it came from a single rater though multiple raters made the judgement. Our study involves ordinal data and therefore the average of the three raters does not work. Therefore, we use the single rater type. Finally, for the relationship of the evaluations we can choose between absolute agreement and consistency. For our ratings we are looking for absolute agreement since we want a consensus on utility. \n",
    "\n",
    "Therefore our final ICC selection corresponds to a Two-way mixed effects, absolute agreement, single rater/measurement - ICC(3,1).\n",
    "\n",
    "$\\frac{MS_R-MS_E}{MS_R+(k-1)MS_E}$\n",
    "\n",
    "where $MS_R$ = mean square for rows; $MS_E$ = mean square for error; and k = number of raters/measurements.\n",
    "\n",
    "We used .6 as our minimum cutoff for the kappa to proceed with the actual study. This corresponds with good and substantial agreement from the papers presented by [Cicchetti](https://psycnet.apa.org/doi/10.1037/1040-3590.6.4.284) and [Landis and Koch](https://doi.org/10.2307/2529310)."
   ]
  },
  {
   "cell_type": "code",
   "execution_count": 1,
   "metadata": {
    "executionInfo": {
     "elapsed": 3455,
     "status": "ok",
     "timestamp": 1663009105822,
     "user": {
      "displayName": "Jane Adams",
      "userId": "13745127763993145309"
     },
     "user_tz": 240
    },
    "id": "Q2h0D2alF0Hw"
   },
   "outputs": [],
   "source": [
    "%%capture\n",
    "\n",
    "!pip install pingouin"
   ]
  },
  {
   "cell_type": "code",
   "execution_count": 2,
   "metadata": {
    "colab": {
     "base_uri": "https://localhost:8080/",
     "height": 424
    },
    "executionInfo": {
     "elapsed": 795,
     "status": "ok",
     "timestamp": 1663009106612,
     "user": {
      "displayName": "Jane Adams",
      "userId": "13745127763993145309"
     },
     "user_tz": 240
    },
    "id": "pqQe-WVeGFrO",
    "outputId": "5078d53f-0028-495a-a279-c446b3137db5"
   },
   "outputs": [
    {
     "data": {
      "text/html": [
       "<div>\n",
       "<style scoped>\n",
       "    .dataframe tbody tr th:only-of-type {\n",
       "        vertical-align: middle;\n",
       "    }\n",
       "\n",
       "    .dataframe tbody tr th {\n",
       "        vertical-align: top;\n",
       "    }\n",
       "\n",
       "    .dataframe thead th {\n",
       "        text-align: right;\n",
       "    }\n",
       "</style>\n",
       "<table border=\"1\" class=\"dataframe\">\n",
       "  <thead>\n",
       "    <tr style=\"text-align: right;\">\n",
       "      <th></th>\n",
       "      <th>0</th>\n",
       "      <th>1</th>\n",
       "      <th>2</th>\n",
       "    </tr>\n",
       "  </thead>\n",
       "  <tbody>\n",
       "    <tr>\n",
       "      <th>18_AGrid_clusters_0.01_32</th>\n",
       "      <td>0</td>\n",
       "      <td>0</td>\n",
       "      <td>0</td>\n",
       "    </tr>\n",
       "    <tr>\n",
       "      <th>16_AGrid_clusters_0.01_32</th>\n",
       "      <td>0</td>\n",
       "      <td>0</td>\n",
       "      <td>0</td>\n",
       "    </tr>\n",
       "    <tr>\n",
       "      <th>2_AGrid_clusters_0.01_32</th>\n",
       "      <td>0</td>\n",
       "      <td>0</td>\n",
       "      <td>0</td>\n",
       "    </tr>\n",
       "    <tr>\n",
       "      <th>7_AGrid_correlation_0.01_32</th>\n",
       "      <td>0</td>\n",
       "      <td>0</td>\n",
       "      <td>0</td>\n",
       "    </tr>\n",
       "    <tr>\n",
       "      <th>0_AGrid_correlation_0.01_32</th>\n",
       "      <td>0</td>\n",
       "      <td>0</td>\n",
       "      <td>0</td>\n",
       "    </tr>\n",
       "    <tr>\n",
       "      <th>...</th>\n",
       "      <td>...</td>\n",
       "      <td>...</td>\n",
       "      <td>...</td>\n",
       "    </tr>\n",
       "    <tr>\n",
       "      <th>1_AHP_distribution_0.5_64</th>\n",
       "      <td>3</td>\n",
       "      <td>3</td>\n",
       "      <td>2</td>\n",
       "    </tr>\n",
       "    <tr>\n",
       "      <th>11_Laplace_distribution_0.1_64</th>\n",
       "      <td>0</td>\n",
       "      <td>1</td>\n",
       "      <td>1</td>\n",
       "    </tr>\n",
       "    <tr>\n",
       "      <th>17_AHP_distribution_0.05_32</th>\n",
       "      <td>0</td>\n",
       "      <td>0</td>\n",
       "      <td>0</td>\n",
       "    </tr>\n",
       "    <tr>\n",
       "      <th>1_Laplace_distribution_0.1_32</th>\n",
       "      <td>1</td>\n",
       "      <td>1</td>\n",
       "      <td>1</td>\n",
       "    </tr>\n",
       "    <tr>\n",
       "      <th>1_AGrid_distribution_0.05_64</th>\n",
       "      <td>1</td>\n",
       "      <td>1</td>\n",
       "      <td>1</td>\n",
       "    </tr>\n",
       "  </tbody>\n",
       "</table>\n",
       "<p>1200 rows × 3 columns</p>\n",
       "</div>"
      ],
      "text/plain": [
       "                                0  1  2\n",
       "18_AGrid_clusters_0.01_32       0  0  0\n",
       "16_AGrid_clusters_0.01_32       0  0  0\n",
       "2_AGrid_clusters_0.01_32        0  0  0\n",
       "7_AGrid_correlation_0.01_32     0  0  0\n",
       "0_AGrid_correlation_0.01_32     0  0  0\n",
       "...                            .. .. ..\n",
       "1_AHP_distribution_0.5_64       3  3  2\n",
       "11_Laplace_distribution_0.1_64  0  1  1\n",
       "17_AHP_distribution_0.05_32     0  0  0\n",
       "1_Laplace_distribution_0.1_32   1  1  1\n",
       "1_AGrid_distribution_0.05_64    1  1  1\n",
       "\n",
       "[1200 rows x 3 columns]"
      ]
     },
     "execution_count": 2,
     "metadata": {},
     "output_type": "execute_result"
    }
   ],
   "source": [
    "import pandas as pd\n",
    "import os\n",
    "import json\n",
    "import re, json, requests\n",
    "\n",
    " \n",
    "# assign directory\n",
    "directory = './finalResults'\n",
    "# directory = ['/finalResults/user0.json', './finalResults/user1.json', './finalResults/user2.json']\n",
    " \n",
    "# iterate over files in\n",
    "# that directory\n",
    "answerDict = {}\n",
    "\n",
    "for filename in os.listdir(directory):\n",
    "    f = os.path.join(directory, filename)\n",
    "    # checking if it is a file\n",
    "    if os.path.isfile(f):\n",
    "      # print(f)\n",
    "        file=open(f)\n",
    "        data=json.load(file)\n",
    "        for d in data['answers']:\n",
    "          if d[0] in answerDict:\n",
    "            answerDict[d[0]].append(d[1])\n",
    "          else:\n",
    "            answerDict[d[0]] = [d[1]]\n",
    "\n",
    "answerDataFrame = pd.DataFrame.from_dict(answerDict)\n",
    "answerDataFrame = answerDataFrame.T\n",
    "answerDataFrame"
   ]
  },
  {
   "cell_type": "code",
   "execution_count": 3,
   "metadata": {
    "executionInfo": {
     "elapsed": 208,
     "status": "ok",
     "timestamp": 1663009106816,
     "user": {
      "displayName": "Jane Adams",
      "userId": "13745127763993145309"
     },
     "user_tz": 240
    },
    "id": "Mg24VRivF6ev"
   },
   "outputs": [],
   "source": [
    "import numpy as np\n",
    "# pingoinDF = pd.DataFrame(answerDataFrame.stack())\n",
    "\n",
    "question = answerDataFrame.index.to_numpy()\n",
    "# answerDataFrame = answerDataFrame.reset_index(drop=True)\n",
    "score0 = answerDataFrame[0].to_numpy()\n",
    "score1 = answerDataFrame[1].to_numpy()\n",
    "score2 = answerDataFrame[2].to_numpy()\n",
    "name0 = np.full(len(score0), 0)\n",
    "name1 = np.full(len(score1),1)\n",
    "name2 = np.full(len(score2),2)\n",
    "\n",
    "questions = np.concatenate((question, question, question))\n",
    "raters = np.concatenate((name0, name1, name2))\n",
    "ratings = np.concatenate((score0, score1, score2))\n",
    "# pingoinDF.columns = ['exam', 'rater', 'rating']\n",
    "df = pd.DataFrame({'question': questions, 'rater': raters, 'ratings': ratings})\n"
   ]
  },
  {
   "cell_type": "code",
   "execution_count": 4,
   "metadata": {
    "colab": {
     "base_uri": "https://localhost:8080/",
     "height": 238
    },
    "executionInfo": {
     "elapsed": 2650,
     "status": "ok",
     "timestamp": 1663009109464,
     "user": {
      "displayName": "Jane Adams",
      "userId": "13745127763993145309"
     },
     "user_tz": 240
    },
    "id": "3bqXFWRnF95i",
    "outputId": "aa920b47-8886-4632-f82c-8dd7c14f7acc"
   },
   "outputs": [
    {
     "data": {
      "text/html": [
       "<div>\n",
       "<style scoped>\n",
       "    .dataframe tbody tr th:only-of-type {\n",
       "        vertical-align: middle;\n",
       "    }\n",
       "\n",
       "    .dataframe tbody tr th {\n",
       "        vertical-align: top;\n",
       "    }\n",
       "\n",
       "    .dataframe thead th {\n",
       "        text-align: right;\n",
       "    }\n",
       "</style>\n",
       "<table border=\"1\" class=\"dataframe\">\n",
       "  <thead>\n",
       "    <tr style=\"text-align: right;\">\n",
       "      <th></th>\n",
       "      <th>Type</th>\n",
       "      <th>Description</th>\n",
       "      <th>ICC</th>\n",
       "      <th>F</th>\n",
       "      <th>df1</th>\n",
       "      <th>df2</th>\n",
       "      <th>pval</th>\n",
       "      <th>CI95%</th>\n",
       "    </tr>\n",
       "  </thead>\n",
       "  <tbody>\n",
       "    <tr>\n",
       "      <th>0</th>\n",
       "      <td>ICC1</td>\n",
       "      <td>Single raters absolute</td>\n",
       "      <td>0.795840</td>\n",
       "      <td>12.694364</td>\n",
       "      <td>1199</td>\n",
       "      <td>2400</td>\n",
       "      <td>0.0</td>\n",
       "      <td>[0.78, 0.81]</td>\n",
       "    </tr>\n",
       "    <tr>\n",
       "      <th>1</th>\n",
       "      <td>ICC2</td>\n",
       "      <td>Single random raters</td>\n",
       "      <td>0.798486</td>\n",
       "      <td>15.729241</td>\n",
       "      <td>1199</td>\n",
       "      <td>2398</td>\n",
       "      <td>0.0</td>\n",
       "      <td>[0.72, 0.85]</td>\n",
       "    </tr>\n",
       "    <tr>\n",
       "      <th>2</th>\n",
       "      <td>ICC3</td>\n",
       "      <td>Single fixed raters</td>\n",
       "      <td>0.830788</td>\n",
       "      <td>15.729241</td>\n",
       "      <td>1199</td>\n",
       "      <td>2398</td>\n",
       "      <td>0.0</td>\n",
       "      <td>[0.82, 0.85]</td>\n",
       "    </tr>\n",
       "    <tr>\n",
       "      <th>3</th>\n",
       "      <td>ICC1k</td>\n",
       "      <td>Average raters absolute</td>\n",
       "      <td>0.921225</td>\n",
       "      <td>12.694364</td>\n",
       "      <td>1199</td>\n",
       "      <td>2400</td>\n",
       "      <td>0.0</td>\n",
       "      <td>[0.91, 0.93]</td>\n",
       "    </tr>\n",
       "    <tr>\n",
       "      <th>4</th>\n",
       "      <td>ICC2k</td>\n",
       "      <td>Average random raters</td>\n",
       "      <td>0.922404</td>\n",
       "      <td>15.729241</td>\n",
       "      <td>1199</td>\n",
       "      <td>2398</td>\n",
       "      <td>0.0</td>\n",
       "      <td>[0.88, 0.94]</td>\n",
       "    </tr>\n",
       "    <tr>\n",
       "      <th>5</th>\n",
       "      <td>ICC3k</td>\n",
       "      <td>Average fixed raters</td>\n",
       "      <td>0.936424</td>\n",
       "      <td>15.729241</td>\n",
       "      <td>1199</td>\n",
       "      <td>2398</td>\n",
       "      <td>0.0</td>\n",
       "      <td>[0.93, 0.94]</td>\n",
       "    </tr>\n",
       "  </tbody>\n",
       "</table>\n",
       "</div>"
      ],
      "text/plain": [
       "    Type              Description       ICC          F   df1   df2  pval  \\\n",
       "0   ICC1   Single raters absolute  0.795840  12.694364  1199  2400   0.0   \n",
       "1   ICC2     Single random raters  0.798486  15.729241  1199  2398   0.0   \n",
       "2   ICC3      Single fixed raters  0.830788  15.729241  1199  2398   0.0   \n",
       "3  ICC1k  Average raters absolute  0.921225  12.694364  1199  2400   0.0   \n",
       "4  ICC2k    Average random raters  0.922404  15.729241  1199  2398   0.0   \n",
       "5  ICC3k     Average fixed raters  0.936424  15.729241  1199  2398   0.0   \n",
       "\n",
       "          CI95%  \n",
       "0  [0.78, 0.81]  \n",
       "1  [0.72, 0.85]  \n",
       "2  [0.82, 0.85]  \n",
       "3  [0.91, 0.93]  \n",
       "4  [0.88, 0.94]  \n",
       "5  [0.93, 0.94]  "
      ]
     },
     "execution_count": 4,
     "metadata": {},
     "output_type": "execute_result"
    }
   ],
   "source": [
    "import pingouin as pg\n",
    "icc = pg.intraclass_corr(data=df, targets='question', raters='rater',\n",
    "                         ratings='ratings')\n",
    "icc"
   ]
  },
  {
   "cell_type": "markdown",
   "metadata": {
    "id": "mGOEt-x7Gjq-"
   },
   "source": [
    "### Algorithm Comparison\n",
    "\n",
    "The selection of best algorithm for all the subsequent analysis follows a three step process:\n",
    "\n",
    "\n",
    "\n",
    "1.   Using the Friedman test, we ensure that there is a difference between the 5 different algorithms. If the Friedman test returns a p value < .05 we continue on step 2 - the post-hoc analysis.\n",
    "2.   We conduct a post-hoc conover test to see which algorithms significantly differ from each other. This gives us more specific insight into which algorithms specifically are different from one another. The post hoc test is corrected for multiple hypothesis testing using the Benjamini/Hochberg method.\n",
    "3.   We visualize the data to examine the results from the post-hoc conover test to see which of the algorithms that have statistically significant differences in their results yield higher visual utility.\n",
    "\n",
    "\n",
    "\n"
   ]
  },
  {
   "cell_type": "markdown",
   "metadata": {},
   "source": [
    "### Automated Utility Benchmarking"
   ]
  },
  {
   "cell_type": "markdown",
   "metadata": {},
   "source": [
    "We want to measure the strength of association between the visual utility ratings generated by our coders and metrics of utility that can be generated computationaly. Our coder rankings are ordinal and the metrics are continuous. When obtaining the association of ordinal-continuous variables [Harry Khamis](https://doi.org/10.1177/8756479308317006) recommends using Kendall's coeficient of rank correlation $τ_b$. $τ_b$ can range from -1 (perfect negative association) to 1 (perfect positive assocation). \n",
    "\n",
    "\n",
    "We calculate every metric (Average per query error, MS-SSIM, Scagnostics, 1/epsilon, Earth Movers Distance, KSTest, BNLikelihood) on every stimulus comparing the binned non private with the binned private plot. We match these plots based on all the parameters (algorithm, task, bin size, shape, epsilon). For each metric we find Kendall's $\\tau_b$. We use the [implementation](https://docs.scipy.org/doc/scipy-0.15.1/reference/generated/scipy.stats.kendalltau.html) provided by scipy.stats.\n",
    "\n",
    "\n",
    "We are submitting the preregistration without the implementation for all the metrics in our code. Links to the respective libraries we plan to use are provided.  "
   ]
  },
  {
   "cell_type": "markdown",
   "metadata": {},
   "source": [
    "### Inference Criteria\n",
    "\n",
    "To test our hypotheses we will be using a holistic approach. We will look at both the p-value the Friedman test returns as well as examining the distributions found in the data to see if there is a meaningful difference between the algorithms. We will also this approach for the post-hoc analysis.\n",
    "\n",
    "While we have no specific hypothesis for the statistical utility correlations with visual utility, we will determine which metric is best used by finding the one with the highest positive correlation that has a p-value of less than .05. To test hypothesis 5, we will use the fisher z-transformation to test the different metrics corrrelation coefficients."
   ]
  },
  {
   "cell_type": "markdown",
   "metadata": {},
   "source": [
    "#### P-Value Interpretation\n",
    "\n",
    "This p-value is the conditional probability of the data (or any result even more extreme) assuming:\n",
    "\n",
    "1. the null hypothesis H0 is exactly true,\n",
    "2. the study is repeated an infinite number times by drawing random samples from the same populations(s),\n",
    "3. all distributional requirements are met, and\n",
    "4. there is no source of error besides sampling or measurement error.\n",
    "\n",
    "p-value interpretation based on ([Kline, 2013](https://doi.org/10.1037/14136-000)])."
   ]
  },
  {
   "cell_type": "markdown",
   "metadata": {
    "id": "vY8Fv_N1lSvS"
   },
   "source": [
    "#### Code for analysis"
   ]
  },
  {
   "cell_type": "code",
   "execution_count": 77,
   "metadata": {
    "executionInfo": {
     "elapsed": 11887,
     "status": "ok",
     "timestamp": 1663009121346,
     "user": {
      "displayName": "Jane Adams",
      "userId": "13745127763993145309"
     },
     "user_tz": 240
    },
    "id": "cDJbS032j-ZJ"
   },
   "outputs": [],
   "source": [
    "%%capture\n",
    "import statistics\n",
    "from scipy.stats import friedmanchisquare\n",
    "\n",
    "\n",
    "!pip install scikit-posthocs"
   ]
  },
  {
   "cell_type": "code",
   "execution_count": 6,
   "metadata": {
    "colab": {
     "base_uri": "https://localhost:8080/"
    },
    "executionInfo": {
     "elapsed": 8103,
     "status": "ok",
     "timestamp": 1663009129441,
     "user": {
      "displayName": "Jane Adams",
      "userId": "13745127763993145309"
     },
     "user_tz": 240
    },
    "id": "NxRZ-zd_1lMh",
    "outputId": "2d823538-85f4-4006-9504-411e4fba56bb"
   },
   "outputs": [
    {
     "name": "stdout",
     "output_type": "stream",
     "text": [
      "Requirement already satisfied: kaleido in c:\\users\\lpana\\anaconda3\\lib\\site-packages (0.2.1)\n"
     ]
    },
    {
     "name": "stderr",
     "output_type": "stream",
     "text": [
      "WARNING: Ignoring invalid distribution -illow (c:\\users\\lpana\\anaconda3\\lib\\site-packages)\n",
      "WARNING: Ignoring invalid distribution -illow (c:\\users\\lpana\\anaconda3\\lib\\site-packages)\n",
      "WARNING: Ignoring invalid distribution -illow (c:\\users\\lpana\\anaconda3\\lib\\site-packages)\n",
      "WARNING: Ignoring invalid distribution -illow (c:\\users\\lpana\\anaconda3\\lib\\site-packages)\n",
      "WARNING: Ignoring invalid distribution -illow (c:\\users\\lpana\\anaconda3\\lib\\site-packages)\n",
      "WARNING: Ignoring invalid distribution -illow (c:\\users\\lpana\\anaconda3\\lib\\site-packages)\n"
     ]
    }
   ],
   "source": [
    "!pip install -U kaleido"
   ]
  },
  {
   "cell_type": "code",
   "execution_count": 78,
   "metadata": {},
   "outputs": [],
   "source": [
    "medianArray = []\n",
    "for index, row in answerDataFrame.iterrows():\n",
    "    medianArray.append( statistics.median([row[0], row[1], row[2]]))\n",
    "\n",
    "answerDataFrame['totalRating'] = medianArray"
   ]
  },
  {
   "cell_type": "markdown",
   "metadata": {},
   "source": [
    "<font color='red'>The chart number was extended to include all 20 charts</font>"
   ]
  },
  {
   "cell_type": "code",
   "execution_count": 96,
   "metadata": {
    "executionInfo": {
     "elapsed": 7,
     "status": "ok",
     "timestamp": 1663009129641,
     "user": {
      "displayName": "Jane Adams",
      "userId": "13745127763993145309"
     },
     "user_tz": 240
    },
    "id": "heLs_KKdRNNW"
   },
   "outputs": [],
   "source": [
    "tasks = ['distribution', 'clusters', 'correlation']\n",
    "epsilons = ['0.5', '0.1', '0.05', '0.01']\n",
    "algorithms = ['DAWA', 'AHP', \"AGrid\", 'Geometric', 'Laplace']\n",
    "bins = ['32','64']\n",
    "chart = ['0','1','2','3', '4', '5', '6', '7', '8', '9', '10', '11', '12', '13', '14', '15', '16', '17', '18', '19']"
   ]
  },
  {
   "cell_type": "markdown",
   "metadata": {},
   "source": [
    "<font color='red'> The function in the preregistration for creating the answer data frame used in th pilot was too slow. This function produces the same results but is faster. </font>"
   ]
  },
  {
   "cell_type": "code",
   "execution_count": 81,
   "metadata": {
    "executionInfo": {
     "elapsed": 213,
     "status": "ok",
     "timestamp": 1663009129849,
     "user": {
      "displayName": "Jane Adams",
      "userId": "13745127763993145309"
     },
     "user_tz": 240
    },
    "id": "M4oaL5FgZsQ1"
   },
   "outputs": [],
   "source": [
    "def getFilteredArray(df, name):\n",
    "  dataFiltered = df.filter(like=name, axis=0)\n",
    "  DAWA = []\n",
    "  AHP = []\n",
    "  AGrid = []\n",
    "  Geometric = []\n",
    "  Laplace = []\n",
    "  index = []\n",
    "  exDF = dataFiltered\n",
    "  while len(exDF.index)>0:\n",
    "    # print(len(exDF.index))\n",
    "    for e in epsilons:\n",
    "      for b in bins:\n",
    "        for t in tasks:\n",
    "          for c in chart:  \n",
    "            if (c+ \"_\" + 'Laplace_'+ t+'_'+ e+'_'+b ) in exDF.index:\n",
    "              for a in algorithms:\n",
    "                if a == 'Laplace':\n",
    "                  Laplace.append(exDF.loc[c+ \"_\" + a+'_'+ t+'_'+ e+'_'+b ]['totalRating'])\n",
    "                  exDF = exDF.drop(c+ \"_\" + a+'_'+ t+'_'+ e+'_'+b )\n",
    "                if a == 'DAWA':\n",
    "                  DAWA.append(exDF.loc[c+ \"_\" + a+'_'+ t+'_'+ e+'_'+b ]['totalRating'])\n",
    "                  exDF = exDF.drop(c+ \"_\" + a+'_'+ t+'_'+ e+'_'+b )\n",
    "                if a == 'AGrid':\n",
    "                  AGrid.append(exDF.loc[c+ \"_\" + a+'_'+ t+'_'+ e+'_'+b ]['totalRating'])\n",
    "                  exDF = exDF.drop(c+ \"_\" + a+'_'+ t+'_'+ e+'_'+b )\n",
    "                if a == 'Geometric':\n",
    "                  Geometric.append(exDF.loc[c+ \"_\" + a+'_'+ t+'_'+ e+'_'+b ]['totalRating'])\n",
    "                  exDF = exDF.drop(c+ \"_\" + a+'_'+ t+'_'+ e+'_'+b )\n",
    "                if a == 'AHP':\n",
    "                  AHP.append(exDF.loc[c+ \"_\" + a+'_'+ t+'_'+ e+'_'+b ]['totalRating'])\n",
    "                  exDF = exDF.drop(c+ \"_\" + a+'_'+ t+'_'+ e+'_'+b )\n",
    "                  index.append(c+ '_'+ t+'_'+ e+'_'+b )\n",
    "  dfAlgorithms =  pd.DataFrame({'DAWA': DAWA, 'AHP': AHP, 'AGrid': AGrid, 'Geometric': Geometric, 'Laplace': Laplace})\n",
    "  return dfAlgorithms"
   ]
  },
  {
   "cell_type": "markdown",
   "metadata": {
    "id": "CY2lQvHzlDyQ"
   },
   "source": [
    "##### Step 1: Friedman Test"
   ]
  },
  {
   "cell_type": "code",
   "execution_count": 87,
   "metadata": {
    "executionInfo": {
     "elapsed": 9,
     "status": "ok",
     "timestamp": 1663009131557,
     "user": {
      "displayName": "Jane Adams",
      "userId": "13745127763993145309"
     },
     "user_tz": 240
    },
    "id": "yNv3RBq0erYp"
   },
   "outputs": [],
   "source": [
    "def getFriedmanResult(df):\n",
    "  stat, p = friedmanchisquare(df['DAWA'], df['AHP'],df['AGrid'], df['Geometric'], df['Laplace'])\n",
    "  print('Statistics=%.3f, p=%.3f' % (stat, p))"
   ]
  },
  {
   "cell_type": "markdown",
   "metadata": {
    "id": "FWM7a5uWlHFY"
   },
   "source": [
    "##### Step 2: Post Hoc Conover\n",
    "\n",
    "\n"
   ]
  },
  {
   "cell_type": "code",
   "execution_count": 88,
   "metadata": {
    "executionInfo": {
     "elapsed": 10,
     "status": "ok",
     "timestamp": 1663009131558,
     "user": {
      "displayName": "Jane Adams",
      "userId": "13745127763993145309"
     },
     "user_tz": 240
    },
    "id": "ZDocnOxXe0en"
   },
   "outputs": [],
   "source": [
    "import scikit_posthocs as sp\n",
    "\n",
    "def getConoverPostHoc(df):\n",
    "  newLook = sp.__convert_to_block_df(df)\n",
    "  pc = sp.posthoc_conover(newLook[0], val_col='y', group_col='groups', p_adjust = 'fdr_bh')\n",
    "  pd.set_option('display.float_format', lambda x: '%.5f' % x)\n",
    "  return pc"
   ]
  },
  {
   "cell_type": "markdown",
   "metadata": {
    "id": "5ykz2jcDlKlZ"
   },
   "source": [
    "##### Step 3: Visualization"
   ]
  },
  {
   "cell_type": "code",
   "execution_count": 89,
   "metadata": {
    "executionInfo": {
     "elapsed": 9,
     "status": "ok",
     "timestamp": 1663009131558,
     "user": {
      "displayName": "Jane Adams",
      "userId": "13745127763993145309"
     },
     "user_tz": 240
    },
    "id": "x1a00Mmwe-mv"
   },
   "outputs": [],
   "source": [
    "import matplotlib.pyplot as plt\n",
    "\n",
    "def getVisual(df):\n",
    "  frequencies = {}\n",
    "  for i in df.columns:\n",
    "      frequencies[i] = df[i].value_counts()\n",
    "  plotdata = pd.DataFrame(frequencies)\n",
    "  plotdata = plotdata.transpose()\n",
    "  plotdata2 = plotdata.div(plotdata.sum(axis=1), axis=0)*100\n",
    "  plotdata2.plot(kind=\"barh\", stacked=True)\n",
    "  plt.legend(bbox_to_anchor=(1.05, 1))\n",
    "  plt.ylabel('Algorithm')\n",
    "  plt.xlabel('Cumulative Percent')\n",
    "  # return plotdata2"
   ]
  },
  {
   "cell_type": "markdown",
   "metadata": {
    "id": "mFCzFvTgY9nj"
   },
   "source": [
    "#### Best Overall Algorithm\n"
   ]
  },
  {
   "cell_type": "code",
   "execution_count": 90,
   "metadata": {
    "executionInfo": {
     "elapsed": 975,
     "status": "ok",
     "timestamp": 1663009132525,
     "user": {
      "displayName": "Jane Adams",
      "userId": "13745127763993145309"
     },
     "user_tz": 240
    },
    "id": "VrPup6PtkRSJ"
   },
   "outputs": [],
   "source": [
    "filteredDf = getFilteredArray(answerDataFrame, '0')\n"
   ]
  },
  {
   "cell_type": "code",
   "execution_count": 91,
   "metadata": {
    "colab": {
     "base_uri": "https://localhost:8080/"
    },
    "executionInfo": {
     "elapsed": 8,
     "status": "ok",
     "timestamp": 1663009132527,
     "user": {
      "displayName": "Jane Adams",
      "userId": "13745127763993145309"
     },
     "user_tz": 240
    },
    "id": "uk57a3Bskb6y",
    "outputId": "03d4a553-054d-4efd-bd28-1ec94686e9f7"
   },
   "outputs": [
    {
     "name": "stdout",
     "output_type": "stream",
     "text": [
      "Statistics=103.087, p=0.000\n"
     ]
    }
   ],
   "source": [
    "getFriedmanResult(filteredDf)"
   ]
  },
  {
   "cell_type": "code",
   "execution_count": 92,
   "metadata": {
    "colab": {
     "base_uri": "https://localhost:8080/",
     "height": 206
    },
    "executionInfo": {
     "elapsed": 219,
     "status": "ok",
     "timestamp": 1663009132741,
     "user": {
      "displayName": "Jane Adams",
      "userId": "13745127763993145309"
     },
     "user_tz": 240
    },
    "id": "tcLoe003keqO",
    "outputId": "f8b79e52-7829-45f1-fcac-bcf1270ff3fd"
   },
   "outputs": [
    {
     "data": {
      "text/html": [
       "<div>\n",
       "<style scoped>\n",
       "    .dataframe tbody tr th:only-of-type {\n",
       "        vertical-align: middle;\n",
       "    }\n",
       "\n",
       "    .dataframe tbody tr th {\n",
       "        vertical-align: top;\n",
       "    }\n",
       "\n",
       "    .dataframe thead th {\n",
       "        text-align: right;\n",
       "    }\n",
       "</style>\n",
       "<table border=\"1\" class=\"dataframe\">\n",
       "  <thead>\n",
       "    <tr style=\"text-align: right;\">\n",
       "      <th></th>\n",
       "      <th>AGrid</th>\n",
       "      <th>AHP</th>\n",
       "      <th>DAWA</th>\n",
       "      <th>Geometric</th>\n",
       "      <th>Laplace</th>\n",
       "    </tr>\n",
       "  </thead>\n",
       "  <tbody>\n",
       "    <tr>\n",
       "      <th>AGrid</th>\n",
       "      <td>1.00000</td>\n",
       "      <td>0.62154</td>\n",
       "      <td>0.00395</td>\n",
       "      <td>0.04635</td>\n",
       "      <td>0.76893</td>\n",
       "    </tr>\n",
       "    <tr>\n",
       "      <th>AHP</th>\n",
       "      <td>0.62154</td>\n",
       "      <td>1.00000</td>\n",
       "      <td>0.01835</td>\n",
       "      <td>0.15229</td>\n",
       "      <td>0.47531</td>\n",
       "    </tr>\n",
       "    <tr>\n",
       "      <th>DAWA</th>\n",
       "      <td>0.00395</td>\n",
       "      <td>0.01835</td>\n",
       "      <td>1.00000</td>\n",
       "      <td>0.39333</td>\n",
       "      <td>0.00265</td>\n",
       "    </tr>\n",
       "    <tr>\n",
       "      <th>Geometric</th>\n",
       "      <td>0.04635</td>\n",
       "      <td>0.15229</td>\n",
       "      <td>0.39333</td>\n",
       "      <td>1.00000</td>\n",
       "      <td>0.02592</td>\n",
       "    </tr>\n",
       "    <tr>\n",
       "      <th>Laplace</th>\n",
       "      <td>0.76893</td>\n",
       "      <td>0.47531</td>\n",
       "      <td>0.00265</td>\n",
       "      <td>0.02592</td>\n",
       "      <td>1.00000</td>\n",
       "    </tr>\n",
       "  </tbody>\n",
       "</table>\n",
       "</div>"
      ],
      "text/plain": [
       "            AGrid     AHP    DAWA  Geometric  Laplace\n",
       "AGrid     1.00000 0.62154 0.00395    0.04635  0.76893\n",
       "AHP       0.62154 1.00000 0.01835    0.15229  0.47531\n",
       "DAWA      0.00395 0.01835 1.00000    0.39333  0.00265\n",
       "Geometric 0.04635 0.15229 0.39333    1.00000  0.02592\n",
       "Laplace   0.76893 0.47531 0.00265    0.02592  1.00000"
      ]
     },
     "execution_count": 92,
     "metadata": {},
     "output_type": "execute_result"
    }
   ],
   "source": [
    "getConoverPostHoc(filteredDf)"
   ]
  },
  {
   "cell_type": "code",
   "execution_count": 93,
   "metadata": {
    "colab": {
     "base_uri": "https://localhost:8080/",
     "height": 279
    },
    "executionInfo": {
     "elapsed": 611,
     "status": "ok",
     "timestamp": 1663009133348,
     "user": {
      "displayName": "Jane Adams",
      "userId": "13745127763993145309"
     },
     "user_tz": 240
    },
    "id": "lSfG4tpTkgyZ",
    "outputId": "08df8b68-b065-4911-9f65-1ceeb2793fab"
   },
   "outputs": [
    {
     "data": {
      "image/png": "[encoded data removed]",
      "text/plain": [
       "<Figure size 432x288 with 1 Axes>"
      ]
     },
     "metadata": {
      "needs_background": "light"
     },
     "output_type": "display_data"
    }
   ],
   "source": [
    "getVisual(filteredDf)"
   ]
  },
  {
   "cell_type": "markdown",
   "metadata": {
    "id": "hsRc5rJJGmcW"
   },
   "source": [
    "#### Different Privacy Levels\n"
   ]
  },
  {
   "cell_type": "markdown",
   "metadata": {
    "id": "1COY3knYbJq5"
   },
   "source": [
    "##### Epsilon = .5"
   ]
  },
  {
   "cell_type": "code",
   "execution_count": 20,
   "metadata": {
    "executionInfo": {
     "elapsed": 356,
     "status": "ok",
     "timestamp": 1663009133701,
     "user": {
      "displayName": "Jane Adams",
      "userId": "13745127763993145309"
     },
     "user_tz": 240
    },
    "id": "UTDGrD7bfOex"
   },
   "outputs": [],
   "source": [
    "filteredDf = getFilteredArray(answerDataFrame, '_0.5_')\n",
    "\n"
   ]
  },
  {
   "cell_type": "code",
   "execution_count": 21,
   "metadata": {
    "colab": {
     "base_uri": "https://localhost:8080/"
    },
    "executionInfo": {
     "elapsed": 8,
     "status": "ok",
     "timestamp": 1663009133702,
     "user": {
      "displayName": "Jane Adams",
      "userId": "13745127763993145309"
     },
     "user_tz": 240
    },
    "id": "9squYfUff9o-",
    "outputId": "a0e6ea60-13bf-4f31-f838-832ee4fc024d"
   },
   "outputs": [
    {
     "name": "stdout",
     "output_type": "stream",
     "text": [
      "Statistics=61.320, p=0.000\n"
     ]
    }
   ],
   "source": [
    "getFriedmanResult(filteredDf)"
   ]
  },
  {
   "cell_type": "code",
   "execution_count": 22,
   "metadata": {
    "colab": {
     "base_uri": "https://localhost:8080/",
     "height": 206
    },
    "executionInfo": {
     "elapsed": 6,
     "status": "ok",
     "timestamp": 1663009133702,
     "user": {
      "displayName": "Jane Adams",
      "userId": "13745127763993145309"
     },
     "user_tz": 240
    },
    "id": "TqaQISS3gT-G",
    "outputId": "9ef69912-f2ff-4d95-ad33-a8b4192cef39"
   },
   "outputs": [
    {
     "data": {
      "text/html": [
       "<div>\n",
       "<style scoped>\n",
       "    .dataframe tbody tr th:only-of-type {\n",
       "        vertical-align: middle;\n",
       "    }\n",
       "\n",
       "    .dataframe tbody tr th {\n",
       "        vertical-align: top;\n",
       "    }\n",
       "\n",
       "    .dataframe thead th {\n",
       "        text-align: right;\n",
       "    }\n",
       "</style>\n",
       "<table border=\"1\" class=\"dataframe\">\n",
       "  <thead>\n",
       "    <tr style=\"text-align: right;\">\n",
       "      <th></th>\n",
       "      <th>AGrid</th>\n",
       "      <th>AHP</th>\n",
       "      <th>DAWA</th>\n",
       "      <th>Geometric</th>\n",
       "      <th>Laplace</th>\n",
       "    </tr>\n",
       "  </thead>\n",
       "  <tbody>\n",
       "    <tr>\n",
       "      <th>AGrid</th>\n",
       "      <td>1.00000</td>\n",
       "      <td>0.00000</td>\n",
       "      <td>0.00245</td>\n",
       "      <td>0.00000</td>\n",
       "      <td>0.12425</td>\n",
       "    </tr>\n",
       "    <tr>\n",
       "      <th>AHP</th>\n",
       "      <td>0.00000</td>\n",
       "      <td>1.00000</td>\n",
       "      <td>0.07217</td>\n",
       "      <td>0.57442</td>\n",
       "      <td>0.00082</td>\n",
       "    </tr>\n",
       "    <tr>\n",
       "      <th>DAWA</th>\n",
       "      <td>0.00245</td>\n",
       "      <td>0.07217</td>\n",
       "      <td>1.00000</td>\n",
       "      <td>0.02011</td>\n",
       "      <td>0.11990</td>\n",
       "    </tr>\n",
       "    <tr>\n",
       "      <th>Geometric</th>\n",
       "      <td>0.00000</td>\n",
       "      <td>0.57442</td>\n",
       "      <td>0.02011</td>\n",
       "      <td>1.00000</td>\n",
       "      <td>0.00012</td>\n",
       "    </tr>\n",
       "    <tr>\n",
       "      <th>Laplace</th>\n",
       "      <td>0.12425</td>\n",
       "      <td>0.00082</td>\n",
       "      <td>0.11990</td>\n",
       "      <td>0.00012</td>\n",
       "      <td>1.00000</td>\n",
       "    </tr>\n",
       "  </tbody>\n",
       "</table>\n",
       "</div>"
      ],
      "text/plain": [
       "            AGrid     AHP    DAWA  Geometric  Laplace\n",
       "AGrid     1.00000 0.00000 0.00245    0.00000  0.12425\n",
       "AHP       0.00000 1.00000 0.07217    0.57442  0.00082\n",
       "DAWA      0.00245 0.07217 1.00000    0.02011  0.11990\n",
       "Geometric 0.00000 0.57442 0.02011    1.00000  0.00012\n",
       "Laplace   0.12425 0.00082 0.11990    0.00012  1.00000"
      ]
     },
     "execution_count": 22,
     "metadata": {},
     "output_type": "execute_result"
    }
   ],
   "source": [
    "getConoverPostHoc(filteredDf)"
   ]
  },
  {
   "cell_type": "code",
   "execution_count": 23,
   "metadata": {
    "colab": {
     "base_uri": "https://localhost:8080/",
     "height": 279
    },
    "executionInfo": {
     "elapsed": 196,
     "status": "ok",
     "timestamp": 1663009133893,
     "user": {
      "displayName": "Jane Adams",
      "userId": "13745127763993145309"
     },
     "user_tz": 240
    },
    "id": "Zvo7GUzTgYc9",
    "outputId": "2ba9f04e-7f98-4320-df1f-fae2f03b3890"
   },
   "outputs": [
    {
     "data": {
      "image/png": "[encoded data removed]",
      "text/plain": [
       "<Figure size 432x288 with 1 Axes>"
      ]
     },
     "metadata": {
      "needs_background": "light"
     },
     "output_type": "display_data"
    }
   ],
   "source": [
    "getVisual(filteredDf)"
   ]
  },
  {
   "cell_type": "markdown",
   "metadata": {
    "id": "RYAHfIcugy7X"
   },
   "source": [
    "##### Epsilon .1"
   ]
  },
  {
   "cell_type": "code",
   "execution_count": 24,
   "metadata": {
    "executionInfo": {
     "elapsed": 10,
     "status": "ok",
     "timestamp": 1663009134085,
     "user": {
      "displayName": "Jane Adams",
      "userId": "13745127763993145309"
     },
     "user_tz": 240
    },
    "id": "75poyMBPg2as"
   },
   "outputs": [],
   "source": [
    "filteredDf = getFilteredArray(answerDataFrame, '_0.1_')"
   ]
  },
  {
   "cell_type": "code",
   "execution_count": 25,
   "metadata": {
    "colab": {
     "base_uri": "https://localhost:8080/"
    },
    "executionInfo": {
     "elapsed": 9,
     "status": "ok",
     "timestamp": 1663009134085,
     "user": {
      "displayName": "Jane Adams",
      "userId": "13745127763993145309"
     },
     "user_tz": 240
    },
    "id": "gcO6lbMHg6Gs",
    "outputId": "3c32578d-adc8-401f-c22b-95165944ea14"
   },
   "outputs": [
    {
     "name": "stdout",
     "output_type": "stream",
     "text": [
      "Statistics=30.755, p=0.000\n"
     ]
    }
   ],
   "source": [
    "getFriedmanResult(filteredDf)"
   ]
  },
  {
   "cell_type": "code",
   "execution_count": 26,
   "metadata": {
    "colab": {
     "base_uri": "https://localhost:8080/",
     "height": 206
    },
    "executionInfo": {
     "elapsed": 193,
     "status": "ok",
     "timestamp": 1663009134271,
     "user": {
      "displayName": "Jane Adams",
      "userId": "13745127763993145309"
     },
     "user_tz": 240
    },
    "id": "CCGONrf-g8BM",
    "outputId": "658d12ea-9ff7-4bc9-91a6-c925d4b4f79d"
   },
   "outputs": [
    {
     "data": {
      "text/html": [
       "<div>\n",
       "<style scoped>\n",
       "    .dataframe tbody tr th:only-of-type {\n",
       "        vertical-align: middle;\n",
       "    }\n",
       "\n",
       "    .dataframe tbody tr th {\n",
       "        vertical-align: top;\n",
       "    }\n",
       "\n",
       "    .dataframe thead th {\n",
       "        text-align: right;\n",
       "    }\n",
       "</style>\n",
       "<table border=\"1\" class=\"dataframe\">\n",
       "  <thead>\n",
       "    <tr style=\"text-align: right;\">\n",
       "      <th></th>\n",
       "      <th>AGrid</th>\n",
       "      <th>AHP</th>\n",
       "      <th>DAWA</th>\n",
       "      <th>Geometric</th>\n",
       "      <th>Laplace</th>\n",
       "    </tr>\n",
       "  </thead>\n",
       "  <tbody>\n",
       "    <tr>\n",
       "      <th>AGrid</th>\n",
       "      <td>1.00000</td>\n",
       "      <td>0.30398</td>\n",
       "      <td>0.01601</td>\n",
       "      <td>0.04722</td>\n",
       "      <td>0.78906</td>\n",
       "    </tr>\n",
       "    <tr>\n",
       "      <th>AHP</th>\n",
       "      <td>0.30398</td>\n",
       "      <td>1.00000</td>\n",
       "      <td>0.14491</td>\n",
       "      <td>0.30398</td>\n",
       "      <td>0.25288</td>\n",
       "    </tr>\n",
       "    <tr>\n",
       "      <th>DAWA</th>\n",
       "      <td>0.01601</td>\n",
       "      <td>0.14491</td>\n",
       "      <td>1.00000</td>\n",
       "      <td>0.60163</td>\n",
       "      <td>0.01333</td>\n",
       "    </tr>\n",
       "    <tr>\n",
       "      <th>Geometric</th>\n",
       "      <td>0.04722</td>\n",
       "      <td>0.30398</td>\n",
       "      <td>0.60163</td>\n",
       "      <td>1.00000</td>\n",
       "      <td>0.03008</td>\n",
       "    </tr>\n",
       "    <tr>\n",
       "      <th>Laplace</th>\n",
       "      <td>0.78906</td>\n",
       "      <td>0.25288</td>\n",
       "      <td>0.01333</td>\n",
       "      <td>0.03008</td>\n",
       "      <td>1.00000</td>\n",
       "    </tr>\n",
       "  </tbody>\n",
       "</table>\n",
       "</div>"
      ],
      "text/plain": [
       "            AGrid     AHP    DAWA  Geometric  Laplace\n",
       "AGrid     1.00000 0.30398 0.01601    0.04722  0.78906\n",
       "AHP       0.30398 1.00000 0.14491    0.30398  0.25288\n",
       "DAWA      0.01601 0.14491 1.00000    0.60163  0.01333\n",
       "Geometric 0.04722 0.30398 0.60163    1.00000  0.03008\n",
       "Laplace   0.78906 0.25288 0.01333    0.03008  1.00000"
      ]
     },
     "execution_count": 26,
     "metadata": {},
     "output_type": "execute_result"
    }
   ],
   "source": [
    "getConoverPostHoc(filteredDf)"
   ]
  },
  {
   "cell_type": "code",
   "execution_count": 27,
   "metadata": {
    "colab": {
     "base_uri": "https://localhost:8080/",
     "height": 279
    },
    "executionInfo": {
     "elapsed": 598,
     "status": "ok",
     "timestamp": 1663009134868,
     "user": {
      "displayName": "Jane Adams",
      "userId": "13745127763993145309"
     },
     "user_tz": 240
    },
    "id": "whp4CYtvg9GV",
    "outputId": "64db0f47-f16c-4001-8dbd-d057a8bcc588"
   },
   "outputs": [
    {
     "data": {
      "image/png": "[encoded data removed]",
      "text/plain": [
       "<Figure size 432x288 with 1 Axes>"
      ]
     },
     "metadata": {
      "needs_background": "light"
     },
     "output_type": "display_data"
    }
   ],
   "source": [
    "getVisual(filteredDf)"
   ]
  },
  {
   "cell_type": "markdown",
   "metadata": {
    "id": "IvXZbvWKg9sF"
   },
   "source": [
    "##### Epsilon .05"
   ]
  },
  {
   "cell_type": "code",
   "execution_count": 28,
   "metadata": {
    "executionInfo": {
     "elapsed": 813,
     "status": "ok",
     "timestamp": 1663009135679,
     "user": {
      "displayName": "Jane Adams",
      "userId": "13745127763993145309"
     },
     "user_tz": 240
    },
    "id": "EhAzxPqohF_t"
   },
   "outputs": [],
   "source": [
    "filteredDf = getFilteredArray(answerDataFrame, '_0.05_')"
   ]
  },
  {
   "cell_type": "code",
   "execution_count": 29,
   "metadata": {
    "colab": {
     "base_uri": "https://localhost:8080/"
    },
    "executionInfo": {
     "elapsed": 8,
     "status": "ok",
     "timestamp": 1663009135680,
     "user": {
      "displayName": "Jane Adams",
      "userId": "13745127763993145309"
     },
     "user_tz": 240
    },
    "id": "XsPyJmtZhG-V",
    "outputId": "16beb0e6-f224-4df6-f85b-cb95304b39e4"
   },
   "outputs": [
    {
     "name": "stdout",
     "output_type": "stream",
     "text": [
      "Statistics=37.460, p=0.000\n"
     ]
    }
   ],
   "source": [
    "getFriedmanResult(filteredDf)"
   ]
  },
  {
   "cell_type": "code",
   "execution_count": 30,
   "metadata": {
    "colab": {
     "base_uri": "https://localhost:8080/",
     "height": 206
    },
    "executionInfo": {
     "elapsed": 7,
     "status": "ok",
     "timestamp": 1663009135682,
     "user": {
      "displayName": "Jane Adams",
      "userId": "13745127763993145309"
     },
     "user_tz": 240
    },
    "id": "D14lUo17hHEc",
    "outputId": "ad2e28c8-63ee-4ef5-fca9-a50b245f8dc8"
   },
   "outputs": [
    {
     "data": {
      "text/html": [
       "<div>\n",
       "<style scoped>\n",
       "    .dataframe tbody tr th:only-of-type {\n",
       "        vertical-align: middle;\n",
       "    }\n",
       "\n",
       "    .dataframe tbody tr th {\n",
       "        vertical-align: top;\n",
       "    }\n",
       "\n",
       "    .dataframe thead th {\n",
       "        text-align: right;\n",
       "    }\n",
       "</style>\n",
       "<table border=\"1\" class=\"dataframe\">\n",
       "  <thead>\n",
       "    <tr style=\"text-align: right;\">\n",
       "      <th></th>\n",
       "      <th>AGrid</th>\n",
       "      <th>AHP</th>\n",
       "      <th>DAWA</th>\n",
       "      <th>Geometric</th>\n",
       "      <th>Laplace</th>\n",
       "    </tr>\n",
       "  </thead>\n",
       "  <tbody>\n",
       "    <tr>\n",
       "      <th>AGrid</th>\n",
       "      <td>1.00000</td>\n",
       "      <td>0.22192</td>\n",
       "      <td>0.02582</td>\n",
       "      <td>0.46908</td>\n",
       "      <td>0.30074</td>\n",
       "    </tr>\n",
       "    <tr>\n",
       "      <th>AHP</th>\n",
       "      <td>0.22192</td>\n",
       "      <td>1.00000</td>\n",
       "      <td>0.00052</td>\n",
       "      <td>0.06653</td>\n",
       "      <td>0.80379</td>\n",
       "    </tr>\n",
       "    <tr>\n",
       "      <th>DAWA</th>\n",
       "      <td>0.02582</td>\n",
       "      <td>0.00052</td>\n",
       "      <td>1.00000</td>\n",
       "      <td>0.10239</td>\n",
       "      <td>0.00070</td>\n",
       "    </tr>\n",
       "    <tr>\n",
       "      <th>Geometric</th>\n",
       "      <td>0.46908</td>\n",
       "      <td>0.06653</td>\n",
       "      <td>0.10239</td>\n",
       "      <td>1.00000</td>\n",
       "      <td>0.09734</td>\n",
       "    </tr>\n",
       "    <tr>\n",
       "      <th>Laplace</th>\n",
       "      <td>0.30074</td>\n",
       "      <td>0.80379</td>\n",
       "      <td>0.00070</td>\n",
       "      <td>0.09734</td>\n",
       "      <td>1.00000</td>\n",
       "    </tr>\n",
       "  </tbody>\n",
       "</table>\n",
       "</div>"
      ],
      "text/plain": [
       "            AGrid     AHP    DAWA  Geometric  Laplace\n",
       "AGrid     1.00000 0.22192 0.02582    0.46908  0.30074\n",
       "AHP       0.22192 1.00000 0.00052    0.06653  0.80379\n",
       "DAWA      0.02582 0.00052 1.00000    0.10239  0.00070\n",
       "Geometric 0.46908 0.06653 0.10239    1.00000  0.09734\n",
       "Laplace   0.30074 0.80379 0.00070    0.09734  1.00000"
      ]
     },
     "execution_count": 30,
     "metadata": {},
     "output_type": "execute_result"
    }
   ],
   "source": [
    "getConoverPostHoc(filteredDf)"
   ]
  },
  {
   "cell_type": "code",
   "execution_count": 31,
   "metadata": {
    "colab": {
     "base_uri": "https://localhost:8080/",
     "height": 279
    },
    "executionInfo": {
     "elapsed": 210,
     "status": "ok",
     "timestamp": 1663009136162,
     "user": {
      "displayName": "Jane Adams",
      "userId": "13745127763993145309"
     },
     "user_tz": 240
    },
    "id": "QHGdzI2qhHHM",
    "outputId": "eb9d047a-1967-48d0-f6fa-d95c38a36219"
   },
   "outputs": [
    {
     "data": {
      "image/png": "[encoded data removed]",
      "text/plain": [
       "<Figure size 432x288 with 1 Axes>"
      ]
     },
     "metadata": {
      "needs_background": "light"
     },
     "output_type": "display_data"
    }
   ],
   "source": [
    "getVisual(filteredDf)"
   ]
  },
  {
   "cell_type": "markdown",
   "metadata": {
    "id": "LgSfpqHhhLEO"
   },
   "source": [
    "##### Epsilon .01"
   ]
  },
  {
   "cell_type": "code",
   "execution_count": 32,
   "metadata": {
    "executionInfo": {
     "elapsed": 775,
     "status": "ok",
     "timestamp": 1663009136935,
     "user": {
      "displayName": "Jane Adams",
      "userId": "13745127763993145309"
     },
     "user_tz": 240
    },
    "id": "aSXa3oQ4hNeE"
   },
   "outputs": [],
   "source": [
    "filteredDf = getFilteredArray(answerDataFrame, '_0.01_')"
   ]
  },
  {
   "cell_type": "code",
   "execution_count": 33,
   "metadata": {
    "colab": {
     "base_uri": "https://localhost:8080/"
    },
    "executionInfo": {
     "elapsed": 6,
     "status": "ok",
     "timestamp": 1663009136936,
     "user": {
      "displayName": "Jane Adams",
      "userId": "13745127763993145309"
     },
     "user_tz": 240
    },
    "id": "r9-WcU7AhOWc",
    "outputId": "53e0bada-7457-461c-b0d6-0d0db45d93aa"
   },
   "outputs": [
    {
     "name": "stdout",
     "output_type": "stream",
     "text": [
      "Statistics=32.000, p=0.000\n"
     ]
    }
   ],
   "source": [
    "getFriedmanResult(filteredDf)"
   ]
  },
  {
   "cell_type": "code",
   "execution_count": 34,
   "metadata": {
    "colab": {
     "base_uri": "https://localhost:8080/",
     "height": 206
    },
    "executionInfo": {
     "elapsed": 5,
     "status": "ok",
     "timestamp": 1663009136936,
     "user": {
      "displayName": "Jane Adams",
      "userId": "13745127763993145309"
     },
     "user_tz": 240
    },
    "id": "1atm8mdWhOY7",
    "outputId": "b3e4afef-c401-4b91-ed45-5cd5aa2f9078"
   },
   "outputs": [
    {
     "data": {
      "text/html": [
       "<div>\n",
       "<style scoped>\n",
       "    .dataframe tbody tr th:only-of-type {\n",
       "        vertical-align: middle;\n",
       "    }\n",
       "\n",
       "    .dataframe tbody tr th {\n",
       "        vertical-align: top;\n",
       "    }\n",
       "\n",
       "    .dataframe thead th {\n",
       "        text-align: right;\n",
       "    }\n",
       "</style>\n",
       "<table border=\"1\" class=\"dataframe\">\n",
       "  <thead>\n",
       "    <tr style=\"text-align: right;\">\n",
       "      <th></th>\n",
       "      <th>AGrid</th>\n",
       "      <th>AHP</th>\n",
       "      <th>DAWA</th>\n",
       "      <th>Geometric</th>\n",
       "      <th>Laplace</th>\n",
       "    </tr>\n",
       "  </thead>\n",
       "  <tbody>\n",
       "    <tr>\n",
       "      <th>AGrid</th>\n",
       "      <td>1.00000</td>\n",
       "      <td>1.00000</td>\n",
       "      <td>0.00001</td>\n",
       "      <td>1.00000</td>\n",
       "      <td>1.00000</td>\n",
       "    </tr>\n",
       "    <tr>\n",
       "      <th>AHP</th>\n",
       "      <td>1.00000</td>\n",
       "      <td>1.00000</td>\n",
       "      <td>0.00001</td>\n",
       "      <td>1.00000</td>\n",
       "      <td>1.00000</td>\n",
       "    </tr>\n",
       "    <tr>\n",
       "      <th>DAWA</th>\n",
       "      <td>0.00001</td>\n",
       "      <td>0.00001</td>\n",
       "      <td>1.00000</td>\n",
       "      <td>0.00001</td>\n",
       "      <td>0.00001</td>\n",
       "    </tr>\n",
       "    <tr>\n",
       "      <th>Geometric</th>\n",
       "      <td>1.00000</td>\n",
       "      <td>1.00000</td>\n",
       "      <td>0.00001</td>\n",
       "      <td>1.00000</td>\n",
       "      <td>1.00000</td>\n",
       "    </tr>\n",
       "    <tr>\n",
       "      <th>Laplace</th>\n",
       "      <td>1.00000</td>\n",
       "      <td>1.00000</td>\n",
       "      <td>0.00001</td>\n",
       "      <td>1.00000</td>\n",
       "      <td>1.00000</td>\n",
       "    </tr>\n",
       "  </tbody>\n",
       "</table>\n",
       "</div>"
      ],
      "text/plain": [
       "            AGrid     AHP    DAWA  Geometric  Laplace\n",
       "AGrid     1.00000 1.00000 0.00001    1.00000  1.00000\n",
       "AHP       1.00000 1.00000 0.00001    1.00000  1.00000\n",
       "DAWA      0.00001 0.00001 1.00000    0.00001  0.00001\n",
       "Geometric 1.00000 1.00000 0.00001    1.00000  1.00000\n",
       "Laplace   1.00000 1.00000 0.00001    1.00000  1.00000"
      ]
     },
     "execution_count": 34,
     "metadata": {},
     "output_type": "execute_result"
    }
   ],
   "source": [
    "getConoverPostHoc(filteredDf)"
   ]
  },
  {
   "cell_type": "code",
   "execution_count": 35,
   "metadata": {
    "colab": {
     "base_uri": "https://localhost:8080/",
     "height": 279
    },
    "executionInfo": {
     "elapsed": 804,
     "status": "ok",
     "timestamp": 1663009137948,
     "user": {
      "displayName": "Jane Adams",
      "userId": "13745127763993145309"
     },
     "user_tz": 240
    },
    "id": "MgDwvxxnhObO",
    "outputId": "9e76a862-8cb5-43ad-8ec5-00d63c1fbebd"
   },
   "outputs": [
    {
     "data": {
      "image/png": "[encoded data removed]",
      "text/plain": [
       "<Figure size 432x288 with 1 Axes>"
      ]
     },
     "metadata": {
      "needs_background": "light"
     },
     "output_type": "display_data"
    }
   ],
   "source": [
    "getVisual(filteredDf)"
   ]
  },
  {
   "cell_type": "markdown",
   "metadata": {
    "id": "Ik23MDyMlcvQ"
   },
   "source": [
    "#### Different Tasks"
   ]
  },
  {
   "cell_type": "markdown",
   "metadata": {
    "id": "G_02c-stlsPo"
   },
   "source": [
    "##### Distribution"
   ]
  },
  {
   "cell_type": "code",
   "execution_count": 36,
   "metadata": {
    "executionInfo": {
     "elapsed": 1747,
     "status": "ok",
     "timestamp": 1663009139692,
     "user": {
      "displayName": "Jane Adams",
      "userId": "13745127763993145309"
     },
     "user_tz": 240
    },
    "id": "yeMFtsl4ljug"
   },
   "outputs": [],
   "source": [
    "filteredDf = getFilteredArray(answerDataFrame, 'distribution')"
   ]
  },
  {
   "cell_type": "code",
   "execution_count": 37,
   "metadata": {
    "colab": {
     "base_uri": "https://localhost:8080/"
    },
    "executionInfo": {
     "elapsed": 8,
     "status": "ok",
     "timestamp": 1663009139693,
     "user": {
      "displayName": "Jane Adams",
      "userId": "13745127763993145309"
     },
     "user_tz": 240
    },
    "id": "5HJcGI6dlwMY",
    "outputId": "0a920e2e-f82e-4001-a6ac-d9b6914dee39"
   },
   "outputs": [
    {
     "name": "stdout",
     "output_type": "stream",
     "text": [
      "Statistics=50.276, p=0.000\n"
     ]
    }
   ],
   "source": [
    "getFriedmanResult(filteredDf)"
   ]
  },
  {
   "cell_type": "code",
   "execution_count": 38,
   "metadata": {
    "colab": {
     "base_uri": "https://localhost:8080/",
     "height": 206
    },
    "executionInfo": {
     "elapsed": 6,
     "status": "ok",
     "timestamp": 1663009139693,
     "user": {
      "displayName": "Jane Adams",
      "userId": "13745127763993145309"
     },
     "user_tz": 240
    },
    "id": "v4MlqIU7lxsY",
    "outputId": "e886cbc6-2921-4f64-acf8-9ee87a13619f"
   },
   "outputs": [
    {
     "data": {
      "text/html": [
       "<div>\n",
       "<style scoped>\n",
       "    .dataframe tbody tr th:only-of-type {\n",
       "        vertical-align: middle;\n",
       "    }\n",
       "\n",
       "    .dataframe tbody tr th {\n",
       "        vertical-align: top;\n",
       "    }\n",
       "\n",
       "    .dataframe thead th {\n",
       "        text-align: right;\n",
       "    }\n",
       "</style>\n",
       "<table border=\"1\" class=\"dataframe\">\n",
       "  <thead>\n",
       "    <tr style=\"text-align: right;\">\n",
       "      <th></th>\n",
       "      <th>AGrid</th>\n",
       "      <th>AHP</th>\n",
       "      <th>DAWA</th>\n",
       "      <th>Geometric</th>\n",
       "      <th>Laplace</th>\n",
       "    </tr>\n",
       "  </thead>\n",
       "  <tbody>\n",
       "    <tr>\n",
       "      <th>AGrid</th>\n",
       "      <td>1.00000</td>\n",
       "      <td>0.60326</td>\n",
       "      <td>0.08097</td>\n",
       "      <td>0.15526</td>\n",
       "      <td>0.98845</td>\n",
       "    </tr>\n",
       "    <tr>\n",
       "      <th>AHP</th>\n",
       "      <td>0.60326</td>\n",
       "      <td>1.00000</td>\n",
       "      <td>0.15526</td>\n",
       "      <td>0.41165</td>\n",
       "      <td>0.60326</td>\n",
       "    </tr>\n",
       "    <tr>\n",
       "      <th>DAWA</th>\n",
       "      <td>0.08097</td>\n",
       "      <td>0.15526</td>\n",
       "      <td>1.00000</td>\n",
       "      <td>0.60326</td>\n",
       "      <td>0.08097</td>\n",
       "    </tr>\n",
       "    <tr>\n",
       "      <th>Geometric</th>\n",
       "      <td>0.15526</td>\n",
       "      <td>0.41165</td>\n",
       "      <td>0.60326</td>\n",
       "      <td>1.00000</td>\n",
       "      <td>0.15526</td>\n",
       "    </tr>\n",
       "    <tr>\n",
       "      <th>Laplace</th>\n",
       "      <td>0.98845</td>\n",
       "      <td>0.60326</td>\n",
       "      <td>0.08097</td>\n",
       "      <td>0.15526</td>\n",
       "      <td>1.00000</td>\n",
       "    </tr>\n",
       "  </tbody>\n",
       "</table>\n",
       "</div>"
      ],
      "text/plain": [
       "            AGrid     AHP    DAWA  Geometric  Laplace\n",
       "AGrid     1.00000 0.60326 0.08097    0.15526  0.98845\n",
       "AHP       0.60326 1.00000 0.15526    0.41165  0.60326\n",
       "DAWA      0.08097 0.15526 1.00000    0.60326  0.08097\n",
       "Geometric 0.15526 0.41165 0.60326    1.00000  0.15526\n",
       "Laplace   0.98845 0.60326 0.08097    0.15526  1.00000"
      ]
     },
     "execution_count": 38,
     "metadata": {},
     "output_type": "execute_result"
    }
   ],
   "source": [
    "getConoverPostHoc(filteredDf)"
   ]
  },
  {
   "cell_type": "code",
   "execution_count": 39,
   "metadata": {
    "colab": {
     "base_uri": "https://localhost:8080/",
     "height": 279
    },
    "executionInfo": {
     "elapsed": 603,
     "status": "ok",
     "timestamp": 1663009140497,
     "user": {
      "displayName": "Jane Adams",
      "userId": "13745127763993145309"
     },
     "user_tz": 240
    },
    "id": "baGIMWr-lzDI",
    "outputId": "2aefae3f-5c4a-430e-f1a3-7dda698b72d8"
   },
   "outputs": [
    {
     "data": {
      "image/png": "[encoded data removed]",
      "text/plain": [
       "<Figure size 432x288 with 1 Axes>"
      ]
     },
     "metadata": {
      "needs_background": "light"
     },
     "output_type": "display_data"
    }
   ],
   "source": [
    "getVisual(filteredDf)"
   ]
  },
  {
   "cell_type": "markdown",
   "metadata": {
    "id": "Bhnn_LCBlzXL"
   },
   "source": [
    "##### Correlation\n"
   ]
  },
  {
   "cell_type": "code",
   "execution_count": 40,
   "metadata": {
    "executionInfo": {
     "elapsed": 1085,
     "status": "ok",
     "timestamp": 1663009141983,
     "user": {
      "displayName": "Jane Adams",
      "userId": "13745127763993145309"
     },
     "user_tz": 240
    },
    "id": "IXQCsTkLl2iQ"
   },
   "outputs": [],
   "source": [
    "filteredDf = getFilteredArray(answerDataFrame, 'correlation')"
   ]
  },
  {
   "cell_type": "code",
   "execution_count": 41,
   "metadata": {
    "colab": {
     "base_uri": "https://localhost:8080/"
    },
    "executionInfo": {
     "elapsed": 10,
     "status": "ok",
     "timestamp": 1663009141986,
     "user": {
      "displayName": "Jane Adams",
      "userId": "13745127763993145309"
     },
     "user_tz": 240
    },
    "id": "BxapZiRzl2kQ",
    "outputId": "14aa6762-801b-49ba-9a48-a6a83f965a23"
   },
   "outputs": [
    {
     "name": "stdout",
     "output_type": "stream",
     "text": [
      "Statistics=60.477, p=0.000\n"
     ]
    }
   ],
   "source": [
    "getFriedmanResult(filteredDf)"
   ]
  },
  {
   "cell_type": "code",
   "execution_count": 42,
   "metadata": {
    "colab": {
     "base_uri": "https://localhost:8080/",
     "height": 206
    },
    "executionInfo": {
     "elapsed": 9,
     "status": "ok",
     "timestamp": 1663009141987,
     "user": {
      "displayName": "Jane Adams",
      "userId": "13745127763993145309"
     },
     "user_tz": 240
    },
    "id": "tqQ1B4Ucl2mg",
    "outputId": "516d0147-985e-47ee-89f0-3dc6021e9970"
   },
   "outputs": [
    {
     "data": {
      "text/html": [
       "<div>\n",
       "<style scoped>\n",
       "    .dataframe tbody tr th:only-of-type {\n",
       "        vertical-align: middle;\n",
       "    }\n",
       "\n",
       "    .dataframe tbody tr th {\n",
       "        vertical-align: top;\n",
       "    }\n",
       "\n",
       "    .dataframe thead th {\n",
       "        text-align: right;\n",
       "    }\n",
       "</style>\n",
       "<table border=\"1\" class=\"dataframe\">\n",
       "  <thead>\n",
       "    <tr style=\"text-align: right;\">\n",
       "      <th></th>\n",
       "      <th>AGrid</th>\n",
       "      <th>AHP</th>\n",
       "      <th>DAWA</th>\n",
       "      <th>Geometric</th>\n",
       "      <th>Laplace</th>\n",
       "    </tr>\n",
       "  </thead>\n",
       "  <tbody>\n",
       "    <tr>\n",
       "      <th>AGrid</th>\n",
       "      <td>1.00000</td>\n",
       "      <td>0.25433</td>\n",
       "      <td>0.18963</td>\n",
       "      <td>0.83112</td>\n",
       "      <td>0.21468</td>\n",
       "    </tr>\n",
       "    <tr>\n",
       "      <th>AHP</th>\n",
       "      <td>0.25433</td>\n",
       "      <td>1.00000</td>\n",
       "      <td>0.00799</td>\n",
       "      <td>0.18963</td>\n",
       "      <td>0.86699</td>\n",
       "    </tr>\n",
       "    <tr>\n",
       "      <th>DAWA</th>\n",
       "      <td>0.18963</td>\n",
       "      <td>0.00799</td>\n",
       "      <td>1.00000</td>\n",
       "      <td>0.18963</td>\n",
       "      <td>0.00799</td>\n",
       "    </tr>\n",
       "    <tr>\n",
       "      <th>Geometric</th>\n",
       "      <td>0.83112</td>\n",
       "      <td>0.18963</td>\n",
       "      <td>0.18963</td>\n",
       "      <td>1.00000</td>\n",
       "      <td>0.18963</td>\n",
       "    </tr>\n",
       "    <tr>\n",
       "      <th>Laplace</th>\n",
       "      <td>0.21468</td>\n",
       "      <td>0.86699</td>\n",
       "      <td>0.00799</td>\n",
       "      <td>0.18963</td>\n",
       "      <td>1.00000</td>\n",
       "    </tr>\n",
       "  </tbody>\n",
       "</table>\n",
       "</div>"
      ],
      "text/plain": [
       "            AGrid     AHP    DAWA  Geometric  Laplace\n",
       "AGrid     1.00000 0.25433 0.18963    0.83112  0.21468\n",
       "AHP       0.25433 1.00000 0.00799    0.18963  0.86699\n",
       "DAWA      0.18963 0.00799 1.00000    0.18963  0.00799\n",
       "Geometric 0.83112 0.18963 0.18963    1.00000  0.18963\n",
       "Laplace   0.21468 0.86699 0.00799    0.18963  1.00000"
      ]
     },
     "execution_count": 42,
     "metadata": {},
     "output_type": "execute_result"
    }
   ],
   "source": [
    "getConoverPostHoc(filteredDf)"
   ]
  },
  {
   "cell_type": "code",
   "execution_count": 43,
   "metadata": {
    "colab": {
     "base_uri": "https://localhost:8080/",
     "height": 279
    },
    "executionInfo": {
     "elapsed": 1059,
     "status": "ok",
     "timestamp": 1663009143442,
     "user": {
      "displayName": "Jane Adams",
      "userId": "13745127763993145309"
     },
     "user_tz": 240
    },
    "id": "0ovVN0yFl2op",
    "outputId": "ae5e8a34-8ff9-4205-8d4d-b3b0e0de38fc"
   },
   "outputs": [
    {
     "data": {
      "image/png": "[encoded data removed]",
      "text/plain": [
       "<Figure size 432x288 with 1 Axes>"
      ]
     },
     "metadata": {
      "needs_background": "light"
     },
     "output_type": "display_data"
    }
   ],
   "source": [
    "getVisual(filteredDf)"
   ]
  },
  {
   "cell_type": "markdown",
   "metadata": {
    "id": "t31r0K1nl6VR"
   },
   "source": [
    "##### Clusters"
   ]
  },
  {
   "cell_type": "code",
   "execution_count": 44,
   "metadata": {
    "executionInfo": {
     "elapsed": 467,
     "status": "ok",
     "timestamp": 1663009143906,
     "user": {
      "displayName": "Jane Adams",
      "userId": "13745127763993145309"
     },
     "user_tz": 240
    },
    "id": "utIyfwS7l73A"
   },
   "outputs": [],
   "source": [
    "filteredDf = getFilteredArray(answerDataFrame, 'clusters')"
   ]
  },
  {
   "cell_type": "code",
   "execution_count": 45,
   "metadata": {
    "colab": {
     "base_uri": "https://localhost:8080/"
    },
    "executionInfo": {
     "elapsed": 6,
     "status": "ok",
     "timestamp": 1663009143907,
     "user": {
      "displayName": "Jane Adams",
      "userId": "13745127763993145309"
     },
     "user_tz": 240
    },
    "id": "9GpjIu2el75Q",
    "outputId": "c86aa267-b8e2-4926-e10e-76acb2fba12a"
   },
   "outputs": [
    {
     "name": "stdout",
     "output_type": "stream",
     "text": [
      "Statistics=26.648, p=0.000\n"
     ]
    }
   ],
   "source": [
    "getFriedmanResult(filteredDf)"
   ]
  },
  {
   "cell_type": "code",
   "execution_count": 46,
   "metadata": {
    "colab": {
     "base_uri": "https://localhost:8080/",
     "height": 206
    },
    "executionInfo": {
     "elapsed": 215,
     "status": "ok",
     "timestamp": 1663009144118,
     "user": {
      "displayName": "Jane Adams",
      "userId": "13745127763993145309"
     },
     "user_tz": 240
    },
    "id": "RUUxu7Fhl77g",
    "outputId": "3e14c996-6a7a-4d6a-c9d8-91c0792c9c2d"
   },
   "outputs": [
    {
     "data": {
      "text/html": [
       "<div>\n",
       "<style scoped>\n",
       "    .dataframe tbody tr th:only-of-type {\n",
       "        vertical-align: middle;\n",
       "    }\n",
       "\n",
       "    .dataframe tbody tr th {\n",
       "        vertical-align: top;\n",
       "    }\n",
       "\n",
       "    .dataframe thead th {\n",
       "        text-align: right;\n",
       "    }\n",
       "</style>\n",
       "<table border=\"1\" class=\"dataframe\">\n",
       "  <thead>\n",
       "    <tr style=\"text-align: right;\">\n",
       "      <th></th>\n",
       "      <th>AGrid</th>\n",
       "      <th>AHP</th>\n",
       "      <th>DAWA</th>\n",
       "      <th>Geometric</th>\n",
       "      <th>Laplace</th>\n",
       "    </tr>\n",
       "  </thead>\n",
       "  <tbody>\n",
       "    <tr>\n",
       "      <th>AGrid</th>\n",
       "      <td>1.00000</td>\n",
       "      <td>0.31951</td>\n",
       "      <td>0.53210</td>\n",
       "      <td>0.31951</td>\n",
       "      <td>0.64610</td>\n",
       "    </tr>\n",
       "    <tr>\n",
       "      <th>AHP</th>\n",
       "      <td>0.31951</td>\n",
       "      <td>1.00000</td>\n",
       "      <td>0.81494</td>\n",
       "      <td>0.99598</td>\n",
       "      <td>0.77706</td>\n",
       "    </tr>\n",
       "    <tr>\n",
       "      <th>DAWA</th>\n",
       "      <td>0.53210</td>\n",
       "      <td>0.81494</td>\n",
       "      <td>1.00000</td>\n",
       "      <td>0.81494</td>\n",
       "      <td>0.86786</td>\n",
       "    </tr>\n",
       "    <tr>\n",
       "      <th>Geometric</th>\n",
       "      <td>0.31951</td>\n",
       "      <td>0.99598</td>\n",
       "      <td>0.81494</td>\n",
       "      <td>1.00000</td>\n",
       "      <td>0.77706</td>\n",
       "    </tr>\n",
       "    <tr>\n",
       "      <th>Laplace</th>\n",
       "      <td>0.64610</td>\n",
       "      <td>0.77706</td>\n",
       "      <td>0.86786</td>\n",
       "      <td>0.77706</td>\n",
       "      <td>1.00000</td>\n",
       "    </tr>\n",
       "  </tbody>\n",
       "</table>\n",
       "</div>"
      ],
      "text/plain": [
       "            AGrid     AHP    DAWA  Geometric  Laplace\n",
       "AGrid     1.00000 0.31951 0.53210    0.31951  0.64610\n",
       "AHP       0.31951 1.00000 0.81494    0.99598  0.77706\n",
       "DAWA      0.53210 0.81494 1.00000    0.81494  0.86786\n",
       "Geometric 0.31951 0.99598 0.81494    1.00000  0.77706\n",
       "Laplace   0.64610 0.77706 0.86786    0.77706  1.00000"
      ]
     },
     "execution_count": 46,
     "metadata": {},
     "output_type": "execute_result"
    }
   ],
   "source": [
    "getConoverPostHoc(filteredDf)"
   ]
  },
  {
   "cell_type": "code",
   "execution_count": 47,
   "metadata": {
    "colab": {
     "base_uri": "https://localhost:8080/",
     "height": 279
    },
    "executionInfo": {
     "elapsed": 1300,
     "status": "ok",
     "timestamp": 1663009145786,
     "user": {
      "displayName": "Jane Adams",
      "userId": "13745127763993145309"
     },
     "user_tz": 240
    },
    "id": "PGFWKkDCl79Q",
    "outputId": "a82bd4cc-ec62-4644-bd9e-a469d508e7d8"
   },
   "outputs": [
    {
     "data": {
      "image/png": "[encoded data removed]",
      "text/plain": [
       "<Figure size 432x288 with 1 Axes>"
      ]
     },
     "metadata": {
      "needs_background": "light"
     },
     "output_type": "display_data"
    }
   ],
   "source": [
    "getVisual(filteredDf)"
   ]
  },
  {
   "cell_type": "markdown",
   "metadata": {
    "id": "V_3admOanIR_"
   },
   "source": [
    "#### Different Bin Sizes"
   ]
  },
  {
   "cell_type": "markdown",
   "metadata": {
    "id": "7uw6rgz8nK1P"
   },
   "source": [
    "##### 32 Bins\n"
   ]
  },
  {
   "cell_type": "code",
   "execution_count": 48,
   "metadata": {
    "executionInfo": {
     "elapsed": 1745,
     "status": "ok",
     "timestamp": 1663009147529,
     "user": {
      "displayName": "Jane Adams",
      "userId": "13745127763993145309"
     },
     "user_tz": 240
    },
    "id": "Lc33TiNlnOig"
   },
   "outputs": [],
   "source": [
    "filteredDf = getFilteredArray(answerDataFrame, '32')\n"
   ]
  },
  {
   "cell_type": "code",
   "execution_count": 49,
   "metadata": {
    "colab": {
     "base_uri": "https://localhost:8080/"
    },
    "executionInfo": {
     "elapsed": 17,
     "status": "ok",
     "timestamp": 1663009147529,
     "user": {
      "displayName": "Jane Adams",
      "userId": "13745127763993145309"
     },
     "user_tz": 240
    },
    "id": "wBTRL1sZnOkm",
    "outputId": "30cac9af-a75e-4a75-bc80-521405f820dd"
   },
   "outputs": [
    {
     "name": "stdout",
     "output_type": "stream",
     "text": [
      "Statistics=92.072, p=0.000\n"
     ]
    }
   ],
   "source": [
    "getFriedmanResult(filteredDf)"
   ]
  },
  {
   "cell_type": "code",
   "execution_count": 50,
   "metadata": {
    "colab": {
     "base_uri": "https://localhost:8080/",
     "height": 206
    },
    "executionInfo": {
     "elapsed": 6,
     "status": "ok",
     "timestamp": 1663009147529,
     "user": {
      "displayName": "Jane Adams",
      "userId": "13745127763993145309"
     },
     "user_tz": 240
    },
    "id": "mksRs5rQnOmv",
    "outputId": "75e0df7d-a3e0-4a90-86b8-3138929134cf"
   },
   "outputs": [
    {
     "data": {
      "text/html": [
       "<div>\n",
       "<style scoped>\n",
       "    .dataframe tbody tr th:only-of-type {\n",
       "        vertical-align: middle;\n",
       "    }\n",
       "\n",
       "    .dataframe tbody tr th {\n",
       "        vertical-align: top;\n",
       "    }\n",
       "\n",
       "    .dataframe thead th {\n",
       "        text-align: right;\n",
       "    }\n",
       "</style>\n",
       "<table border=\"1\" class=\"dataframe\">\n",
       "  <thead>\n",
       "    <tr style=\"text-align: right;\">\n",
       "      <th></th>\n",
       "      <th>AGrid</th>\n",
       "      <th>AHP</th>\n",
       "      <th>DAWA</th>\n",
       "      <th>Geometric</th>\n",
       "      <th>Laplace</th>\n",
       "    </tr>\n",
       "  </thead>\n",
       "  <tbody>\n",
       "    <tr>\n",
       "      <th>AGrid</th>\n",
       "      <td>1.00000</td>\n",
       "      <td>0.21049</td>\n",
       "      <td>0.02910</td>\n",
       "      <td>0.02257</td>\n",
       "      <td>0.70745</td>\n",
       "    </tr>\n",
       "    <tr>\n",
       "      <th>AHP</th>\n",
       "      <td>0.21049</td>\n",
       "      <td>1.00000</td>\n",
       "      <td>0.35659</td>\n",
       "      <td>0.24832</td>\n",
       "      <td>0.33718</td>\n",
       "    </tr>\n",
       "    <tr>\n",
       "      <th>DAWA</th>\n",
       "      <td>0.02910</td>\n",
       "      <td>0.35659</td>\n",
       "      <td>1.00000</td>\n",
       "      <td>0.70745</td>\n",
       "      <td>0.06113</td>\n",
       "    </tr>\n",
       "    <tr>\n",
       "      <th>Geometric</th>\n",
       "      <td>0.02257</td>\n",
       "      <td>0.24832</td>\n",
       "      <td>0.70745</td>\n",
       "      <td>1.00000</td>\n",
       "      <td>0.02910</td>\n",
       "    </tr>\n",
       "    <tr>\n",
       "      <th>Laplace</th>\n",
       "      <td>0.70745</td>\n",
       "      <td>0.33718</td>\n",
       "      <td>0.06113</td>\n",
       "      <td>0.02910</td>\n",
       "      <td>1.00000</td>\n",
       "    </tr>\n",
       "  </tbody>\n",
       "</table>\n",
       "</div>"
      ],
      "text/plain": [
       "            AGrid     AHP    DAWA  Geometric  Laplace\n",
       "AGrid     1.00000 0.21049 0.02910    0.02257  0.70745\n",
       "AHP       0.21049 1.00000 0.35659    0.24832  0.33718\n",
       "DAWA      0.02910 0.35659 1.00000    0.70745  0.06113\n",
       "Geometric 0.02257 0.24832 0.70745    1.00000  0.02910\n",
       "Laplace   0.70745 0.33718 0.06113    0.02910  1.00000"
      ]
     },
     "execution_count": 50,
     "metadata": {},
     "output_type": "execute_result"
    }
   ],
   "source": [
    "getConoverPostHoc(filteredDf)"
   ]
  },
  {
   "cell_type": "code",
   "execution_count": 51,
   "metadata": {
    "colab": {
     "base_uri": "https://localhost:8080/",
     "height": 279
    },
    "executionInfo": {
     "elapsed": 594,
     "status": "ok",
     "timestamp": 1663009148469,
     "user": {
      "displayName": "Jane Adams",
      "userId": "13745127763993145309"
     },
     "user_tz": 240
    },
    "id": "urKSipNVnO4o",
    "outputId": "3b5ccf66-32aa-4b78-c146-e653e513bf0a"
   },
   "outputs": [
    {
     "data": {
      "image/png": "[encoded data removed]",
      "text/plain": [
       "<Figure size 432x288 with 1 Axes>"
      ]
     },
     "metadata": {
      "needs_background": "light"
     },
     "output_type": "display_data"
    }
   ],
   "source": [
    "getVisual(filteredDf)"
   ]
  },
  {
   "cell_type": "markdown",
   "metadata": {
    "id": "4n4Z6pl6nUD3"
   },
   "source": [
    "##### 64 Bins"
   ]
  },
  {
   "cell_type": "code",
   "execution_count": 52,
   "metadata": {
    "executionInfo": {
     "elapsed": 1537,
     "status": "ok",
     "timestamp": 1663009150002,
     "user": {
      "displayName": "Jane Adams",
      "userId": "13745127763993145309"
     },
     "user_tz": 240
    },
    "id": "wGfYRY4tnY8v"
   },
   "outputs": [],
   "source": [
    "filteredDf = getFilteredArray(answerDataFrame, '64')"
   ]
  },
  {
   "cell_type": "code",
   "execution_count": 53,
   "metadata": {
    "colab": {
     "base_uri": "https://localhost:8080/"
    },
    "executionInfo": {
     "elapsed": 222,
     "status": "ok",
     "timestamp": 1663009150222,
     "user": {
      "displayName": "Jane Adams",
      "userId": "13745127763993145309"
     },
     "user_tz": 240
    },
    "id": "VthKZzL4nY_X",
    "outputId": "dc8166ab-29ec-4592-cca6-4bc353cb19b9"
   },
   "outputs": [
    {
     "name": "stdout",
     "output_type": "stream",
     "text": [
      "Statistics=37.080, p=0.000\n"
     ]
    }
   ],
   "source": [
    "getFriedmanResult(filteredDf)"
   ]
  },
  {
   "cell_type": "code",
   "execution_count": 54,
   "metadata": {
    "colab": {
     "base_uri": "https://localhost:8080/",
     "height": 206
    },
    "executionInfo": {
     "elapsed": 6,
     "status": "ok",
     "timestamp": 1663009150222,
     "user": {
      "displayName": "Jane Adams",
      "userId": "13745127763993145309"
     },
     "user_tz": 240
    },
    "id": "Nk_OazWxnZBn",
    "outputId": "59655603-de45-46bf-e3b3-2fce645214ee"
   },
   "outputs": [
    {
     "data": {
      "text/html": [
       "<div>\n",
       "<style scoped>\n",
       "    .dataframe tbody tr th:only-of-type {\n",
       "        vertical-align: middle;\n",
       "    }\n",
       "\n",
       "    .dataframe tbody tr th {\n",
       "        vertical-align: top;\n",
       "    }\n",
       "\n",
       "    .dataframe thead th {\n",
       "        text-align: right;\n",
       "    }\n",
       "</style>\n",
       "<table border=\"1\" class=\"dataframe\">\n",
       "  <thead>\n",
       "    <tr style=\"text-align: right;\">\n",
       "      <th></th>\n",
       "      <th>AGrid</th>\n",
       "      <th>AHP</th>\n",
       "      <th>DAWA</th>\n",
       "      <th>Geometric</th>\n",
       "      <th>Laplace</th>\n",
       "    </tr>\n",
       "  </thead>\n",
       "  <tbody>\n",
       "    <tr>\n",
       "      <th>AGrid</th>\n",
       "      <td>1.00000</td>\n",
       "      <td>0.45545</td>\n",
       "      <td>0.09063</td>\n",
       "      <td>0.99293</td>\n",
       "      <td>0.45545</td>\n",
       "    </tr>\n",
       "    <tr>\n",
       "      <th>AHP</th>\n",
       "      <td>0.45545</td>\n",
       "      <td>1.00000</td>\n",
       "      <td>0.01338</td>\n",
       "      <td>0.45545</td>\n",
       "      <td>0.99293</td>\n",
       "    </tr>\n",
       "    <tr>\n",
       "      <th>DAWA</th>\n",
       "      <td>0.09063</td>\n",
       "      <td>0.01338</td>\n",
       "      <td>1.00000</td>\n",
       "      <td>0.09063</td>\n",
       "      <td>0.01338</td>\n",
       "    </tr>\n",
       "    <tr>\n",
       "      <th>Geometric</th>\n",
       "      <td>0.99293</td>\n",
       "      <td>0.45545</td>\n",
       "      <td>0.09063</td>\n",
       "      <td>1.00000</td>\n",
       "      <td>0.45545</td>\n",
       "    </tr>\n",
       "    <tr>\n",
       "      <th>Laplace</th>\n",
       "      <td>0.45545</td>\n",
       "      <td>0.99293</td>\n",
       "      <td>0.01338</td>\n",
       "      <td>0.45545</td>\n",
       "      <td>1.00000</td>\n",
       "    </tr>\n",
       "  </tbody>\n",
       "</table>\n",
       "</div>"
      ],
      "text/plain": [
       "            AGrid     AHP    DAWA  Geometric  Laplace\n",
       "AGrid     1.00000 0.45545 0.09063    0.99293  0.45545\n",
       "AHP       0.45545 1.00000 0.01338    0.45545  0.99293\n",
       "DAWA      0.09063 0.01338 1.00000    0.09063  0.01338\n",
       "Geometric 0.99293 0.45545 0.09063    1.00000  0.45545\n",
       "Laplace   0.45545 0.99293 0.01338    0.45545  1.00000"
      ]
     },
     "execution_count": 54,
     "metadata": {},
     "output_type": "execute_result"
    }
   ],
   "source": [
    "getConoverPostHoc(filteredDf)"
   ]
  },
  {
   "cell_type": "code",
   "execution_count": 55,
   "metadata": {
    "colab": {
     "base_uri": "https://localhost:8080/",
     "height": 279
    },
    "executionInfo": {
     "elapsed": 1333,
     "status": "ok",
     "timestamp": 1663009151550,
     "user": {
      "displayName": "Jane Adams",
      "userId": "13745127763993145309"
     },
     "user_tz": 240
    },
    "id": "plGSLVFVnZEI",
    "outputId": "4ec220c5-8a5e-4ed1-d944-68e20a4c6ae6"
   },
   "outputs": [
    {
     "data": {
      "image/png": "[encoded data removed]",
      "text/plain": [
       "<Figure size 432x288 with 1 Axes>"
      ]
     },
     "metadata": {
      "needs_background": "light"
     },
     "output_type": "display_data"
    }
   ],
   "source": [
    "getVisual(filteredDf)"
   ]
  },
  {
   "cell_type": "markdown",
   "metadata": {
    "id": "LLht7SM9oWMe"
   },
   "source": [
    "#### Statistical Metrics vs Visual Utility"
   ]
  },
  {
   "cell_type": "markdown",
   "metadata": {
    "id": "fhtaK3snrCLr"
   },
   "source": [
    "The code for generating the pilot plots and utility metrics csv can be found at [UtilityMetrics.ipynb](UtilityMetrics.ipynb)"
   ]
  },
  {
   "cell_type": "markdown",
   "metadata": {},
   "source": [
    "<font color='red'>We remove the metric 1/epsilon. This metric does not allow us to compare different plots. Two graphs with the same epsilon can produce different visual results. Therefore this does not provide any new information to the data curator aside from the knowledge that they should maximize epsilon.</font>"
   ]
  },
  {
   "cell_type": "code",
   "execution_count": 56,
   "metadata": {
    "executionInfo": {
     "elapsed": 6,
     "status": "ok",
     "timestamp": 1663009151551,
     "user": {
      "displayName": "Jane Adams",
      "userId": "13745127763993145309"
     },
     "user_tz": 240
    },
    "id": "zwecDN_bodg1"
   },
   "outputs": [],
   "source": [
    "import scipy.stats as stats"
   ]
  },
  {
   "cell_type": "code",
   "execution_count": 57,
   "metadata": {
    "executionInfo": {
     "elapsed": 7,
     "status": "aborted",
     "timestamp": 1663009155228,
     "user": {
      "displayName": "Jane Adams",
      "userId": "13745127763993145309"
     },
     "user_tz": 240
    },
    "id": "rZz2_zZ0NMZT"
   },
   "outputs": [
    {
     "data": {
      "text/html": [
       "<div>\n",
       "<style scoped>\n",
       "    .dataframe tbody tr th:only-of-type {\n",
       "        vertical-align: middle;\n",
       "    }\n",
       "\n",
       "    .dataframe tbody tr th {\n",
       "        vertical-align: top;\n",
       "    }\n",
       "\n",
       "    .dataframe thead th {\n",
       "        text-align: right;\n",
       "    }\n",
       "</style>\n",
       "<table border=\"1\" class=\"dataframe\">\n",
       "  <thead>\n",
       "    <tr style=\"text-align: right;\">\n",
       "      <th></th>\n",
       "      <th>Random Query</th>\n",
       "      <th>MSSIM</th>\n",
       "      <th>EarthMovers</th>\n",
       "      <th>OneDividedByEpsilon</th>\n",
       "      <th>KSTest</th>\n",
       "      <th>Scagnostics</th>\n",
       "    </tr>\n",
       "  </thead>\n",
       "  <tbody>\n",
       "    <tr>\n",
       "      <th>2_DAWA_distribution_0.5_32</th>\n",
       "      <td>23.33860</td>\n",
       "      <td>0.98914</td>\n",
       "      <td>0.41992</td>\n",
       "      <td>2</td>\n",
       "      <td>0.97363</td>\n",
       "      <td>0.22368</td>\n",
       "    </tr>\n",
       "    <tr>\n",
       "      <th>2_AHP_distribution_0.5_32</th>\n",
       "      <td>34.42545</td>\n",
       "      <td>0.99316</td>\n",
       "      <td>0.75368</td>\n",
       "      <td>2</td>\n",
       "      <td>0.26465</td>\n",
       "      <td>0.40119</td>\n",
       "    </tr>\n",
       "    <tr>\n",
       "      <th>2_AGrid_distribution_0.5_32</th>\n",
       "      <td>15.03471</td>\n",
       "      <td>0.97561</td>\n",
       "      <td>0.88078</td>\n",
       "      <td>2</td>\n",
       "      <td>0.60547</td>\n",
       "      <td>0.35205</td>\n",
       "    </tr>\n",
       "    <tr>\n",
       "      <th>2_Geometric_distribution_0.5_32</th>\n",
       "      <td>40.33740</td>\n",
       "      <td>0.99384</td>\n",
       "      <td>0.80371</td>\n",
       "      <td>2</td>\n",
       "      <td>0.75391</td>\n",
       "      <td>0.67650</td>\n",
       "    </tr>\n",
       "    <tr>\n",
       "      <th>2_Laplace_distribution_0.5_32</th>\n",
       "      <td>14.11924</td>\n",
       "      <td>0.98142</td>\n",
       "      <td>1.60692</td>\n",
       "      <td>2</td>\n",
       "      <td>0.60156</td>\n",
       "      <td>0.58142</td>\n",
       "    </tr>\n",
       "    <tr>\n",
       "      <th>...</th>\n",
       "      <td>...</td>\n",
       "      <td>...</td>\n",
       "      <td>...</td>\n",
       "      <td>...</td>\n",
       "      <td>...</td>\n",
       "      <td>...</td>\n",
       "    </tr>\n",
       "    <tr>\n",
       "      <th>0_DAWA_correlation_0.01_64</th>\n",
       "      <td>53.56080</td>\n",
       "      <td>0.69926</td>\n",
       "      <td>0.78662</td>\n",
       "      <td>100</td>\n",
       "      <td>0.89307</td>\n",
       "      <td>0.56310</td>\n",
       "    </tr>\n",
       "    <tr>\n",
       "      <th>0_AHP_correlation_0.01_64</th>\n",
       "      <td>134.05531</td>\n",
       "      <td>0.89670</td>\n",
       "      <td>1.90335</td>\n",
       "      <td>100</td>\n",
       "      <td>0.10449</td>\n",
       "      <td>0.87602</td>\n",
       "    </tr>\n",
       "    <tr>\n",
       "      <th>0_AGrid_correlation_0.01_64</th>\n",
       "      <td>178.57017</td>\n",
       "      <td>0.59426</td>\n",
       "      <td>6.20099</td>\n",
       "      <td>100</td>\n",
       "      <td>0.57007</td>\n",
       "      <td>0.59659</td>\n",
       "    </tr>\n",
       "    <tr>\n",
       "      <th>0_Geometric_correlation_0.01_64</th>\n",
       "      <td>3215.43960</td>\n",
       "      <td>0.65203</td>\n",
       "      <td>51.32788</td>\n",
       "      <td>100</td>\n",
       "      <td>0.56665</td>\n",
       "      <td>0.88543</td>\n",
       "    </tr>\n",
       "    <tr>\n",
       "      <th>0_Laplace_correlation_0.01_64</th>\n",
       "      <td>740.55328</td>\n",
       "      <td>0.48785</td>\n",
       "      <td>98.01677</td>\n",
       "      <td>100</td>\n",
       "      <td>0.48804</td>\n",
       "      <td>0.88244</td>\n",
       "    </tr>\n",
       "  </tbody>\n",
       "</table>\n",
       "<p>1200 rows × 6 columns</p>\n",
       "</div>"
      ],
      "text/plain": [
       "                                 Random Query   MSSIM  EarthMovers  \\\n",
       "2_DAWA_distribution_0.5_32           23.33860 0.98914      0.41992   \n",
       "2_AHP_distribution_0.5_32            34.42545 0.99316      0.75368   \n",
       "2_AGrid_distribution_0.5_32          15.03471 0.97561      0.88078   \n",
       "2_Geometric_distribution_0.5_32      40.33740 0.99384      0.80371   \n",
       "2_Laplace_distribution_0.5_32        14.11924 0.98142      1.60692   \n",
       "...                                       ...     ...          ...   \n",
       "0_DAWA_correlation_0.01_64           53.56080 0.69926      0.78662   \n",
       "0_AHP_correlation_0.01_64           134.05531 0.89670      1.90335   \n",
       "0_AGrid_correlation_0.01_64         178.57017 0.59426      6.20099   \n",
       "0_Geometric_correlation_0.01_64    3215.43960 0.65203     51.32788   \n",
       "0_Laplace_correlation_0.01_64       740.55328 0.48785     98.01677   \n",
       "\n",
       "                                 OneDividedByEpsilon  KSTest  Scagnostics  \n",
       "2_DAWA_distribution_0.5_32                         2 0.97363      0.22368  \n",
       "2_AHP_distribution_0.5_32                          2 0.26465      0.40119  \n",
       "2_AGrid_distribution_0.5_32                        2 0.60547      0.35205  \n",
       "2_Geometric_distribution_0.5_32                    2 0.75391      0.67650  \n",
       "2_Laplace_distribution_0.5_32                      2 0.60156      0.58142  \n",
       "...                                              ...     ...          ...  \n",
       "0_DAWA_correlation_0.01_64                       100 0.89307      0.56310  \n",
       "0_AHP_correlation_0.01_64                        100 0.10449      0.87602  \n",
       "0_AGrid_correlation_0.01_64                      100 0.57007      0.59659  \n",
       "0_Geometric_correlation_0.01_64                  100 0.56665      0.88543  \n",
       "0_Laplace_correlation_0.01_64                    100 0.48804      0.88244  \n",
       "\n",
       "[1200 rows x 6 columns]"
      ]
     },
     "execution_count": 57,
     "metadata": {},
     "output_type": "execute_result"
    }
   ],
   "source": [
    "dfMetrics = pd.read_csv('finalUtilityMetrics.csv', index_col = 0)\n",
    "dfMetrics"
   ]
  },
  {
   "cell_type": "code",
   "execution_count": 58,
   "metadata": {
    "executionInfo": {
     "elapsed": 8,
     "status": "aborted",
     "timestamp": 1663009155229,
     "user": {
      "displayName": "Jane Adams",
      "userId": "13745127763993145309"
     },
     "user_tz": 240
    },
    "id": "jfcNLnI40xsb"
   },
   "outputs": [
    {
     "data": {
      "text/html": [
       "<div>\n",
       "<style scoped>\n",
       "    .dataframe tbody tr th:only-of-type {\n",
       "        vertical-align: middle;\n",
       "    }\n",
       "\n",
       "    .dataframe tbody tr th {\n",
       "        vertical-align: top;\n",
       "    }\n",
       "\n",
       "    .dataframe thead th {\n",
       "        text-align: right;\n",
       "    }\n",
       "</style>\n",
       "<table border=\"1\" class=\"dataframe\">\n",
       "  <thead>\n",
       "    <tr style=\"text-align: right;\">\n",
       "      <th></th>\n",
       "      <th>tau</th>\n",
       "      <th>pValue</th>\n",
       "    </tr>\n",
       "  </thead>\n",
       "  <tbody>\n",
       "    <tr>\n",
       "      <th>MS-SSIM</th>\n",
       "      <td>0.62</td>\n",
       "      <td>0.00</td>\n",
       "    </tr>\n",
       "    <tr>\n",
       "      <th>Random Query</th>\n",
       "      <td>-0.50</td>\n",
       "      <td>0.00</td>\n",
       "    </tr>\n",
       "    <tr>\n",
       "      <th>Earth Movers Distance</th>\n",
       "      <td>-0.47</td>\n",
       "      <td>0.00</td>\n",
       "    </tr>\n",
       "    <tr>\n",
       "      <th>KSTest</th>\n",
       "      <td>0.20</td>\n",
       "      <td>0.00</td>\n",
       "    </tr>\n",
       "    <tr>\n",
       "      <th>Scagnostics</th>\n",
       "      <td>-0.09</td>\n",
       "      <td>0.00</td>\n",
       "    </tr>\n",
       "  </tbody>\n",
       "</table>\n",
       "</div>"
      ],
      "text/plain": [
       "                        tau  pValue\n",
       "MS-SSIM                0.62    0.00\n",
       "Random Query          -0.50    0.00\n",
       "Earth Movers Distance -0.47    0.00\n",
       "KSTest                 0.20    0.00\n",
       "Scagnostics           -0.09    0.00"
      ]
     },
     "execution_count": 58,
     "metadata": {},
     "output_type": "execute_result"
    }
   ],
   "source": [
    "from re import M\n",
    "import numpy as np\n",
    "len(answerDataFrame['totalRating'])\n",
    "pd.set_option('display.precision', 2)\n",
    "metrics = ['MSSIM','Random Query', 'EarthMovers', 'KSTest', 'Scagnostics']\n",
    "associationDf = pd.DataFrame(columns = ['tau', 'pValue'])\n",
    "dfMetrics = pd.concat([dfMetrics, answerDataFrame['totalRating']], axis=1)\n",
    "for m in metrics:\n",
    "  tau, p_value = stats.kendalltau(dfMetrics['totalRating'], dfMetrics[m])\n",
    "  row = pd.Series({'tau':tau,'pValue':p_value},name= m)\n",
    "  associationDf = associationDf.append(row)\n",
    "\n",
    "associationDf.rename(index={'MSSIM': \"MS-SSIM\"}, inplace = True)\n",
    "associationDf.rename(index={'EarthMovers': \"Earth Movers Distance\"}, inplace = True)\n",
    "\n",
    "assocaiationDf = associationDf.sort_values(by='tau', key=pd.Series.abs)\n",
    "pd.options.display.float_format = '{:,.2f}'.format\n",
    "\n",
    "associationDf\n",
    "\n"
   ]
  },
  {
   "cell_type": "markdown",
   "metadata": {},
   "source": [
    "#### Correlation Coefficient Comparison\n",
    "\n",
    "We use Fisher’s z-transformation to test all the different correlations for any difference. If the p-value is less than .05 for at least one of the comparisons we accept hypothesis 5."
   ]
  },
  {
   "cell_type": "code",
   "execution_count": 98,
   "metadata": {},
   "outputs": [],
   "source": [
    "# Code copied from https://github.com/psinger/CorrelationStats/blob/master/corrstats.py\n",
    "\n",
    "from scipy.stats import t, norm\n",
    "from math import atanh, pow\n",
    "from numpy import tanh\n",
    "\n",
    "def independent_corr(xy, ab, n, n2 = None, twotailed=True, conf_level=0.95, method='fisher'):\n",
    "    \"\"\"\n",
    "    Calculates the statistic significance between two independent correlation coefficients\n",
    "    @param xy: correlation coefficient between x and y\n",
    "    @param xz: correlation coefficient between a and b\n",
    "    @param n: number of elements in xy\n",
    "    @param n2: number of elements in ab (if distinct from n)\n",
    "    @param twotailed: whether to calculate a one or two tailed test, only works for 'fisher' method\n",
    "    @param conf_level: confidence level, only works for 'zou' method\n",
    "    @param method: defines the method uses, 'fisher' or 'zou'\n",
    "    @return: z and p-val\n",
    "    \"\"\"\n",
    "\n",
    "    if method == 'fisher':\n",
    "        xy_z = 0.5 * np.log((1 + xy)/(1 - xy))\n",
    "        ab_z = 0.5 * np.log((1 + ab)/(1 - ab))\n",
    "        if n2 is None:\n",
    "            n2 = n\n",
    "\n",
    "        se_diff_r = np.sqrt(1/(n - 3) + 1/(n2 - 3))\n",
    "        diff = xy_z - ab_z\n",
    "        z = abs(diff / se_diff_r)\n",
    "        p = (1 - norm.cdf(z))\n",
    "        if twotailed:\n",
    "            p *= 2\n",
    "\n",
    "        return z, p\n",
    "    elif method == 'zou':\n",
    "        L1 = rz_ci(xy, n, conf_level=conf_level)[0]\n",
    "        U1 = rz_ci(xy, n, conf_level=conf_level)[1]\n",
    "        L2 = rz_ci(ab, n2, conf_level=conf_level)[0]\n",
    "        U2 = rz_ci(ab, n2, conf_level=conf_level)[1]\n",
    "        lower = xy - ab - pow((pow((xy - L1), 2) + pow((U2 - ab), 2)), 0.5)\n",
    "        upper = xy - ab + pow((pow((U1 - xy), 2) + pow((ab - L2), 2)), 0.5)\n",
    "        return lower, upper\n",
    "    else:\n",
    "        raise Exception('Wrong method!')"
   ]
  },
  {
   "cell_type": "code",
   "execution_count": 99,
   "metadata": {},
   "outputs": [
    {
     "data": {
      "text/plain": [
       "(31.130531496100772, 0.0)"
      ]
     },
     "execution_count": 99,
     "metadata": {},
     "output_type": "execute_result"
    }
   ],
   "source": [
    "independent_corr(associationDf['tau'][0], associationDf['tau'][1], 1200, 1200)"
   ]
  },
  {
   "cell_type": "markdown",
   "metadata": {},
   "source": [
    "## Extensions"
   ]
  },
  {
   "cell_type": "markdown",
   "metadata": {},
   "source": [
    "### Results Figure"
   ]
  },
  {
   "cell_type": "markdown",
   "metadata": {},
   "source": [
    "<font color='blue'>The charts below are used in the results figure. The data is no different than the previous post-hoc conover tables </font>"
   ]
  },
  {
   "cell_type": "code",
   "execution_count": 115,
   "metadata": {},
   "outputs": [],
   "source": [
    "import plotly.express as px"
   ]
  },
  {
   "cell_type": "markdown",
   "metadata": {},
   "source": [
    "#### Overall Best Algorithm Table"
   ]
  },
  {
   "cell_type": "code",
   "execution_count": 116,
   "metadata": {},
   "outputs": [
    {
     "name": "stderr",
     "output_type": "stream",
     "text": [
      "C:\\Users\\lpana\\AppData\\Local\\Temp/ipykernel_39888/2845082940.py:7: DeprecationWarning:\n",
      "\n",
      "`np.bool` is a deprecated alias for the builtin `bool`. To silence this warning, use `bool` by itself. Doing this will not modify any behavior and is safe. If you specifically wanted the numpy scalar type, use `np.bool_` here.\n",
      "Deprecated in NumPy 1.20; for more details and guidance: https://numpy.org/devdocs/release/1.20.0-notes.html#deprecations\n",
      "\n",
      "C:\\Users\\lpana\\AppData\\Local\\Temp/ipykernel_39888/2845082940.py:9: DeprecationWarning:\n",
      "\n",
      "`np.bool` is a deprecated alias for the builtin `bool`. To silence this warning, use `bool` by itself. Doing this will not modify any behavior and is safe. If you specifically wanted the numpy scalar type, use `np.bool_` here.\n",
      "Deprecated in NumPy 1.20; for more details and guidance: https://numpy.org/devdocs/release/1.20.0-notes.html#deprecations\n",
      "\n"
     ]
    },
    {
     "data": {
      "application/vnd.plotly.v1+json": {
       "config": {
        "plotlyServerURL": "https://plot.ly"
       },
       "data": [
        {
         "coloraxis": "coloraxis",
         "hovertemplate": "x: %{x}<br>y: %{y}<br>color: %{z}<extra></extra>",
         "name": "0",
         "texttemplate": "%{z}",
         "type": "heatmap",
         "x": [
          "DAWA",
          "Geometric",
          "AHP",
          "AGrid",
          "Laplace"
         ],
         "xaxis": "x",
         "y": [
          "DAWA",
          "Geometric",
          "AHP",
          "AGrid",
          "Laplace"
         ],
         "yaxis": "y",
         "z": [
          [
           1,
           0.393,
           0.018,
           0.004,
           0.003
          ],
          [
           null,
           1,
           0.152,
           0.046,
           0.026
          ],
          [
           null,
           null,
           1,
           0.622,
           0.475
          ],
          [
           null,
           null,
           null,
           1,
           0.769
          ],
          [
           null,
           null,
           null,
           null,
           1
          ]
         ]
        }
       ],
       "layout": {
        "coloraxis": {
         "cmax": 1,
         "cmin": 0,
         "colorscale": [
          [
           0,
           "rgb(3, 5, 18)"
          ],
          [
           0.09090909090909091,
           "rgb(25, 25, 51)"
          ],
          [
           0.18181818181818182,
           "rgb(44, 42, 87)"
          ],
          [
           0.2727272727272727,
           "rgb(58, 60, 125)"
          ],
          [
           0.36363636363636365,
           "rgb(62, 83, 160)"
          ],
          [
           0.45454545454545453,
           "rgb(62, 109, 178)"
          ],
          [
           0.5454545454545454,
           "rgb(72, 134, 187)"
          ],
          [
           0.6363636363636364,
           "rgb(89, 159, 196)"
          ],
          [
           0.7272727272727273,
           "rgb(114, 184, 205)"
          ],
          [
           0.8181818181818182,
           "rgb(149, 207, 216)"
          ],
          [
           0.9090909090909091,
           "rgb(192, 229, 232)"
          ],
          [
           1,
           "rgb(234, 252, 253)"
          ]
         ],
         "showscale": false
        },
        "font": {
         "color": "black",
         "size": 18
        },
        "margin": {
         "t": 60
        },
        "plot_bgcolor": "white",
        "template": {
         "data": {
          "bar": [
           {
            "error_x": {
             "color": "#2a3f5f"
            },
            "error_y": {
             "color": "#2a3f5f"
            },
            "marker": {
             "line": {
              "color": "#E5ECF6",
              "width": 0.5
             },
             "pattern": {
              "fillmode": "overlay",
              "size": 10,
              "solidity": 0.2
             }
            },
            "type": "bar"
           }
          ],
          "barpolar": [
           {
            "marker": {
             "line": {
              "color": "#E5ECF6",
              "width": 0.5
             },
             "pattern": {
              "fillmode": "overlay",
              "size": 10,
              "solidity": 0.2
             }
            },
            "type": "barpolar"
           }
          ],
          "carpet": [
           {
            "aaxis": {
             "endlinecolor": "#2a3f5f",
             "gridcolor": "white",
             "linecolor": "white",
             "minorgridcolor": "white",
             "startlinecolor": "#2a3f5f"
            },
            "baxis": {
             "endlinecolor": "#2a3f5f",
             "gridcolor": "white",
             "linecolor": "white",
             "minorgridcolor": "white",
             "startlinecolor": "#2a3f5f"
            },
            "type": "carpet"
           }
          ],
          "choropleth": [
           {
            "colorbar": {
             "outlinewidth": 0,
             "ticks": ""
            },
            "type": "choropleth"
           }
          ],
          "contour": [
           {
            "colorbar": {
             "outlinewidth": 0,
             "ticks": ""
            },
            "colorscale": [
             [
              0,
              "#0d0887"
             ],
             [
              0.1111111111111111,
              "#46039f"
             ],
             [
              0.2222222222222222,
              "#7201a8"
             ],
             [
              0.3333333333333333,
              "#9c179e"
             ],
             [
              0.4444444444444444,
              "#bd3786"
             ],
             [
              0.5555555555555556,
              "#d8576b"
             ],
             [
              0.6666666666666666,
              "#ed7953"
             ],
             [
              0.7777777777777778,
              "#fb9f3a"
             ],
             [
              0.8888888888888888,
              "#fdca26"
             ],
             [
              1,
              "#f0f921"
             ]
            ],
            "type": "contour"
           }
          ],
          "contourcarpet": [
           {
            "colorbar": {
             "outlinewidth": 0,
             "ticks": ""
            },
            "type": "contourcarpet"
           }
          ],
          "heatmap": [
           {
            "colorbar": {
             "outlinewidth": 0,
             "ticks": ""
            },
            "colorscale": [
             [
              0,
              "#0d0887"
             ],
             [
              0.1111111111111111,
              "#46039f"
             ],
             [
              0.2222222222222222,
              "#7201a8"
             ],
             [
              0.3333333333333333,
              "#9c179e"
             ],
             [
              0.4444444444444444,
              "#bd3786"
             ],
             [
              0.5555555555555556,
              "#d8576b"
             ],
             [
              0.6666666666666666,
              "#ed7953"
             ],
             [
              0.7777777777777778,
              "#fb9f3a"
             ],
             [
              0.8888888888888888,
              "#fdca26"
             ],
             [
              1,
              "#f0f921"
             ]
            ],
            "type": "heatmap"
           }
          ],
          "heatmapgl": [
           {
            "colorbar": {
             "outlinewidth": 0,
             "ticks": ""
            },
            "colorscale": [
             [
              0,
              "#0d0887"
             ],
             [
              0.1111111111111111,
              "#46039f"
             ],
             [
              0.2222222222222222,
              "#7201a8"
             ],
             [
              0.3333333333333333,
              "#9c179e"
             ],
             [
              0.4444444444444444,
              "#bd3786"
             ],
             [
              0.5555555555555556,
              "#d8576b"
             ],
             [
              0.6666666666666666,
              "#ed7953"
             ],
             [
              0.7777777777777778,
              "#fb9f3a"
             ],
             [
              0.8888888888888888,
              "#fdca26"
             ],
             [
              1,
              "#f0f921"
             ]
            ],
            "type": "heatmapgl"
           }
          ],
          "histogram": [
           {
            "marker": {
             "pattern": {
              "fillmode": "overlay",
              "size": 10,
              "solidity": 0.2
             }
            },
            "type": "histogram"
           }
          ],
          "histogram2d": [
           {
            "colorbar": {
             "outlinewidth": 0,
             "ticks": ""
            },
            "colorscale": [
             [
              0,
              "#0d0887"
             ],
             [
              0.1111111111111111,
              "#46039f"
             ],
             [
              0.2222222222222222,
              "#7201a8"
             ],
             [
              0.3333333333333333,
              "#9c179e"
             ],
             [
              0.4444444444444444,
              "#bd3786"
             ],
             [
              0.5555555555555556,
              "#d8576b"
             ],
             [
              0.6666666666666666,
              "#ed7953"
             ],
             [
              0.7777777777777778,
              "#fb9f3a"
             ],
             [
              0.8888888888888888,
              "#fdca26"
             ],
             [
              1,
              "#f0f921"
             ]
            ],
            "type": "histogram2d"
           }
          ],
          "histogram2dcontour": [
           {
            "colorbar": {
             "outlinewidth": 0,
             "ticks": ""
            },
            "colorscale": [
             [
              0,
              "#0d0887"
             ],
             [
              0.1111111111111111,
              "#46039f"
             ],
             [
              0.2222222222222222,
              "#7201a8"
             ],
             [
              0.3333333333333333,
              "#9c179e"
             ],
             [
              0.4444444444444444,
              "#bd3786"
             ],
             [
              0.5555555555555556,
              "#d8576b"
             ],
             [
              0.6666666666666666,
              "#ed7953"
             ],
             [
              0.7777777777777778,
              "#fb9f3a"
             ],
             [
              0.8888888888888888,
              "#fdca26"
             ],
             [
              1,
              "#f0f921"
             ]
            ],
            "type": "histogram2dcontour"
           }
          ],
          "mesh3d": [
           {
            "colorbar": {
             "outlinewidth": 0,
             "ticks": ""
            },
            "type": "mesh3d"
           }
          ],
          "parcoords": [
           {
            "line": {
             "colorbar": {
              "outlinewidth": 0,
              "ticks": ""
             }
            },
            "type": "parcoords"
           }
          ],
          "pie": [
           {
            "automargin": true,
            "type": "pie"
           }
          ],
          "scatter": [
           {
            "fillpattern": {
             "fillmode": "overlay",
             "size": 10,
             "solidity": 0.2
            },
            "type": "scatter"
           }
          ],
          "scatter3d": [
           {
            "line": {
             "colorbar": {
              "outlinewidth": 0,
              "ticks": ""
             }
            },
            "marker": {
             "colorbar": {
              "outlinewidth": 0,
              "ticks": ""
             }
            },
            "type": "scatter3d"
           }
          ],
          "scattercarpet": [
           {
            "marker": {
             "colorbar": {
              "outlinewidth": 0,
              "ticks": ""
             }
            },
            "type": "scattercarpet"
           }
          ],
          "scattergeo": [
           {
            "marker": {
             "colorbar": {
              "outlinewidth": 0,
              "ticks": ""
             }
            },
            "type": "scattergeo"
           }
          ],
          "scattergl": [
           {
            "marker": {
             "colorbar": {
              "outlinewidth": 0,
              "ticks": ""
             }
            },
            "type": "scattergl"
           }
          ],
          "scattermapbox": [
           {
            "marker": {
             "colorbar": {
              "outlinewidth": 0,
              "ticks": ""
             }
            },
            "type": "scattermapbox"
           }
          ],
          "scatterpolar": [
           {
            "marker": {
             "colorbar": {
              "outlinewidth": 0,
              "ticks": ""
             }
            },
            "type": "scatterpolar"
           }
          ],
          "scatterpolargl": [
           {
            "marker": {
             "colorbar": {
              "outlinewidth": 0,
              "ticks": ""
             }
            },
            "type": "scatterpolargl"
           }
          ],
          "scatterternary": [
           {
            "marker": {
             "colorbar": {
              "outlinewidth": 0,
              "ticks": ""
             }
            },
            "type": "scatterternary"
           }
          ],
          "surface": [
           {
            "colorbar": {
             "outlinewidth": 0,
             "ticks": ""
            },
            "colorscale": [
             [
              0,
              "#0d0887"
             ],
             [
              0.1111111111111111,
              "#46039f"
             ],
             [
              0.2222222222222222,
              "#7201a8"
             ],
             [
              0.3333333333333333,
              "#9c179e"
             ],
             [
              0.4444444444444444,
              "#bd3786"
             ],
             [
              0.5555555555555556,
              "#d8576b"
             ],
             [
              0.6666666666666666,
              "#ed7953"
             ],
             [
              0.7777777777777778,
              "#fb9f3a"
             ],
             [
              0.8888888888888888,
              "#fdca26"
             ],
             [
              1,
              "#f0f921"
             ]
            ],
            "type": "surface"
           }
          ],
          "table": [
           {
            "cells": {
             "fill": {
              "color": "#EBF0F8"
             },
             "line": {
              "color": "white"
             }
            },
            "header": {
             "fill": {
              "color": "#C8D4E3"
             },
             "line": {
              "color": "white"
             }
            },
            "type": "table"
           }
          ]
         },
         "layout": {
          "annotationdefaults": {
           "arrowcolor": "#2a3f5f",
           "arrowhead": 0,
           "arrowwidth": 1
          },
          "autotypenumbers": "strict",
          "coloraxis": {
           "colorbar": {
            "outlinewidth": 0,
            "ticks": ""
           }
          },
          "colorscale": {
           "diverging": [
            [
             0,
             "#8e0152"
            ],
            [
             0.1,
             "#c51b7d"
            ],
            [
             0.2,
             "#de77ae"
            ],
            [
             0.3,
             "#f1b6da"
            ],
            [
             0.4,
             "#fde0ef"
            ],
            [
             0.5,
             "#f7f7f7"
            ],
            [
             0.6,
             "#e6f5d0"
            ],
            [
             0.7,
             "#b8e186"
            ],
            [
             0.8,
             "#7fbc41"
            ],
            [
             0.9,
             "#4d9221"
            ],
            [
             1,
             "#276419"
            ]
           ],
           "sequential": [
            [
             0,
             "#0d0887"
            ],
            [
             0.1111111111111111,
             "#46039f"
            ],
            [
             0.2222222222222222,
             "#7201a8"
            ],
            [
             0.3333333333333333,
             "#9c179e"
            ],
            [
             0.4444444444444444,
             "#bd3786"
            ],
            [
             0.5555555555555556,
             "#d8576b"
            ],
            [
             0.6666666666666666,
             "#ed7953"
            ],
            [
             0.7777777777777778,
             "#fb9f3a"
            ],
            [
             0.8888888888888888,
             "#fdca26"
            ],
            [
             1,
             "#f0f921"
            ]
           ],
           "sequentialminus": [
            [
             0,
             "#0d0887"
            ],
            [
             0.1111111111111111,
             "#46039f"
            ],
            [
             0.2222222222222222,
             "#7201a8"
            ],
            [
             0.3333333333333333,
             "#9c179e"
            ],
            [
             0.4444444444444444,
             "#bd3786"
            ],
            [
             0.5555555555555556,
             "#d8576b"
            ],
            [
             0.6666666666666666,
             "#ed7953"
            ],
            [
             0.7777777777777778,
             "#fb9f3a"
            ],
            [
             0.8888888888888888,
             "#fdca26"
            ],
            [
             1,
             "#f0f921"
            ]
           ]
          },
          "colorway": [
           "#636efa",
           "#EF553B",
           "#00cc96",
           "#ab63fa",
           "#FFA15A",
           "#19d3f3",
           "#FF6692",
           "#B6E880",
           "#FF97FF",
           "#FECB52"
          ],
          "font": {
           "color": "#2a3f5f"
          },
          "geo": {
           "bgcolor": "white",
           "lakecolor": "white",
           "landcolor": "#E5ECF6",
           "showlakes": true,
           "showland": true,
           "subunitcolor": "white"
          },
          "hoverlabel": {
           "align": "left"
          },
          "hovermode": "closest",
          "mapbox": {
           "style": "light"
          },
          "paper_bgcolor": "white",
          "plot_bgcolor": "#E5ECF6",
          "polar": {
           "angularaxis": {
            "gridcolor": "white",
            "linecolor": "white",
            "ticks": ""
           },
           "bgcolor": "#E5ECF6",
           "radialaxis": {
            "gridcolor": "white",
            "linecolor": "white",
            "ticks": ""
           }
          },
          "scene": {
           "xaxis": {
            "backgroundcolor": "#E5ECF6",
            "gridcolor": "white",
            "gridwidth": 2,
            "linecolor": "white",
            "showbackground": true,
            "ticks": "",
            "zerolinecolor": "white"
           },
           "yaxis": {
            "backgroundcolor": "#E5ECF6",
            "gridcolor": "white",
            "gridwidth": 2,
            "linecolor": "white",
            "showbackground": true,
            "ticks": "",
            "zerolinecolor": "white"
           },
           "zaxis": {
            "backgroundcolor": "#E5ECF6",
            "gridcolor": "white",
            "gridwidth": 2,
            "linecolor": "white",
            "showbackground": true,
            "ticks": "",
            "zerolinecolor": "white"
           }
          },
          "shapedefaults": {
           "line": {
            "color": "#2a3f5f"
           }
          },
          "ternary": {
           "aaxis": {
            "gridcolor": "white",
            "linecolor": "white",
            "ticks": ""
           },
           "baxis": {
            "gridcolor": "white",
            "linecolor": "white",
            "ticks": ""
           },
           "bgcolor": "#E5ECF6",
           "caxis": {
            "gridcolor": "white",
            "linecolor": "white",
            "ticks": ""
           }
          },
          "title": {
           "x": 0.05
          },
          "xaxis": {
           "automargin": true,
           "gridcolor": "white",
           "linecolor": "white",
           "ticks": "",
           "title": {
            "standoff": 15
           },
           "zerolinecolor": "white",
           "zerolinewidth": 2
          },
          "yaxis": {
           "automargin": true,
           "gridcolor": "white",
           "linecolor": "white",
           "ticks": "",
           "title": {
            "standoff": 15
           },
           "zerolinecolor": "white",
           "zerolinewidth": 2
          }
         }
        },
        "xaxis": {
         "anchor": "y",
         "constrain": "domain",
         "domain": [
          0,
          1
         ],
         "scaleanchor": "y",
         "side": "top"
        },
        "yaxis": {
         "anchor": "x",
         "autorange": "reversed",
         "constrain": "domain",
         "domain": [
          0,
          1
         ],
         "side": "right"
        }
       }
      },
      "text/html": [
       "<div>                            <div id=\"13caaa2a-3cb2-4321-ae60-c4abdc4c71ee\" class=\"plotly-graph-div\" style=\"height:525px; width:100%;\"></div>            <script type=\"text/javascript\">                require([\"plotly\"], function(Plotly) {                    window.PLOTLYENV=window.PLOTLYENV || {};                                    if (document.getElementById(\"13caaa2a-3cb2-4321-ae60-c4abdc4c71ee\")) {                    Plotly.newPlot(                        \"13caaa2a-3cb2-4321-ae60-c4abdc4c71ee\",                        [{\"coloraxis\":\"coloraxis\",\"name\":\"0\",\"texttemplate\":\"%{z}\",\"x\":[\"DAWA\",\"Geometric\",\"AHP\",\"AGrid\",\"Laplace\"],\"y\":[\"DAWA\",\"Geometric\",\"AHP\",\"AGrid\",\"Laplace\"],\"z\":[[1.0,0.393,0.018,0.004,0.003],[null,1.0,0.152,0.046,0.026],[null,null,1.0,0.622,0.475],[null,null,null,1.0,0.769],[null,null,null,null,1.0]],\"type\":\"heatmap\",\"xaxis\":\"x\",\"yaxis\":\"y\",\"hovertemplate\":\"x: %{x}<br>y: %{y}<br>color: %{z}<extra></extra>\"}],                        {\"template\":{\"data\":{\"histogram2dcontour\":[{\"type\":\"histogram2dcontour\",\"colorbar\":{\"outlinewidth\":0,\"ticks\":\"\"},\"colorscale\":[[0.0,\"#0d0887\"],[0.1111111111111111,\"#46039f\"],[0.2222222222222222,\"#7201a8\"],[0.3333333333333333,\"#9c179e\"],[0.4444444444444444,\"#bd3786\"],[0.5555555555555556,\"#d8576b\"],[0.6666666666666666,\"#ed7953\"],[0.7777777777777778,\"#fb9f3a\"],[0.8888888888888888,\"#fdca26\"],[1.0,\"#f0f921\"]]}],\"choropleth\":[{\"type\":\"choropleth\",\"colorbar\":{\"outlinewidth\":0,\"ticks\":\"\"}}],\"histogram2d\":[{\"type\":\"histogram2d\",\"colorbar\":{\"outlinewidth\":0,\"ticks\":\"\"},\"colorscale\":[[0.0,\"#0d0887\"],[0.1111111111111111,\"#46039f\"],[0.2222222222222222,\"#7201a8\"],[0.3333333333333333,\"#9c179e\"],[0.4444444444444444,\"#bd3786\"],[0.5555555555555556,\"#d8576b\"],[0.6666666666666666,\"#ed7953\"],[0.7777777777777778,\"#fb9f3a\"],[0.8888888888888888,\"#fdca26\"],[1.0,\"#f0f921\"]]}],\"heatmap\":[{\"type\":\"heatmap\",\"colorbar\":{\"outlinewidth\":0,\"ticks\":\"\"},\"colorscale\":[[0.0,\"#0d0887\"],[0.1111111111111111,\"#46039f\"],[0.2222222222222222,\"#7201a8\"],[0.3333333333333333,\"#9c179e\"],[0.4444444444444444,\"#bd3786\"],[0.5555555555555556,\"#d8576b\"],[0.6666666666666666,\"#ed7953\"],[0.7777777777777778,\"#fb9f3a\"],[0.8888888888888888,\"#fdca26\"],[1.0,\"#f0f921\"]]}],\"heatmapgl\":[{\"type\":\"heatmapgl\",\"colorbar\":{\"outlinewidth\":0,\"ticks\":\"\"},\"colorscale\":[[0.0,\"#0d0887\"],[0.1111111111111111,\"#46039f\"],[0.2222222222222222,\"#7201a8\"],[0.3333333333333333,\"#9c179e\"],[0.4444444444444444,\"#bd3786\"],[0.5555555555555556,\"#d8576b\"],[0.6666666666666666,\"#ed7953\"],[0.7777777777777778,\"#fb9f3a\"],[0.8888888888888888,\"#fdca26\"],[1.0,\"#f0f921\"]]}],\"contourcarpet\":[{\"type\":\"contourcarpet\",\"colorbar\":{\"outlinewidth\":0,\"ticks\":\"\"}}],\"contour\":[{\"type\":\"contour\",\"colorbar\":{\"outlinewidth\":0,\"ticks\":\"\"},\"colorscale\":[[0.0,\"#0d0887\"],[0.1111111111111111,\"#46039f\"],[0.2222222222222222,\"#7201a8\"],[0.3333333333333333,\"#9c179e\"],[0.4444444444444444,\"#bd3786\"],[0.5555555555555556,\"#d8576b\"],[0.6666666666666666,\"#ed7953\"],[0.7777777777777778,\"#fb9f3a\"],[0.8888888888888888,\"#fdca26\"],[1.0,\"#f0f921\"]]}],\"surface\":[{\"type\":\"surface\",\"colorbar\":{\"outlinewidth\":0,\"ticks\":\"\"},\"colorscale\":[[0.0,\"#0d0887\"],[0.1111111111111111,\"#46039f\"],[0.2222222222222222,\"#7201a8\"],[0.3333333333333333,\"#9c179e\"],[0.4444444444444444,\"#bd3786\"],[0.5555555555555556,\"#d8576b\"],[0.6666666666666666,\"#ed7953\"],[0.7777777777777778,\"#fb9f3a\"],[0.8888888888888888,\"#fdca26\"],[1.0,\"#f0f921\"]]}],\"mesh3d\":[{\"type\":\"mesh3d\",\"colorbar\":{\"outlinewidth\":0,\"ticks\":\"\"}}],\"scatter\":[{\"fillpattern\":{\"fillmode\":\"overlay\",\"size\":10,\"solidity\":0.2},\"type\":\"scatter\"}],\"parcoords\":[{\"type\":\"parcoords\",\"line\":{\"colorbar\":{\"outlinewidth\":0,\"ticks\":\"\"}}}],\"scatterpolargl\":[{\"type\":\"scatterpolargl\",\"marker\":{\"colorbar\":{\"outlinewidth\":0,\"ticks\":\"\"}}}],\"bar\":[{\"error_x\":{\"color\":\"#2a3f5f\"},\"error_y\":{\"color\":\"#2a3f5f\"},\"marker\":{\"line\":{\"color\":\"#E5ECF6\",\"width\":0.5},\"pattern\":{\"fillmode\":\"overlay\",\"size\":10,\"solidity\":0.2}},\"type\":\"bar\"}],\"scattergeo\":[{\"type\":\"scattergeo\",\"marker\":{\"colorbar\":{\"outlinewidth\":0,\"ticks\":\"\"}}}],\"scatterpolar\":[{\"type\":\"scatterpolar\",\"marker\":{\"colorbar\":{\"outlinewidth\":0,\"ticks\":\"\"}}}],\"histogram\":[{\"marker\":{\"pattern\":{\"fillmode\":\"overlay\",\"size\":10,\"solidity\":0.2}},\"type\":\"histogram\"}],\"scattergl\":[{\"type\":\"scattergl\",\"marker\":{\"colorbar\":{\"outlinewidth\":0,\"ticks\":\"\"}}}],\"scatter3d\":[{\"type\":\"scatter3d\",\"line\":{\"colorbar\":{\"outlinewidth\":0,\"ticks\":\"\"}},\"marker\":{\"colorbar\":{\"outlinewidth\":0,\"ticks\":\"\"}}}],\"scattermapbox\":[{\"type\":\"scattermapbox\",\"marker\":{\"colorbar\":{\"outlinewidth\":0,\"ticks\":\"\"}}}],\"scatterternary\":[{\"type\":\"scatterternary\",\"marker\":{\"colorbar\":{\"outlinewidth\":0,\"ticks\":\"\"}}}],\"scattercarpet\":[{\"type\":\"scattercarpet\",\"marker\":{\"colorbar\":{\"outlinewidth\":0,\"ticks\":\"\"}}}],\"carpet\":[{\"aaxis\":{\"endlinecolor\":\"#2a3f5f\",\"gridcolor\":\"white\",\"linecolor\":\"white\",\"minorgridcolor\":\"white\",\"startlinecolor\":\"#2a3f5f\"},\"baxis\":{\"endlinecolor\":\"#2a3f5f\",\"gridcolor\":\"white\",\"linecolor\":\"white\",\"minorgridcolor\":\"white\",\"startlinecolor\":\"#2a3f5f\"},\"type\":\"carpet\"}],\"table\":[{\"cells\":{\"fill\":{\"color\":\"#EBF0F8\"},\"line\":{\"color\":\"white\"}},\"header\":{\"fill\":{\"color\":\"#C8D4E3\"},\"line\":{\"color\":\"white\"}},\"type\":\"table\"}],\"barpolar\":[{\"marker\":{\"line\":{\"color\":\"#E5ECF6\",\"width\":0.5},\"pattern\":{\"fillmode\":\"overlay\",\"size\":10,\"solidity\":0.2}},\"type\":\"barpolar\"}],\"pie\":[{\"automargin\":true,\"type\":\"pie\"}]},\"layout\":{\"autotypenumbers\":\"strict\",\"colorway\":[\"#636efa\",\"#EF553B\",\"#00cc96\",\"#ab63fa\",\"#FFA15A\",\"#19d3f3\",\"#FF6692\",\"#B6E880\",\"#FF97FF\",\"#FECB52\"],\"font\":{\"color\":\"#2a3f5f\"},\"hovermode\":\"closest\",\"hoverlabel\":{\"align\":\"left\"},\"paper_bgcolor\":\"white\",\"plot_bgcolor\":\"#E5ECF6\",\"polar\":{\"bgcolor\":\"#E5ECF6\",\"angularaxis\":{\"gridcolor\":\"white\",\"linecolor\":\"white\",\"ticks\":\"\"},\"radialaxis\":{\"gridcolor\":\"white\",\"linecolor\":\"white\",\"ticks\":\"\"}},\"ternary\":{\"bgcolor\":\"#E5ECF6\",\"aaxis\":{\"gridcolor\":\"white\",\"linecolor\":\"white\",\"ticks\":\"\"},\"baxis\":{\"gridcolor\":\"white\",\"linecolor\":\"white\",\"ticks\":\"\"},\"caxis\":{\"gridcolor\":\"white\",\"linecolor\":\"white\",\"ticks\":\"\"}},\"coloraxis\":{\"colorbar\":{\"outlinewidth\":0,\"ticks\":\"\"}},\"colorscale\":{\"sequential\":[[0.0,\"#0d0887\"],[0.1111111111111111,\"#46039f\"],[0.2222222222222222,\"#7201a8\"],[0.3333333333333333,\"#9c179e\"],[0.4444444444444444,\"#bd3786\"],[0.5555555555555556,\"#d8576b\"],[0.6666666666666666,\"#ed7953\"],[0.7777777777777778,\"#fb9f3a\"],[0.8888888888888888,\"#fdca26\"],[1.0,\"#f0f921\"]],\"sequentialminus\":[[0.0,\"#0d0887\"],[0.1111111111111111,\"#46039f\"],[0.2222222222222222,\"#7201a8\"],[0.3333333333333333,\"#9c179e\"],[0.4444444444444444,\"#bd3786\"],[0.5555555555555556,\"#d8576b\"],[0.6666666666666666,\"#ed7953\"],[0.7777777777777778,\"#fb9f3a\"],[0.8888888888888888,\"#fdca26\"],[1.0,\"#f0f921\"]],\"diverging\":[[0,\"#8e0152\"],[0.1,\"#c51b7d\"],[0.2,\"#de77ae\"],[0.3,\"#f1b6da\"],[0.4,\"#fde0ef\"],[0.5,\"#f7f7f7\"],[0.6,\"#e6f5d0\"],[0.7,\"#b8e186\"],[0.8,\"#7fbc41\"],[0.9,\"#4d9221\"],[1,\"#276419\"]]},\"xaxis\":{\"gridcolor\":\"white\",\"linecolor\":\"white\",\"ticks\":\"\",\"title\":{\"standoff\":15},\"zerolinecolor\":\"white\",\"automargin\":true,\"zerolinewidth\":2},\"yaxis\":{\"gridcolor\":\"white\",\"linecolor\":\"white\",\"ticks\":\"\",\"title\":{\"standoff\":15},\"zerolinecolor\":\"white\",\"automargin\":true,\"zerolinewidth\":2},\"scene\":{\"xaxis\":{\"backgroundcolor\":\"#E5ECF6\",\"gridcolor\":\"white\",\"linecolor\":\"white\",\"showbackground\":true,\"ticks\":\"\",\"zerolinecolor\":\"white\",\"gridwidth\":2},\"yaxis\":{\"backgroundcolor\":\"#E5ECF6\",\"gridcolor\":\"white\",\"linecolor\":\"white\",\"showbackground\":true,\"ticks\":\"\",\"zerolinecolor\":\"white\",\"gridwidth\":2},\"zaxis\":{\"backgroundcolor\":\"#E5ECF6\",\"gridcolor\":\"white\",\"linecolor\":\"white\",\"showbackground\":true,\"ticks\":\"\",\"zerolinecolor\":\"white\",\"gridwidth\":2}},\"shapedefaults\":{\"line\":{\"color\":\"#2a3f5f\"}},\"annotationdefaults\":{\"arrowcolor\":\"#2a3f5f\",\"arrowhead\":0,\"arrowwidth\":1},\"geo\":{\"bgcolor\":\"white\",\"landcolor\":\"#E5ECF6\",\"subunitcolor\":\"white\",\"showland\":true,\"showlakes\":true,\"lakecolor\":\"white\"},\"title\":{\"x\":0.05},\"mapbox\":{\"style\":\"light\"}}},\"xaxis\":{\"anchor\":\"y\",\"domain\":[0.0,1.0],\"scaleanchor\":\"y\",\"constrain\":\"domain\",\"side\":\"top\"},\"yaxis\":{\"anchor\":\"x\",\"domain\":[0.0,1.0],\"autorange\":\"reversed\",\"constrain\":\"domain\",\"side\":\"right\"},\"coloraxis\":{\"colorscale\":[[0.0,\"rgb(3, 5, 18)\"],[0.09090909090909091,\"rgb(25, 25, 51)\"],[0.18181818181818182,\"rgb(44, 42, 87)\"],[0.2727272727272727,\"rgb(58, 60, 125)\"],[0.36363636363636365,\"rgb(62, 83, 160)\"],[0.45454545454545453,\"rgb(62, 109, 178)\"],[0.5454545454545454,\"rgb(72, 134, 187)\"],[0.6363636363636364,\"rgb(89, 159, 196)\"],[0.7272727272727273,\"rgb(114, 184, 205)\"],[0.8181818181818182,\"rgb(149, 207, 216)\"],[0.9090909090909091,\"rgb(192, 229, 232)\"],[1.0,\"rgb(234, 252, 253)\"]],\"cmin\":0,\"cmax\":1,\"showscale\":false},\"margin\":{\"t\":60},\"plot_bgcolor\":\"white\",\"font\":{\"size\":18,\"color\":\"black\"}},                        {\"responsive\": true}                    ).then(function(){\n",
       "                            \n",
       "var gd = document.getElementById('13caaa2a-3cb2-4321-ae60-c4abdc4c71ee');\n",
       "var x = new MutationObserver(function (mutations, observer) {{\n",
       "        var display = window.getComputedStyle(gd).display;\n",
       "        if (!display || display === 'none') {{\n",
       "            console.log([gd, 'removed!']);\n",
       "            Plotly.purge(gd);\n",
       "            observer.disconnect();\n",
       "        }}\n",
       "}});\n",
       "\n",
       "// Listen for the removal of the full notebook cells\n",
       "var notebookContainer = gd.closest('#notebook-container');\n",
       "if (notebookContainer) {{\n",
       "    x.observe(notebookContainer, {childList: true});\n",
       "}}\n",
       "\n",
       "// Listen for the clearing of the current output cell\n",
       "var outputEl = gd.closest('.output');\n",
       "if (outputEl) {{\n",
       "    x.observe(outputEl, {childList: true});\n",
       "}}\n",
       "\n",
       "                        })                };                });            </script>        </div>"
      ]
     },
     "metadata": {},
     "output_type": "display_data"
    }
   ],
   "source": [
    "filteredDfOverall = getFilteredArray(answerDataFrame, '0')\n",
    "\n",
    "dfOverall = getConoverPostHoc(filteredDfOverall)\n",
    "cols = ['DAWA', 'Geometric', 'AHP', 'AGrid', 'Laplace']\n",
    "dfOverall = dfOverall.reindex(['DAWA', 'Geometric', 'AHP', 'AGrid', 'Laplace'])\n",
    "dfOverall = dfOverall[cols] \n",
    "np.triu(np.ones(dfOverall.shape)).astype(np.bool)[0:5,0:5]\n",
    "pd.set_option('precision', 3)\n",
    "df_lt = dfOverall.where(np.triu(np.ones(dfOverall.shape)).astype(np.bool)[0:5,0:5]).round(3)\n",
    "fig = px.imshow(df_lt, text_auto=True, color_continuous_scale=\"ice\",  zmax=1,zmin=0)\n",
    "fig.update_layout(plot_bgcolor=\"white\")\n",
    "fig.update_layout(font = dict(size = 18, color = 'black'))\n",
    "fig.update_coloraxes(showscale=False)\n",
    "fig['layout']['xaxis']['side'] = 'top'\n",
    "fig['layout']['yaxis']['side'] = 'right'\n",
    "fig.write_image(\"post-hoc-overall.svg\")\n",
    "fig.show()"
   ]
  },
  {
   "cell_type": "markdown",
   "metadata": {},
   "source": [
    "#### Distribution Best Algorithm Table"
   ]
  },
  {
   "cell_type": "code",
   "execution_count": 117,
   "metadata": {},
   "outputs": [
    {
     "name": "stderr",
     "output_type": "stream",
     "text": [
      "C:\\Users\\lpana\\AppData\\Local\\Temp/ipykernel_39888/2290397972.py:7: DeprecationWarning:\n",
      "\n",
      "`np.bool` is a deprecated alias for the builtin `bool`. To silence this warning, use `bool` by itself. Doing this will not modify any behavior and is safe. If you specifically wanted the numpy scalar type, use `np.bool_` here.\n",
      "Deprecated in NumPy 1.20; for more details and guidance: https://numpy.org/devdocs/release/1.20.0-notes.html#deprecations\n",
      "\n",
      "C:\\Users\\lpana\\AppData\\Local\\Temp/ipykernel_39888/2290397972.py:9: DeprecationWarning:\n",
      "\n",
      "`np.bool` is a deprecated alias for the builtin `bool`. To silence this warning, use `bool` by itself. Doing this will not modify any behavior and is safe. If you specifically wanted the numpy scalar type, use `np.bool_` here.\n",
      "Deprecated in NumPy 1.20; for more details and guidance: https://numpy.org/devdocs/release/1.20.0-notes.html#deprecations\n",
      "\n"
     ]
    },
    {
     "data": {
      "application/vnd.plotly.v1+json": {
       "config": {
        "plotlyServerURL": "https://plot.ly"
       },
       "data": [
        {
         "coloraxis": "coloraxis",
         "hovertemplate": "x: %{x}<br>y: %{y}<br>color: %{z}<extra></extra>",
         "name": "0",
         "texttemplate": "%{z}",
         "type": "heatmap",
         "x": [
          "DAWA",
          "Geometric",
          "AHP",
          "AGrid",
          "Laplace"
         ],
         "xaxis": "x",
         "y": [
          "DAWA",
          "Geometric",
          "AHP",
          "AGrid",
          "Laplace"
         ],
         "yaxis": "y",
         "z": [
          [
           1,
           0.603,
           0.155,
           0.081,
           0.081
          ],
          [
           null,
           1,
           0.412,
           0.155,
           0.155
          ],
          [
           null,
           null,
           1,
           0.603,
           0.603
          ],
          [
           null,
           null,
           null,
           1,
           0.988
          ],
          [
           null,
           null,
           null,
           null,
           1
          ]
         ]
        }
       ],
       "layout": {
        "coloraxis": {
         "cmax": 1,
         "cmin": 0,
         "colorscale": [
          [
           0,
           "rgb(3, 5, 18)"
          ],
          [
           0.09090909090909091,
           "rgb(25, 25, 51)"
          ],
          [
           0.18181818181818182,
           "rgb(44, 42, 87)"
          ],
          [
           0.2727272727272727,
           "rgb(58, 60, 125)"
          ],
          [
           0.36363636363636365,
           "rgb(62, 83, 160)"
          ],
          [
           0.45454545454545453,
           "rgb(62, 109, 178)"
          ],
          [
           0.5454545454545454,
           "rgb(72, 134, 187)"
          ],
          [
           0.6363636363636364,
           "rgb(89, 159, 196)"
          ],
          [
           0.7272727272727273,
           "rgb(114, 184, 205)"
          ],
          [
           0.8181818181818182,
           "rgb(149, 207, 216)"
          ],
          [
           0.9090909090909091,
           "rgb(192, 229, 232)"
          ],
          [
           1,
           "rgb(234, 252, 253)"
          ]
         ],
         "showscale": false
        },
        "font": {
         "color": "black",
         "size": 18
        },
        "margin": {
         "t": 60
        },
        "plot_bgcolor": "white",
        "template": {
         "data": {
          "bar": [
           {
            "error_x": {
             "color": "#2a3f5f"
            },
            "error_y": {
             "color": "#2a3f5f"
            },
            "marker": {
             "line": {
              "color": "#E5ECF6",
              "width": 0.5
             },
             "pattern": {
              "fillmode": "overlay",
              "size": 10,
              "solidity": 0.2
             }
            },
            "type": "bar"
           }
          ],
          "barpolar": [
           {
            "marker": {
             "line": {
              "color": "#E5ECF6",
              "width": 0.5
             },
             "pattern": {
              "fillmode": "overlay",
              "size": 10,
              "solidity": 0.2
             }
            },
            "type": "barpolar"
           }
          ],
          "carpet": [
           {
            "aaxis": {
             "endlinecolor": "#2a3f5f",
             "gridcolor": "white",
             "linecolor": "white",
             "minorgridcolor": "white",
             "startlinecolor": "#2a3f5f"
            },
            "baxis": {
             "endlinecolor": "#2a3f5f",
             "gridcolor": "white",
             "linecolor": "white",
             "minorgridcolor": "white",
             "startlinecolor": "#2a3f5f"
            },
            "type": "carpet"
           }
          ],
          "choropleth": [
           {
            "colorbar": {
             "outlinewidth": 0,
             "ticks": ""
            },
            "type": "choropleth"
           }
          ],
          "contour": [
           {
            "colorbar": {
             "outlinewidth": 0,
             "ticks": ""
            },
            "colorscale": [
             [
              0,
              "#0d0887"
             ],
             [
              0.1111111111111111,
              "#46039f"
             ],
             [
              0.2222222222222222,
              "#7201a8"
             ],
             [
              0.3333333333333333,
              "#9c179e"
             ],
             [
              0.4444444444444444,
              "#bd3786"
             ],
             [
              0.5555555555555556,
              "#d8576b"
             ],
             [
              0.6666666666666666,
              "#ed7953"
             ],
             [
              0.7777777777777778,
              "#fb9f3a"
             ],
             [
              0.8888888888888888,
              "#fdca26"
             ],
             [
              1,
              "#f0f921"
             ]
            ],
            "type": "contour"
           }
          ],
          "contourcarpet": [
           {
            "colorbar": {
             "outlinewidth": 0,
             "ticks": ""
            },
            "type": "contourcarpet"
           }
          ],
          "heatmap": [
           {
            "colorbar": {
             "outlinewidth": 0,
             "ticks": ""
            },
            "colorscale": [
             [
              0,
              "#0d0887"
             ],
             [
              0.1111111111111111,
              "#46039f"
             ],
             [
              0.2222222222222222,
              "#7201a8"
             ],
             [
              0.3333333333333333,
              "#9c179e"
             ],
             [
              0.4444444444444444,
              "#bd3786"
             ],
             [
              0.5555555555555556,
              "#d8576b"
             ],
             [
              0.6666666666666666,
              "#ed7953"
             ],
             [
              0.7777777777777778,
              "#fb9f3a"
             ],
             [
              0.8888888888888888,
              "#fdca26"
             ],
             [
              1,
              "#f0f921"
             ]
            ],
            "type": "heatmap"
           }
          ],
          "heatmapgl": [
           {
            "colorbar": {
             "outlinewidth": 0,
             "ticks": ""
            },
            "colorscale": [
             [
              0,
              "#0d0887"
             ],
             [
              0.1111111111111111,
              "#46039f"
             ],
             [
              0.2222222222222222,
              "#7201a8"
             ],
             [
              0.3333333333333333,
              "#9c179e"
             ],
             [
              0.4444444444444444,
              "#bd3786"
             ],
             [
              0.5555555555555556,
              "#d8576b"
             ],
             [
              0.6666666666666666,
              "#ed7953"
             ],
             [
              0.7777777777777778,
              "#fb9f3a"
             ],
             [
              0.8888888888888888,
              "#fdca26"
             ],
             [
              1,
              "#f0f921"
             ]
            ],
            "type": "heatmapgl"
           }
          ],
          "histogram": [
           {
            "marker": {
             "pattern": {
              "fillmode": "overlay",
              "size": 10,
              "solidity": 0.2
             }
            },
            "type": "histogram"
           }
          ],
          "histogram2d": [
           {
            "colorbar": {
             "outlinewidth": 0,
             "ticks": ""
            },
            "colorscale": [
             [
              0,
              "#0d0887"
             ],
             [
              0.1111111111111111,
              "#46039f"
             ],
             [
              0.2222222222222222,
              "#7201a8"
             ],
             [
              0.3333333333333333,
              "#9c179e"
             ],
             [
              0.4444444444444444,
              "#bd3786"
             ],
             [
              0.5555555555555556,
              "#d8576b"
             ],
             [
              0.6666666666666666,
              "#ed7953"
             ],
             [
              0.7777777777777778,
              "#fb9f3a"
             ],
             [
              0.8888888888888888,
              "#fdca26"
             ],
             [
              1,
              "#f0f921"
             ]
            ],
            "type": "histogram2d"
           }
          ],
          "histogram2dcontour": [
           {
            "colorbar": {
             "outlinewidth": 0,
             "ticks": ""
            },
            "colorscale": [
             [
              0,
              "#0d0887"
             ],
             [
              0.1111111111111111,
              "#46039f"
             ],
             [
              0.2222222222222222,
              "#7201a8"
             ],
             [
              0.3333333333333333,
              "#9c179e"
             ],
             [
              0.4444444444444444,
              "#bd3786"
             ],
             [
              0.5555555555555556,
              "#d8576b"
             ],
             [
              0.6666666666666666,
              "#ed7953"
             ],
             [
              0.7777777777777778,
              "#fb9f3a"
             ],
             [
              0.8888888888888888,
              "#fdca26"
             ],
             [
              1,
              "#f0f921"
             ]
            ],
            "type": "histogram2dcontour"
           }
          ],
          "mesh3d": [
           {
            "colorbar": {
             "outlinewidth": 0,
             "ticks": ""
            },
            "type": "mesh3d"
           }
          ],
          "parcoords": [
           {
            "line": {
             "colorbar": {
              "outlinewidth": 0,
              "ticks": ""
             }
            },
            "type": "parcoords"
           }
          ],
          "pie": [
           {
            "automargin": true,
            "type": "pie"
           }
          ],
          "scatter": [
           {
            "fillpattern": {
             "fillmode": "overlay",
             "size": 10,
             "solidity": 0.2
            },
            "type": "scatter"
           }
          ],
          "scatter3d": [
           {
            "line": {
             "colorbar": {
              "outlinewidth": 0,
              "ticks": ""
             }
            },
            "marker": {
             "colorbar": {
              "outlinewidth": 0,
              "ticks": ""
             }
            },
            "type": "scatter3d"
           }
          ],
          "scattercarpet": [
           {
            "marker": {
             "colorbar": {
              "outlinewidth": 0,
              "ticks": ""
             }
            },
            "type": "scattercarpet"
           }
          ],
          "scattergeo": [
           {
            "marker": {
             "colorbar": {
              "outlinewidth": 0,
              "ticks": ""
             }
            },
            "type": "scattergeo"
           }
          ],
          "scattergl": [
           {
            "marker": {
             "colorbar": {
              "outlinewidth": 0,
              "ticks": ""
             }
            },
            "type": "scattergl"
           }
          ],
          "scattermapbox": [
           {
            "marker": {
             "colorbar": {
              "outlinewidth": 0,
              "ticks": ""
             }
            },
            "type": "scattermapbox"
           }
          ],
          "scatterpolar": [
           {
            "marker": {
             "colorbar": {
              "outlinewidth": 0,
              "ticks": ""
             }
            },
            "type": "scatterpolar"
           }
          ],
          "scatterpolargl": [
           {
            "marker": {
             "colorbar": {
              "outlinewidth": 0,
              "ticks": ""
             }
            },
            "type": "scatterpolargl"
           }
          ],
          "scatterternary": [
           {
            "marker": {
             "colorbar": {
              "outlinewidth": 0,
              "ticks": ""
             }
            },
            "type": "scatterternary"
           }
          ],
          "surface": [
           {
            "colorbar": {
             "outlinewidth": 0,
             "ticks": ""
            },
            "colorscale": [
             [
              0,
              "#0d0887"
             ],
             [
              0.1111111111111111,
              "#46039f"
             ],
             [
              0.2222222222222222,
              "#7201a8"
             ],
             [
              0.3333333333333333,
              "#9c179e"
             ],
             [
              0.4444444444444444,
              "#bd3786"
             ],
             [
              0.5555555555555556,
              "#d8576b"
             ],
             [
              0.6666666666666666,
              "#ed7953"
             ],
             [
              0.7777777777777778,
              "#fb9f3a"
             ],
             [
              0.8888888888888888,
              "#fdca26"
             ],
             [
              1,
              "#f0f921"
             ]
            ],
            "type": "surface"
           }
          ],
          "table": [
           {
            "cells": {
             "fill": {
              "color": "#EBF0F8"
             },
             "line": {
              "color": "white"
             }
            },
            "header": {
             "fill": {
              "color": "#C8D4E3"
             },
             "line": {
              "color": "white"
             }
            },
            "type": "table"
           }
          ]
         },
         "layout": {
          "annotationdefaults": {
           "arrowcolor": "#2a3f5f",
           "arrowhead": 0,
           "arrowwidth": 1
          },
          "autotypenumbers": "strict",
          "coloraxis": {
           "colorbar": {
            "outlinewidth": 0,
            "ticks": ""
           }
          },
          "colorscale": {
           "diverging": [
            [
             0,
             "#8e0152"
            ],
            [
             0.1,
             "#c51b7d"
            ],
            [
             0.2,
             "#de77ae"
            ],
            [
             0.3,
             "#f1b6da"
            ],
            [
             0.4,
             "#fde0ef"
            ],
            [
             0.5,
             "#f7f7f7"
            ],
            [
             0.6,
             "#e6f5d0"
            ],
            [
             0.7,
             "#b8e186"
            ],
            [
             0.8,
             "#7fbc41"
            ],
            [
             0.9,
             "#4d9221"
            ],
            [
             1,
             "#276419"
            ]
           ],
           "sequential": [
            [
             0,
             "#0d0887"
            ],
            [
             0.1111111111111111,
             "#46039f"
            ],
            [
             0.2222222222222222,
             "#7201a8"
            ],
            [
             0.3333333333333333,
             "#9c179e"
            ],
            [
             0.4444444444444444,
             "#bd3786"
            ],
            [
             0.5555555555555556,
             "#d8576b"
            ],
            [
             0.6666666666666666,
             "#ed7953"
            ],
            [
             0.7777777777777778,
             "#fb9f3a"
            ],
            [
             0.8888888888888888,
             "#fdca26"
            ],
            [
             1,
             "#f0f921"
            ]
           ],
           "sequentialminus": [
            [
             0,
             "#0d0887"
            ],
            [
             0.1111111111111111,
             "#46039f"
            ],
            [
             0.2222222222222222,
             "#7201a8"
            ],
            [
             0.3333333333333333,
             "#9c179e"
            ],
            [
             0.4444444444444444,
             "#bd3786"
            ],
            [
             0.5555555555555556,
             "#d8576b"
            ],
            [
             0.6666666666666666,
             "#ed7953"
            ],
            [
             0.7777777777777778,
             "#fb9f3a"
            ],
            [
             0.8888888888888888,
             "#fdca26"
            ],
            [
             1,
             "#f0f921"
            ]
           ]
          },
          "colorway": [
           "#636efa",
           "#EF553B",
           "#00cc96",
           "#ab63fa",
           "#FFA15A",
           "#19d3f3",
           "#FF6692",
           "#B6E880",
           "#FF97FF",
           "#FECB52"
          ],
          "font": {
           "color": "#2a3f5f"
          },
          "geo": {
           "bgcolor": "white",
           "lakecolor": "white",
           "landcolor": "#E5ECF6",
           "showlakes": true,
           "showland": true,
           "subunitcolor": "white"
          },
          "hoverlabel": {
           "align": "left"
          },
          "hovermode": "closest",
          "mapbox": {
           "style": "light"
          },
          "paper_bgcolor": "white",
          "plot_bgcolor": "#E5ECF6",
          "polar": {
           "angularaxis": {
            "gridcolor": "white",
            "linecolor": "white",
            "ticks": ""
           },
           "bgcolor": "#E5ECF6",
           "radialaxis": {
            "gridcolor": "white",
            "linecolor": "white",
            "ticks": ""
           }
          },
          "scene": {
           "xaxis": {
            "backgroundcolor": "#E5ECF6",
            "gridcolor": "white",
            "gridwidth": 2,
            "linecolor": "white",
            "showbackground": true,
            "ticks": "",
            "zerolinecolor": "white"
           },
           "yaxis": {
            "backgroundcolor": "#E5ECF6",
            "gridcolor": "white",
            "gridwidth": 2,
            "linecolor": "white",
            "showbackground": true,
            "ticks": "",
            "zerolinecolor": "white"
           },
           "zaxis": {
            "backgroundcolor": "#E5ECF6",
            "gridcolor": "white",
            "gridwidth": 2,
            "linecolor": "white",
            "showbackground": true,
            "ticks": "",
            "zerolinecolor": "white"
           }
          },
          "shapedefaults": {
           "line": {
            "color": "#2a3f5f"
           }
          },
          "ternary": {
           "aaxis": {
            "gridcolor": "white",
            "linecolor": "white",
            "ticks": ""
           },
           "baxis": {
            "gridcolor": "white",
            "linecolor": "white",
            "ticks": ""
           },
           "bgcolor": "#E5ECF6",
           "caxis": {
            "gridcolor": "white",
            "linecolor": "white",
            "ticks": ""
           }
          },
          "title": {
           "x": 0.05
          },
          "xaxis": {
           "automargin": true,
           "gridcolor": "white",
           "linecolor": "white",
           "ticks": "",
           "title": {
            "standoff": 15
           },
           "zerolinecolor": "white",
           "zerolinewidth": 2
          },
          "yaxis": {
           "automargin": true,
           "gridcolor": "white",
           "linecolor": "white",
           "ticks": "",
           "title": {
            "standoff": 15
           },
           "zerolinecolor": "white",
           "zerolinewidth": 2
          }
         }
        },
        "title": {
         "text": "Post-Hoc Conover Test Distribution Task p-values",
         "x": 0.5,
         "y": 1
        },
        "xaxis": {
         "anchor": "y",
         "constrain": "domain",
         "domain": [
          0,
          1
         ],
         "scaleanchor": "y",
         "side": "top"
        },
        "yaxis": {
         "anchor": "x",
         "autorange": "reversed",
         "constrain": "domain",
         "domain": [
          0,
          1
         ],
         "side": "right"
        }
       }
      },
      "text/html": [
       "<div>                            <div id=\"5a285f91-17af-435c-ac36-9f57a3987468\" class=\"plotly-graph-div\" style=\"height:525px; width:100%;\"></div>            <script type=\"text/javascript\">                require([\"plotly\"], function(Plotly) {                    window.PLOTLYENV=window.PLOTLYENV || {};                                    if (document.getElementById(\"5a285f91-17af-435c-ac36-9f57a3987468\")) {                    Plotly.newPlot(                        \"5a285f91-17af-435c-ac36-9f57a3987468\",                        [{\"coloraxis\":\"coloraxis\",\"name\":\"0\",\"texttemplate\":\"%{z}\",\"x\":[\"DAWA\",\"Geometric\",\"AHP\",\"AGrid\",\"Laplace\"],\"y\":[\"DAWA\",\"Geometric\",\"AHP\",\"AGrid\",\"Laplace\"],\"z\":[[1.0,0.603,0.155,0.081,0.081],[null,1.0,0.412,0.155,0.155],[null,null,1.0,0.603,0.603],[null,null,null,1.0,0.988],[null,null,null,null,1.0]],\"type\":\"heatmap\",\"xaxis\":\"x\",\"yaxis\":\"y\",\"hovertemplate\":\"x: %{x}<br>y: %{y}<br>color: %{z}<extra></extra>\"}],                        {\"template\":{\"data\":{\"histogram2dcontour\":[{\"type\":\"histogram2dcontour\",\"colorbar\":{\"outlinewidth\":0,\"ticks\":\"\"},\"colorscale\":[[0.0,\"#0d0887\"],[0.1111111111111111,\"#46039f\"],[0.2222222222222222,\"#7201a8\"],[0.3333333333333333,\"#9c179e\"],[0.4444444444444444,\"#bd3786\"],[0.5555555555555556,\"#d8576b\"],[0.6666666666666666,\"#ed7953\"],[0.7777777777777778,\"#fb9f3a\"],[0.8888888888888888,\"#fdca26\"],[1.0,\"#f0f921\"]]}],\"choropleth\":[{\"type\":\"choropleth\",\"colorbar\":{\"outlinewidth\":0,\"ticks\":\"\"}}],\"histogram2d\":[{\"type\":\"histogram2d\",\"colorbar\":{\"outlinewidth\":0,\"ticks\":\"\"},\"colorscale\":[[0.0,\"#0d0887\"],[0.1111111111111111,\"#46039f\"],[0.2222222222222222,\"#7201a8\"],[0.3333333333333333,\"#9c179e\"],[0.4444444444444444,\"#bd3786\"],[0.5555555555555556,\"#d8576b\"],[0.6666666666666666,\"#ed7953\"],[0.7777777777777778,\"#fb9f3a\"],[0.8888888888888888,\"#fdca26\"],[1.0,\"#f0f921\"]]}],\"heatmap\":[{\"type\":\"heatmap\",\"colorbar\":{\"outlinewidth\":0,\"ticks\":\"\"},\"colorscale\":[[0.0,\"#0d0887\"],[0.1111111111111111,\"#46039f\"],[0.2222222222222222,\"#7201a8\"],[0.3333333333333333,\"#9c179e\"],[0.4444444444444444,\"#bd3786\"],[0.5555555555555556,\"#d8576b\"],[0.6666666666666666,\"#ed7953\"],[0.7777777777777778,\"#fb9f3a\"],[0.8888888888888888,\"#fdca26\"],[1.0,\"#f0f921\"]]}],\"heatmapgl\":[{\"type\":\"heatmapgl\",\"colorbar\":{\"outlinewidth\":0,\"ticks\":\"\"},\"colorscale\":[[0.0,\"#0d0887\"],[0.1111111111111111,\"#46039f\"],[0.2222222222222222,\"#7201a8\"],[0.3333333333333333,\"#9c179e\"],[0.4444444444444444,\"#bd3786\"],[0.5555555555555556,\"#d8576b\"],[0.6666666666666666,\"#ed7953\"],[0.7777777777777778,\"#fb9f3a\"],[0.8888888888888888,\"#fdca26\"],[1.0,\"#f0f921\"]]}],\"contourcarpet\":[{\"type\":\"contourcarpet\",\"colorbar\":{\"outlinewidth\":0,\"ticks\":\"\"}}],\"contour\":[{\"type\":\"contour\",\"colorbar\":{\"outlinewidth\":0,\"ticks\":\"\"},\"colorscale\":[[0.0,\"#0d0887\"],[0.1111111111111111,\"#46039f\"],[0.2222222222222222,\"#7201a8\"],[0.3333333333333333,\"#9c179e\"],[0.4444444444444444,\"#bd3786\"],[0.5555555555555556,\"#d8576b\"],[0.6666666666666666,\"#ed7953\"],[0.7777777777777778,\"#fb9f3a\"],[0.8888888888888888,\"#fdca26\"],[1.0,\"#f0f921\"]]}],\"surface\":[{\"type\":\"surface\",\"colorbar\":{\"outlinewidth\":0,\"ticks\":\"\"},\"colorscale\":[[0.0,\"#0d0887\"],[0.1111111111111111,\"#46039f\"],[0.2222222222222222,\"#7201a8\"],[0.3333333333333333,\"#9c179e\"],[0.4444444444444444,\"#bd3786\"],[0.5555555555555556,\"#d8576b\"],[0.6666666666666666,\"#ed7953\"],[0.7777777777777778,\"#fb9f3a\"],[0.8888888888888888,\"#fdca26\"],[1.0,\"#f0f921\"]]}],\"mesh3d\":[{\"type\":\"mesh3d\",\"colorbar\":{\"outlinewidth\":0,\"ticks\":\"\"}}],\"scatter\":[{\"fillpattern\":{\"fillmode\":\"overlay\",\"size\":10,\"solidity\":0.2},\"type\":\"scatter\"}],\"parcoords\":[{\"type\":\"parcoords\",\"line\":{\"colorbar\":{\"outlinewidth\":0,\"ticks\":\"\"}}}],\"scatterpolargl\":[{\"type\":\"scatterpolargl\",\"marker\":{\"colorbar\":{\"outlinewidth\":0,\"ticks\":\"\"}}}],\"bar\":[{\"error_x\":{\"color\":\"#2a3f5f\"},\"error_y\":{\"color\":\"#2a3f5f\"},\"marker\":{\"line\":{\"color\":\"#E5ECF6\",\"width\":0.5},\"pattern\":{\"fillmode\":\"overlay\",\"size\":10,\"solidity\":0.2}},\"type\":\"bar\"}],\"scattergeo\":[{\"type\":\"scattergeo\",\"marker\":{\"colorbar\":{\"outlinewidth\":0,\"ticks\":\"\"}}}],\"scatterpolar\":[{\"type\":\"scatterpolar\",\"marker\":{\"colorbar\":{\"outlinewidth\":0,\"ticks\":\"\"}}}],\"histogram\":[{\"marker\":{\"pattern\":{\"fillmode\":\"overlay\",\"size\":10,\"solidity\":0.2}},\"type\":\"histogram\"}],\"scattergl\":[{\"type\":\"scattergl\",\"marker\":{\"colorbar\":{\"outlinewidth\":0,\"ticks\":\"\"}}}],\"scatter3d\":[{\"type\":\"scatter3d\",\"line\":{\"colorbar\":{\"outlinewidth\":0,\"ticks\":\"\"}},\"marker\":{\"colorbar\":{\"outlinewidth\":0,\"ticks\":\"\"}}}],\"scattermapbox\":[{\"type\":\"scattermapbox\",\"marker\":{\"colorbar\":{\"outlinewidth\":0,\"ticks\":\"\"}}}],\"scatterternary\":[{\"type\":\"scatterternary\",\"marker\":{\"colorbar\":{\"outlinewidth\":0,\"ticks\":\"\"}}}],\"scattercarpet\":[{\"type\":\"scattercarpet\",\"marker\":{\"colorbar\":{\"outlinewidth\":0,\"ticks\":\"\"}}}],\"carpet\":[{\"aaxis\":{\"endlinecolor\":\"#2a3f5f\",\"gridcolor\":\"white\",\"linecolor\":\"white\",\"minorgridcolor\":\"white\",\"startlinecolor\":\"#2a3f5f\"},\"baxis\":{\"endlinecolor\":\"#2a3f5f\",\"gridcolor\":\"white\",\"linecolor\":\"white\",\"minorgridcolor\":\"white\",\"startlinecolor\":\"#2a3f5f\"},\"type\":\"carpet\"}],\"table\":[{\"cells\":{\"fill\":{\"color\":\"#EBF0F8\"},\"line\":{\"color\":\"white\"}},\"header\":{\"fill\":{\"color\":\"#C8D4E3\"},\"line\":{\"color\":\"white\"}},\"type\":\"table\"}],\"barpolar\":[{\"marker\":{\"line\":{\"color\":\"#E5ECF6\",\"width\":0.5},\"pattern\":{\"fillmode\":\"overlay\",\"size\":10,\"solidity\":0.2}},\"type\":\"barpolar\"}],\"pie\":[{\"automargin\":true,\"type\":\"pie\"}]},\"layout\":{\"autotypenumbers\":\"strict\",\"colorway\":[\"#636efa\",\"#EF553B\",\"#00cc96\",\"#ab63fa\",\"#FFA15A\",\"#19d3f3\",\"#FF6692\",\"#B6E880\",\"#FF97FF\",\"#FECB52\"],\"font\":{\"color\":\"#2a3f5f\"},\"hovermode\":\"closest\",\"hoverlabel\":{\"align\":\"left\"},\"paper_bgcolor\":\"white\",\"plot_bgcolor\":\"#E5ECF6\",\"polar\":{\"bgcolor\":\"#E5ECF6\",\"angularaxis\":{\"gridcolor\":\"white\",\"linecolor\":\"white\",\"ticks\":\"\"},\"radialaxis\":{\"gridcolor\":\"white\",\"linecolor\":\"white\",\"ticks\":\"\"}},\"ternary\":{\"bgcolor\":\"#E5ECF6\",\"aaxis\":{\"gridcolor\":\"white\",\"linecolor\":\"white\",\"ticks\":\"\"},\"baxis\":{\"gridcolor\":\"white\",\"linecolor\":\"white\",\"ticks\":\"\"},\"caxis\":{\"gridcolor\":\"white\",\"linecolor\":\"white\",\"ticks\":\"\"}},\"coloraxis\":{\"colorbar\":{\"outlinewidth\":0,\"ticks\":\"\"}},\"colorscale\":{\"sequential\":[[0.0,\"#0d0887\"],[0.1111111111111111,\"#46039f\"],[0.2222222222222222,\"#7201a8\"],[0.3333333333333333,\"#9c179e\"],[0.4444444444444444,\"#bd3786\"],[0.5555555555555556,\"#d8576b\"],[0.6666666666666666,\"#ed7953\"],[0.7777777777777778,\"#fb9f3a\"],[0.8888888888888888,\"#fdca26\"],[1.0,\"#f0f921\"]],\"sequentialminus\":[[0.0,\"#0d0887\"],[0.1111111111111111,\"#46039f\"],[0.2222222222222222,\"#7201a8\"],[0.3333333333333333,\"#9c179e\"],[0.4444444444444444,\"#bd3786\"],[0.5555555555555556,\"#d8576b\"],[0.6666666666666666,\"#ed7953\"],[0.7777777777777778,\"#fb9f3a\"],[0.8888888888888888,\"#fdca26\"],[1.0,\"#f0f921\"]],\"diverging\":[[0,\"#8e0152\"],[0.1,\"#c51b7d\"],[0.2,\"#de77ae\"],[0.3,\"#f1b6da\"],[0.4,\"#fde0ef\"],[0.5,\"#f7f7f7\"],[0.6,\"#e6f5d0\"],[0.7,\"#b8e186\"],[0.8,\"#7fbc41\"],[0.9,\"#4d9221\"],[1,\"#276419\"]]},\"xaxis\":{\"gridcolor\":\"white\",\"linecolor\":\"white\",\"ticks\":\"\",\"title\":{\"standoff\":15},\"zerolinecolor\":\"white\",\"automargin\":true,\"zerolinewidth\":2},\"yaxis\":{\"gridcolor\":\"white\",\"linecolor\":\"white\",\"ticks\":\"\",\"title\":{\"standoff\":15},\"zerolinecolor\":\"white\",\"automargin\":true,\"zerolinewidth\":2},\"scene\":{\"xaxis\":{\"backgroundcolor\":\"#E5ECF6\",\"gridcolor\":\"white\",\"linecolor\":\"white\",\"showbackground\":true,\"ticks\":\"\",\"zerolinecolor\":\"white\",\"gridwidth\":2},\"yaxis\":{\"backgroundcolor\":\"#E5ECF6\",\"gridcolor\":\"white\",\"linecolor\":\"white\",\"showbackground\":true,\"ticks\":\"\",\"zerolinecolor\":\"white\",\"gridwidth\":2},\"zaxis\":{\"backgroundcolor\":\"#E5ECF6\",\"gridcolor\":\"white\",\"linecolor\":\"white\",\"showbackground\":true,\"ticks\":\"\",\"zerolinecolor\":\"white\",\"gridwidth\":2}},\"shapedefaults\":{\"line\":{\"color\":\"#2a3f5f\"}},\"annotationdefaults\":{\"arrowcolor\":\"#2a3f5f\",\"arrowhead\":0,\"arrowwidth\":1},\"geo\":{\"bgcolor\":\"white\",\"landcolor\":\"#E5ECF6\",\"subunitcolor\":\"white\",\"showland\":true,\"showlakes\":true,\"lakecolor\":\"white\"},\"title\":{\"x\":0.05},\"mapbox\":{\"style\":\"light\"}}},\"xaxis\":{\"anchor\":\"y\",\"domain\":[0.0,1.0],\"scaleanchor\":\"y\",\"constrain\":\"domain\",\"side\":\"top\"},\"yaxis\":{\"anchor\":\"x\",\"domain\":[0.0,1.0],\"autorange\":\"reversed\",\"constrain\":\"domain\",\"side\":\"right\"},\"coloraxis\":{\"colorscale\":[[0.0,\"rgb(3, 5, 18)\"],[0.09090909090909091,\"rgb(25, 25, 51)\"],[0.18181818181818182,\"rgb(44, 42, 87)\"],[0.2727272727272727,\"rgb(58, 60, 125)\"],[0.36363636363636365,\"rgb(62, 83, 160)\"],[0.45454545454545453,\"rgb(62, 109, 178)\"],[0.5454545454545454,\"rgb(72, 134, 187)\"],[0.6363636363636364,\"rgb(89, 159, 196)\"],[0.7272727272727273,\"rgb(114, 184, 205)\"],[0.8181818181818182,\"rgb(149, 207, 216)\"],[0.9090909090909091,\"rgb(192, 229, 232)\"],[1.0,\"rgb(234, 252, 253)\"]],\"cmin\":0,\"cmax\":1,\"showscale\":false},\"margin\":{\"t\":60},\"plot_bgcolor\":\"white\",\"font\":{\"size\":18,\"color\":\"black\"},\"title\":{\"text\":\"Post-Hoc Conover Test Distribution Task p-values\",\"x\":0.5,\"y\":1}},                        {\"responsive\": true}                    ).then(function(){\n",
       "                            \n",
       "var gd = document.getElementById('5a285f91-17af-435c-ac36-9f57a3987468');\n",
       "var x = new MutationObserver(function (mutations, observer) {{\n",
       "        var display = window.getComputedStyle(gd).display;\n",
       "        if (!display || display === 'none') {{\n",
       "            console.log([gd, 'removed!']);\n",
       "            Plotly.purge(gd);\n",
       "            observer.disconnect();\n",
       "        }}\n",
       "}});\n",
       "\n",
       "// Listen for the removal of the full notebook cells\n",
       "var notebookContainer = gd.closest('#notebook-container');\n",
       "if (notebookContainer) {{\n",
       "    x.observe(notebookContainer, {childList: true});\n",
       "}}\n",
       "\n",
       "// Listen for the clearing of the current output cell\n",
       "var outputEl = gd.closest('.output');\n",
       "if (outputEl) {{\n",
       "    x.observe(outputEl, {childList: true});\n",
       "}}\n",
       "\n",
       "                        })                };                });            </script>        </div>"
      ]
     },
     "metadata": {},
     "output_type": "display_data"
    }
   ],
   "source": [
    "filteredDfDistributions = getFilteredArray(answerDataFrame, 'distribution')\n",
    "dfOverall = getConoverPostHoc(filteredDfDistributions)\n",
    "\n",
    "cols = ['DAWA', 'Geometric', 'AHP', 'AGrid', 'Laplace']\n",
    "dfOverall = dfOverall.reindex(['DAWA', 'Geometric', 'AHP', 'AGrid', 'Laplace'])\n",
    "dfOverall = dfOverall[cols] \n",
    "np.triu(np.ones(dfOverall.shape)).astype(np.bool)[0:5,0:5]\n",
    "pd.set_option('precision', 3)\n",
    "df_lt = dfOverall.where(np.triu(np.ones(dfOverall.shape)).astype(np.bool)[0:5,0:5]).round(3)\n",
    "fig = px.imshow(df_lt, text_auto=True, color_continuous_scale=\"ice\", zmax=1,zmin=0)\n",
    "fig.update_layout(plot_bgcolor=\"white\")\n",
    "fig.update_layout(font = dict(size = 18, color = 'black'))\n",
    "fig.update_coloraxes(showscale=False)\n",
    "fig.update_layout(title_text='Post-Hoc Conover Test Distribution Task p-values', title_x=0.5, title_y = 1)\n",
    "fig['layout']['xaxis']['side'] = 'top'\n",
    "fig['layout']['yaxis']['side'] = 'right'\n",
    "fig.write_image(\"post-hoc-distribution.svg\")\n",
    "fig.show()"
   ]
  },
  {
   "cell_type": "markdown",
   "metadata": {},
   "source": [
    "#### Correlation Best Algorithm Table"
   ]
  },
  {
   "cell_type": "code",
   "execution_count": 118,
   "metadata": {},
   "outputs": [
    {
     "name": "stderr",
     "output_type": "stream",
     "text": [
      "C:\\Users\\lpana\\AppData\\Local\\Temp/ipykernel_39888/1024422731.py:7: DeprecationWarning:\n",
      "\n",
      "`np.bool` is a deprecated alias for the builtin `bool`. To silence this warning, use `bool` by itself. Doing this will not modify any behavior and is safe. If you specifically wanted the numpy scalar type, use `np.bool_` here.\n",
      "Deprecated in NumPy 1.20; for more details and guidance: https://numpy.org/devdocs/release/1.20.0-notes.html#deprecations\n",
      "\n",
      "C:\\Users\\lpana\\AppData\\Local\\Temp/ipykernel_39888/1024422731.py:9: DeprecationWarning:\n",
      "\n",
      "`np.bool` is a deprecated alias for the builtin `bool`. To silence this warning, use `bool` by itself. Doing this will not modify any behavior and is safe. If you specifically wanted the numpy scalar type, use `np.bool_` here.\n",
      "Deprecated in NumPy 1.20; for more details and guidance: https://numpy.org/devdocs/release/1.20.0-notes.html#deprecations\n",
      "\n"
     ]
    },
    {
     "data": {
      "application/vnd.plotly.v1+json": {
       "config": {
        "plotlyServerURL": "https://plot.ly"
       },
       "data": [
        {
         "coloraxis": "coloraxis",
         "hovertemplate": "x: %{x}<br>y: %{y}<br>color: %{z}<extra></extra>",
         "name": "0",
         "texttemplate": "%{z}",
         "type": "heatmap",
         "x": [
          "DAWA",
          "Geometric",
          "AHP",
          "AGrid",
          "Laplace"
         ],
         "xaxis": "x",
         "y": [
          "DAWA",
          "Geometric",
          "AHP",
          "AGrid",
          "Laplace"
         ],
         "yaxis": "y",
         "z": [
          [
           1,
           0.19,
           0.008,
           0.19,
           0.008
          ],
          [
           null,
           1,
           0.19,
           0.831,
           0.19
          ],
          [
           null,
           null,
           1,
           0.254,
           0.867
          ],
          [
           null,
           null,
           null,
           1,
           0.215
          ],
          [
           null,
           null,
           null,
           null,
           1
          ]
         ]
        }
       ],
       "layout": {
        "coloraxis": {
         "cmax": 1,
         "cmin": 0,
         "colorscale": [
          [
           0,
           "rgb(3, 5, 18)"
          ],
          [
           0.09090909090909091,
           "rgb(25, 25, 51)"
          ],
          [
           0.18181818181818182,
           "rgb(44, 42, 87)"
          ],
          [
           0.2727272727272727,
           "rgb(58, 60, 125)"
          ],
          [
           0.36363636363636365,
           "rgb(62, 83, 160)"
          ],
          [
           0.45454545454545453,
           "rgb(62, 109, 178)"
          ],
          [
           0.5454545454545454,
           "rgb(72, 134, 187)"
          ],
          [
           0.6363636363636364,
           "rgb(89, 159, 196)"
          ],
          [
           0.7272727272727273,
           "rgb(114, 184, 205)"
          ],
          [
           0.8181818181818182,
           "rgb(149, 207, 216)"
          ],
          [
           0.9090909090909091,
           "rgb(192, 229, 232)"
          ],
          [
           1,
           "rgb(234, 252, 253)"
          ]
         ],
         "showscale": false
        },
        "font": {
         "color": "black",
         "size": 18
        },
        "margin": {
         "t": 60
        },
        "plot_bgcolor": "white",
        "template": {
         "data": {
          "bar": [
           {
            "error_x": {
             "color": "#2a3f5f"
            },
            "error_y": {
             "color": "#2a3f5f"
            },
            "marker": {
             "line": {
              "color": "#E5ECF6",
              "width": 0.5
             },
             "pattern": {
              "fillmode": "overlay",
              "size": 10,
              "solidity": 0.2
             }
            },
            "type": "bar"
           }
          ],
          "barpolar": [
           {
            "marker": {
             "line": {
              "color": "#E5ECF6",
              "width": 0.5
             },
             "pattern": {
              "fillmode": "overlay",
              "size": 10,
              "solidity": 0.2
             }
            },
            "type": "barpolar"
           }
          ],
          "carpet": [
           {
            "aaxis": {
             "endlinecolor": "#2a3f5f",
             "gridcolor": "white",
             "linecolor": "white",
             "minorgridcolor": "white",
             "startlinecolor": "#2a3f5f"
            },
            "baxis": {
             "endlinecolor": "#2a3f5f",
             "gridcolor": "white",
             "linecolor": "white",
             "minorgridcolor": "white",
             "startlinecolor": "#2a3f5f"
            },
            "type": "carpet"
           }
          ],
          "choropleth": [
           {
            "colorbar": {
             "outlinewidth": 0,
             "ticks": ""
            },
            "type": "choropleth"
           }
          ],
          "contour": [
           {
            "colorbar": {
             "outlinewidth": 0,
             "ticks": ""
            },
            "colorscale": [
             [
              0,
              "#0d0887"
             ],
             [
              0.1111111111111111,
              "#46039f"
             ],
             [
              0.2222222222222222,
              "#7201a8"
             ],
             [
              0.3333333333333333,
              "#9c179e"
             ],
             [
              0.4444444444444444,
              "#bd3786"
             ],
             [
              0.5555555555555556,
              "#d8576b"
             ],
             [
              0.6666666666666666,
              "#ed7953"
             ],
             [
              0.7777777777777778,
              "#fb9f3a"
             ],
             [
              0.8888888888888888,
              "#fdca26"
             ],
             [
              1,
              "#f0f921"
             ]
            ],
            "type": "contour"
           }
          ],
          "contourcarpet": [
           {
            "colorbar": {
             "outlinewidth": 0,
             "ticks": ""
            },
            "type": "contourcarpet"
           }
          ],
          "heatmap": [
           {
            "colorbar": {
             "outlinewidth": 0,
             "ticks": ""
            },
            "colorscale": [
             [
              0,
              "#0d0887"
             ],
             [
              0.1111111111111111,
              "#46039f"
             ],
             [
              0.2222222222222222,
              "#7201a8"
             ],
             [
              0.3333333333333333,
              "#9c179e"
             ],
             [
              0.4444444444444444,
              "#bd3786"
             ],
             [
              0.5555555555555556,
              "#d8576b"
             ],
             [
              0.6666666666666666,
              "#ed7953"
             ],
             [
              0.7777777777777778,
              "#fb9f3a"
             ],
             [
              0.8888888888888888,
              "#fdca26"
             ],
             [
              1,
              "#f0f921"
             ]
            ],
            "type": "heatmap"
           }
          ],
          "heatmapgl": [
           {
            "colorbar": {
             "outlinewidth": 0,
             "ticks": ""
            },
            "colorscale": [
             [
              0,
              "#0d0887"
             ],
             [
              0.1111111111111111,
              "#46039f"
             ],
             [
              0.2222222222222222,
              "#7201a8"
             ],
             [
              0.3333333333333333,
              "#9c179e"
             ],
             [
              0.4444444444444444,
              "#bd3786"
             ],
             [
              0.5555555555555556,
              "#d8576b"
             ],
             [
              0.6666666666666666,
              "#ed7953"
             ],
             [
              0.7777777777777778,
              "#fb9f3a"
             ],
             [
              0.8888888888888888,
              "#fdca26"
             ],
             [
              1,
              "#f0f921"
             ]
            ],
            "type": "heatmapgl"
           }
          ],
          "histogram": [
           {
            "marker": {
             "pattern": {
              "fillmode": "overlay",
              "size": 10,
              "solidity": 0.2
             }
            },
            "type": "histogram"
           }
          ],
          "histogram2d": [
           {
            "colorbar": {
             "outlinewidth": 0,
             "ticks": ""
            },
            "colorscale": [
             [
              0,
              "#0d0887"
             ],
             [
              0.1111111111111111,
              "#46039f"
             ],
             [
              0.2222222222222222,
              "#7201a8"
             ],
             [
              0.3333333333333333,
              "#9c179e"
             ],
             [
              0.4444444444444444,
              "#bd3786"
             ],
             [
              0.5555555555555556,
              "#d8576b"
             ],
             [
              0.6666666666666666,
              "#ed7953"
             ],
             [
              0.7777777777777778,
              "#fb9f3a"
             ],
             [
              0.8888888888888888,
              "#fdca26"
             ],
             [
              1,
              "#f0f921"
             ]
            ],
            "type": "histogram2d"
           }
          ],
          "histogram2dcontour": [
           {
            "colorbar": {
             "outlinewidth": 0,
             "ticks": ""
            },
            "colorscale": [
             [
              0,
              "#0d0887"
             ],
             [
              0.1111111111111111,
              "#46039f"
             ],
             [
              0.2222222222222222,
              "#7201a8"
             ],
             [
              0.3333333333333333,
              "#9c179e"
             ],
             [
              0.4444444444444444,
              "#bd3786"
             ],
             [
              0.5555555555555556,
              "#d8576b"
             ],
             [
              0.6666666666666666,
              "#ed7953"
             ],
             [
              0.7777777777777778,
              "#fb9f3a"
             ],
             [
              0.8888888888888888,
              "#fdca26"
             ],
             [
              1,
              "#f0f921"
             ]
            ],
            "type": "histogram2dcontour"
           }
          ],
          "mesh3d": [
           {
            "colorbar": {
             "outlinewidth": 0,
             "ticks": ""
            },
            "type": "mesh3d"
           }
          ],
          "parcoords": [
           {
            "line": {
             "colorbar": {
              "outlinewidth": 0,
              "ticks": ""
             }
            },
            "type": "parcoords"
           }
          ],
          "pie": [
           {
            "automargin": true,
            "type": "pie"
           }
          ],
          "scatter": [
           {
            "fillpattern": {
             "fillmode": "overlay",
             "size": 10,
             "solidity": 0.2
            },
            "type": "scatter"
           }
          ],
          "scatter3d": [
           {
            "line": {
             "colorbar": {
              "outlinewidth": 0,
              "ticks": ""
             }
            },
            "marker": {
             "colorbar": {
              "outlinewidth": 0,
              "ticks": ""
             }
            },
            "type": "scatter3d"
           }
          ],
          "scattercarpet": [
           {
            "marker": {
             "colorbar": {
              "outlinewidth": 0,
              "ticks": ""
             }
            },
            "type": "scattercarpet"
           }
          ],
          "scattergeo": [
           {
            "marker": {
             "colorbar": {
              "outlinewidth": 0,
              "ticks": ""
             }
            },
            "type": "scattergeo"
           }
          ],
          "scattergl": [
           {
            "marker": {
             "colorbar": {
              "outlinewidth": 0,
              "ticks": ""
             }
            },
            "type": "scattergl"
           }
          ],
          "scattermapbox": [
           {
            "marker": {
             "colorbar": {
              "outlinewidth": 0,
              "ticks": ""
             }
            },
            "type": "scattermapbox"
           }
          ],
          "scatterpolar": [
           {
            "marker": {
             "colorbar": {
              "outlinewidth": 0,
              "ticks": ""
             }
            },
            "type": "scatterpolar"
           }
          ],
          "scatterpolargl": [
           {
            "marker": {
             "colorbar": {
              "outlinewidth": 0,
              "ticks": ""
             }
            },
            "type": "scatterpolargl"
           }
          ],
          "scatterternary": [
           {
            "marker": {
             "colorbar": {
              "outlinewidth": 0,
              "ticks": ""
             }
            },
            "type": "scatterternary"
           }
          ],
          "surface": [
           {
            "colorbar": {
             "outlinewidth": 0,
             "ticks": ""
            },
            "colorscale": [
             [
              0,
              "#0d0887"
             ],
             [
              0.1111111111111111,
              "#46039f"
             ],
             [
              0.2222222222222222,
              "#7201a8"
             ],
             [
              0.3333333333333333,
              "#9c179e"
             ],
             [
              0.4444444444444444,
              "#bd3786"
             ],
             [
              0.5555555555555556,
              "#d8576b"
             ],
             [
              0.6666666666666666,
              "#ed7953"
             ],
             [
              0.7777777777777778,
              "#fb9f3a"
             ],
             [
              0.8888888888888888,
              "#fdca26"
             ],
             [
              1,
              "#f0f921"
             ]
            ],
            "type": "surface"
           }
          ],
          "table": [
           {
            "cells": {
             "fill": {
              "color": "#EBF0F8"
             },
             "line": {
              "color": "white"
             }
            },
            "header": {
             "fill": {
              "color": "#C8D4E3"
             },
             "line": {
              "color": "white"
             }
            },
            "type": "table"
           }
          ]
         },
         "layout": {
          "annotationdefaults": {
           "arrowcolor": "#2a3f5f",
           "arrowhead": 0,
           "arrowwidth": 1
          },
          "autotypenumbers": "strict",
          "coloraxis": {
           "colorbar": {
            "outlinewidth": 0,
            "ticks": ""
           }
          },
          "colorscale": {
           "diverging": [
            [
             0,
             "#8e0152"
            ],
            [
             0.1,
             "#c51b7d"
            ],
            [
             0.2,
             "#de77ae"
            ],
            [
             0.3,
             "#f1b6da"
            ],
            [
             0.4,
             "#fde0ef"
            ],
            [
             0.5,
             "#f7f7f7"
            ],
            [
             0.6,
             "#e6f5d0"
            ],
            [
             0.7,
             "#b8e186"
            ],
            [
             0.8,
             "#7fbc41"
            ],
            [
             0.9,
             "#4d9221"
            ],
            [
             1,
             "#276419"
            ]
           ],
           "sequential": [
            [
             0,
             "#0d0887"
            ],
            [
             0.1111111111111111,
             "#46039f"
            ],
            [
             0.2222222222222222,
             "#7201a8"
            ],
            [
             0.3333333333333333,
             "#9c179e"
            ],
            [
             0.4444444444444444,
             "#bd3786"
            ],
            [
             0.5555555555555556,
             "#d8576b"
            ],
            [
             0.6666666666666666,
             "#ed7953"
            ],
            [
             0.7777777777777778,
             "#fb9f3a"
            ],
            [
             0.8888888888888888,
             "#fdca26"
            ],
            [
             1,
             "#f0f921"
            ]
           ],
           "sequentialminus": [
            [
             0,
             "#0d0887"
            ],
            [
             0.1111111111111111,
             "#46039f"
            ],
            [
             0.2222222222222222,
             "#7201a8"
            ],
            [
             0.3333333333333333,
             "#9c179e"
            ],
            [
             0.4444444444444444,
             "#bd3786"
            ],
            [
             0.5555555555555556,
             "#d8576b"
            ],
            [
             0.6666666666666666,
             "#ed7953"
            ],
            [
             0.7777777777777778,
             "#fb9f3a"
            ],
            [
             0.8888888888888888,
             "#fdca26"
            ],
            [
             1,
             "#f0f921"
            ]
           ]
          },
          "colorway": [
           "#636efa",
           "#EF553B",
           "#00cc96",
           "#ab63fa",
           "#FFA15A",
           "#19d3f3",
           "#FF6692",
           "#B6E880",
           "#FF97FF",
           "#FECB52"
          ],
          "font": {
           "color": "#2a3f5f"
          },
          "geo": {
           "bgcolor": "white",
           "lakecolor": "white",
           "landcolor": "#E5ECF6",
           "showlakes": true,
           "showland": true,
           "subunitcolor": "white"
          },
          "hoverlabel": {
           "align": "left"
          },
          "hovermode": "closest",
          "mapbox": {
           "style": "light"
          },
          "paper_bgcolor": "white",
          "plot_bgcolor": "#E5ECF6",
          "polar": {
           "angularaxis": {
            "gridcolor": "white",
            "linecolor": "white",
            "ticks": ""
           },
           "bgcolor": "#E5ECF6",
           "radialaxis": {
            "gridcolor": "white",
            "linecolor": "white",
            "ticks": ""
           }
          },
          "scene": {
           "xaxis": {
            "backgroundcolor": "#E5ECF6",
            "gridcolor": "white",
            "gridwidth": 2,
            "linecolor": "white",
            "showbackground": true,
            "ticks": "",
            "zerolinecolor": "white"
           },
           "yaxis": {
            "backgroundcolor": "#E5ECF6",
            "gridcolor": "white",
            "gridwidth": 2,
            "linecolor": "white",
            "showbackground": true,
            "ticks": "",
            "zerolinecolor": "white"
           },
           "zaxis": {
            "backgroundcolor": "#E5ECF6",
            "gridcolor": "white",
            "gridwidth": 2,
            "linecolor": "white",
            "showbackground": true,
            "ticks": "",
            "zerolinecolor": "white"
           }
          },
          "shapedefaults": {
           "line": {
            "color": "#2a3f5f"
           }
          },
          "ternary": {
           "aaxis": {
            "gridcolor": "white",
            "linecolor": "white",
            "ticks": ""
           },
           "baxis": {
            "gridcolor": "white",
            "linecolor": "white",
            "ticks": ""
           },
           "bgcolor": "#E5ECF6",
           "caxis": {
            "gridcolor": "white",
            "linecolor": "white",
            "ticks": ""
           }
          },
          "title": {
           "x": 0.05
          },
          "xaxis": {
           "automargin": true,
           "gridcolor": "white",
           "linecolor": "white",
           "ticks": "",
           "title": {
            "standoff": 15
           },
           "zerolinecolor": "white",
           "zerolinewidth": 2
          },
          "yaxis": {
           "automargin": true,
           "gridcolor": "white",
           "linecolor": "white",
           "ticks": "",
           "title": {
            "standoff": 15
           },
           "zerolinecolor": "white",
           "zerolinewidth": 2
          }
         }
        },
        "title": {
         "text": "Post-Hoc Conover Test Correlation Task p-values",
         "x": 0.5,
         "y": 1
        },
        "xaxis": {
         "anchor": "y",
         "constrain": "domain",
         "domain": [
          0,
          1
         ],
         "scaleanchor": "y",
         "side": "top"
        },
        "yaxis": {
         "anchor": "x",
         "autorange": "reversed",
         "constrain": "domain",
         "domain": [
          0,
          1
         ],
         "side": "right"
        }
       }
      },
      "text/html": [
       "<div>                            <div id=\"2c9c7787-7ad4-4836-8f82-40f280341b3c\" class=\"plotly-graph-div\" style=\"height:525px; width:100%;\"></div>            <script type=\"text/javascript\">                require([\"plotly\"], function(Plotly) {                    window.PLOTLYENV=window.PLOTLYENV || {};                                    if (document.getElementById(\"2c9c7787-7ad4-4836-8f82-40f280341b3c\")) {                    Plotly.newPlot(                        \"2c9c7787-7ad4-4836-8f82-40f280341b3c\",                        [{\"coloraxis\":\"coloraxis\",\"name\":\"0\",\"texttemplate\":\"%{z}\",\"x\":[\"DAWA\",\"Geometric\",\"AHP\",\"AGrid\",\"Laplace\"],\"y\":[\"DAWA\",\"Geometric\",\"AHP\",\"AGrid\",\"Laplace\"],\"z\":[[1.0,0.19,0.008,0.19,0.008],[null,1.0,0.19,0.831,0.19],[null,null,1.0,0.254,0.867],[null,null,null,1.0,0.215],[null,null,null,null,1.0]],\"type\":\"heatmap\",\"xaxis\":\"x\",\"yaxis\":\"y\",\"hovertemplate\":\"x: %{x}<br>y: %{y}<br>color: %{z}<extra></extra>\"}],                        {\"template\":{\"data\":{\"histogram2dcontour\":[{\"type\":\"histogram2dcontour\",\"colorbar\":{\"outlinewidth\":0,\"ticks\":\"\"},\"colorscale\":[[0.0,\"#0d0887\"],[0.1111111111111111,\"#46039f\"],[0.2222222222222222,\"#7201a8\"],[0.3333333333333333,\"#9c179e\"],[0.4444444444444444,\"#bd3786\"],[0.5555555555555556,\"#d8576b\"],[0.6666666666666666,\"#ed7953\"],[0.7777777777777778,\"#fb9f3a\"],[0.8888888888888888,\"#fdca26\"],[1.0,\"#f0f921\"]]}],\"choropleth\":[{\"type\":\"choropleth\",\"colorbar\":{\"outlinewidth\":0,\"ticks\":\"\"}}],\"histogram2d\":[{\"type\":\"histogram2d\",\"colorbar\":{\"outlinewidth\":0,\"ticks\":\"\"},\"colorscale\":[[0.0,\"#0d0887\"],[0.1111111111111111,\"#46039f\"],[0.2222222222222222,\"#7201a8\"],[0.3333333333333333,\"#9c179e\"],[0.4444444444444444,\"#bd3786\"],[0.5555555555555556,\"#d8576b\"],[0.6666666666666666,\"#ed7953\"],[0.7777777777777778,\"#fb9f3a\"],[0.8888888888888888,\"#fdca26\"],[1.0,\"#f0f921\"]]}],\"heatmap\":[{\"type\":\"heatmap\",\"colorbar\":{\"outlinewidth\":0,\"ticks\":\"\"},\"colorscale\":[[0.0,\"#0d0887\"],[0.1111111111111111,\"#46039f\"],[0.2222222222222222,\"#7201a8\"],[0.3333333333333333,\"#9c179e\"],[0.4444444444444444,\"#bd3786\"],[0.5555555555555556,\"#d8576b\"],[0.6666666666666666,\"#ed7953\"],[0.7777777777777778,\"#fb9f3a\"],[0.8888888888888888,\"#fdca26\"],[1.0,\"#f0f921\"]]}],\"heatmapgl\":[{\"type\":\"heatmapgl\",\"colorbar\":{\"outlinewidth\":0,\"ticks\":\"\"},\"colorscale\":[[0.0,\"#0d0887\"],[0.1111111111111111,\"#46039f\"],[0.2222222222222222,\"#7201a8\"],[0.3333333333333333,\"#9c179e\"],[0.4444444444444444,\"#bd3786\"],[0.5555555555555556,\"#d8576b\"],[0.6666666666666666,\"#ed7953\"],[0.7777777777777778,\"#fb9f3a\"],[0.8888888888888888,\"#fdca26\"],[1.0,\"#f0f921\"]]}],\"contourcarpet\":[{\"type\":\"contourcarpet\",\"colorbar\":{\"outlinewidth\":0,\"ticks\":\"\"}}],\"contour\":[{\"type\":\"contour\",\"colorbar\":{\"outlinewidth\":0,\"ticks\":\"\"},\"colorscale\":[[0.0,\"#0d0887\"],[0.1111111111111111,\"#46039f\"],[0.2222222222222222,\"#7201a8\"],[0.3333333333333333,\"#9c179e\"],[0.4444444444444444,\"#bd3786\"],[0.5555555555555556,\"#d8576b\"],[0.6666666666666666,\"#ed7953\"],[0.7777777777777778,\"#fb9f3a\"],[0.8888888888888888,\"#fdca26\"],[1.0,\"#f0f921\"]]}],\"surface\":[{\"type\":\"surface\",\"colorbar\":{\"outlinewidth\":0,\"ticks\":\"\"},\"colorscale\":[[0.0,\"#0d0887\"],[0.1111111111111111,\"#46039f\"],[0.2222222222222222,\"#7201a8\"],[0.3333333333333333,\"#9c179e\"],[0.4444444444444444,\"#bd3786\"],[0.5555555555555556,\"#d8576b\"],[0.6666666666666666,\"#ed7953\"],[0.7777777777777778,\"#fb9f3a\"],[0.8888888888888888,\"#fdca26\"],[1.0,\"#f0f921\"]]}],\"mesh3d\":[{\"type\":\"mesh3d\",\"colorbar\":{\"outlinewidth\":0,\"ticks\":\"\"}}],\"scatter\":[{\"fillpattern\":{\"fillmode\":\"overlay\",\"size\":10,\"solidity\":0.2},\"type\":\"scatter\"}],\"parcoords\":[{\"type\":\"parcoords\",\"line\":{\"colorbar\":{\"outlinewidth\":0,\"ticks\":\"\"}}}],\"scatterpolargl\":[{\"type\":\"scatterpolargl\",\"marker\":{\"colorbar\":{\"outlinewidth\":0,\"ticks\":\"\"}}}],\"bar\":[{\"error_x\":{\"color\":\"#2a3f5f\"},\"error_y\":{\"color\":\"#2a3f5f\"},\"marker\":{\"line\":{\"color\":\"#E5ECF6\",\"width\":0.5},\"pattern\":{\"fillmode\":\"overlay\",\"size\":10,\"solidity\":0.2}},\"type\":\"bar\"}],\"scattergeo\":[{\"type\":\"scattergeo\",\"marker\":{\"colorbar\":{\"outlinewidth\":0,\"ticks\":\"\"}}}],\"scatterpolar\":[{\"type\":\"scatterpolar\",\"marker\":{\"colorbar\":{\"outlinewidth\":0,\"ticks\":\"\"}}}],\"histogram\":[{\"marker\":{\"pattern\":{\"fillmode\":\"overlay\",\"size\":10,\"solidity\":0.2}},\"type\":\"histogram\"}],\"scattergl\":[{\"type\":\"scattergl\",\"marker\":{\"colorbar\":{\"outlinewidth\":0,\"ticks\":\"\"}}}],\"scatter3d\":[{\"type\":\"scatter3d\",\"line\":{\"colorbar\":{\"outlinewidth\":0,\"ticks\":\"\"}},\"marker\":{\"colorbar\":{\"outlinewidth\":0,\"ticks\":\"\"}}}],\"scattermapbox\":[{\"type\":\"scattermapbox\",\"marker\":{\"colorbar\":{\"outlinewidth\":0,\"ticks\":\"\"}}}],\"scatterternary\":[{\"type\":\"scatterternary\",\"marker\":{\"colorbar\":{\"outlinewidth\":0,\"ticks\":\"\"}}}],\"scattercarpet\":[{\"type\":\"scattercarpet\",\"marker\":{\"colorbar\":{\"outlinewidth\":0,\"ticks\":\"\"}}}],\"carpet\":[{\"aaxis\":{\"endlinecolor\":\"#2a3f5f\",\"gridcolor\":\"white\",\"linecolor\":\"white\",\"minorgridcolor\":\"white\",\"startlinecolor\":\"#2a3f5f\"},\"baxis\":{\"endlinecolor\":\"#2a3f5f\",\"gridcolor\":\"white\",\"linecolor\":\"white\",\"minorgridcolor\":\"white\",\"startlinecolor\":\"#2a3f5f\"},\"type\":\"carpet\"}],\"table\":[{\"cells\":{\"fill\":{\"color\":\"#EBF0F8\"},\"line\":{\"color\":\"white\"}},\"header\":{\"fill\":{\"color\":\"#C8D4E3\"},\"line\":{\"color\":\"white\"}},\"type\":\"table\"}],\"barpolar\":[{\"marker\":{\"line\":{\"color\":\"#E5ECF6\",\"width\":0.5},\"pattern\":{\"fillmode\":\"overlay\",\"size\":10,\"solidity\":0.2}},\"type\":\"barpolar\"}],\"pie\":[{\"automargin\":true,\"type\":\"pie\"}]},\"layout\":{\"autotypenumbers\":\"strict\",\"colorway\":[\"#636efa\",\"#EF553B\",\"#00cc96\",\"#ab63fa\",\"#FFA15A\",\"#19d3f3\",\"#FF6692\",\"#B6E880\",\"#FF97FF\",\"#FECB52\"],\"font\":{\"color\":\"#2a3f5f\"},\"hovermode\":\"closest\",\"hoverlabel\":{\"align\":\"left\"},\"paper_bgcolor\":\"white\",\"plot_bgcolor\":\"#E5ECF6\",\"polar\":{\"bgcolor\":\"#E5ECF6\",\"angularaxis\":{\"gridcolor\":\"white\",\"linecolor\":\"white\",\"ticks\":\"\"},\"radialaxis\":{\"gridcolor\":\"white\",\"linecolor\":\"white\",\"ticks\":\"\"}},\"ternary\":{\"bgcolor\":\"#E5ECF6\",\"aaxis\":{\"gridcolor\":\"white\",\"linecolor\":\"white\",\"ticks\":\"\"},\"baxis\":{\"gridcolor\":\"white\",\"linecolor\":\"white\",\"ticks\":\"\"},\"caxis\":{\"gridcolor\":\"white\",\"linecolor\":\"white\",\"ticks\":\"\"}},\"coloraxis\":{\"colorbar\":{\"outlinewidth\":0,\"ticks\":\"\"}},\"colorscale\":{\"sequential\":[[0.0,\"#0d0887\"],[0.1111111111111111,\"#46039f\"],[0.2222222222222222,\"#7201a8\"],[0.3333333333333333,\"#9c179e\"],[0.4444444444444444,\"#bd3786\"],[0.5555555555555556,\"#d8576b\"],[0.6666666666666666,\"#ed7953\"],[0.7777777777777778,\"#fb9f3a\"],[0.8888888888888888,\"#fdca26\"],[1.0,\"#f0f921\"]],\"sequentialminus\":[[0.0,\"#0d0887\"],[0.1111111111111111,\"#46039f\"],[0.2222222222222222,\"#7201a8\"],[0.3333333333333333,\"#9c179e\"],[0.4444444444444444,\"#bd3786\"],[0.5555555555555556,\"#d8576b\"],[0.6666666666666666,\"#ed7953\"],[0.7777777777777778,\"#fb9f3a\"],[0.8888888888888888,\"#fdca26\"],[1.0,\"#f0f921\"]],\"diverging\":[[0,\"#8e0152\"],[0.1,\"#c51b7d\"],[0.2,\"#de77ae\"],[0.3,\"#f1b6da\"],[0.4,\"#fde0ef\"],[0.5,\"#f7f7f7\"],[0.6,\"#e6f5d0\"],[0.7,\"#b8e186\"],[0.8,\"#7fbc41\"],[0.9,\"#4d9221\"],[1,\"#276419\"]]},\"xaxis\":{\"gridcolor\":\"white\",\"linecolor\":\"white\",\"ticks\":\"\",\"title\":{\"standoff\":15},\"zerolinecolor\":\"white\",\"automargin\":true,\"zerolinewidth\":2},\"yaxis\":{\"gridcolor\":\"white\",\"linecolor\":\"white\",\"ticks\":\"\",\"title\":{\"standoff\":15},\"zerolinecolor\":\"white\",\"automargin\":true,\"zerolinewidth\":2},\"scene\":{\"xaxis\":{\"backgroundcolor\":\"#E5ECF6\",\"gridcolor\":\"white\",\"linecolor\":\"white\",\"showbackground\":true,\"ticks\":\"\",\"zerolinecolor\":\"white\",\"gridwidth\":2},\"yaxis\":{\"backgroundcolor\":\"#E5ECF6\",\"gridcolor\":\"white\",\"linecolor\":\"white\",\"showbackground\":true,\"ticks\":\"\",\"zerolinecolor\":\"white\",\"gridwidth\":2},\"zaxis\":{\"backgroundcolor\":\"#E5ECF6\",\"gridcolor\":\"white\",\"linecolor\":\"white\",\"showbackground\":true,\"ticks\":\"\",\"zerolinecolor\":\"white\",\"gridwidth\":2}},\"shapedefaults\":{\"line\":{\"color\":\"#2a3f5f\"}},\"annotationdefaults\":{\"arrowcolor\":\"#2a3f5f\",\"arrowhead\":0,\"arrowwidth\":1},\"geo\":{\"bgcolor\":\"white\",\"landcolor\":\"#E5ECF6\",\"subunitcolor\":\"white\",\"showland\":true,\"showlakes\":true,\"lakecolor\":\"white\"},\"title\":{\"x\":0.05},\"mapbox\":{\"style\":\"light\"}}},\"xaxis\":{\"anchor\":\"y\",\"domain\":[0.0,1.0],\"scaleanchor\":\"y\",\"constrain\":\"domain\",\"side\":\"top\"},\"yaxis\":{\"anchor\":\"x\",\"domain\":[0.0,1.0],\"autorange\":\"reversed\",\"constrain\":\"domain\",\"side\":\"right\"},\"coloraxis\":{\"colorscale\":[[0.0,\"rgb(3, 5, 18)\"],[0.09090909090909091,\"rgb(25, 25, 51)\"],[0.18181818181818182,\"rgb(44, 42, 87)\"],[0.2727272727272727,\"rgb(58, 60, 125)\"],[0.36363636363636365,\"rgb(62, 83, 160)\"],[0.45454545454545453,\"rgb(62, 109, 178)\"],[0.5454545454545454,\"rgb(72, 134, 187)\"],[0.6363636363636364,\"rgb(89, 159, 196)\"],[0.7272727272727273,\"rgb(114, 184, 205)\"],[0.8181818181818182,\"rgb(149, 207, 216)\"],[0.9090909090909091,\"rgb(192, 229, 232)\"],[1.0,\"rgb(234, 252, 253)\"]],\"cmin\":0,\"cmax\":1,\"showscale\":false},\"margin\":{\"t\":60},\"plot_bgcolor\":\"white\",\"font\":{\"size\":18,\"color\":\"black\"},\"title\":{\"text\":\"Post-Hoc Conover Test Correlation Task p-values\",\"x\":0.5,\"y\":1}},                        {\"responsive\": true}                    ).then(function(){\n",
       "                            \n",
       "var gd = document.getElementById('2c9c7787-7ad4-4836-8f82-40f280341b3c');\n",
       "var x = new MutationObserver(function (mutations, observer) {{\n",
       "        var display = window.getComputedStyle(gd).display;\n",
       "        if (!display || display === 'none') {{\n",
       "            console.log([gd, 'removed!']);\n",
       "            Plotly.purge(gd);\n",
       "            observer.disconnect();\n",
       "        }}\n",
       "}});\n",
       "\n",
       "// Listen for the removal of the full notebook cells\n",
       "var notebookContainer = gd.closest('#notebook-container');\n",
       "if (notebookContainer) {{\n",
       "    x.observe(notebookContainer, {childList: true});\n",
       "}}\n",
       "\n",
       "// Listen for the clearing of the current output cell\n",
       "var outputEl = gd.closest('.output');\n",
       "if (outputEl) {{\n",
       "    x.observe(outputEl, {childList: true});\n",
       "}}\n",
       "\n",
       "                        })                };                });            </script>        </div>"
      ]
     },
     "metadata": {},
     "output_type": "display_data"
    }
   ],
   "source": [
    "filteredDfCorrelation = getFilteredArray(answerDataFrame, 'correlation')\n",
    "\n",
    "dfOverall = getConoverPostHoc(filteredDfCorrelation)\n",
    "cols = ['DAWA', 'Geometric', 'AHP', 'AGrid', 'Laplace']\n",
    "dfOverall = dfOverall.reindex(['DAWA', 'Geometric', 'AHP', 'AGrid', 'Laplace'])\n",
    "dfOverall = dfOverall[cols] \n",
    "np.triu(np.ones(dfOverall.shape)).astype(np.bool)[0:5,0:5]\n",
    "pd.set_option('precision', 3)\n",
    "df_lt = dfOverall.where(np.triu(np.ones(dfOverall.shape)).astype(np.bool)[0:5,0:5]).round(3)\n",
    "fig = px.imshow(df_lt, text_auto=True, color_continuous_scale=\"ice\", zmax=1,zmin=0)\n",
    "fig.update_layout(plot_bgcolor=\"white\")\n",
    "fig.update_layout(font = dict(size = 18, color = 'black'))\n",
    "fig.update_coloraxes(showscale=False)\n",
    "fig.update_layout(title_text='Post-Hoc Conover Test Correlation Task p-values', title_x=0.5, title_y = 1)\n",
    "fig['layout']['xaxis']['side'] = 'top'\n",
    "fig['layout']['yaxis']['side'] = 'right'\n",
    "fig.write_image(\"post-hoc-correlation.svg\")\n",
    "fig.show()"
   ]
  },
  {
   "cell_type": "markdown",
   "metadata": {},
   "source": [
    "#### Clusters Best Algorithm Table"
   ]
  },
  {
   "cell_type": "code",
   "execution_count": 119,
   "metadata": {},
   "outputs": [
    {
     "name": "stderr",
     "output_type": "stream",
     "text": [
      "C:\\Users\\lpana\\AppData\\Local\\Temp/ipykernel_39888/1782104924.py:7: DeprecationWarning:\n",
      "\n",
      "`np.bool` is a deprecated alias for the builtin `bool`. To silence this warning, use `bool` by itself. Doing this will not modify any behavior and is safe. If you specifically wanted the numpy scalar type, use `np.bool_` here.\n",
      "Deprecated in NumPy 1.20; for more details and guidance: https://numpy.org/devdocs/release/1.20.0-notes.html#deprecations\n",
      "\n",
      "C:\\Users\\lpana\\AppData\\Local\\Temp/ipykernel_39888/1782104924.py:9: DeprecationWarning:\n",
      "\n",
      "`np.bool` is a deprecated alias for the builtin `bool`. To silence this warning, use `bool` by itself. Doing this will not modify any behavior and is safe. If you specifically wanted the numpy scalar type, use `np.bool_` here.\n",
      "Deprecated in NumPy 1.20; for more details and guidance: https://numpy.org/devdocs/release/1.20.0-notes.html#deprecations\n",
      "\n"
     ]
    },
    {
     "data": {
      "application/vnd.plotly.v1+json": {
       "config": {
        "plotlyServerURL": "https://plot.ly"
       },
       "data": [
        {
         "coloraxis": "coloraxis",
         "hovertemplate": "x: %{x}<br>y: %{y}<br>color: %{z}<extra></extra>",
         "name": "0",
         "texttemplate": "%{z}",
         "type": "heatmap",
         "x": [
          "DAWA",
          "Geometric",
          "AHP",
          "AGrid",
          "Laplace"
         ],
         "xaxis": "x",
         "y": [
          "DAWA",
          "Geometric",
          "AHP",
          "AGrid",
          "Laplace"
         ],
         "yaxis": "y",
         "z": [
          [
           1,
           0.815,
           0.815,
           0.532,
           0.868
          ],
          [
           null,
           1,
           0.996,
           0.32,
           0.777
          ],
          [
           null,
           null,
           1,
           0.32,
           0.777
          ],
          [
           null,
           null,
           null,
           1,
           0.646
          ],
          [
           null,
           null,
           null,
           null,
           1
          ]
         ]
        }
       ],
       "layout": {
        "coloraxis": {
         "cmax": 1,
         "cmin": 0,
         "colorscale": [
          [
           0,
           "rgb(3, 5, 18)"
          ],
          [
           0.09090909090909091,
           "rgb(25, 25, 51)"
          ],
          [
           0.18181818181818182,
           "rgb(44, 42, 87)"
          ],
          [
           0.2727272727272727,
           "rgb(58, 60, 125)"
          ],
          [
           0.36363636363636365,
           "rgb(62, 83, 160)"
          ],
          [
           0.45454545454545453,
           "rgb(62, 109, 178)"
          ],
          [
           0.5454545454545454,
           "rgb(72, 134, 187)"
          ],
          [
           0.6363636363636364,
           "rgb(89, 159, 196)"
          ],
          [
           0.7272727272727273,
           "rgb(114, 184, 205)"
          ],
          [
           0.8181818181818182,
           "rgb(149, 207, 216)"
          ],
          [
           0.9090909090909091,
           "rgb(192, 229, 232)"
          ],
          [
           1,
           "rgb(234, 252, 253)"
          ]
         ],
         "showscale": false
        },
        "font": {
         "color": "black",
         "size": 18
        },
        "margin": {
         "t": 60
        },
        "plot_bgcolor": "white",
        "template": {
         "data": {
          "bar": [
           {
            "error_x": {
             "color": "#2a3f5f"
            },
            "error_y": {
             "color": "#2a3f5f"
            },
            "marker": {
             "line": {
              "color": "#E5ECF6",
              "width": 0.5
             },
             "pattern": {
              "fillmode": "overlay",
              "size": 10,
              "solidity": 0.2
             }
            },
            "type": "bar"
           }
          ],
          "barpolar": [
           {
            "marker": {
             "line": {
              "color": "#E5ECF6",
              "width": 0.5
             },
             "pattern": {
              "fillmode": "overlay",
              "size": 10,
              "solidity": 0.2
             }
            },
            "type": "barpolar"
           }
          ],
          "carpet": [
           {
            "aaxis": {
             "endlinecolor": "#2a3f5f",
             "gridcolor": "white",
             "linecolor": "white",
             "minorgridcolor": "white",
             "startlinecolor": "#2a3f5f"
            },
            "baxis": {
             "endlinecolor": "#2a3f5f",
             "gridcolor": "white",
             "linecolor": "white",
             "minorgridcolor": "white",
             "startlinecolor": "#2a3f5f"
            },
            "type": "carpet"
           }
          ],
          "choropleth": [
           {
            "colorbar": {
             "outlinewidth": 0,
             "ticks": ""
            },
            "type": "choropleth"
           }
          ],
          "contour": [
           {
            "colorbar": {
             "outlinewidth": 0,
             "ticks": ""
            },
            "colorscale": [
             [
              0,
              "#0d0887"
             ],
             [
              0.1111111111111111,
              "#46039f"
             ],
             [
              0.2222222222222222,
              "#7201a8"
             ],
             [
              0.3333333333333333,
              "#9c179e"
             ],
             [
              0.4444444444444444,
              "#bd3786"
             ],
             [
              0.5555555555555556,
              "#d8576b"
             ],
             [
              0.6666666666666666,
              "#ed7953"
             ],
             [
              0.7777777777777778,
              "#fb9f3a"
             ],
             [
              0.8888888888888888,
              "#fdca26"
             ],
             [
              1,
              "#f0f921"
             ]
            ],
            "type": "contour"
           }
          ],
          "contourcarpet": [
           {
            "colorbar": {
             "outlinewidth": 0,
             "ticks": ""
            },
            "type": "contourcarpet"
           }
          ],
          "heatmap": [
           {
            "colorbar": {
             "outlinewidth": 0,
             "ticks": ""
            },
            "colorscale": [
             [
              0,
              "#0d0887"
             ],
             [
              0.1111111111111111,
              "#46039f"
             ],
             [
              0.2222222222222222,
              "#7201a8"
             ],
             [
              0.3333333333333333,
              "#9c179e"
             ],
             [
              0.4444444444444444,
              "#bd3786"
             ],
             [
              0.5555555555555556,
              "#d8576b"
             ],
             [
              0.6666666666666666,
              "#ed7953"
             ],
             [
              0.7777777777777778,
              "#fb9f3a"
             ],
             [
              0.8888888888888888,
              "#fdca26"
             ],
             [
              1,
              "#f0f921"
             ]
            ],
            "type": "heatmap"
           }
          ],
          "heatmapgl": [
           {
            "colorbar": {
             "outlinewidth": 0,
             "ticks": ""
            },
            "colorscale": [
             [
              0,
              "#0d0887"
             ],
             [
              0.1111111111111111,
              "#46039f"
             ],
             [
              0.2222222222222222,
              "#7201a8"
             ],
             [
              0.3333333333333333,
              "#9c179e"
             ],
             [
              0.4444444444444444,
              "#bd3786"
             ],
             [
              0.5555555555555556,
              "#d8576b"
             ],
             [
              0.6666666666666666,
              "#ed7953"
             ],
             [
              0.7777777777777778,
              "#fb9f3a"
             ],
             [
              0.8888888888888888,
              "#fdca26"
             ],
             [
              1,
              "#f0f921"
             ]
            ],
            "type": "heatmapgl"
           }
          ],
          "histogram": [
           {
            "marker": {
             "pattern": {
              "fillmode": "overlay",
              "size": 10,
              "solidity": 0.2
             }
            },
            "type": "histogram"
           }
          ],
          "histogram2d": [
           {
            "colorbar": {
             "outlinewidth": 0,
             "ticks": ""
            },
            "colorscale": [
             [
              0,
              "#0d0887"
             ],
             [
              0.1111111111111111,
              "#46039f"
             ],
             [
              0.2222222222222222,
              "#7201a8"
             ],
             [
              0.3333333333333333,
              "#9c179e"
             ],
             [
              0.4444444444444444,
              "#bd3786"
             ],
             [
              0.5555555555555556,
              "#d8576b"
             ],
             [
              0.6666666666666666,
              "#ed7953"
             ],
             [
              0.7777777777777778,
              "#fb9f3a"
             ],
             [
              0.8888888888888888,
              "#fdca26"
             ],
             [
              1,
              "#f0f921"
             ]
            ],
            "type": "histogram2d"
           }
          ],
          "histogram2dcontour": [
           {
            "colorbar": {
             "outlinewidth": 0,
             "ticks": ""
            },
            "colorscale": [
             [
              0,
              "#0d0887"
             ],
             [
              0.1111111111111111,
              "#46039f"
             ],
             [
              0.2222222222222222,
              "#7201a8"
             ],
             [
              0.3333333333333333,
              "#9c179e"
             ],
             [
              0.4444444444444444,
              "#bd3786"
             ],
             [
              0.5555555555555556,
              "#d8576b"
             ],
             [
              0.6666666666666666,
              "#ed7953"
             ],
             [
              0.7777777777777778,
              "#fb9f3a"
             ],
             [
              0.8888888888888888,
              "#fdca26"
             ],
             [
              1,
              "#f0f921"
             ]
            ],
            "type": "histogram2dcontour"
           }
          ],
          "mesh3d": [
           {
            "colorbar": {
             "outlinewidth": 0,
             "ticks": ""
            },
            "type": "mesh3d"
           }
          ],
          "parcoords": [
           {
            "line": {
             "colorbar": {
              "outlinewidth": 0,
              "ticks": ""
             }
            },
            "type": "parcoords"
           }
          ],
          "pie": [
           {
            "automargin": true,
            "type": "pie"
           }
          ],
          "scatter": [
           {
            "fillpattern": {
             "fillmode": "overlay",
             "size": 10,
             "solidity": 0.2
            },
            "type": "scatter"
           }
          ],
          "scatter3d": [
           {
            "line": {
             "colorbar": {
              "outlinewidth": 0,
              "ticks": ""
             }
            },
            "marker": {
             "colorbar": {
              "outlinewidth": 0,
              "ticks": ""
             }
            },
            "type": "scatter3d"
           }
          ],
          "scattercarpet": [
           {
            "marker": {
             "colorbar": {
              "outlinewidth": 0,
              "ticks": ""
             }
            },
            "type": "scattercarpet"
           }
          ],
          "scattergeo": [
           {
            "marker": {
             "colorbar": {
              "outlinewidth": 0,
              "ticks": ""
             }
            },
            "type": "scattergeo"
           }
          ],
          "scattergl": [
           {
            "marker": {
             "colorbar": {
              "outlinewidth": 0,
              "ticks": ""
             }
            },
            "type": "scattergl"
           }
          ],
          "scattermapbox": [
           {
            "marker": {
             "colorbar": {
              "outlinewidth": 0,
              "ticks": ""
             }
            },
            "type": "scattermapbox"
           }
          ],
          "scatterpolar": [
           {
            "marker": {
             "colorbar": {
              "outlinewidth": 0,
              "ticks": ""
             }
            },
            "type": "scatterpolar"
           }
          ],
          "scatterpolargl": [
           {
            "marker": {
             "colorbar": {
              "outlinewidth": 0,
              "ticks": ""
             }
            },
            "type": "scatterpolargl"
           }
          ],
          "scatterternary": [
           {
            "marker": {
             "colorbar": {
              "outlinewidth": 0,
              "ticks": ""
             }
            },
            "type": "scatterternary"
           }
          ],
          "surface": [
           {
            "colorbar": {
             "outlinewidth": 0,
             "ticks": ""
            },
            "colorscale": [
             [
              0,
              "#0d0887"
             ],
             [
              0.1111111111111111,
              "#46039f"
             ],
             [
              0.2222222222222222,
              "#7201a8"
             ],
             [
              0.3333333333333333,
              "#9c179e"
             ],
             [
              0.4444444444444444,
              "#bd3786"
             ],
             [
              0.5555555555555556,
              "#d8576b"
             ],
             [
              0.6666666666666666,
              "#ed7953"
             ],
             [
              0.7777777777777778,
              "#fb9f3a"
             ],
             [
              0.8888888888888888,
              "#fdca26"
             ],
             [
              1,
              "#f0f921"
             ]
            ],
            "type": "surface"
           }
          ],
          "table": [
           {
            "cells": {
             "fill": {
              "color": "#EBF0F8"
             },
             "line": {
              "color": "white"
             }
            },
            "header": {
             "fill": {
              "color": "#C8D4E3"
             },
             "line": {
              "color": "white"
             }
            },
            "type": "table"
           }
          ]
         },
         "layout": {
          "annotationdefaults": {
           "arrowcolor": "#2a3f5f",
           "arrowhead": 0,
           "arrowwidth": 1
          },
          "autotypenumbers": "strict",
          "coloraxis": {
           "colorbar": {
            "outlinewidth": 0,
            "ticks": ""
           }
          },
          "colorscale": {
           "diverging": [
            [
             0,
             "#8e0152"
            ],
            [
             0.1,
             "#c51b7d"
            ],
            [
             0.2,
             "#de77ae"
            ],
            [
             0.3,
             "#f1b6da"
            ],
            [
             0.4,
             "#fde0ef"
            ],
            [
             0.5,
             "#f7f7f7"
            ],
            [
             0.6,
             "#e6f5d0"
            ],
            [
             0.7,
             "#b8e186"
            ],
            [
             0.8,
             "#7fbc41"
            ],
            [
             0.9,
             "#4d9221"
            ],
            [
             1,
             "#276419"
            ]
           ],
           "sequential": [
            [
             0,
             "#0d0887"
            ],
            [
             0.1111111111111111,
             "#46039f"
            ],
            [
             0.2222222222222222,
             "#7201a8"
            ],
            [
             0.3333333333333333,
             "#9c179e"
            ],
            [
             0.4444444444444444,
             "#bd3786"
            ],
            [
             0.5555555555555556,
             "#d8576b"
            ],
            [
             0.6666666666666666,
             "#ed7953"
            ],
            [
             0.7777777777777778,
             "#fb9f3a"
            ],
            [
             0.8888888888888888,
             "#fdca26"
            ],
            [
             1,
             "#f0f921"
            ]
           ],
           "sequentialminus": [
            [
             0,
             "#0d0887"
            ],
            [
             0.1111111111111111,
             "#46039f"
            ],
            [
             0.2222222222222222,
             "#7201a8"
            ],
            [
             0.3333333333333333,
             "#9c179e"
            ],
            [
             0.4444444444444444,
             "#bd3786"
            ],
            [
             0.5555555555555556,
             "#d8576b"
            ],
            [
             0.6666666666666666,
             "#ed7953"
            ],
            [
             0.7777777777777778,
             "#fb9f3a"
            ],
            [
             0.8888888888888888,
             "#fdca26"
            ],
            [
             1,
             "#f0f921"
            ]
           ]
          },
          "colorway": [
           "#636efa",
           "#EF553B",
           "#00cc96",
           "#ab63fa",
           "#FFA15A",
           "#19d3f3",
           "#FF6692",
           "#B6E880",
           "#FF97FF",
           "#FECB52"
          ],
          "font": {
           "color": "#2a3f5f"
          },
          "geo": {
           "bgcolor": "white",
           "lakecolor": "white",
           "landcolor": "#E5ECF6",
           "showlakes": true,
           "showland": true,
           "subunitcolor": "white"
          },
          "hoverlabel": {
           "align": "left"
          },
          "hovermode": "closest",
          "mapbox": {
           "style": "light"
          },
          "paper_bgcolor": "white",
          "plot_bgcolor": "#E5ECF6",
          "polar": {
           "angularaxis": {
            "gridcolor": "white",
            "linecolor": "white",
            "ticks": ""
           },
           "bgcolor": "#E5ECF6",
           "radialaxis": {
            "gridcolor": "white",
            "linecolor": "white",
            "ticks": ""
           }
          },
          "scene": {
           "xaxis": {
            "backgroundcolor": "#E5ECF6",
            "gridcolor": "white",
            "gridwidth": 2,
            "linecolor": "white",
            "showbackground": true,
            "ticks": "",
            "zerolinecolor": "white"
           },
           "yaxis": {
            "backgroundcolor": "#E5ECF6",
            "gridcolor": "white",
            "gridwidth": 2,
            "linecolor": "white",
            "showbackground": true,
            "ticks": "",
            "zerolinecolor": "white"
           },
           "zaxis": {
            "backgroundcolor": "#E5ECF6",
            "gridcolor": "white",
            "gridwidth": 2,
            "linecolor": "white",
            "showbackground": true,
            "ticks": "",
            "zerolinecolor": "white"
           }
          },
          "shapedefaults": {
           "line": {
            "color": "#2a3f5f"
           }
          },
          "ternary": {
           "aaxis": {
            "gridcolor": "white",
            "linecolor": "white",
            "ticks": ""
           },
           "baxis": {
            "gridcolor": "white",
            "linecolor": "white",
            "ticks": ""
           },
           "bgcolor": "#E5ECF6",
           "caxis": {
            "gridcolor": "white",
            "linecolor": "white",
            "ticks": ""
           }
          },
          "title": {
           "x": 0.05
          },
          "xaxis": {
           "automargin": true,
           "gridcolor": "white",
           "linecolor": "white",
           "ticks": "",
           "title": {
            "standoff": 15
           },
           "zerolinecolor": "white",
           "zerolinewidth": 2
          },
          "yaxis": {
           "automargin": true,
           "gridcolor": "white",
           "linecolor": "white",
           "ticks": "",
           "title": {
            "standoff": 15
           },
           "zerolinecolor": "white",
           "zerolinewidth": 2
          }
         }
        },
        "title": {
         "text": "Post-Hoc Conover Test Cluster Task p-values",
         "x": 0.5,
         "y": 1
        },
        "xaxis": {
         "anchor": "y",
         "constrain": "domain",
         "domain": [
          0,
          1
         ],
         "scaleanchor": "y",
         "side": "top"
        },
        "yaxis": {
         "anchor": "x",
         "autorange": "reversed",
         "constrain": "domain",
         "domain": [
          0,
          1
         ],
         "side": "right"
        }
       }
      },
      "text/html": [
       "<div>                            <div id=\"26b0e962-96ef-47a7-b0ab-e9bebf2d397b\" class=\"plotly-graph-div\" style=\"height:525px; width:100%;\"></div>            <script type=\"text/javascript\">                require([\"plotly\"], function(Plotly) {                    window.PLOTLYENV=window.PLOTLYENV || {};                                    if (document.getElementById(\"26b0e962-96ef-47a7-b0ab-e9bebf2d397b\")) {                    Plotly.newPlot(                        \"26b0e962-96ef-47a7-b0ab-e9bebf2d397b\",                        [{\"coloraxis\":\"coloraxis\",\"name\":\"0\",\"texttemplate\":\"%{z}\",\"x\":[\"DAWA\",\"Geometric\",\"AHP\",\"AGrid\",\"Laplace\"],\"y\":[\"DAWA\",\"Geometric\",\"AHP\",\"AGrid\",\"Laplace\"],\"z\":[[1.0,0.815,0.815,0.532,0.868],[null,1.0,0.996,0.32,0.777],[null,null,1.0,0.32,0.777],[null,null,null,1.0,0.646],[null,null,null,null,1.0]],\"type\":\"heatmap\",\"xaxis\":\"x\",\"yaxis\":\"y\",\"hovertemplate\":\"x: %{x}<br>y: %{y}<br>color: %{z}<extra></extra>\"}],                        {\"template\":{\"data\":{\"histogram2dcontour\":[{\"type\":\"histogram2dcontour\",\"colorbar\":{\"outlinewidth\":0,\"ticks\":\"\"},\"colorscale\":[[0.0,\"#0d0887\"],[0.1111111111111111,\"#46039f\"],[0.2222222222222222,\"#7201a8\"],[0.3333333333333333,\"#9c179e\"],[0.4444444444444444,\"#bd3786\"],[0.5555555555555556,\"#d8576b\"],[0.6666666666666666,\"#ed7953\"],[0.7777777777777778,\"#fb9f3a\"],[0.8888888888888888,\"#fdca26\"],[1.0,\"#f0f921\"]]}],\"choropleth\":[{\"type\":\"choropleth\",\"colorbar\":{\"outlinewidth\":0,\"ticks\":\"\"}}],\"histogram2d\":[{\"type\":\"histogram2d\",\"colorbar\":{\"outlinewidth\":0,\"ticks\":\"\"},\"colorscale\":[[0.0,\"#0d0887\"],[0.1111111111111111,\"#46039f\"],[0.2222222222222222,\"#7201a8\"],[0.3333333333333333,\"#9c179e\"],[0.4444444444444444,\"#bd3786\"],[0.5555555555555556,\"#d8576b\"],[0.6666666666666666,\"#ed7953\"],[0.7777777777777778,\"#fb9f3a\"],[0.8888888888888888,\"#fdca26\"],[1.0,\"#f0f921\"]]}],\"heatmap\":[{\"type\":\"heatmap\",\"colorbar\":{\"outlinewidth\":0,\"ticks\":\"\"},\"colorscale\":[[0.0,\"#0d0887\"],[0.1111111111111111,\"#46039f\"],[0.2222222222222222,\"#7201a8\"],[0.3333333333333333,\"#9c179e\"],[0.4444444444444444,\"#bd3786\"],[0.5555555555555556,\"#d8576b\"],[0.6666666666666666,\"#ed7953\"],[0.7777777777777778,\"#fb9f3a\"],[0.8888888888888888,\"#fdca26\"],[1.0,\"#f0f921\"]]}],\"heatmapgl\":[{\"type\":\"heatmapgl\",\"colorbar\":{\"outlinewidth\":0,\"ticks\":\"\"},\"colorscale\":[[0.0,\"#0d0887\"],[0.1111111111111111,\"#46039f\"],[0.2222222222222222,\"#7201a8\"],[0.3333333333333333,\"#9c179e\"],[0.4444444444444444,\"#bd3786\"],[0.5555555555555556,\"#d8576b\"],[0.6666666666666666,\"#ed7953\"],[0.7777777777777778,\"#fb9f3a\"],[0.8888888888888888,\"#fdca26\"],[1.0,\"#f0f921\"]]}],\"contourcarpet\":[{\"type\":\"contourcarpet\",\"colorbar\":{\"outlinewidth\":0,\"ticks\":\"\"}}],\"contour\":[{\"type\":\"contour\",\"colorbar\":{\"outlinewidth\":0,\"ticks\":\"\"},\"colorscale\":[[0.0,\"#0d0887\"],[0.1111111111111111,\"#46039f\"],[0.2222222222222222,\"#7201a8\"],[0.3333333333333333,\"#9c179e\"],[0.4444444444444444,\"#bd3786\"],[0.5555555555555556,\"#d8576b\"],[0.6666666666666666,\"#ed7953\"],[0.7777777777777778,\"#fb9f3a\"],[0.8888888888888888,\"#fdca26\"],[1.0,\"#f0f921\"]]}],\"surface\":[{\"type\":\"surface\",\"colorbar\":{\"outlinewidth\":0,\"ticks\":\"\"},\"colorscale\":[[0.0,\"#0d0887\"],[0.1111111111111111,\"#46039f\"],[0.2222222222222222,\"#7201a8\"],[0.3333333333333333,\"#9c179e\"],[0.4444444444444444,\"#bd3786\"],[0.5555555555555556,\"#d8576b\"],[0.6666666666666666,\"#ed7953\"],[0.7777777777777778,\"#fb9f3a\"],[0.8888888888888888,\"#fdca26\"],[1.0,\"#f0f921\"]]}],\"mesh3d\":[{\"type\":\"mesh3d\",\"colorbar\":{\"outlinewidth\":0,\"ticks\":\"\"}}],\"scatter\":[{\"fillpattern\":{\"fillmode\":\"overlay\",\"size\":10,\"solidity\":0.2},\"type\":\"scatter\"}],\"parcoords\":[{\"type\":\"parcoords\",\"line\":{\"colorbar\":{\"outlinewidth\":0,\"ticks\":\"\"}}}],\"scatterpolargl\":[{\"type\":\"scatterpolargl\",\"marker\":{\"colorbar\":{\"outlinewidth\":0,\"ticks\":\"\"}}}],\"bar\":[{\"error_x\":{\"color\":\"#2a3f5f\"},\"error_y\":{\"color\":\"#2a3f5f\"},\"marker\":{\"line\":{\"color\":\"#E5ECF6\",\"width\":0.5},\"pattern\":{\"fillmode\":\"overlay\",\"size\":10,\"solidity\":0.2}},\"type\":\"bar\"}],\"scattergeo\":[{\"type\":\"scattergeo\",\"marker\":{\"colorbar\":{\"outlinewidth\":0,\"ticks\":\"\"}}}],\"scatterpolar\":[{\"type\":\"scatterpolar\",\"marker\":{\"colorbar\":{\"outlinewidth\":0,\"ticks\":\"\"}}}],\"histogram\":[{\"marker\":{\"pattern\":{\"fillmode\":\"overlay\",\"size\":10,\"solidity\":0.2}},\"type\":\"histogram\"}],\"scattergl\":[{\"type\":\"scattergl\",\"marker\":{\"colorbar\":{\"outlinewidth\":0,\"ticks\":\"\"}}}],\"scatter3d\":[{\"type\":\"scatter3d\",\"line\":{\"colorbar\":{\"outlinewidth\":0,\"ticks\":\"\"}},\"marker\":{\"colorbar\":{\"outlinewidth\":0,\"ticks\":\"\"}}}],\"scattermapbox\":[{\"type\":\"scattermapbox\",\"marker\":{\"colorbar\":{\"outlinewidth\":0,\"ticks\":\"\"}}}],\"scatterternary\":[{\"type\":\"scatterternary\",\"marker\":{\"colorbar\":{\"outlinewidth\":0,\"ticks\":\"\"}}}],\"scattercarpet\":[{\"type\":\"scattercarpet\",\"marker\":{\"colorbar\":{\"outlinewidth\":0,\"ticks\":\"\"}}}],\"carpet\":[{\"aaxis\":{\"endlinecolor\":\"#2a3f5f\",\"gridcolor\":\"white\",\"linecolor\":\"white\",\"minorgridcolor\":\"white\",\"startlinecolor\":\"#2a3f5f\"},\"baxis\":{\"endlinecolor\":\"#2a3f5f\",\"gridcolor\":\"white\",\"linecolor\":\"white\",\"minorgridcolor\":\"white\",\"startlinecolor\":\"#2a3f5f\"},\"type\":\"carpet\"}],\"table\":[{\"cells\":{\"fill\":{\"color\":\"#EBF0F8\"},\"line\":{\"color\":\"white\"}},\"header\":{\"fill\":{\"color\":\"#C8D4E3\"},\"line\":{\"color\":\"white\"}},\"type\":\"table\"}],\"barpolar\":[{\"marker\":{\"line\":{\"color\":\"#E5ECF6\",\"width\":0.5},\"pattern\":{\"fillmode\":\"overlay\",\"size\":10,\"solidity\":0.2}},\"type\":\"barpolar\"}],\"pie\":[{\"automargin\":true,\"type\":\"pie\"}]},\"layout\":{\"autotypenumbers\":\"strict\",\"colorway\":[\"#636efa\",\"#EF553B\",\"#00cc96\",\"#ab63fa\",\"#FFA15A\",\"#19d3f3\",\"#FF6692\",\"#B6E880\",\"#FF97FF\",\"#FECB52\"],\"font\":{\"color\":\"#2a3f5f\"},\"hovermode\":\"closest\",\"hoverlabel\":{\"align\":\"left\"},\"paper_bgcolor\":\"white\",\"plot_bgcolor\":\"#E5ECF6\",\"polar\":{\"bgcolor\":\"#E5ECF6\",\"angularaxis\":{\"gridcolor\":\"white\",\"linecolor\":\"white\",\"ticks\":\"\"},\"radialaxis\":{\"gridcolor\":\"white\",\"linecolor\":\"white\",\"ticks\":\"\"}},\"ternary\":{\"bgcolor\":\"#E5ECF6\",\"aaxis\":{\"gridcolor\":\"white\",\"linecolor\":\"white\",\"ticks\":\"\"},\"baxis\":{\"gridcolor\":\"white\",\"linecolor\":\"white\",\"ticks\":\"\"},\"caxis\":{\"gridcolor\":\"white\",\"linecolor\":\"white\",\"ticks\":\"\"}},\"coloraxis\":{\"colorbar\":{\"outlinewidth\":0,\"ticks\":\"\"}},\"colorscale\":{\"sequential\":[[0.0,\"#0d0887\"],[0.1111111111111111,\"#46039f\"],[0.2222222222222222,\"#7201a8\"],[0.3333333333333333,\"#9c179e\"],[0.4444444444444444,\"#bd3786\"],[0.5555555555555556,\"#d8576b\"],[0.6666666666666666,\"#ed7953\"],[0.7777777777777778,\"#fb9f3a\"],[0.8888888888888888,\"#fdca26\"],[1.0,\"#f0f921\"]],\"sequentialminus\":[[0.0,\"#0d0887\"],[0.1111111111111111,\"#46039f\"],[0.2222222222222222,\"#7201a8\"],[0.3333333333333333,\"#9c179e\"],[0.4444444444444444,\"#bd3786\"],[0.5555555555555556,\"#d8576b\"],[0.6666666666666666,\"#ed7953\"],[0.7777777777777778,\"#fb9f3a\"],[0.8888888888888888,\"#fdca26\"],[1.0,\"#f0f921\"]],\"diverging\":[[0,\"#8e0152\"],[0.1,\"#c51b7d\"],[0.2,\"#de77ae\"],[0.3,\"#f1b6da\"],[0.4,\"#fde0ef\"],[0.5,\"#f7f7f7\"],[0.6,\"#e6f5d0\"],[0.7,\"#b8e186\"],[0.8,\"#7fbc41\"],[0.9,\"#4d9221\"],[1,\"#276419\"]]},\"xaxis\":{\"gridcolor\":\"white\",\"linecolor\":\"white\",\"ticks\":\"\",\"title\":{\"standoff\":15},\"zerolinecolor\":\"white\",\"automargin\":true,\"zerolinewidth\":2},\"yaxis\":{\"gridcolor\":\"white\",\"linecolor\":\"white\",\"ticks\":\"\",\"title\":{\"standoff\":15},\"zerolinecolor\":\"white\",\"automargin\":true,\"zerolinewidth\":2},\"scene\":{\"xaxis\":{\"backgroundcolor\":\"#E5ECF6\",\"gridcolor\":\"white\",\"linecolor\":\"white\",\"showbackground\":true,\"ticks\":\"\",\"zerolinecolor\":\"white\",\"gridwidth\":2},\"yaxis\":{\"backgroundcolor\":\"#E5ECF6\",\"gridcolor\":\"white\",\"linecolor\":\"white\",\"showbackground\":true,\"ticks\":\"\",\"zerolinecolor\":\"white\",\"gridwidth\":2},\"zaxis\":{\"backgroundcolor\":\"#E5ECF6\",\"gridcolor\":\"white\",\"linecolor\":\"white\",\"showbackground\":true,\"ticks\":\"\",\"zerolinecolor\":\"white\",\"gridwidth\":2}},\"shapedefaults\":{\"line\":{\"color\":\"#2a3f5f\"}},\"annotationdefaults\":{\"arrowcolor\":\"#2a3f5f\",\"arrowhead\":0,\"arrowwidth\":1},\"geo\":{\"bgcolor\":\"white\",\"landcolor\":\"#E5ECF6\",\"subunitcolor\":\"white\",\"showland\":true,\"showlakes\":true,\"lakecolor\":\"white\"},\"title\":{\"x\":0.05},\"mapbox\":{\"style\":\"light\"}}},\"xaxis\":{\"anchor\":\"y\",\"domain\":[0.0,1.0],\"scaleanchor\":\"y\",\"constrain\":\"domain\",\"side\":\"top\"},\"yaxis\":{\"anchor\":\"x\",\"domain\":[0.0,1.0],\"autorange\":\"reversed\",\"constrain\":\"domain\",\"side\":\"right\"},\"coloraxis\":{\"colorscale\":[[0.0,\"rgb(3, 5, 18)\"],[0.09090909090909091,\"rgb(25, 25, 51)\"],[0.18181818181818182,\"rgb(44, 42, 87)\"],[0.2727272727272727,\"rgb(58, 60, 125)\"],[0.36363636363636365,\"rgb(62, 83, 160)\"],[0.45454545454545453,\"rgb(62, 109, 178)\"],[0.5454545454545454,\"rgb(72, 134, 187)\"],[0.6363636363636364,\"rgb(89, 159, 196)\"],[0.7272727272727273,\"rgb(114, 184, 205)\"],[0.8181818181818182,\"rgb(149, 207, 216)\"],[0.9090909090909091,\"rgb(192, 229, 232)\"],[1.0,\"rgb(234, 252, 253)\"]],\"cmin\":0,\"cmax\":1,\"showscale\":false},\"margin\":{\"t\":60},\"plot_bgcolor\":\"white\",\"font\":{\"size\":18,\"color\":\"black\"},\"title\":{\"text\":\"Post-Hoc Conover Test Cluster Task p-values\",\"x\":0.5,\"y\":1}},                        {\"responsive\": true}                    ).then(function(){\n",
       "                            \n",
       "var gd = document.getElementById('26b0e962-96ef-47a7-b0ab-e9bebf2d397b');\n",
       "var x = new MutationObserver(function (mutations, observer) {{\n",
       "        var display = window.getComputedStyle(gd).display;\n",
       "        if (!display || display === 'none') {{\n",
       "            console.log([gd, 'removed!']);\n",
       "            Plotly.purge(gd);\n",
       "            observer.disconnect();\n",
       "        }}\n",
       "}});\n",
       "\n",
       "// Listen for the removal of the full notebook cells\n",
       "var notebookContainer = gd.closest('#notebook-container');\n",
       "if (notebookContainer) {{\n",
       "    x.observe(notebookContainer, {childList: true});\n",
       "}}\n",
       "\n",
       "// Listen for the clearing of the current output cell\n",
       "var outputEl = gd.closest('.output');\n",
       "if (outputEl) {{\n",
       "    x.observe(outputEl, {childList: true});\n",
       "}}\n",
       "\n",
       "                        })                };                });            </script>        </div>"
      ]
     },
     "metadata": {},
     "output_type": "display_data"
    }
   ],
   "source": [
    "filteredDfClusters = getFilteredArray(answerDataFrame, 'cluster')\n",
    "\n",
    "dfOverall = getConoverPostHoc(filteredDfClusters)\n",
    "cols = ['DAWA', 'Geometric', 'AHP', 'AGrid', 'Laplace']\n",
    "dfOverall = dfOverall.reindex(['DAWA', 'Geometric', 'AHP', 'AGrid', 'Laplace'])\n",
    "dfOverall = dfOverall[cols] \n",
    "np.triu(np.ones(dfOverall.shape)).astype(np.bool)[0:5,0:5]\n",
    "pd.set_option('precision', 3)\n",
    "df_lt = dfOverall.where(np.triu(np.ones(dfOverall.shape)).astype(np.bool)[0:5,0:5]).round(3)\n",
    "fig = px.imshow(df_lt, text_auto=True, color_continuous_scale=\"ice\", zmax=1,zmin=0)\n",
    "fig.update_layout(plot_bgcolor=\"white\")\n",
    "fig.update_layout(font = dict(size = 18, color = 'black'))\n",
    "fig.update_coloraxes(showscale=False)\n",
    "fig.update_layout(title_text='Post-Hoc Conover Test Cluster Task p-values', title_x=0.5, title_y = 1)\n",
    "fig['layout']['xaxis']['side'] = 'top'\n",
    "fig['layout']['yaxis']['side'] = 'right'\n",
    "fig.write_image(\"post-hoc-cluster.svg\")\n",
    "fig.show()"
   ]
  },
  {
   "cell_type": "markdown",
   "metadata": {
    "id": "xA96GpHIvZHs"
   },
   "source": [
    "### Regression Analysis"
   ]
  },
  {
   "cell_type": "markdown",
   "metadata": {},
   "source": [
    "<font color='blue'>From our visual inspection of the data it seemed as if epsilon had the largest influence on visual utility. From our pregistration analysis we did not have statistical evidence to make this claim. There we ran an additional regression analysis to check which independent variable (all parameters) had the largest influence on the dependent variable (visual utility score). This was done by running the regression analysis with all variables present. We use the AIC score to check how well the data fits the regression model. The larger the difference in AIC from when one variable is removed compared to when all variables are present the larger the influence that variable has on predicting visual utility. </font>"
   ]
  },
  {
   "cell_type": "code",
   "execution_count": 107,
   "metadata": {
    "colab": {
     "base_uri": "https://localhost:8080/",
     "height": 424
    },
    "executionInfo": {
     "elapsed": 982,
     "status": "ok",
     "timestamp": 1663009167731,
     "user": {
      "displayName": "Jane Adams",
      "userId": "13745127763993145309"
     },
     "user_tz": 240
    },
    "id": "6AlSbCjgvYi5",
    "outputId": "19f223ca-4686-4015-821d-b1801fae52ec"
   },
   "outputs": [
    {
     "data": {
      "text/html": [
       "<div>\n",
       "<style scoped>\n",
       "    .dataframe tbody tr th:only-of-type {\n",
       "        vertical-align: middle;\n",
       "    }\n",
       "\n",
       "    .dataframe tbody tr th {\n",
       "        vertical-align: top;\n",
       "    }\n",
       "\n",
       "    .dataframe thead th {\n",
       "        text-align: right;\n",
       "    }\n",
       "</style>\n",
       "<table border=\"1\" class=\"dataframe\">\n",
       "  <thead>\n",
       "    <tr style=\"text-align: right;\">\n",
       "      <th></th>\n",
       "      <th>median</th>\n",
       "      <th>mean</th>\n",
       "      <th>ratings</th>\n",
       "      <th>chart</th>\n",
       "      <th>algorithm</th>\n",
       "      <th>task</th>\n",
       "      <th>epsilon</th>\n",
       "      <th>bins</th>\n",
       "    </tr>\n",
       "  </thead>\n",
       "  <tbody>\n",
       "    <tr>\n",
       "      <th>18_AGrid_clusters_0.01_32</th>\n",
       "      <td>0</td>\n",
       "      <td>0</td>\n",
       "      <td>[0, 0, 0]</td>\n",
       "      <td>18</td>\n",
       "      <td>AGrid</td>\n",
       "      <td>clusters</td>\n",
       "      <td>0.01</td>\n",
       "      <td>32</td>\n",
       "    </tr>\n",
       "    <tr>\n",
       "      <th>16_AGrid_clusters_0.01_32</th>\n",
       "      <td>0</td>\n",
       "      <td>0</td>\n",
       "      <td>[0, 0, 0]</td>\n",
       "      <td>16</td>\n",
       "      <td>AGrid</td>\n",
       "      <td>clusters</td>\n",
       "      <td>0.01</td>\n",
       "      <td>32</td>\n",
       "    </tr>\n",
       "    <tr>\n",
       "      <th>2_AGrid_clusters_0.01_32</th>\n",
       "      <td>0</td>\n",
       "      <td>0</td>\n",
       "      <td>[0, 0, 0]</td>\n",
       "      <td>2</td>\n",
       "      <td>AGrid</td>\n",
       "      <td>clusters</td>\n",
       "      <td>0.01</td>\n",
       "      <td>32</td>\n",
       "    </tr>\n",
       "    <tr>\n",
       "      <th>7_AGrid_correlation_0.01_32</th>\n",
       "      <td>0</td>\n",
       "      <td>0</td>\n",
       "      <td>[0, 0, 0]</td>\n",
       "      <td>7</td>\n",
       "      <td>AGrid</td>\n",
       "      <td>correlation</td>\n",
       "      <td>0.01</td>\n",
       "      <td>32</td>\n",
       "    </tr>\n",
       "    <tr>\n",
       "      <th>0_AGrid_correlation_0.01_32</th>\n",
       "      <td>0</td>\n",
       "      <td>0</td>\n",
       "      <td>[0, 0, 0]</td>\n",
       "      <td>0</td>\n",
       "      <td>AGrid</td>\n",
       "      <td>correlation</td>\n",
       "      <td>0.01</td>\n",
       "      <td>32</td>\n",
       "    </tr>\n",
       "    <tr>\n",
       "      <th>...</th>\n",
       "      <td>...</td>\n",
       "      <td>...</td>\n",
       "      <td>...</td>\n",
       "      <td>...</td>\n",
       "      <td>...</td>\n",
       "      <td>...</td>\n",
       "      <td>...</td>\n",
       "      <td>...</td>\n",
       "    </tr>\n",
       "    <tr>\n",
       "      <th>1_AHP_distribution_0.5_64</th>\n",
       "      <td>3</td>\n",
       "      <td>2</td>\n",
       "      <td>[3, 3, 2]</td>\n",
       "      <td>1</td>\n",
       "      <td>AHP</td>\n",
       "      <td>distribution</td>\n",
       "      <td>0.5</td>\n",
       "      <td>64</td>\n",
       "    </tr>\n",
       "    <tr>\n",
       "      <th>11_Laplace_distribution_0.1_64</th>\n",
       "      <td>1</td>\n",
       "      <td>0</td>\n",
       "      <td>[0, 1, 1]</td>\n",
       "      <td>11</td>\n",
       "      <td>Laplace</td>\n",
       "      <td>distribution</td>\n",
       "      <td>0.1</td>\n",
       "      <td>64</td>\n",
       "    </tr>\n",
       "    <tr>\n",
       "      <th>17_AHP_distribution_0.05_32</th>\n",
       "      <td>0</td>\n",
       "      <td>0</td>\n",
       "      <td>[0, 0, 0]</td>\n",
       "      <td>17</td>\n",
       "      <td>AHP</td>\n",
       "      <td>distribution</td>\n",
       "      <td>0.05</td>\n",
       "      <td>32</td>\n",
       "    </tr>\n",
       "    <tr>\n",
       "      <th>1_Laplace_distribution_0.1_32</th>\n",
       "      <td>1</td>\n",
       "      <td>1</td>\n",
       "      <td>[1, 1, 1]</td>\n",
       "      <td>1</td>\n",
       "      <td>Laplace</td>\n",
       "      <td>distribution</td>\n",
       "      <td>0.1</td>\n",
       "      <td>32</td>\n",
       "    </tr>\n",
       "    <tr>\n",
       "      <th>1_AGrid_distribution_0.05_64</th>\n",
       "      <td>1</td>\n",
       "      <td>1</td>\n",
       "      <td>[1, 1, 1]</td>\n",
       "      <td>1</td>\n",
       "      <td>AGrid</td>\n",
       "      <td>distribution</td>\n",
       "      <td>0.05</td>\n",
       "      <td>64</td>\n",
       "    </tr>\n",
       "  </tbody>\n",
       "</table>\n",
       "<p>1200 rows × 8 columns</p>\n",
       "</div>"
      ],
      "text/plain": [
       "                                median  mean    ratings chart algorithm  \\\n",
       "18_AGrid_clusters_0.01_32            0     0  [0, 0, 0]    18     AGrid   \n",
       "16_AGrid_clusters_0.01_32            0     0  [0, 0, 0]    16     AGrid   \n",
       "2_AGrid_clusters_0.01_32             0     0  [0, 0, 0]     2     AGrid   \n",
       "7_AGrid_correlation_0.01_32          0     0  [0, 0, 0]     7     AGrid   \n",
       "0_AGrid_correlation_0.01_32          0     0  [0, 0, 0]     0     AGrid   \n",
       "...                                ...   ...        ...   ...       ...   \n",
       "1_AHP_distribution_0.5_64            3     2  [3, 3, 2]     1       AHP   \n",
       "11_Laplace_distribution_0.1_64       1     0  [0, 1, 1]    11   Laplace   \n",
       "17_AHP_distribution_0.05_32          0     0  [0, 0, 0]    17       AHP   \n",
       "1_Laplace_distribution_0.1_32        1     1  [1, 1, 1]     1   Laplace   \n",
       "1_AGrid_distribution_0.05_64         1     1  [1, 1, 1]     1     AGrid   \n",
       "\n",
       "                                        task epsilon bins  \n",
       "18_AGrid_clusters_0.01_32           clusters    0.01   32  \n",
       "16_AGrid_clusters_0.01_32           clusters    0.01   32  \n",
       "2_AGrid_clusters_0.01_32            clusters    0.01   32  \n",
       "7_AGrid_correlation_0.01_32      correlation    0.01   32  \n",
       "0_AGrid_correlation_0.01_32      correlation    0.01   32  \n",
       "...                                      ...     ...  ...  \n",
       "1_AHP_distribution_0.5_64       distribution     0.5   64  \n",
       "11_Laplace_distribution_0.1_64  distribution     0.1   64  \n",
       "17_AHP_distribution_0.05_32     distribution    0.05   32  \n",
       "1_Laplace_distribution_0.1_32   distribution     0.1   32  \n",
       "1_AGrid_distribution_0.05_64    distribution    0.05   64  \n",
       "\n",
       "[1200 rows x 8 columns]"
      ]
     },
     "execution_count": 107,
     "metadata": {},
     "output_type": "execute_result"
    }
   ],
   "source": [
    "       \n",
    "directory = './finalResults'\n",
    "# directory = ['/finalResults/user0.json', './finalResults/user1.json', './finalResults/user2.json']\n",
    " \n",
    "# iterate over files in\n",
    "# that directory\n",
    "answerDict = {}\n",
    "\n",
    "for filename in os.listdir(directory):\n",
    "    f = os.path.join(directory, filename)\n",
    "    # checking if it is a file\n",
    "    if os.path.isfile(f):\n",
    "      # print(f)\n",
    "        file=open(f)\n",
    "        data=json.load(file)\n",
    "        for d in data['answers']:\n",
    "          if d[0] in answerDict:\n",
    "            answerDict[d[0]].append(d[1])\n",
    "          else:\n",
    "            answerDict[d[0]] = [d[1]]\n",
    "\n",
    "        \n",
    "df = pd.DataFrame.from_dict(answerDict).T\n",
    "df.rename(columns={0:'Rater_0',1:'Rater_1',2:'Rater_2'}, inplace=True)\n",
    "df['median'] = df.apply(lambda x: statistics.median([x['Rater_0'],x['Rater_1'],x['Rater_2']]), axis=1)\n",
    "df['mean']=df.apply(lambda x: statistics.mean([x['Rater_0'],x['Rater_1'],x['Rater_2']]), axis=1)\n",
    "df['ratings']= df.apply(lambda x: [x['Rater_0'],x['Rater_1'],x['Rater_2']], axis=1)\n",
    "df.drop(columns=['Rater_0','Rater_1','Rater_2'], inplace=True)\n",
    "df[['chart','algorithm','task','epsilon','bins']]=[ l.split('_') for l in df.index ]\n",
    "df['chart'] = df['chart'].astype('string')\n",
    "df"
   ]
  },
  {
   "cell_type": "code",
   "execution_count": 108,
   "metadata": {
    "executionInfo": {
     "elapsed": 3,
     "status": "ok",
     "timestamp": 1663009168715,
     "user": {
      "displayName": "Jane Adams",
      "userId": "13745127763993145309"
     },
     "user_tz": 240
    },
    "id": "7I-ryZp7w2Hi"
   },
   "outputs": [],
   "source": [
    "from pandas.api.types import CategoricalDtype\n",
    "cat_type = CategoricalDtype(categories=[0, 1, 2, 3], ordered=True)\n",
    "df = df.drop(columns=['mean', 'ratings'])\n",
    "df[\"median\"] = df[\"median\"].astype(cat_type)\n",
    "median = df['median']\n",
    "df['epsilon'] = df['epsilon'].astype(float)\n",
    "df['bins'] = df['bins'].astype(float)\n",
    "df = pd.get_dummies(df, columns=['chart'], drop_first = True)\n",
    "df = pd.get_dummies(df, columns=['task'], drop_first = True)\n",
    "\n",
    "df = pd.get_dummies(df, columns=['algorithm'], drop_first = True)"
   ]
  },
  {
   "cell_type": "code",
   "execution_count": 109,
   "metadata": {
    "colab": {
     "base_uri": "https://localhost:8080/",
     "height": 964
    },
    "executionInfo": {
     "elapsed": 19418,
     "status": "ok",
     "timestamp": 1663009189072,
     "user": {
      "displayName": "Jane Adams",
      "userId": "13745127763993145309"
     },
     "user_tz": 240
    },
    "id": "0tv25MFtxV3z",
    "outputId": "2d37f9a2-b1a7-432d-8f41-94978e7e1d3e"
   },
   "outputs": [
    {
     "name": "stdout",
     "output_type": "stream",
     "text": [
      "Optimization terminated successfully.\n",
      "         Current function value: 0.728390\n",
      "         Iterations: 97\n",
      "         Function evaluations: 102\n",
      "         Gradient evaluations: 102\n"
     ]
    },
    {
     "data": {
      "text/html": [
       "<table class=\"simpletable\">\n",
       "<caption>OrderedModel Results</caption>\n",
       "<tr>\n",
       "  <th>Dep. Variable:</th>          <td>median</td>       <th>  Log-Likelihood:    </th> <td> -874.07</td>\n",
       "</tr>\n",
       "<tr>\n",
       "  <th>Model:</th>               <td>OrderedModel</td>    <th>  AIC:               </th> <td>   1808.</td>\n",
       "</tr>\n",
       "<tr>\n",
       "  <th>Method:</th>           <td>Maximum Likelihood</td> <th>  BIC:               </th> <td>   1961.</td>\n",
       "</tr>\n",
       "<tr>\n",
       "  <th>Date:</th>              <td>Tue, 20 Sep 2022</td>  <th>                     </th>     <td> </td>   \n",
       "</tr>\n",
       "<tr>\n",
       "  <th>Time:</th>                  <td>12:22:50</td>      <th>                     </th>     <td> </td>   \n",
       "</tr>\n",
       "<tr>\n",
       "  <th>No. Observations:</th>       <td>  1200</td>       <th>                     </th>     <td> </td>   \n",
       "</tr>\n",
       "<tr>\n",
       "  <th>Df Residuals:</th>           <td>  1170</td>       <th>                     </th>     <td> </td>   \n",
       "</tr>\n",
       "<tr>\n",
       "  <th>Df Model:</th>               <td>    30</td>       <th>                     </th>     <td> </td>   \n",
       "</tr>\n",
       "</table>\n",
       "<table class=\"simpletable\">\n",
       "<tr>\n",
       "           <td></td>              <th>coef</th>     <th>std err</th>      <th>z</th>      <th>P>|z|</th>  <th>[0.025</th>    <th>0.975]</th>  \n",
       "</tr>\n",
       "<tr>\n",
       "  <th>epsilon</th>             <td>    8.1438</td> <td>    0.301</td> <td>   27.088</td> <td> 0.000</td> <td>    7.555</td> <td>    8.733</td>\n",
       "</tr>\n",
       "<tr>\n",
       "  <th>bins</th>                <td>   -0.0226</td> <td>    0.002</td> <td>   -9.521</td> <td> 0.000</td> <td>   -0.027</td> <td>   -0.018</td>\n",
       "</tr>\n",
       "<tr>\n",
       "  <th>chart_1</th>             <td>   -0.1840</td> <td>    0.237</td> <td>   -0.777</td> <td> 0.437</td> <td>   -0.648</td> <td>    0.280</td>\n",
       "</tr>\n",
       "<tr>\n",
       "  <th>chart_10</th>            <td>   -1.1289</td> <td>    0.214</td> <td>   -5.267</td> <td> 0.000</td> <td>   -1.549</td> <td>   -0.709</td>\n",
       "</tr>\n",
       "<tr>\n",
       "  <th>chart_11</th>            <td>   -0.4293</td> <td>    0.189</td> <td>   -2.275</td> <td> 0.023</td> <td>   -0.799</td> <td>   -0.059</td>\n",
       "</tr>\n",
       "<tr>\n",
       "  <th>chart_12</th>            <td>   -0.7592</td> <td>    0.243</td> <td>   -3.126</td> <td> 0.002</td> <td>   -1.235</td> <td>   -0.283</td>\n",
       "</tr>\n",
       "<tr>\n",
       "  <th>chart_13</th>            <td>   -0.5885</td> <td>    0.191</td> <td>   -3.076</td> <td> 0.002</td> <td>   -0.963</td> <td>   -0.213</td>\n",
       "</tr>\n",
       "<tr>\n",
       "  <th>chart_14</th>            <td>   -1.2676</td> <td>    0.250</td> <td>   -5.074</td> <td> 0.000</td> <td>   -1.757</td> <td>   -0.778</td>\n",
       "</tr>\n",
       "<tr>\n",
       "  <th>chart_15</th>            <td>   -0.6504</td> <td>    0.243</td> <td>   -2.682</td> <td> 0.007</td> <td>   -1.126</td> <td>   -0.175</td>\n",
       "</tr>\n",
       "<tr>\n",
       "  <th>chart_16</th>            <td>   -0.7811</td> <td>    0.209</td> <td>   -3.732</td> <td> 0.000</td> <td>   -1.191</td> <td>   -0.371</td>\n",
       "</tr>\n",
       "<tr>\n",
       "  <th>chart_17</th>            <td>   -2.4212</td> <td>    0.315</td> <td>   -7.677</td> <td> 0.000</td> <td>   -3.039</td> <td>   -1.803</td>\n",
       "</tr>\n",
       "<tr>\n",
       "  <th>chart_18</th>            <td>   -0.4120</td> <td>    0.273</td> <td>   -1.507</td> <td> 0.132</td> <td>   -0.948</td> <td>    0.124</td>\n",
       "</tr>\n",
       "<tr>\n",
       "  <th>chart_19</th>            <td>   -1.4172</td> <td>    0.262</td> <td>   -5.404</td> <td> 0.000</td> <td>   -1.931</td> <td>   -0.903</td>\n",
       "</tr>\n",
       "<tr>\n",
       "  <th>chart_2</th>             <td>   -0.1934</td> <td>    0.179</td> <td>   -1.080</td> <td> 0.280</td> <td>   -0.544</td> <td>    0.158</td>\n",
       "</tr>\n",
       "<tr>\n",
       "  <th>chart_3</th>             <td>   -1.4530</td> <td>    0.259</td> <td>   -5.609</td> <td> 0.000</td> <td>   -1.961</td> <td>   -0.945</td>\n",
       "</tr>\n",
       "<tr>\n",
       "  <th>chart_4</th>             <td>    0.4095</td> <td>    0.208</td> <td>    1.972</td> <td> 0.049</td> <td>    0.002</td> <td>    0.816</td>\n",
       "</tr>\n",
       "<tr>\n",
       "  <th>chart_5</th>             <td>   -1.4451</td> <td>    0.255</td> <td>   -5.672</td> <td> 0.000</td> <td>   -1.944</td> <td>   -0.946</td>\n",
       "</tr>\n",
       "<tr>\n",
       "  <th>chart_6</th>             <td>   -0.8497</td> <td>    0.193</td> <td>   -4.392</td> <td> 0.000</td> <td>   -1.229</td> <td>   -0.470</td>\n",
       "</tr>\n",
       "<tr>\n",
       "  <th>chart_7</th>             <td>   -2.2043</td> <td>    0.228</td> <td>   -9.670</td> <td> 0.000</td> <td>   -2.651</td> <td>   -1.758</td>\n",
       "</tr>\n",
       "<tr>\n",
       "  <th>chart_8</th>             <td>   -1.4966</td> <td>    0.263</td> <td>   -5.701</td> <td> 0.000</td> <td>   -2.011</td> <td>   -0.982</td>\n",
       "</tr>\n",
       "<tr>\n",
       "  <th>chart_9</th>             <td>   -1.5149</td> <td>    0.267</td> <td>   -5.664</td> <td> 0.000</td> <td>   -2.039</td> <td>   -0.991</td>\n",
       "</tr>\n",
       "<tr>\n",
       "  <th>task_correlation</th>    <td>   -0.0259</td> <td>    0.163</td> <td>   -0.159</td> <td> 0.873</td> <td>   -0.345</td> <td>    0.293</td>\n",
       "</tr>\n",
       "<tr>\n",
       "  <th>task_distribution</th>   <td>   -0.2662</td> <td>    0.134</td> <td>   -1.989</td> <td> 0.047</td> <td>   -0.529</td> <td>   -0.004</td>\n",
       "</tr>\n",
       "<tr>\n",
       "  <th>algorithm_AHP</th>       <td>    0.3399</td> <td>    0.118</td> <td>    2.883</td> <td> 0.004</td> <td>    0.109</td> <td>    0.571</td>\n",
       "</tr>\n",
       "<tr>\n",
       "  <th>algorithm_DAWA</th>      <td>    0.7365</td> <td>    0.115</td> <td>    6.396</td> <td> 0.000</td> <td>    0.511</td> <td>    0.962</td>\n",
       "</tr>\n",
       "<tr>\n",
       "  <th>algorithm_Geometric</th> <td>    0.6414</td> <td>    0.117</td> <td>    5.478</td> <td> 0.000</td> <td>    0.412</td> <td>    0.871</td>\n",
       "</tr>\n",
       "<tr>\n",
       "  <th>algorithm_Laplace</th>   <td>   -0.0241</td> <td>    0.118</td> <td>   -0.205</td> <td> 0.838</td> <td>   -0.255</td> <td>    0.207</td>\n",
       "</tr>\n",
       "<tr>\n",
       "  <th>0/1</th>                 <td>   -1.0362</td> <td>    0.238</td> <td>   -4.347</td> <td> 0.000</td> <td>   -1.503</td> <td>   -0.569</td>\n",
       "</tr>\n",
       "<tr>\n",
       "  <th>1/2</th>                 <td>    0.3839</td> <td>    0.050</td> <td>    7.689</td> <td> 0.000</td> <td>    0.286</td> <td>    0.482</td>\n",
       "</tr>\n",
       "<tr>\n",
       "  <th>2/3</th>                 <td>    0.5822</td> <td>    0.064</td> <td>    9.136</td> <td> 0.000</td> <td>    0.457</td> <td>    0.707</td>\n",
       "</tr>\n",
       "</table>"
      ],
      "text/plain": [
       "<class 'statsmodels.iolib.summary.Summary'>\n",
       "\"\"\"\n",
       "                             OrderedModel Results                             \n",
       "==============================================================================\n",
       "Dep. Variable:                 median   Log-Likelihood:                -874.07\n",
       "Model:                   OrderedModel   AIC:                             1808.\n",
       "Method:            Maximum Likelihood   BIC:                             1961.\n",
       "Date:                Tue, 20 Sep 2022                                         \n",
       "Time:                        12:22:50                                         \n",
       "No. Observations:                1200                                         \n",
       "Df Residuals:                    1170                                         \n",
       "Df Model:                          30                                         \n",
       "=======================================================================================\n",
       "                          coef    std err          z      P>|z|      [0.025      0.975]\n",
       "---------------------------------------------------------------------------------------\n",
       "epsilon                 8.1438      0.301     27.088      0.000       7.555       8.733\n",
       "bins                   -0.0226      0.002     -9.521      0.000      -0.027      -0.018\n",
       "chart_1                -0.1840      0.237     -0.777      0.437      -0.648       0.280\n",
       "chart_10               -1.1289      0.214     -5.267      0.000      -1.549      -0.709\n",
       "chart_11               -0.4293      0.189     -2.275      0.023      -0.799      -0.059\n",
       "chart_12               -0.7592      0.243     -3.126      0.002      -1.235      -0.283\n",
       "chart_13               -0.5885      0.191     -3.076      0.002      -0.963      -0.213\n",
       "chart_14               -1.2676      0.250     -5.074      0.000      -1.757      -0.778\n",
       "chart_15               -0.6504      0.243     -2.682      0.007      -1.126      -0.175\n",
       "chart_16               -0.7811      0.209     -3.732      0.000      -1.191      -0.371\n",
       "chart_17               -2.4212      0.315     -7.677      0.000      -3.039      -1.803\n",
       "chart_18               -0.4120      0.273     -1.507      0.132      -0.948       0.124\n",
       "chart_19               -1.4172      0.262     -5.404      0.000      -1.931      -0.903\n",
       "chart_2                -0.1934      0.179     -1.080      0.280      -0.544       0.158\n",
       "chart_3                -1.4530      0.259     -5.609      0.000      -1.961      -0.945\n",
       "chart_4                 0.4095      0.208      1.972      0.049       0.002       0.816\n",
       "chart_5                -1.4451      0.255     -5.672      0.000      -1.944      -0.946\n",
       "chart_6                -0.8497      0.193     -4.392      0.000      -1.229      -0.470\n",
       "chart_7                -2.2043      0.228     -9.670      0.000      -2.651      -1.758\n",
       "chart_8                -1.4966      0.263     -5.701      0.000      -2.011      -0.982\n",
       "chart_9                -1.5149      0.267     -5.664      0.000      -2.039      -0.991\n",
       "task_correlation       -0.0259      0.163     -0.159      0.873      -0.345       0.293\n",
       "task_distribution      -0.2662      0.134     -1.989      0.047      -0.529      -0.004\n",
       "algorithm_AHP           0.3399      0.118      2.883      0.004       0.109       0.571\n",
       "algorithm_DAWA          0.7365      0.115      6.396      0.000       0.511       0.962\n",
       "algorithm_Geometric     0.6414      0.117      5.478      0.000       0.412       0.871\n",
       "algorithm_Laplace      -0.0241      0.118     -0.205      0.838      -0.255       0.207\n",
       "0/1                    -1.0362      0.238     -4.347      0.000      -1.503      -0.569\n",
       "1/2                     0.3839      0.050      7.689      0.000       0.286       0.482\n",
       "2/3                     0.5822      0.064      9.136      0.000       0.457       0.707\n",
       "=======================================================================================\n",
       "\"\"\""
      ]
     },
     "execution_count": 109,
     "metadata": {},
     "output_type": "execute_result"
    }
   ],
   "source": [
    "from statsmodels.miscmodels.ordinal_model import OrderedModel\n",
    "a = df.columns.values.tolist()\n",
    "a.remove('median')\n",
    "mod_prob = OrderedModel(df['median'],\n",
    "                        df[a],\n",
    "                        distr='probit')\n",
    "res_prob = mod_prob.fit(method='bfgs')\n",
    "res_prob.summary()\n",
    "# dfSummary = pd.read_html(res_prob.summary().tables[0].as_html(),header=0,index_col=0)[0]\n",
    "# dfSummary"
   ]
  },
  {
   "cell_type": "code",
   "execution_count": 110,
   "metadata": {
    "colab": {
     "base_uri": "https://localhost:8080/"
    },
    "executionInfo": {
     "elapsed": 10614,
     "status": "ok",
     "timestamp": 1663009199683,
     "user": {
      "displayName": "Jane Adams",
      "userId": "13745127763993145309"
     },
     "user_tz": 240
    },
    "id": "3suM9BwaKEPF",
    "outputId": "79f51fe3-79e5-4a03-ea6d-9784d5f3259e"
   },
   "outputs": [
    {
     "name": "stdout",
     "output_type": "stream",
     "text": [
      "Optimization terminated successfully.\n",
      "         Current function value: 0.728390\n",
      "         Iterations: 97\n",
      "         Function evaluations: 102\n",
      "         Gradient evaluations: 102\n"
     ]
    },
    {
     "data": {
      "text/plain": [
       "1808.1368863886473"
      ]
     },
     "execution_count": 110,
     "metadata": {},
     "output_type": "execute_result"
    }
   ],
   "source": [
    "a = df.columns.values.tolist()\n",
    "a.remove('median')\n",
    "mod_prob = OrderedModel(df['median'],\n",
    "                        df[a],\n",
    "                        distr='probit', hasconst=False)\n",
    "res_prob = mod_prob.fit(method='bfgs')\n",
    "res_prob.aic\n"
   ]
  },
  {
   "cell_type": "code",
   "execution_count": 105,
   "metadata": {
    "colab": {
     "base_uri": "https://localhost:8080/",
     "height": 1000
    },
    "executionInfo": {
     "elapsed": 231706,
     "status": "ok",
     "timestamp": 1663009431386,
     "user": {
      "displayName": "Jane Adams",
      "userId": "13745127763993145309"
     },
     "user_tz": 240
    },
    "id": "F7copXo-TCKa",
    "outputId": "4192873e-d23b-4cea-c556-01f46e724651"
   },
   "outputs": [
    {
     "name": "stdout",
     "output_type": "stream",
     "text": [
      "Optimization terminated successfully.\n",
      "         Current function value: 1.224157\n",
      "         Iterations: 79\n",
      "         Function evaluations: 83\n",
      "         Gradient evaluations: 83\n",
      "Optimization terminated successfully.\n",
      "         Current function value: 0.767274\n",
      "         Iterations: 79\n",
      "         Function evaluations: 81\n",
      "         Gradient evaluations: 81\n",
      "Optimization terminated successfully.\n",
      "         Current function value: 0.728642\n",
      "         Iterations: 97\n",
      "         Function evaluations: 102\n",
      "         Gradient evaluations: 102\n",
      "Optimization terminated successfully.\n",
      "         Current function value: 0.740202\n",
      "         Iterations: 90\n",
      "         Function evaluations: 95\n",
      "         Gradient evaluations: 95\n",
      "Optimization terminated successfully.\n",
      "         Current function value: 0.730553\n",
      "         Iterations: 90\n",
      "         Function evaluations: 95\n",
      "         Gradient evaluations: 95\n",
      "Optimization terminated successfully.\n",
      "         Current function value: 0.732503\n",
      "         Iterations: 90\n",
      "         Function evaluations: 95\n",
      "         Gradient evaluations: 95\n",
      "Optimization terminated successfully.\n",
      "         Current function value: 0.732354\n",
      "         Iterations: 90\n",
      "         Function evaluations: 95\n",
      "         Gradient evaluations: 95\n",
      "Optimization terminated successfully.\n",
      "         Current function value: 0.739460\n",
      "         Iterations: 90\n",
      "         Function evaluations: 95\n",
      "         Gradient evaluations: 95\n",
      "Optimization terminated successfully.\n",
      "         Current function value: 0.731418\n",
      "         Iterations: 90\n",
      "         Function evaluations: 95\n",
      "         Gradient evaluations: 95\n",
      "Optimization terminated successfully.\n",
      "         Current function value: 0.734246\n",
      "         Iterations: 90\n",
      "         Function evaluations: 95\n",
      "         Gradient evaluations: 95\n",
      "Optimization terminated successfully.\n",
      "         Current function value: 0.758374\n",
      "         Iterations: 89\n",
      "         Function evaluations: 94\n",
      "         Gradient evaluations: 94\n",
      "Optimization terminated successfully.\n",
      "         Current function value: 0.729338\n",
      "         Iterations: 89\n",
      "         Function evaluations: 94\n",
      "         Gradient evaluations: 94\n",
      "Optimization terminated successfully.\n",
      "         Current function value: 0.741291\n",
      "         Iterations: 90\n",
      "         Function evaluations: 95\n",
      "         Gradient evaluations: 95\n",
      "Optimization terminated successfully.\n",
      "         Current function value: 0.728877\n",
      "         Iterations: 91\n",
      "         Function evaluations: 96\n",
      "         Gradient evaluations: 96\n",
      "Optimization terminated successfully.\n",
      "         Current function value: 0.742301\n",
      "         Iterations: 90\n",
      "         Function evaluations: 95\n",
      "         Gradient evaluations: 95\n",
      "Optimization terminated successfully.\n",
      "         Current function value: 0.730013\n",
      "         Iterations: 84\n",
      "         Function evaluations: 89\n",
      "         Gradient evaluations: 89\n",
      "Optimization terminated successfully.\n",
      "         Current function value: 0.742452\n",
      "         Iterations: 90\n",
      "         Function evaluations: 95\n",
      "         Gradient evaluations: 95\n",
      "Optimization terminated successfully.\n",
      "         Current function value: 0.736536\n",
      "         Iterations: 90\n",
      "         Function evaluations: 95\n",
      "         Gradient evaluations: 95\n",
      "Optimization terminated successfully.\n",
      "         Current function value: 0.772411\n",
      "         Iterations: 77\n",
      "         Function evaluations: 82\n",
      "         Gradient evaluations: 82\n",
      "Optimization terminated successfully.\n",
      "         Current function value: 0.742861\n",
      "         Iterations: 90\n",
      "         Function evaluations: 95\n",
      "         Gradient evaluations: 95\n",
      "Optimization terminated successfully.\n",
      "         Current function value: 0.742745\n",
      "         Iterations: 90\n",
      "         Function evaluations: 95\n",
      "         Gradient evaluations: 95\n",
      "Optimization terminated successfully.\n",
      "         Current function value: 0.728401\n",
      "         Iterations: 87\n",
      "         Function evaluations: 92\n",
      "         Gradient evaluations: 92\n",
      "Optimization terminated successfully.\n",
      "         Current function value: 0.730040\n",
      "         Iterations: 93\n",
      "         Function evaluations: 98\n",
      "         Gradient evaluations: 98\n",
      "Optimization terminated successfully.\n",
      "         Current function value: 0.731861\n",
      "         Iterations: 93\n",
      "         Function evaluations: 98\n",
      "         Gradient evaluations: 98\n",
      "Optimization terminated successfully.\n",
      "         Current function value: 0.745729\n",
      "         Iterations: 86\n",
      "         Function evaluations: 91\n",
      "         Gradient evaluations: 91\n",
      "Optimization terminated successfully.\n",
      "         Current function value: 0.741037\n",
      "         Iterations: 86\n",
      "         Function evaluations: 91\n",
      "         Gradient evaluations: 91\n",
      "Optimization terminated successfully.\n",
      "         Current function value: 0.728408\n",
      "         Iterations: 93\n",
      "         Function evaluations: 98\n",
      "         Gradient evaluations: 98\n"
     ]
    },
    {
     "data": {
      "text/html": [
       "<div>\n",
       "<style scoped>\n",
       "    .dataframe tbody tr th:only-of-type {\n",
       "        vertical-align: middle;\n",
       "    }\n",
       "\n",
       "    .dataframe tbody tr th {\n",
       "        vertical-align: top;\n",
       "    }\n",
       "\n",
       "    .dataframe thead th {\n",
       "        text-align: right;\n",
       "    }\n",
       "</style>\n",
       "<table border=\"1\" class=\"dataframe\">\n",
       "  <thead>\n",
       "    <tr style=\"text-align: right;\">\n",
       "      <th></th>\n",
       "      <th>Variable</th>\n",
       "      <th>AIC</th>\n",
       "    </tr>\n",
       "  </thead>\n",
       "  <tbody>\n",
       "    <tr>\n",
       "      <th>0</th>\n",
       "      <td>epsilon</td>\n",
       "      <td>2995.97615</td>\n",
       "    </tr>\n",
       "    <tr>\n",
       "      <th>1</th>\n",
       "      <td>bins</td>\n",
       "      <td>1899.45642</td>\n",
       "    </tr>\n",
       "    <tr>\n",
       "      <th>2</th>\n",
       "      <td>chart_1</td>\n",
       "      <td>1806.74145</td>\n",
       "    </tr>\n",
       "    <tr>\n",
       "      <th>3</th>\n",
       "      <td>chart_10</td>\n",
       "      <td>1834.48532</td>\n",
       "    </tr>\n",
       "    <tr>\n",
       "      <th>4</th>\n",
       "      <td>chart_11</td>\n",
       "      <td>1811.32798</td>\n",
       "    </tr>\n",
       "    <tr>\n",
       "      <th>5</th>\n",
       "      <td>chart_12</td>\n",
       "      <td>1816.00637</td>\n",
       "    </tr>\n",
       "    <tr>\n",
       "      <th>6</th>\n",
       "      <td>chart_13</td>\n",
       "      <td>1815.64850</td>\n",
       "    </tr>\n",
       "    <tr>\n",
       "      <th>7</th>\n",
       "      <td>chart_14</td>\n",
       "      <td>1832.70371</td>\n",
       "    </tr>\n",
       "    <tr>\n",
       "      <th>8</th>\n",
       "      <td>chart_15</td>\n",
       "      <td>1813.40214</td>\n",
       "    </tr>\n",
       "    <tr>\n",
       "      <th>9</th>\n",
       "      <td>chart_16</td>\n",
       "      <td>1820.19015</td>\n",
       "    </tr>\n",
       "    <tr>\n",
       "      <th>10</th>\n",
       "      <td>chart_17</td>\n",
       "      <td>1878.09787</td>\n",
       "    </tr>\n",
       "    <tr>\n",
       "      <th>11</th>\n",
       "      <td>chart_18</td>\n",
       "      <td>1808.41067</td>\n",
       "    </tr>\n",
       "    <tr>\n",
       "      <th>12</th>\n",
       "      <td>chart_19</td>\n",
       "      <td>1837.09880</td>\n",
       "    </tr>\n",
       "    <tr>\n",
       "      <th>13</th>\n",
       "      <td>chart_2</td>\n",
       "      <td>1807.30431</td>\n",
       "    </tr>\n",
       "    <tr>\n",
       "      <th>14</th>\n",
       "      <td>chart_3</td>\n",
       "      <td>1839.52177</td>\n",
       "    </tr>\n",
       "    <tr>\n",
       "      <th>15</th>\n",
       "      <td>chart_4</td>\n",
       "      <td>1810.03220</td>\n",
       "    </tr>\n",
       "    <tr>\n",
       "      <th>16</th>\n",
       "      <td>chart_5</td>\n",
       "      <td>1839.88547</td>\n",
       "    </tr>\n",
       "    <tr>\n",
       "      <th>17</th>\n",
       "      <td>chart_6</td>\n",
       "      <td>1825.68642</td>\n",
       "    </tr>\n",
       "    <tr>\n",
       "      <th>18</th>\n",
       "      <td>chart_7</td>\n",
       "      <td>1911.78752</td>\n",
       "    </tr>\n",
       "    <tr>\n",
       "      <th>19</th>\n",
       "      <td>chart_8</td>\n",
       "      <td>1840.86725</td>\n",
       "    </tr>\n",
       "    <tr>\n",
       "      <th>20</th>\n",
       "      <td>chart_9</td>\n",
       "      <td>1840.58729</td>\n",
       "    </tr>\n",
       "    <tr>\n",
       "      <th>21</th>\n",
       "      <td>task_correlation</td>\n",
       "      <td>1806.16231</td>\n",
       "    </tr>\n",
       "    <tr>\n",
       "      <th>22</th>\n",
       "      <td>task_distribution</td>\n",
       "      <td>1810.09703</td>\n",
       "    </tr>\n",
       "    <tr>\n",
       "      <th>23</th>\n",
       "      <td>algorithm_AHP</td>\n",
       "      <td>1814.46751</td>\n",
       "    </tr>\n",
       "    <tr>\n",
       "      <th>24</th>\n",
       "      <td>algorithm_DAWA</td>\n",
       "      <td>1847.74998</td>\n",
       "    </tr>\n",
       "    <tr>\n",
       "      <th>25</th>\n",
       "      <td>algorithm_Geometric</td>\n",
       "      <td>1836.48786</td>\n",
       "    </tr>\n",
       "    <tr>\n",
       "      <th>26</th>\n",
       "      <td>algorithm_Laplace</td>\n",
       "      <td>1806.17884</td>\n",
       "    </tr>\n",
       "  </tbody>\n",
       "</table>\n",
       "</div>"
      ],
      "text/plain": [
       "               Variable        AIC\n",
       "0               epsilon 2995.97615\n",
       "1                  bins 1899.45642\n",
       "2               chart_1 1806.74145\n",
       "3              chart_10 1834.48532\n",
       "4              chart_11 1811.32798\n",
       "5              chart_12 1816.00637\n",
       "6              chart_13 1815.64850\n",
       "7              chart_14 1832.70371\n",
       "8              chart_15 1813.40214\n",
       "9              chart_16 1820.19015\n",
       "10             chart_17 1878.09787\n",
       "11             chart_18 1808.41067\n",
       "12             chart_19 1837.09880\n",
       "13              chart_2 1807.30431\n",
       "14              chart_3 1839.52177\n",
       "15              chart_4 1810.03220\n",
       "16              chart_5 1839.88547\n",
       "17              chart_6 1825.68642\n",
       "18              chart_7 1911.78752\n",
       "19              chart_8 1840.86725\n",
       "20              chart_9 1840.58729\n",
       "21     task_correlation 1806.16231\n",
       "22    task_distribution 1810.09703\n",
       "23        algorithm_AHP 1814.46751\n",
       "24       algorithm_DAWA 1847.74998\n",
       "25  algorithm_Geometric 1836.48786\n",
       "26    algorithm_Laplace 1806.17884"
      ]
     },
     "execution_count": 105,
     "metadata": {},
     "output_type": "execute_result"
    }
   ],
   "source": [
    "from statsmodels.miscmodels.ordinal_model import OrderedModel\n",
    "aicDict = {'Variable': [], 'AIC': []}\n",
    "for col in df.columns:\n",
    "  colNames = df.columns.values.tolist()\n",
    "  if col == 'median':\n",
    "    continue\n",
    "  else:\n",
    "    colNames.remove('median')\n",
    "    colNames.remove(col)\n",
    "  mod_prob = OrderedModel(df['median'],\n",
    "                        df[colNames],\n",
    "                        distr='probit', hasconst=False)\n",
    "  res_prob = mod_prob.fit(method='bfgs')\n",
    "  aicDict['Variable'].append(col)\n",
    "  aicDict['AIC'].append(res_prob.aic)\n",
    "\n",
    "dfAIC = pd.DataFrame.from_dict(aicDict)\n",
    "dfAIC"
   ]
  },
  {
   "cell_type": "code",
   "execution_count": 111,
   "metadata": {
    "colab": {
     "base_uri": "https://localhost:8080/",
     "height": 896
    },
    "executionInfo": {
     "elapsed": 163,
     "status": "ok",
     "timestamp": 1663009591750,
     "user": {
      "displayName": "Jane Adams",
      "userId": "13745127763993145309"
     },
     "user_tz": 240
    },
    "id": "jlZiKTwGeAm_",
    "outputId": "4422061e-edbc-4136-a4f0-7b288d409886"
   },
   "outputs": [
    {
     "data": {
      "text/html": [
       "<div>\n",
       "<style scoped>\n",
       "    .dataframe tbody tr th:only-of-type {\n",
       "        vertical-align: middle;\n",
       "    }\n",
       "\n",
       "    .dataframe tbody tr th {\n",
       "        vertical-align: top;\n",
       "    }\n",
       "\n",
       "    .dataframe thead th {\n",
       "        text-align: right;\n",
       "    }\n",
       "</style>\n",
       "<table border=\"1\" class=\"dataframe\">\n",
       "  <thead>\n",
       "    <tr style=\"text-align: right;\">\n",
       "      <th></th>\n",
       "      <th>Variable</th>\n",
       "      <th>AIC</th>\n",
       "      <th>AIC Diff</th>\n",
       "    </tr>\n",
       "  </thead>\n",
       "  <tbody>\n",
       "    <tr>\n",
       "      <th>0</th>\n",
       "      <td>epsilon</td>\n",
       "      <td>2995.97615</td>\n",
       "      <td>1187.83926</td>\n",
       "    </tr>\n",
       "    <tr>\n",
       "      <th>18</th>\n",
       "      <td>chart_7</td>\n",
       "      <td>1911.78752</td>\n",
       "      <td>103.65063</td>\n",
       "    </tr>\n",
       "    <tr>\n",
       "      <th>1</th>\n",
       "      <td>bins</td>\n",
       "      <td>1899.45642</td>\n",
       "      <td>91.31954</td>\n",
       "    </tr>\n",
       "    <tr>\n",
       "      <th>10</th>\n",
       "      <td>chart_17</td>\n",
       "      <td>1878.09787</td>\n",
       "      <td>69.96099</td>\n",
       "    </tr>\n",
       "    <tr>\n",
       "      <th>24</th>\n",
       "      <td>algorithm_DAWA</td>\n",
       "      <td>1847.74998</td>\n",
       "      <td>39.61310</td>\n",
       "    </tr>\n",
       "    <tr>\n",
       "      <th>19</th>\n",
       "      <td>chart_8</td>\n",
       "      <td>1840.86725</td>\n",
       "      <td>32.73037</td>\n",
       "    </tr>\n",
       "    <tr>\n",
       "      <th>20</th>\n",
       "      <td>chart_9</td>\n",
       "      <td>1840.58729</td>\n",
       "      <td>32.45040</td>\n",
       "    </tr>\n",
       "    <tr>\n",
       "      <th>16</th>\n",
       "      <td>chart_5</td>\n",
       "      <td>1839.88547</td>\n",
       "      <td>31.74858</td>\n",
       "    </tr>\n",
       "    <tr>\n",
       "      <th>14</th>\n",
       "      <td>chart_3</td>\n",
       "      <td>1839.52177</td>\n",
       "      <td>31.38489</td>\n",
       "    </tr>\n",
       "    <tr>\n",
       "      <th>12</th>\n",
       "      <td>chart_19</td>\n",
       "      <td>1837.09880</td>\n",
       "      <td>28.96192</td>\n",
       "    </tr>\n",
       "    <tr>\n",
       "      <th>25</th>\n",
       "      <td>algorithm_Geometric</td>\n",
       "      <td>1836.48786</td>\n",
       "      <td>28.35098</td>\n",
       "    </tr>\n",
       "    <tr>\n",
       "      <th>3</th>\n",
       "      <td>chart_10</td>\n",
       "      <td>1834.48532</td>\n",
       "      <td>26.34843</td>\n",
       "    </tr>\n",
       "    <tr>\n",
       "      <th>7</th>\n",
       "      <td>chart_14</td>\n",
       "      <td>1832.70371</td>\n",
       "      <td>24.56682</td>\n",
       "    </tr>\n",
       "    <tr>\n",
       "      <th>17</th>\n",
       "      <td>chart_6</td>\n",
       "      <td>1825.68642</td>\n",
       "      <td>17.54953</td>\n",
       "    </tr>\n",
       "    <tr>\n",
       "      <th>9</th>\n",
       "      <td>chart_16</td>\n",
       "      <td>1820.19015</td>\n",
       "      <td>12.05327</td>\n",
       "    </tr>\n",
       "    <tr>\n",
       "      <th>5</th>\n",
       "      <td>chart_12</td>\n",
       "      <td>1816.00637</td>\n",
       "      <td>7.86948</td>\n",
       "    </tr>\n",
       "    <tr>\n",
       "      <th>6</th>\n",
       "      <td>chart_13</td>\n",
       "      <td>1815.64850</td>\n",
       "      <td>7.51161</td>\n",
       "    </tr>\n",
       "    <tr>\n",
       "      <th>23</th>\n",
       "      <td>algorithm_AHP</td>\n",
       "      <td>1814.46751</td>\n",
       "      <td>6.33062</td>\n",
       "    </tr>\n",
       "    <tr>\n",
       "      <th>8</th>\n",
       "      <td>chart_15</td>\n",
       "      <td>1813.40214</td>\n",
       "      <td>5.26525</td>\n",
       "    </tr>\n",
       "    <tr>\n",
       "      <th>4</th>\n",
       "      <td>chart_11</td>\n",
       "      <td>1811.32798</td>\n",
       "      <td>3.19109</td>\n",
       "    </tr>\n",
       "    <tr>\n",
       "      <th>21</th>\n",
       "      <td>task_correlation</td>\n",
       "      <td>1806.16231</td>\n",
       "      <td>1.97458</td>\n",
       "    </tr>\n",
       "    <tr>\n",
       "      <th>22</th>\n",
       "      <td>task_distribution</td>\n",
       "      <td>1810.09703</td>\n",
       "      <td>1.96014</td>\n",
       "    </tr>\n",
       "    <tr>\n",
       "      <th>26</th>\n",
       "      <td>algorithm_Laplace</td>\n",
       "      <td>1806.17884</td>\n",
       "      <td>1.95804</td>\n",
       "    </tr>\n",
       "    <tr>\n",
       "      <th>15</th>\n",
       "      <td>chart_4</td>\n",
       "      <td>1810.03220</td>\n",
       "      <td>1.89531</td>\n",
       "    </tr>\n",
       "    <tr>\n",
       "      <th>2</th>\n",
       "      <td>chart_1</td>\n",
       "      <td>1806.74145</td>\n",
       "      <td>1.39543</td>\n",
       "    </tr>\n",
       "    <tr>\n",
       "      <th>13</th>\n",
       "      <td>chart_2</td>\n",
       "      <td>1807.30431</td>\n",
       "      <td>0.83257</td>\n",
       "    </tr>\n",
       "    <tr>\n",
       "      <th>11</th>\n",
       "      <td>chart_18</td>\n",
       "      <td>1808.41067</td>\n",
       "      <td>0.27378</td>\n",
       "    </tr>\n",
       "  </tbody>\n",
       "</table>\n",
       "</div>"
      ],
      "text/plain": [
       "               Variable        AIC   AIC Diff\n",
       "0               epsilon 2995.97615 1187.83926\n",
       "18              chart_7 1911.78752  103.65063\n",
       "1                  bins 1899.45642   91.31954\n",
       "10             chart_17 1878.09787   69.96099\n",
       "24       algorithm_DAWA 1847.74998   39.61310\n",
       "19              chart_8 1840.86725   32.73037\n",
       "20              chart_9 1840.58729   32.45040\n",
       "16              chart_5 1839.88547   31.74858\n",
       "14              chart_3 1839.52177   31.38489\n",
       "12             chart_19 1837.09880   28.96192\n",
       "25  algorithm_Geometric 1836.48786   28.35098\n",
       "3              chart_10 1834.48532   26.34843\n",
       "7              chart_14 1832.70371   24.56682\n",
       "17              chart_6 1825.68642   17.54953\n",
       "9              chart_16 1820.19015   12.05327\n",
       "5              chart_12 1816.00637    7.86948\n",
       "6              chart_13 1815.64850    7.51161\n",
       "23        algorithm_AHP 1814.46751    6.33062\n",
       "8              chart_15 1813.40214    5.26525\n",
       "4              chart_11 1811.32798    3.19109\n",
       "21     task_correlation 1806.16231    1.97458\n",
       "22    task_distribution 1810.09703    1.96014\n",
       "26    algorithm_Laplace 1806.17884    1.95804\n",
       "15              chart_4 1810.03220    1.89531\n",
       "2               chart_1 1806.74145    1.39543\n",
       "13              chart_2 1807.30431    0.83257\n",
       "11             chart_18 1808.41067    0.27378"
      ]
     },
     "execution_count": 111,
     "metadata": {},
     "output_type": "execute_result"
    }
   ],
   "source": [
    "dfAIC['AIC Diff'] = abs(dfAIC['AIC']-1808.1368863886476)\n",
    "#dfAIC = dfAIC.drop(['Abs Difference AIC'], axis=1)\n",
    "dfAIC.sort_values(by = ['AIC Diff'], ascending = False)\n",
    "\n"
   ]
  },
  {
   "cell_type": "markdown",
   "metadata": {
    "id": "-Vyf7o5aNy8f"
   },
   "source": [
    "### Bin Mann-Whitney Test"
   ]
  },
  {
   "cell_type": "markdown",
   "metadata": {},
   "source": [
    "<font color='blue'>Similar to the regression analysis, we noticed from visually inspecting the data that coarser bins (32x32) generally outperformed finer bins (64x64). To test if there was a meaningful difference between the two we conducted a Mann-Whitney test. This test checks if two samples (bin sizes) are likely to come from the same population. </font>"
   ]
  },
  {
   "cell_type": "code",
   "execution_count": 112,
   "metadata": {
    "executionInfo": {
     "elapsed": 3,
     "status": "ok",
     "timestamp": 1663009733738,
     "user": {
      "displayName": "Jane Adams",
      "userId": "13745127763993145309"
     },
     "user_tz": 240
    },
    "id": "iJCYeuIrh5z7"
   },
   "outputs": [],
   "source": [
    "\n",
    "def getTaskArray(df):\n",
    "  dataFiltered = df\n",
    "  Small = []\n",
    "  Large = []\n",
    "\n",
    "  index = []\n",
    "  exDF = dataFiltered\n",
    "  while len(exDF.index)>0:\n",
    "    # print(len(exDF.index))\n",
    "    for e in epsilons:\n",
    "      for t in tasks:\n",
    "        for c in chart:\n",
    "          for a in algorithms:\n",
    "            if (c+ \"_\" + a +\"_\" + t +'_'+ e+'_'+'32' ) in exDF.index:\n",
    "              for b in bins:\n",
    "                  if b == '32':\n",
    "                    Small.append(exDF.loc[c+ \"_\" + a+'_'+ t+'_'+ e+'_'+b ]['totalRating'])\n",
    "                    exDF = exDF.drop(c+ \"_\" + a+'_'+ t+'_'+ e+'_'+b )\n",
    "                  if b == '64':\n",
    "                    Large.append(exDF.loc[c+ \"_\" + a+'_'+ t+'_'+ e+'_'+b ]['totalRating'])\n",
    "                    exDF = exDF.drop(c+ \"_\" + a+'_'+ t+'_'+ e+'_'+b )\n",
    "                 \n",
    "                \n",
    "  dfAlgorithms =  pd.DataFrame({'Small': Small, 'Large': Large})\n",
    "  return dfAlgorithms"
   ]
  },
  {
   "cell_type": "code",
   "execution_count": 113,
   "metadata": {
    "colab": {
     "base_uri": "https://localhost:8080/",
     "height": 424
    },
    "executionInfo": {
     "elapsed": 774,
     "status": "ok",
     "timestamp": 1663009734867,
     "user": {
      "displayName": "Jane Adams",
      "userId": "13745127763993145309"
     },
     "user_tz": 240
    },
    "id": "TqAXDD1FkftC",
    "outputId": "c5c81ccb-57eb-41ac-8a51-e51de181b209"
   },
   "outputs": [
    {
     "data": {
      "text/html": [
       "<div>\n",
       "<style scoped>\n",
       "    .dataframe tbody tr th:only-of-type {\n",
       "        vertical-align: middle;\n",
       "    }\n",
       "\n",
       "    .dataframe tbody tr th {\n",
       "        vertical-align: top;\n",
       "    }\n",
       "\n",
       "    .dataframe thead th {\n",
       "        text-align: right;\n",
       "    }\n",
       "</style>\n",
       "<table border=\"1\" class=\"dataframe\">\n",
       "  <thead>\n",
       "    <tr style=\"text-align: right;\">\n",
       "      <th></th>\n",
       "      <th>Small</th>\n",
       "      <th>Large</th>\n",
       "    </tr>\n",
       "  </thead>\n",
       "  <tbody>\n",
       "    <tr>\n",
       "      <th>0</th>\n",
       "      <td>3</td>\n",
       "      <td>2</td>\n",
       "    </tr>\n",
       "    <tr>\n",
       "      <th>1</th>\n",
       "      <td>3</td>\n",
       "      <td>3</td>\n",
       "    </tr>\n",
       "    <tr>\n",
       "      <th>2</th>\n",
       "      <td>3</td>\n",
       "      <td>2</td>\n",
       "    </tr>\n",
       "    <tr>\n",
       "      <th>3</th>\n",
       "      <td>3</td>\n",
       "      <td>2</td>\n",
       "    </tr>\n",
       "    <tr>\n",
       "      <th>4</th>\n",
       "      <td>3</td>\n",
       "      <td>2</td>\n",
       "    </tr>\n",
       "    <tr>\n",
       "      <th>...</th>\n",
       "      <td>...</td>\n",
       "      <td>...</td>\n",
       "    </tr>\n",
       "    <tr>\n",
       "      <th>595</th>\n",
       "      <td>1</td>\n",
       "      <td>1</td>\n",
       "    </tr>\n",
       "    <tr>\n",
       "      <th>596</th>\n",
       "      <td>0</td>\n",
       "      <td>0</td>\n",
       "    </tr>\n",
       "    <tr>\n",
       "      <th>597</th>\n",
       "      <td>0</td>\n",
       "      <td>0</td>\n",
       "    </tr>\n",
       "    <tr>\n",
       "      <th>598</th>\n",
       "      <td>0</td>\n",
       "      <td>0</td>\n",
       "    </tr>\n",
       "    <tr>\n",
       "      <th>599</th>\n",
       "      <td>0</td>\n",
       "      <td>0</td>\n",
       "    </tr>\n",
       "  </tbody>\n",
       "</table>\n",
       "<p>600 rows × 2 columns</p>\n",
       "</div>"
      ],
      "text/plain": [
       "     Small  Large\n",
       "0        3      2\n",
       "1        3      3\n",
       "2        3      2\n",
       "3        3      2\n",
       "4        3      2\n",
       "..     ...    ...\n",
       "595      1      1\n",
       "596      0      0\n",
       "597      0      0\n",
       "598      0      0\n",
       "599      0      0\n",
       "\n",
       "[600 rows x 2 columns]"
      ]
     },
     "execution_count": 113,
     "metadata": {},
     "output_type": "execute_result"
    }
   ],
   "source": [
    "filteredDf = getTaskArray(answerDataFrame)\n",
    "filteredDf\n"
   ]
  },
  {
   "cell_type": "code",
   "execution_count": 114,
   "metadata": {
    "colab": {
     "base_uri": "https://localhost:8080/"
    },
    "executionInfo": {
     "elapsed": 9,
     "status": "ok",
     "timestamp": 1663009734867,
     "user": {
      "displayName": "Jane Adams",
      "userId": "13745127763993145309"
     },
     "user_tz": 240
    },
    "id": "lWGIOLyysmJK",
    "outputId": "56297361-d678-485c-b00f-7d05d3c495c4"
   },
   "outputs": [
    {
     "name": "stdout",
     "output_type": "stream",
     "text": [
      "2026.0 2.307035133780451e-30\n"
     ]
    }
   ],
   "source": [
    "from scipy.stats import wilcoxon\n",
    "U1, p = wilcoxon(filteredDf['Small'], filteredDf['Large'])\n",
    "print(U1,p)"
   ]
  }
 ],
 "metadata": {
  "colab": {
   "collapsed_sections": [],
   "provenance": []
  },
  "gpuClass": "standard",
  "kernelspec": {
   "display_name": "Python 3 (ipykernel)",
   "language": "python",
   "name": "python3"
  },
  "language_info": {
   "codemirror_mode": {
    "name": "ipython",
    "version": 3
   },
   "file_extension": ".py",
   "mimetype": "text/x-python",
   "name": "python",
   "nbconvert_exporter": "python",
   "pygments_lexer": "ipython3",
   "version": "3.9.7"
  }
 },
 "nbformat": 4,
 "nbformat_minor": 1
}
